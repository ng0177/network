{
 "cells": [
  {
   "cell_type": "markdown",
   "metadata": {
    "colab_type": "text",
    "id": "view-in-github"
   },
   "source": [
    "<a href=\"https://colab.research.google.com/github/ng0177/network/blob/main/nonlinear_regression.ipynb\" target=\"_parent\"><img src=\"https://colab.research.google.com/assets/colab-badge.svg\" alt=\"Open In Colab\"/></a>"
   ]
  },
  {
   "cell_type": "markdown",
   "metadata": {
    "id": "uhB3iZZsWAWe"
   },
   "source": [
    "# Non linear regression / curve fitting\n",
    "\n",
    "You'll find more information and detailed explainations on [my blog](https://lucidar.me/en/neural-networks/curve-fitting-nonlinear-regression/).\n",
    "\n",
    "[Video of the expected result](https://youtu.be/7z86Lxzf_2o)\n"
   ]
  },
  {
   "cell_type": "markdown",
   "metadata": {
    "id": "2pqhyoFbW4eA"
   },
   "source": [
    "## Check/install TensorFlow version\n",
    "**Must be version 2.1.0**\n"
   ]
  },
  {
   "cell_type": "code",
   "execution_count": 1,
   "metadata": {
    "colab": {
     "base_uri": "https://localhost:8080/"
    },
    "id": "UuSy9cgA60Sy",
    "outputId": "6a930e5f-3251-404e-fb82-6f356f41c2a4"
   },
   "outputs": [],
   "source": [
    "# Switch the TensorFlow version 2.1\n",
    "#!pip install tensorflow==2.1.0"
   ]
  },
  {
   "cell_type": "markdown",
   "metadata": {
    "id": "qASyOjUDx1Lq"
   },
   "source": [
    "## Import libraries and create noisy data\n",
    "\n"
   ]
  },
  {
   "cell_type": "code",
   "execution_count": 7,
   "metadata": {
    "colab": {
     "base_uri": "https://localhost:8080/"
    },
    "id": "Rz1Q7i9xx1Lt",
    "outputId": "9f151272-62c9-4459-9444-89d8f99ca111"
   },
   "outputs": [
    {
     "name": "stdout",
     "output_type": "stream",
     "text": [
      "TensorFlow version: 2.9.1\n",
      "Data created successfully\n"
     ]
    }
   ],
   "source": [
    "import numpy as np\n",
    "import matplotlib.pyplot as plt\n",
    "from tensorflow import keras\n",
    "#from google.colab import files\n",
    "import tensorflow as tf\n",
    "import math\n",
    "\n",
    "print ('TensorFlow version: ' + tf.__version__)\n",
    "\n",
    "# Create noisy data\n",
    "x_data = np.linspace(-10, 10, num=1000)\n",
    "y_data = 0.1*x_data*np.cos(x_data) + 0.1*np.random.normal(size=1000)\n",
    "print('Data created successfully')"
   ]
  },
  {
   "cell_type": "markdown",
   "metadata": {
    "id": "RGNdmgOKAg_D"
   },
   "source": [
    "## Display curve to fit"
   ]
  },
  {
   "cell_type": "code",
   "execution_count": 5,
   "metadata": {
    "colab": {
     "base_uri": "https://localhost:8080/",
     "height": 283
    },
    "id": "zYrNbXAsAf9N",
    "outputId": "e367e7da-7b10-46bd-b58b-1c6ec6616fab"
   },
   "outputs": [
    {
     "data": {
      "image/png": "[encoded data removed]",
      "text/plain": [
       "<Figure size 432x288 with 1 Axes>"
      ]
     },
     "metadata": {
      "needs_background": "light"
     },
     "output_type": "display_data"
    },
    {
     "data": {
      "text/plain": [
       "<Figure size 432x288 with 0 Axes>"
      ]
     },
     "metadata": {},
     "output_type": "display_data"
    }
   ],
   "source": [
    "# Display the dataset\n",
    "plt.scatter(x_data[::1], y_data[::1], s=2)\n",
    "plt.grid()\n",
    "plt.show()\n",
    "plt.savefig('dataset.png',dpi=300)\n",
    "#files.download('dataset.png') "
   ]
  },
  {
   "cell_type": "markdown",
   "metadata": {
    "id": "5f_ikNz8x1Lz"
   },
   "source": [
    "# Create the model\n",
    "Create the model with two 64 units hidden layers."
   ]
  },
  {
   "cell_type": "code",
   "execution_count": 8,
   "metadata": {
    "colab": {
     "base_uri": "https://localhost:8080/",
     "height": 244
    },
    "id": "sMvpBFj5x1L0",
    "outputId": "90bd03ca-c48b-4f5a-d322-bcb6bd76a03d",
    "scrolled": true
   },
   "outputs": [
    {
     "name": "stdout",
     "output_type": "stream",
     "text": [
      "Model: \"sequential\"\n",
      "_________________________________________________________________\n",
      " Layer (type)                Output Shape              Param #   \n",
      "=================================================================\n",
      " dense (Dense)               (None, 1)                 2         \n",
      "                                                                 \n",
      " dense_1 (Dense)             (None, 64)                128       \n",
      "                                                                 \n",
      " dense_2 (Dense)             (None, 64)                4160      \n",
      "                                                                 \n",
      " dense_3 (Dense)             (None, 1)                 65        \n",
      "                                                                 \n",
      "=================================================================\n",
      "Total params: 4,355\n",
      "Trainable params: 4,355\n",
      "Non-trainable params: 0\n",
      "_________________________________________________________________\n"
     ]
    },
    {
     "name": "stderr",
     "output_type": "stream",
     "text": [
      "2022-08-19 11:57:00.408798: I tensorflow/stream_executor/cuda/cuda_gpu_executor.cc:975] successful NUMA node read from SysFS had negative value (-1), but there must be at least one NUMA node, so returning NUMA node zero\n",
      "2022-08-19 11:57:00.546713: I tensorflow/stream_executor/cuda/cuda_gpu_executor.cc:975] successful NUMA node read from SysFS had negative value (-1), but there must be at least one NUMA node, so returning NUMA node zero\n",
      "2022-08-19 11:57:00.547142: I tensorflow/stream_executor/cuda/cuda_gpu_executor.cc:975] successful NUMA node read from SysFS had negative value (-1), but there must be at least one NUMA node, so returning NUMA node zero\n",
      "2022-08-19 11:57:00.549181: I tensorflow/core/platform/cpu_feature_guard.cc:193] This TensorFlow binary is optimized with oneAPI Deep Neural Network Library (oneDNN) to use the following CPU instructions in performance-critical operations:  AVX512F AVX512_VNNI FMA\n",
      "To enable them in other operations, rebuild TensorFlow with the appropriate compiler flags.\n",
      "2022-08-19 11:57:00.553883: I tensorflow/stream_executor/cuda/cuda_gpu_executor.cc:975] successful NUMA node read from SysFS had negative value (-1), but there must be at least one NUMA node, so returning NUMA node zero\n",
      "2022-08-19 11:57:00.554321: I tensorflow/stream_executor/cuda/cuda_gpu_executor.cc:975] successful NUMA node read from SysFS had negative value (-1), but there must be at least one NUMA node, so returning NUMA node zero\n",
      "2022-08-19 11:57:00.554666: I tensorflow/stream_executor/cuda/cuda_gpu_executor.cc:975] successful NUMA node read from SysFS had negative value (-1), but there must be at least one NUMA node, so returning NUMA node zero\n",
      "2022-08-19 11:57:02.119618: I tensorflow/stream_executor/cuda/cuda_gpu_executor.cc:975] successful NUMA node read from SysFS had negative value (-1), but there must be at least one NUMA node, so returning NUMA node zero\n",
      "2022-08-19 11:57:02.120063: I tensorflow/stream_executor/cuda/cuda_gpu_executor.cc:975] successful NUMA node read from SysFS had negative value (-1), but there must be at least one NUMA node, so returning NUMA node zero\n",
      "2022-08-19 11:57:02.120778: I tensorflow/stream_executor/cuda/cuda_gpu_executor.cc:975] successful NUMA node read from SysFS had negative value (-1), but there must be at least one NUMA node, so returning NUMA node zero\n",
      "2022-08-19 11:57:02.121032: I tensorflow/core/common_runtime/gpu/gpu_process_state.cc:222] Using CUDA malloc Async allocator for GPU: 0\n",
      "2022-08-19 11:57:02.121369: I tensorflow/core/common_runtime/gpu/gpu_device.cc:1532] Created device /job:localhost/replica:0/task:0/device:GPU:0 with 4010 MB memory:  -> device: 0, name: NVIDIA GeForce GTX 1060 6GB, pci bus id: 0000:01:00.0, compute capability: 6.1\n",
      "2022-08-19 11:57:02.123856: I tensorflow/core/common_runtime/process_util.cc:146] Creating new thread pool with default inter op setting: 2. Tune using inter_op_parallelism_threads for best performance.\n"
     ]
    }
   ],
   "source": [
    "# Create the model \n",
    "model = keras.Sequential()\n",
    "model.add(keras.layers.Dense(units = 1, activation = 'linear', input_shape=[1]))\n",
    "model.add(keras.layers.Dense(units = 64, activation = 'relu'))\n",
    "model.add(keras.layers.Dense(units = 64, activation = 'relu'))\n",
    "model.add(keras.layers.Dense(units = 1, activation = 'linear'))\n",
    "model.compile(loss='mse', optimizer=\"adam\")\n",
    "\n",
    "# Display the model\n",
    "model.summary()"
   ]
  },
  {
   "cell_type": "markdown",
   "metadata": {
    "id": "Sxr1qxVex1L4"
   },
   "source": [
    "## Training over 100 epochs"
   ]
  },
  {
   "cell_type": "code",
   "execution_count": 9,
   "metadata": {
    "id": "M3XBJMj4x1L5"
   },
   "outputs": [
    {
     "name": "stdout",
     "output_type": "stream",
     "text": [
      "Epoch 1/100\n",
      "32/32 [==============================] - 2s 4ms/step - loss: 0.2166\n",
      "Epoch 2/100\n",
      "32/32 [==============================] - 0s 908us/step - loss: 0.1976\n",
      "Epoch 3/100\n",
      "32/32 [==============================] - 0s 899us/step - loss: 0.1891\n",
      "Epoch 4/100\n",
      "32/32 [==============================] - 0s 898us/step - loss: 0.1857\n",
      "Epoch 5/100\n",
      "32/32 [==============================] - 0s 838us/step - loss: 0.1853\n",
      "Epoch 6/100\n",
      "32/32 [==============================] - 0s 881us/step - loss: 0.1907\n",
      "Epoch 7/100\n",
      "32/32 [==============================] - 0s 895us/step - loss: 0.1888\n",
      "Epoch 8/100\n",
      "32/32 [==============================] - 0s 906us/step - loss: 0.1873\n",
      "Epoch 9/100\n",
      "32/32 [==============================] - 0s 958us/step - loss: 0.1928\n",
      "Epoch 10/100\n",
      "32/32 [==============================] - 0s 825us/step - loss: 0.1810\n",
      "Epoch 11/100\n",
      "32/32 [==============================] - 0s 941us/step - loss: 0.1797\n",
      "Epoch 12/100\n",
      "32/32 [==============================] - 0s 896us/step - loss: 0.1780\n",
      "Epoch 13/100\n",
      "32/32 [==============================] - 0s 918us/step - loss: 0.1746\n",
      "Epoch 14/100\n",
      "32/32 [==============================] - 0s 872us/step - loss: 0.1708\n",
      "Epoch 15/100\n",
      "32/32 [==============================] - 0s 842us/step - loss: 0.1688\n",
      "Epoch 16/100\n",
      "32/32 [==============================] - 0s 909us/step - loss: 0.1606\n",
      "Epoch 17/100\n",
      "32/32 [==============================] - 0s 915us/step - loss: 0.1583\n",
      "Epoch 18/100\n",
      "32/32 [==============================] - 0s 934us/step - loss: 0.1503\n",
      "Epoch 19/100\n",
      "32/32 [==============================] - 0s 860us/step - loss: 0.1441\n",
      "Epoch 20/100\n",
      "32/32 [==============================] - 0s 907us/step - loss: 0.1402\n",
      "Epoch 21/100\n",
      "32/32 [==============================] - 0s 919us/step - loss: 0.1328\n",
      "Epoch 22/100\n",
      "32/32 [==============================] - 0s 909us/step - loss: 0.1209\n",
      "Epoch 23/100\n",
      "32/32 [==============================] - 0s 937us/step - loss: 0.1108\n",
      "Epoch 24/100\n",
      "32/32 [==============================] - 0s 1ms/step - loss: 0.1063\n",
      "Epoch 25/100\n",
      "32/32 [==============================] - 0s 941us/step - loss: 0.0939\n",
      "Epoch 26/100\n",
      "32/32 [==============================] - 0s 817us/step - loss: 0.0828\n",
      "Epoch 27/100\n",
      "32/32 [==============================] - 0s 875us/step - loss: 0.0758\n",
      "Epoch 28/100\n",
      "32/32 [==============================] - 0s 941us/step - loss: 0.0636\n",
      "Epoch 29/100\n",
      "32/32 [==============================] - 0s 912us/step - loss: 0.0609\n",
      "Epoch 30/100\n",
      "32/32 [==============================] - 0s 850us/step - loss: 0.0506\n",
      "Epoch 31/100\n",
      "32/32 [==============================] - 0s 869us/step - loss: 0.0442\n",
      "Epoch 32/100\n",
      "32/32 [==============================] - 0s 912us/step - loss: 0.0374\n",
      "Epoch 33/100\n",
      "32/32 [==============================] - 0s 910us/step - loss: 0.0371\n",
      "Epoch 34/100\n",
      "32/32 [==============================] - 0s 902us/step - loss: 0.0291\n",
      "Epoch 35/100\n",
      "32/32 [==============================] - 0s 852us/step - loss: 0.0257\n",
      "Epoch 36/100\n",
      "32/32 [==============================] - 0s 894us/step - loss: 0.0234\n",
      "Epoch 37/100\n",
      "32/32 [==============================] - 0s 863us/step - loss: 0.0206\n",
      "Epoch 38/100\n",
      "32/32 [==============================] - 0s 939us/step - loss: 0.0210\n",
      "Epoch 39/100\n",
      "32/32 [==============================] - 0s 837us/step - loss: 0.0192\n",
      "Epoch 40/100\n",
      "32/32 [==============================] - 0s 795us/step - loss: 0.0179\n",
      "Epoch 41/100\n",
      "32/32 [==============================] - 0s 817us/step - loss: 0.0191\n",
      "Epoch 42/100\n",
      "32/32 [==============================] - 0s 1ms/step - loss: 0.0182\n",
      "Epoch 43/100\n",
      "32/32 [==============================] - 0s 852us/step - loss: 0.0184\n",
      "Epoch 44/100\n",
      "32/32 [==============================] - 0s 882us/step - loss: 0.0178\n",
      "Epoch 45/100\n",
      "32/32 [==============================] - 0s 942us/step - loss: 0.0162\n",
      "Epoch 46/100\n",
      "32/32 [==============================] - 0s 910us/step - loss: 0.0162\n",
      "Epoch 47/100\n",
      "32/32 [==============================] - 0s 811us/step - loss: 0.0199\n",
      "Epoch 48/100\n",
      "32/32 [==============================] - 0s 916us/step - loss: 0.0157\n",
      "Epoch 49/100\n",
      "32/32 [==============================] - 0s 917us/step - loss: 0.0164\n",
      "Epoch 50/100\n",
      "32/32 [==============================] - 0s 903us/step - loss: 0.0146\n",
      "Epoch 51/100\n",
      "32/32 [==============================] - 0s 925us/step - loss: 0.0161\n",
      "Epoch 52/100\n",
      "32/32 [==============================] - 0s 848us/step - loss: 0.0149\n",
      "Epoch 53/100\n",
      "32/32 [==============================] - 0s 938us/step - loss: 0.0158\n",
      "Epoch 54/100\n",
      "32/32 [==============================] - 0s 908us/step - loss: 0.0148\n",
      "Epoch 55/100\n",
      "32/32 [==============================] - 0s 851us/step - loss: 0.0168\n",
      "Epoch 56/100\n",
      "32/32 [==============================] - 0s 810us/step - loss: 0.0146\n",
      "Epoch 57/100\n",
      "32/32 [==============================] - 0s 879us/step - loss: 0.0176\n",
      "Epoch 58/100\n",
      "32/32 [==============================] - 0s 817us/step - loss: 0.0156\n",
      "Epoch 59/100\n",
      "32/32 [==============================] - 0s 817us/step - loss: 0.0161\n",
      "Epoch 60/100\n",
      "32/32 [==============================] - 0s 825us/step - loss: 0.0160\n",
      "Epoch 61/100\n",
      "32/32 [==============================] - 0s 896us/step - loss: 0.0154\n",
      "Epoch 62/100\n",
      "32/32 [==============================] - 0s 865us/step - loss: 0.0153\n",
      "Epoch 63/100\n",
      "32/32 [==============================] - 0s 851us/step - loss: 0.0154\n",
      "Epoch 64/100\n",
      "32/32 [==============================] - 0s 848us/step - loss: 0.0190\n",
      "Epoch 65/100\n",
      "32/32 [==============================] - 0s 854us/step - loss: 0.0167\n",
      "Epoch 66/100\n",
      "32/32 [==============================] - 0s 874us/step - loss: 0.0144\n",
      "Epoch 67/100\n",
      "32/32 [==============================] - 0s 879us/step - loss: 0.0171\n",
      "Epoch 68/100\n",
      "32/32 [==============================] - 0s 866us/step - loss: 0.0148\n",
      "Epoch 69/100\n",
      "32/32 [==============================] - 0s 880us/step - loss: 0.0157\n",
      "Epoch 70/100\n",
      "32/32 [==============================] - 0s 818us/step - loss: 0.0155\n",
      "Epoch 71/100\n",
      "32/32 [==============================] - 0s 888us/step - loss: 0.0151\n",
      "Epoch 72/100\n",
      "32/32 [==============================] - 0s 844us/step - loss: 0.0151\n",
      "Epoch 73/100\n",
      "32/32 [==============================] - 0s 802us/step - loss: 0.0151\n",
      "Epoch 74/100\n",
      "32/32 [==============================] - 0s 834us/step - loss: 0.0147\n",
      "Epoch 75/100\n",
      "32/32 [==============================] - 0s 875us/step - loss: 0.0150\n",
      "Epoch 76/100\n",
      "32/32 [==============================] - 0s 775us/step - loss: 0.0168\n",
      "Epoch 77/100\n",
      "32/32 [==============================] - 0s 848us/step - loss: 0.0150\n",
      "Epoch 78/100\n",
      "32/32 [==============================] - 0s 878us/step - loss: 0.0148\n",
      "Epoch 79/100\n",
      "32/32 [==============================] - 0s 895us/step - loss: 0.0174\n",
      "Epoch 80/100\n",
      "32/32 [==============================] - 0s 824us/step - loss: 0.0146\n",
      "Epoch 81/100\n",
      "32/32 [==============================] - 0s 850us/step - loss: 0.0168\n",
      "Epoch 82/100\n",
      "32/32 [==============================] - 0s 877us/step - loss: 0.0192\n",
      "Epoch 83/100\n",
      "32/32 [==============================] - 0s 794us/step - loss: 0.0164\n",
      "Epoch 84/100\n",
      "32/32 [==============================] - 0s 865us/step - loss: 0.0221\n",
      "Epoch 85/100\n",
      "32/32 [==============================] - 0s 882us/step - loss: 0.0163\n",
      "Epoch 86/100\n",
      "32/32 [==============================] - 0s 869us/step - loss: 0.0157\n",
      "Epoch 87/100\n",
      "32/32 [==============================] - 0s 834us/step - loss: 0.0151\n",
      "Epoch 88/100\n",
      "32/32 [==============================] - 0s 851us/step - loss: 0.0145\n",
      "Epoch 89/100\n",
      "32/32 [==============================] - 0s 889us/step - loss: 0.0179\n",
      "Epoch 90/100\n",
      "32/32 [==============================] - 0s 840us/step - loss: 0.0175\n",
      "Epoch 91/100\n",
      "32/32 [==============================] - 0s 857us/step - loss: 0.0153\n",
      "Epoch 92/100\n",
      "32/32 [==============================] - 0s 883us/step - loss: 0.0193\n",
      "Epoch 93/100\n",
      "32/32 [==============================] - 0s 843us/step - loss: 0.0144\n",
      "Epoch 94/100\n",
      "32/32 [==============================] - 0s 817us/step - loss: 0.0170\n",
      "Epoch 95/100\n",
      "32/32 [==============================] - 0s 886us/step - loss: 0.0168\n",
      "Epoch 96/100\n",
      "32/32 [==============================] - 0s 972us/step - loss: 0.0154\n",
      "Epoch 97/100\n",
      "32/32 [==============================] - 0s 866us/step - loss: 0.0153\n",
      "Epoch 98/100\n",
      "32/32 [==============================] - 0s 832us/step - loss: 0.0153\n",
      "Epoch 99/100\n"
     ]
    },
    {
     "name": "stdout",
     "output_type": "stream",
     "text": [
      "32/32 [==============================] - 0s 865us/step - loss: 0.0151\n",
      "Epoch 100/100\n",
      "32/32 [==============================] - 0s 873us/step - loss: 0.0159\n"
     ]
    },
    {
     "data": {
      "text/plain": [
       "<keras.callbacks.History at 0x7f2da88d47c0>"
      ]
     },
     "execution_count": 9,
     "metadata": {},
     "output_type": "execute_result"
    }
   ],
   "source": [
    "# Training\n",
    "model.fit( x_data, y_data, epochs=100, verbose=1)"
   ]
  },
  {
   "cell_type": "markdown",
   "metadata": {
    "id": "gLEzVkjex1L9"
   },
   "source": [
    "# Predict and display"
   ]
  },
  {
   "cell_type": "code",
   "execution_count": 11,
   "metadata": {
    "id": "IcKpdLe9x1L-"
   },
   "outputs": [
    {
     "name": "stdout",
     "output_type": "stream",
     "text": [
      "32/32 [==============================] - 0s 518us/step\n"
     ]
    },
    {
     "data": {
      "image/png": "[encoded data removed]",
      "text/plain": [
       "<Figure size 432x288 with 1 Axes>"
      ]
     },
     "metadata": {
      "needs_background": "light"
     },
     "output_type": "display_data"
    }
   ],
   "source": [
    "# Compute the output \n",
    "y_predicted = model.predict(x_data)\n",
    "\n",
    "# Display the result\n",
    "plt.scatter(x_data[::1], y_data[::1], s=1)\n",
    "plt.plot(x_data, y_predicted, 'r', linewidth=4)\n",
    "plt.grid()\n",
    "#plt.show()\n",
    "plt.savefig('training.png', dpi=300)\n",
    "#files.download(\"training.png\") "
   ]
  },
  {
   "cell_type": "markdown",
   "metadata": {
    "id": "OEEhzK4YHOdC"
   },
   "source": [
    "## Create image sequence for the video\n",
    "\n",
    "Run this section to generate a sequence of images for the [video](https://www.youtube.com/watch?v=7z86Lxzf_2o).\n",
    "\n",
    "To get the video from the beginning, you have to reset the model weight. Re-creating the model should reseting the weights."
   ]
  },
  {
   "cell_type": "code",
   "execution_count": 12,
   "metadata": {
    "id": "13RiCs72HMH6"
   },
   "outputs": [
    {
     "name": "stdout",
     "output_type": "stream",
     "text": [
      "32/32 [==============================] - 0s 1ms/step - loss: 0.0159\n",
      "32/32 [==============================] - 0s 477us/step\n",
      "32/32 [==============================] - 0s 1ms/step - loss: 0.0157\n",
      "32/32 [==============================] - 0s 511us/step\n",
      "32/32 [==============================] - 0s 1ms/step - loss: 0.0176\n",
      "32/32 [==============================] - 0s 526us/step\n",
      "32/32 [==============================] - 0s 835us/step - loss: 0.0157\n",
      "32/32 [==============================] - 0s 3ms/step\n",
      "32/32 [==============================] - 0s 1ms/step - loss: 0.0151\n",
      "32/32 [==============================] - 0s 514us/step\n",
      "32/32 [==============================] - 0s 865us/step - loss: 0.0151\n",
      "32/32 [==============================] - 0s 461us/step\n",
      "32/32 [==============================] - 0s 877us/step - loss: 0.0149\n",
      "32/32 [==============================] - 0s 549us/step\n",
      "32/32 [==============================] - 0s 864us/step - loss: 0.0143\n",
      "32/32 [==============================] - 0s 494us/step\n",
      "32/32 [==============================] - 0s 847us/step - loss: 0.0156\n",
      "32/32 [==============================] - 0s 497us/step\n",
      "32/32 [==============================] - 0s 893us/step - loss: 0.0158\n",
      "32/32 [==============================] - 0s 700us/step\n",
      "32/32 [==============================] - 0s 923us/step - loss: 0.0154\n",
      "32/32 [==============================] - 0s 3ms/step\n",
      "32/32 [==============================] - 0s 5ms/step - loss: 0.0153\n",
      "32/32 [==============================] - 0s 3ms/step\n",
      "32/32 [==============================] - 0s 4ms/step - loss: 0.0152\n",
      "32/32 [==============================] - 0s 649us/step\n",
      "32/32 [==============================] - 0s 917us/step - loss: 0.0150\n",
      "32/32 [==============================] - 0s 612us/step\n",
      "32/32 [==============================] - 0s 913us/step - loss: 0.0164\n",
      "32/32 [==============================] - 0s 3ms/step\n",
      "32/32 [==============================] - 0s 935us/step - loss: 0.0152\n",
      "32/32 [==============================] - 0s 529us/step\n",
      "32/32 [==============================] - 0s 874us/step - loss: 0.0173\n",
      "32/32 [==============================] - 0s 551us/step\n",
      "32/32 [==============================] - 0s 871us/step - loss: 0.0161\n",
      "32/32 [==============================] - 0s 559us/step\n",
      "32/32 [==============================] - 0s 872us/step - loss: 0.0157\n",
      "32/32 [==============================] - 0s 533us/step\n",
      "32/32 [==============================] - 0s 855us/step - loss: 0.0154\n",
      "32/32 [==============================] - 0s 547us/step\n",
      "32/32 [==============================] - 0s 860us/step - loss: 0.0162\n",
      "32/32 [==============================] - 0s 471us/step\n",
      "32/32 [==============================] - 0s 851us/step - loss: 0.0154\n",
      "32/32 [==============================] - 0s 478us/step\n",
      "32/32 [==============================] - 0s 867us/step - loss: 0.0144\n",
      "32/32 [==============================] - 0s 826us/step\n",
      "32/32 [==============================] - 0s 831us/step - loss: 0.0141\n",
      "32/32 [==============================] - 0s 461us/step\n",
      "32/32 [==============================] - 0s 871us/step - loss: 0.0142\n",
      "32/32 [==============================] - 0s 2ms/step\n",
      "32/32 [==============================] - 0s 901us/step - loss: 0.0158\n",
      "32/32 [==============================] - 0s 542us/step\n",
      "32/32 [==============================] - 0s 899us/step - loss: 0.0156\n",
      "32/32 [==============================] - 0s 441us/step\n",
      "32/32 [==============================] - 0s 2ms/step - loss: 0.0147\n",
      "32/32 [==============================] - 0s 492us/step\n",
      "32/32 [==============================] - 0s 916us/step - loss: 0.0208\n",
      "32/32 [==============================] - 0s 520us/step\n",
      "32/32 [==============================] - 0s 910us/step - loss: 0.0162\n",
      "32/32 [==============================] - 0s 488us/step\n",
      "32/32 [==============================] - 0s 898us/step - loss: 0.0156\n",
      "32/32 [==============================] - 0s 483us/step\n",
      "32/32 [==============================] - 0s 865us/step - loss: 0.0148\n",
      "32/32 [==============================] - 0s 474us/step\n",
      "32/32 [==============================] - 0s 1ms/step - loss: 0.0143\n",
      "32/32 [==============================] - 0s 514us/step\n",
      "32/32 [==============================] - 0s 875us/step - loss: 0.0148\n",
      "32/32 [==============================] - 0s 510us/step\n",
      "32/32 [==============================] - 0s 894us/step - loss: 0.0152\n",
      "32/32 [==============================] - 0s 2ms/step\n",
      "32/32 [==============================] - 0s 1ms/step - loss: 0.0143\n",
      "32/32 [==============================] - 0s 653us/step\n",
      "32/32 [==============================] - 0s 880us/step - loss: 0.0151\n",
      "32/32 [==============================] - 0s 516us/step\n",
      "32/32 [==============================] - 0s 954us/step - loss: 0.0165\n",
      "32/32 [==============================] - 0s 495us/step\n",
      "32/32 [==============================] - 0s 881us/step - loss: 0.0153\n",
      "32/32 [==============================] - 0s 3ms/step\n",
      "32/32 [==============================] - 0s 925us/step - loss: 0.0152\n",
      "32/32 [==============================] - 0s 511us/step\n",
      "32/32 [==============================] - 0s 853us/step - loss: 0.0140\n",
      "32/32 [==============================] - 0s 555us/step\n",
      "32/32 [==============================] - 0s 876us/step - loss: 0.0149\n",
      "32/32 [==============================] - 0s 489us/step\n",
      "32/32 [==============================] - 0s 975us/step - loss: 0.0147\n",
      "32/32 [==============================] - 0s 818us/step\n",
      "32/32 [==============================] - 0s 870us/step - loss: 0.0154\n",
      "32/32 [==============================] - 0s 492us/step\n",
      "32/32 [==============================] - 0s 838us/step - loss: 0.0199\n",
      "32/32 [==============================] - 0s 536us/step\n",
      "32/32 [==============================] - 0s 991us/step - loss: 0.0142\n",
      "32/32 [==============================] - 0s 495us/step\n",
      "32/32 [==============================] - 0s 5ms/step - loss: 0.0151\n",
      "32/32 [==============================] - 0s 3ms/step\n",
      "32/32 [==============================] - 0s 977us/step - loss: 0.0177\n",
      "32/32 [==============================] - 0s 3ms/step\n",
      "32/32 [==============================] - 0s 938us/step - loss: 0.0146\n",
      "32/32 [==============================] - 0s 522us/step\n",
      "32/32 [==============================] - 0s 959us/step - loss: 0.0152\n",
      "32/32 [==============================] - 0s 505us/step\n",
      "32/32 [==============================] - 0s 881us/step - loss: 0.0141\n",
      "32/32 [==============================] - 0s 511us/step\n",
      "32/32 [==============================] - 0s 904us/step - loss: 0.0154\n",
      "32/32 [==============================] - 0s 510us/step\n",
      "32/32 [==============================] - 0s 914us/step - loss: 0.0152\n",
      "32/32 [==============================] - 0s 1ms/step\n",
      "32/32 [==============================] - 0s 916us/step - loss: 0.0159\n",
      "32/32 [==============================] - 0s 500us/step\n",
      "32/32 [==============================] - 0s 856us/step - loss: 0.0140\n",
      "32/32 [==============================] - 0s 3ms/step\n",
      "32/32 [==============================] - 0s 856us/step - loss: 0.0144\n",
      "32/32 [==============================] - 0s 498us/step\n",
      "32/32 [==============================] - 0s 932us/step - loss: 0.0165\n",
      "32/32 [==============================] - 0s 498us/step\n",
      "32/32 [==============================] - 0s 861us/step - loss: 0.0153\n",
      "32/32 [==============================] - 0s 3ms/step\n",
      "32/32 [==============================] - 0s 875us/step - loss: 0.0139\n",
      "32/32 [==============================] - 0s 507us/step\n",
      "32/32 [==============================] - 0s 885us/step - loss: 0.0142\n",
      "32/32 [==============================] - 0s 495us/step\n",
      "32/32 [==============================] - 0s 851us/step - loss: 0.0148\n",
      "32/32 [==============================] - 0s 478us/step\n",
      "32/32 [==============================] - 0s 923us/step - loss: 0.0150\n",
      "32/32 [==============================] - 0s 522us/step\n",
      "32/32 [==============================] - 0s 853us/step - loss: 0.0144\n",
      "32/32 [==============================] - 0s 487us/step\n",
      "32/32 [==============================] - 0s 838us/step - loss: 0.0155\n",
      "32/32 [==============================] - 0s 606us/step\n",
      "32/32 [==============================] - 0s 891us/step - loss: 0.0140\n",
      "32/32 [==============================] - 0s 530us/step\n",
      "32/32 [==============================] - 0s 893us/step - loss: 0.0148\n"
     ]
    },
    {
     "name": "stdout",
     "output_type": "stream",
     "text": [
      "32/32 [==============================] - 0s 457us/step\n",
      "32/32 [==============================] - 0s 893us/step - loss: 0.0143\n",
      "32/32 [==============================] - 0s 520us/step\n",
      "32/32 [==============================] - 0s 852us/step - loss: 0.0166\n",
      "32/32 [==============================] - 0s 532us/step\n",
      "32/32 [==============================] - 0s 877us/step - loss: 0.0150\n",
      "32/32 [==============================] - 0s 501us/step\n",
      "32/32 [==============================] - 0s 876us/step - loss: 0.0153\n",
      "32/32 [==============================] - 0s 476us/step\n",
      "32/32 [==============================] - 0s 856us/step - loss: 0.0149\n",
      "32/32 [==============================] - 0s 472us/step\n",
      "32/32 [==============================] - 0s 835us/step - loss: 0.0144\n",
      "32/32 [==============================] - 0s 471us/step\n",
      "32/32 [==============================] - 0s 864us/step - loss: 0.0137\n",
      "32/32 [==============================] - 0s 521us/step\n",
      "32/32 [==============================] - 0s 874us/step - loss: 0.0136\n",
      "32/32 [==============================] - 0s 499us/step\n",
      "32/32 [==============================] - 0s 871us/step - loss: 0.0151\n",
      "32/32 [==============================] - 0s 484us/step\n",
      "32/32 [==============================] - 0s 875us/step - loss: 0.0138\n",
      "32/32 [==============================] - 0s 493us/step\n",
      "32/32 [==============================] - 0s 879us/step - loss: 0.0155\n",
      "32/32 [==============================] - 0s 486us/step\n",
      "32/32 [==============================] - 0s 829us/step - loss: 0.0164\n",
      "32/32 [==============================] - 0s 499us/step\n",
      "32/32 [==============================] - 0s 854us/step - loss: 0.0137\n",
      "32/32 [==============================] - 0s 637us/step\n",
      "32/32 [==============================] - 0s 852us/step - loss: 0.0143\n",
      "32/32 [==============================] - 0s 481us/step\n",
      "32/32 [==============================] - 0s 847us/step - loss: 0.0142\n",
      "32/32 [==============================] - 0s 480us/step\n",
      "32/32 [==============================] - 0s 853us/step - loss: 0.0156\n",
      "32/32 [==============================] - 0s 502us/step\n",
      "32/32 [==============================] - 0s 895us/step - loss: 0.0147\n",
      "32/32 [==============================] - 0s 509us/step\n",
      "32/32 [==============================] - 0s 963us/step - loss: 0.0139\n",
      "32/32 [==============================] - 0s 521us/step\n",
      "32/32 [==============================] - 0s 894us/step - loss: 0.0166\n",
      "32/32 [==============================] - 0s 495us/step\n",
      "32/32 [==============================] - 0s 809us/step - loss: 0.0150\n",
      "32/32 [==============================] - 0s 478us/step\n",
      "32/32 [==============================] - 0s 828us/step - loss: 0.0136\n",
      "32/32 [==============================] - 0s 513us/step\n",
      "32/32 [==============================] - 0s 949us/step - loss: 0.0139\n",
      "32/32 [==============================] - 0s 485us/step\n",
      "32/32 [==============================] - 0s 838us/step - loss: 0.0175\n",
      "32/32 [==============================] - 0s 476us/step\n",
      "32/32 [==============================] - 0s 939us/step - loss: 0.0137\n",
      "32/32 [==============================] - 0s 523us/step\n",
      "32/32 [==============================] - 0s 929us/step - loss: 0.0135\n",
      "32/32 [==============================] - 0s 488us/step\n",
      "32/32 [==============================] - 0s 897us/step - loss: 0.0133\n",
      "32/32 [==============================] - 0s 467us/step\n",
      "32/32 [==============================] - 0s 887us/step - loss: 0.0142\n",
      "32/32 [==============================] - 0s 478us/step\n",
      "32/32 [==============================] - 0s 885us/step - loss: 0.0136\n",
      "32/32 [==============================] - 0s 3ms/step\n",
      "32/32 [==============================] - 0s 858us/step - loss: 0.0148\n",
      "32/32 [==============================] - 0s 531us/step\n",
      "32/32 [==============================] - 0s 826us/step - loss: 0.0135\n",
      "32/32 [==============================] - 0s 495us/step\n",
      "32/32 [==============================] - 0s 897us/step - loss: 0.0139\n",
      "32/32 [==============================] - 0s 494us/step\n",
      "32/32 [==============================] - 0s 882us/step - loss: 0.0179\n",
      "32/32 [==============================] - 0s 501us/step\n",
      "32/32 [==============================] - 0s 842us/step - loss: 0.0148\n",
      "32/32 [==============================] - 0s 471us/step\n",
      "32/32 [==============================] - 0s 874us/step - loss: 0.0168\n",
      "32/32 [==============================] - 0s 512us/step\n"
     ]
    },
    {
     "data": {
      "text/plain": [
       "<Figure size 432x288 with 0 Axes>"
      ]
     },
     "metadata": {},
     "output_type": "display_data"
    }
   ],
   "source": [
    "for x in range(100):\n",
    "  # One epoch\n",
    "  model.fit( x_data, y_data, epochs=1, verbose=1)\n",
    "\n",
    "  # Compute the output \n",
    "  y_predicted = model.predict(x_data)\n",
    "\n",
    "  # Display the result\n",
    "  plt.scatter(x_data[::1], y_data[::1], s=2)\n",
    "  plt.plot(x_data, y_predicted, 'r', linewidth=4)\n",
    "  plt.grid()\n",
    "  plt.ylim(top=1.2)  # adjust the top leaving bottom unchanged\n",
    "  plt.ylim(bottom=-1.2)  \n",
    "  #plt.show()\n",
    "  plt.savefig('training-' + str(x) +'-epochs.png',dpi=300)\n",
    "  #files.download('training-' + str(x) +'-epochs.png') \n",
    "  plt.clf()\n",
    "\n"
   ]
  },
  {
   "cell_type": "code",
   "execution_count": null,
   "metadata": {},
   "outputs": [],
   "source": []
  }
 ],
 "metadata": {
  "colab": {
   "collapsed_sections": [],
   "include_colab_link": true,
   "name": "nonlinear-regression.ipynb",
   "provenance": []
  },
  "file_extension": ".py",
  "kernelspec": {
   "display_name": "Python 3 (ipykernel)",
   "language": "python",
   "name": "python3"
  },
  "language_info": {
   "codemirror_mode": {
    "name": "ipython",
    "version": 3
   },
   "file_extension": ".py",
   "mimetype": "text/x-python",
   "name": "python",
   "nbconvert_exporter": "python",
   "pygments_lexer": "ipython3",
   "version": "3.10.6"
  },
  "mimetype": "text/x-python",
  "name": "python",
  "npconvert_exporter": "python",
  "pygments_lexer": "ipython3",
  "version": 3
 },
 "nbformat": 4,
 "nbformat_minor": 1
}
