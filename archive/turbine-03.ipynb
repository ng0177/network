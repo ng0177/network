{
 "cells": [
  {
   "cell_type": "markdown",
   "metadata": {
    "colab_type": "text",
    "id": "view-in-github"
   },
   "source": [
    "<a href=\"https://colab.research.google.com/github/ng0177/network/blob/main/nonlinear_regression.ipynb\" target=\"_parent\"><img src=\"https://colab.research.google.com/assets/colab-badge.svg\" alt=\"Open In Colab\"/></a>"
   ]
  },
  {
   "cell_type": "markdown",
   "metadata": {
    "id": "uhB3iZZsWAWe"
   },
   "source": [
    "# Non linear regression / curve fitting\n",
    "\n",
    "You'll find more information and detailed explainations on [my blog](https://lucidar.me/en/neural-networks/curve-fitting-nonlinear-regression/).\n",
    "\n",
    "[Video of the expected result](https://youtu.be/7z86Lxzf_2o)\n"
   ]
  },
  {
   "cell_type": "markdown",
   "metadata": {
    "id": "2pqhyoFbW4eA"
   },
   "source": [
    "## Check/install TensorFlow version\n",
    "**Must be version 2.1.0**\n"
   ]
  },
  {
   "cell_type": "code",
   "execution_count": 1,
   "metadata": {
    "colab": {
     "base_uri": "https://localhost:8080/"
    },
    "id": "UuSy9cgA60Sy",
    "outputId": "6a930e5f-3251-404e-fb82-6f356f41c2a4"
   },
   "outputs": [],
   "source": [
    "# Switch the TensorFlow version 2.1\n",
    "#!pip install tensorflow==2.1.0"
   ]
  },
  {
   "cell_type": "markdown",
   "metadata": {
    "id": "qASyOjUDx1Lq"
   },
   "source": [
    "## Import libraries and create noisy data\n",
    "\n"
   ]
  },
  {
   "cell_type": "code",
   "execution_count": 2,
   "metadata": {
    "colab": {
     "base_uri": "https://localhost:8080/"
    },
    "id": "Rz1Q7i9xx1Lt",
    "outputId": "9f151272-62c9-4459-9444-89d8f99ca111"
   },
   "outputs": [
    {
     "name": "stdout",
     "output_type": "stream",
     "text": [
      "TensorFlow version: 2.9.1\n",
      "Data created successfully\n"
     ]
    }
   ],
   "source": [
    "import numpy as np\n",
    "import matplotlib.pyplot as plt\n",
    "from tensorflow import keras\n",
    "#from google.colab import files\n",
    "import tensorflow as tf\n",
    "import math\n",
    "\n",
    "print ('TensorFlow version: ' + tf.__version__)\n",
    "\n",
    "# Create noisy data\n",
    "#x_data = np.linspace(-10, 10, num=1000)\n",
    "#y_data = 0.1 * x_data * np.cos(x_data) + 0.1 * np.random.normal(size=1000)\n",
    "print('Data created successfully')\n",
    "x_data = np.array([[ 1.27305],[ 1.30392],[ 1.34063],[ 1.38482],[ 1.43878],[ 1.50577],[ 1.59061],[ 1.70066],[ 1.84776],[ 2.05185],[ 2.34924],[ 2.81181],[ 3.60117],[ 5.14998]])\n",
    "y_data = np.array([[ 1.34714],[ 1.41808],[ 1.47987],[ 1.55098],[ 1.62026],[ 1.69219],[ 1.76749],[ 1.83998],[ 1.91347],[ 1.98128],[ 2.04018],[ 2.08743],[ 2.12260],[ 2.14005]])"
   ]
  },
  {
   "cell_type": "markdown",
   "metadata": {
    "id": "RGNdmgOKAg_D"
   },
   "source": [
    "## Display curve to fit"
   ]
  },
  {
   "cell_type": "code",
   "execution_count": 3,
   "metadata": {
    "colab": {
     "base_uri": "https://localhost:8080/",
     "height": 283
    },
    "id": "zYrNbXAsAf9N",
    "outputId": "e367e7da-7b10-46bd-b58b-1c6ec6616fab"
   },
   "outputs": [
    {
     "data": {
      "image/png": "[encoded data removed]",
      "text/plain": [
       "<Figure size 432x288 with 1 Axes>"
      ]
     },
     "metadata": {
      "needs_background": "light"
     },
     "output_type": "display_data"
    },
    {
     "data": {
      "text/plain": [
       "<Figure size 432x288 with 0 Axes>"
      ]
     },
     "metadata": {},
     "output_type": "display_data"
    }
   ],
   "source": [
    "# Display the dataset\n",
    "plt.scatter(x_data[::1], y_data[::1], s=50)\n",
    "plt.grid()\n",
    "plt.show()\n",
    "plt.savefig('dataset.png',dpi=300)\n",
    "#files.download('dataset.png') "
   ]
  },
  {
   "cell_type": "markdown",
   "metadata": {
    "id": "5f_ikNz8x1Lz"
   },
   "source": [
    "# Create the model\n",
    "Create the model with two 64 units hidden layers."
   ]
  },
  {
   "cell_type": "code",
   "execution_count": 4,
   "metadata": {
    "colab": {
     "base_uri": "https://localhost:8080/",
     "height": 244
    },
    "id": "sMvpBFj5x1L0",
    "outputId": "90bd03ca-c48b-4f5a-d322-bcb6bd76a03d",
    "scrolled": true
   },
   "outputs": [
    {
     "name": "stdout",
     "output_type": "stream",
     "text": [
      "Model: \"sequential\"\n",
      "_________________________________________________________________\n",
      " Layer (type)                Output Shape              Param #   \n",
      "=================================================================\n",
      " dense (Dense)               (None, 5)                 10        \n",
      "                                                                 \n",
      " dense_1 (Dense)             (None, 5)                 30        \n",
      "                                                                 \n",
      " dense_2 (Dense)             (None, 1)                 6         \n",
      "                                                                 \n",
      "=================================================================\n",
      "Total params: 46\n",
      "Trainable params: 46\n",
      "Non-trainable params: 0\n",
      "_________________________________________________________________\n"
     ]
    },
    {
     "name": "stderr",
     "output_type": "stream",
     "text": [
      "2022-08-20 08:52:55.512232: I tensorflow/stream_executor/cuda/cuda_gpu_executor.cc:975] successful NUMA node read from SysFS had negative value (-1), but there must be at least one NUMA node, so returning NUMA node zero\n",
      "2022-08-20 08:52:55.530365: I tensorflow/stream_executor/cuda/cuda_gpu_executor.cc:975] successful NUMA node read from SysFS had negative value (-1), but there must be at least one NUMA node, so returning NUMA node zero\n",
      "2022-08-20 08:52:55.530479: I tensorflow/stream_executor/cuda/cuda_gpu_executor.cc:975] successful NUMA node read from SysFS had negative value (-1), but there must be at least one NUMA node, so returning NUMA node zero\n",
      "2022-08-20 08:52:55.531032: I tensorflow/core/platform/cpu_feature_guard.cc:193] This TensorFlow binary is optimized with oneAPI Deep Neural Network Library (oneDNN) to use the following CPU instructions in performance-critical operations:  AVX512F AVX512_VNNI FMA\n",
      "To enable them in other operations, rebuild TensorFlow with the appropriate compiler flags.\n",
      "2022-08-20 08:52:55.531866: I tensorflow/stream_executor/cuda/cuda_gpu_executor.cc:975] successful NUMA node read from SysFS had negative value (-1), but there must be at least one NUMA node, so returning NUMA node zero\n",
      "2022-08-20 08:52:55.531951: I tensorflow/stream_executor/cuda/cuda_gpu_executor.cc:975] successful NUMA node read from SysFS had negative value (-1), but there must be at least one NUMA node, so returning NUMA node zero\n",
      "2022-08-20 08:52:55.532021: I tensorflow/stream_executor/cuda/cuda_gpu_executor.cc:975] successful NUMA node read from SysFS had negative value (-1), but there must be at least one NUMA node, so returning NUMA node zero\n",
      "2022-08-20 08:52:55.775321: I tensorflow/stream_executor/cuda/cuda_gpu_executor.cc:975] successful NUMA node read from SysFS had negative value (-1), but there must be at least one NUMA node, so returning NUMA node zero\n",
      "2022-08-20 08:52:55.775455: I tensorflow/stream_executor/cuda/cuda_gpu_executor.cc:975] successful NUMA node read from SysFS had negative value (-1), but there must be at least one NUMA node, so returning NUMA node zero\n",
      "2022-08-20 08:52:55.775537: I tensorflow/stream_executor/cuda/cuda_gpu_executor.cc:975] successful NUMA node read from SysFS had negative value (-1), but there must be at least one NUMA node, so returning NUMA node zero\n",
      "2022-08-20 08:52:55.775597: I tensorflow/core/common_runtime/gpu/gpu_process_state.cc:222] Using CUDA malloc Async allocator for GPU: 0\n",
      "2022-08-20 08:52:55.775672: I tensorflow/core/common_runtime/gpu/gpu_device.cc:1532] Created device /job:localhost/replica:0/task:0/device:GPU:0 with 3249 MB memory:  -> device: 0, name: NVIDIA GeForce GTX 1060 6GB, pci bus id: 0000:01:00.0, compute capability: 6.1\n",
      "2022-08-20 08:52:55.775875: I tensorflow/core/common_runtime/process_util.cc:146] Creating new thread pool with default inter op setting: 2. Tune using inter_op_parallelism_threads for best performance.\n"
     ]
    }
   ],
   "source": [
    "# Create the model \n",
    "model = keras.Sequential()\n",
    "model.add(keras.layers.Dense(units=5, activation = 'relu',input_dim=1))\n",
    "model.add(keras.layers.Dense(units=5, activation= 'relu'))\n",
    "model.add(keras.layers.Dense(units=1))\n",
    "model.compile(loss='mean_squared_error',optimizer=keras.optimizers.SGD(learning_rate=0.001))\n",
    "\n",
    "# Display the model\n",
    "model.summary()"
   ]
  },
  {
   "cell_type": "markdown",
   "metadata": {
    "id": "Sxr1qxVex1L4"
   },
   "source": [
    "## Training over 100 epochs"
   ]
  },
  {
   "cell_type": "code",
   "execution_count": 5,
   "metadata": {
    "id": "M3XBJMj4x1L5"
   },
   "outputs": [
    {
     "name": "stdout",
     "output_type": "stream",
     "text": [
      "Epoch 1/75\n",
      "2/2 [==============================] - 0s 3ms/step - loss: 3.4299\n",
      "Epoch 2/75\n",
      "2/2 [==============================] - 0s 2ms/step - loss: 3.3567\n",
      "Epoch 3/75\n",
      "2/2 [==============================] - 0s 1ms/step - loss: 3.2873\n",
      "Epoch 4/75\n",
      "2/2 [==============================] - 0s 1ms/step - loss: 3.2213\n",
      "Epoch 5/75\n",
      "2/2 [==============================] - 0s 1ms/step - loss: 3.1558\n",
      "Epoch 6/75\n",
      "2/2 [==============================] - 0s 1ms/step - loss: 3.0911\n",
      "Epoch 7/75\n",
      "2/2 [==============================] - 0s 1ms/step - loss: 3.0298\n",
      "Epoch 8/75\n",
      "2/2 [==============================] - 0s 1ms/step - loss: 2.9672\n",
      "Epoch 9/75\n",
      "2/2 [==============================] - 0s 1ms/step - loss: 2.9062\n",
      "Epoch 10/75\n",
      "2/2 [==============================] - 0s 1ms/step - loss: 2.8489\n",
      "Epoch 11/75\n",
      "2/2 [==============================] - 0s 1ms/step - loss: 2.7964\n",
      "Epoch 12/75\n",
      "2/2 [==============================] - 0s 1ms/step - loss: 2.7412\n",
      "Epoch 13/75\n",
      "2/2 [==============================] - 0s 1ms/step - loss: 2.6778\n",
      "Epoch 14/75\n",
      "2/2 [==============================] - 0s 1ms/step - loss: 2.6209\n",
      "Epoch 15/75\n",
      "2/2 [==============================] - 0s 1ms/step - loss: 2.5692\n",
      "Epoch 16/75\n",
      "2/2 [==============================] - 0s 2ms/step - loss: 2.5163\n",
      "Epoch 17/75\n",
      "2/2 [==============================] - 0s 1ms/step - loss: 2.4610\n",
      "Epoch 18/75\n",
      "2/2 [==============================] - 0s 1ms/step - loss: 2.4118\n",
      "Epoch 19/75\n",
      "2/2 [==============================] - 0s 1ms/step - loss: 2.3597\n",
      "Epoch 20/75\n",
      "2/2 [==============================] - 0s 1ms/step - loss: 2.3092\n",
      "Epoch 21/75\n",
      "2/2 [==============================] - 0s 2ms/step - loss: 2.2578\n",
      "Epoch 22/75\n",
      "2/2 [==============================] - 0s 1ms/step - loss: 2.2098\n",
      "Epoch 23/75\n",
      "2/2 [==============================] - 0s 1ms/step - loss: 2.1642\n",
      "Epoch 24/75\n",
      "2/2 [==============================] - 0s 1ms/step - loss: 2.1203\n",
      "Epoch 25/75\n",
      "2/2 [==============================] - 0s 1ms/step - loss: 2.0756\n",
      "Epoch 26/75\n",
      "2/2 [==============================] - 0s 3ms/step - loss: 2.0323\n",
      "Epoch 27/75\n",
      "2/2 [==============================] - 0s 1ms/step - loss: 1.9881\n",
      "Epoch 28/75\n",
      "2/2 [==============================] - 0s 2ms/step - loss: 1.9399\n",
      "Epoch 29/75\n",
      "2/2 [==============================] - 0s 1ms/step - loss: 1.8953\n",
      "Epoch 30/75\n",
      "2/2 [==============================] - 0s 1ms/step - loss: 1.8494\n",
      "Epoch 31/75\n",
      "2/2 [==============================] - 0s 2ms/step - loss: 1.8044\n",
      "Epoch 32/75\n",
      "2/2 [==============================] - 0s 1ms/step - loss: 1.7612\n",
      "Epoch 33/75\n",
      "2/2 [==============================] - 0s 1ms/step - loss: 1.7177\n",
      "Epoch 34/75\n",
      "2/2 [==============================] - 0s 1ms/step - loss: 1.6759\n",
      "Epoch 35/75\n",
      "2/2 [==============================] - 0s 1ms/step - loss: 1.6341\n",
      "Epoch 36/75\n",
      "2/2 [==============================] - 0s 2ms/step - loss: 1.5932\n",
      "Epoch 37/75\n",
      "2/2 [==============================] - 0s 1ms/step - loss: 1.5528\n",
      "Epoch 38/75\n",
      "2/2 [==============================] - 0s 1ms/step - loss: 1.5133\n",
      "Epoch 39/75\n",
      "2/2 [==============================] - 0s 1ms/step - loss: 1.4762\n",
      "Epoch 40/75\n",
      "2/2 [==============================] - 0s 1ms/step - loss: 1.4390\n",
      "Epoch 41/75\n",
      "2/2 [==============================] - 0s 2ms/step - loss: 1.4018\n",
      "Epoch 42/75\n",
      "2/2 [==============================] - 0s 1ms/step - loss: 1.3621\n",
      "Epoch 43/75\n",
      "2/2 [==============================] - 0s 1ms/step - loss: 1.3226\n",
      "Epoch 44/75\n",
      "2/2 [==============================] - 0s 1ms/step - loss: 1.2854\n",
      "Epoch 45/75\n",
      "2/2 [==============================] - 0s 1ms/step - loss: 1.2498\n",
      "Epoch 46/75\n",
      "2/2 [==============================] - 0s 2ms/step - loss: 1.2158\n",
      "Epoch 47/75\n",
      "2/2 [==============================] - 0s 1ms/step - loss: 1.1820\n",
      "Epoch 48/75\n",
      "2/2 [==============================] - 0s 1ms/step - loss: 1.1464\n",
      "Epoch 49/75\n",
      "2/2 [==============================] - 0s 1ms/step - loss: 1.1126\n",
      "Epoch 50/75\n",
      "2/2 [==============================] - 0s 1ms/step - loss: 1.0807\n",
      "Epoch 51/75\n",
      "2/2 [==============================] - 0s 2ms/step - loss: 1.0493\n",
      "Epoch 52/75\n",
      "2/2 [==============================] - 0s 1ms/step - loss: 1.0185\n",
      "Epoch 53/75\n",
      "2/2 [==============================] - 0s 1ms/step - loss: 0.9881\n",
      "Epoch 54/75\n",
      "2/2 [==============================] - 0s 1ms/step - loss: 0.9583\n",
      "Epoch 55/75\n",
      "2/2 [==============================] - 0s 1ms/step - loss: 0.9273\n",
      "Epoch 56/75\n",
      "2/2 [==============================] - 0s 2ms/step - loss: 0.8969\n",
      "Epoch 57/75\n",
      "2/2 [==============================] - 0s 1ms/step - loss: 0.8681\n",
      "Epoch 58/75\n",
      "2/2 [==============================] - 0s 1ms/step - loss: 0.8406\n",
      "Epoch 59/75\n",
      "2/2 [==============================] - 0s 1ms/step - loss: 0.8119\n",
      "Epoch 60/75\n",
      "2/2 [==============================] - 0s 1ms/step - loss: 0.7862\n",
      "Epoch 61/75\n",
      "2/2 [==============================] - 0s 1ms/step - loss: 0.7598\n",
      "Epoch 62/75\n",
      "2/2 [==============================] - 0s 2ms/step - loss: 0.7338\n",
      "Epoch 63/75\n",
      "2/2 [==============================] - 0s 1ms/step - loss: 0.7090\n",
      "Epoch 64/75\n",
      "2/2 [==============================] - 0s 1ms/step - loss: 0.6862\n",
      "Epoch 65/75\n",
      "2/2 [==============================] - 0s 1ms/step - loss: 0.6631\n",
      "Epoch 66/75\n",
      "2/2 [==============================] - 0s 1ms/step - loss: 0.6405\n",
      "Epoch 67/75\n",
      "2/2 [==============================] - 0s 2ms/step - loss: 0.6177\n",
      "Epoch 68/75\n",
      "2/2 [==============================] - 0s 1ms/step - loss: 0.5961\n",
      "Epoch 69/75\n",
      "2/2 [==============================] - 0s 1ms/step - loss: 0.5761\n",
      "Epoch 70/75\n",
      "2/2 [==============================] - 0s 1ms/step - loss: 0.5558\n",
      "Epoch 71/75\n",
      "2/2 [==============================] - 0s 1ms/step - loss: 0.5367\n",
      "Epoch 72/75\n",
      "2/2 [==============================] - 0s 1ms/step - loss: 0.5183\n",
      "Epoch 73/75\n",
      "2/2 [==============================] - 0s 2ms/step - loss: 0.5006\n",
      "Epoch 74/75\n",
      "2/2 [==============================] - 0s 1ms/step - loss: 0.4834\n",
      "Epoch 75/75\n",
      "2/2 [==============================] - 0s 1ms/step - loss: 0.4662\n"
     ]
    },
    {
     "data": {
      "text/plain": [
       "<keras.callbacks.History at 0x7f4a31570430>"
      ]
     },
     "execution_count": 5,
     "metadata": {},
     "output_type": "execute_result"
    }
   ],
   "source": [
    "# Training\n",
    "model.fit( x_data, y_data,epochs=75, batch_size=10)"
   ]
  },
  {
   "cell_type": "markdown",
   "metadata": {
    "id": "gLEzVkjex1L9"
   },
   "source": [
    "# Predict and display"
   ]
  },
  {
   "cell_type": "code",
   "execution_count": 6,
   "metadata": {
    "id": "IcKpdLe9x1L-"
   },
   "outputs": [
    {
     "name": "stdout",
     "output_type": "stream",
     "text": [
      "1/1 [==============================] - 0s 63ms/step\n"
     ]
    },
    {
     "data": {
      "image/png": "[encoded data removed]",
      "text/plain": [
       "<Figure size 432x288 with 1 Axes>"
      ]
     },
     "metadata": {
      "needs_background": "light"
     },
     "output_type": "display_data"
    }
   ],
   "source": [
    "# Compute the output \n",
    "y_predicted = model.predict(x_data)\n",
    "\n",
    "# Display the result\n",
    "plt.scatter(x_data[::1], y_data[::1], s=50)\n",
    "plt.plot(x_data, y_predicted, 'r', linewidth=3)\n",
    "plt.grid()\n",
    "#plt.show()\n",
    "plt.savefig('training.png', dpi=300)\n",
    "#files.download(\"training.png\") "
   ]
  },
  {
   "cell_type": "markdown",
   "metadata": {
    "id": "OEEhzK4YHOdC"
   },
   "source": [
    "## Create image sequence for the video\n",
    "\n",
    "Run this section to generate a sequence of images for the [video](https://www.youtube.com/watch?v=7z86Lxzf_2o).\n",
    "\n",
    "To get the video from the beginning, you have to reset the model weight. Re-creating the model should reseting the weights."
   ]
  },
  {
   "cell_type": "code",
   "execution_count": 7,
   "metadata": {
    "id": "13RiCs72HMH6"
   },
   "outputs": [],
   "source": [
    "#for x in range(100):\n",
    "#  # One epoch\n",
    "#  model.fit( x_data, y_data, epochs=1, verbose=1)\n",
    "#\n",
    "#  # Compute the output \n",
    "#  y_predicted = model.predict(x_data)\n",
    "#\n",
    "#  # Display the result\n",
    "#  plt.scatter(x_data[::1], y_data[::1], s=2)\n",
    "#  plt.plot(x_data, y_predicted, 'r', linewidth=4)\n",
    "#  plt.grid()\n",
    "#  plt.ylim(top=1.2)  # adjust the top leaving bottom unchanged\n",
    "#  plt.ylim(bottom=-1.2)  \n",
    "#  #plt.show()\n",
    "#  plt.savefig('training-' + str(x) +'-epochs.png',dpi=300)\n",
    "#  #files.download('training-' + str(x) +'-epochs.png') \n",
    "#  plt.clf()\n",
    "\n"
   ]
  },
  {
   "cell_type": "code",
   "execution_count": null,
   "metadata": {},
   "outputs": [],
   "source": []
  }
 ],
 "metadata": {
  "colab": {
   "collapsed_sections": [],
   "include_colab_link": true,
   "name": "nonlinear-regression.ipynb",
   "provenance": []
  },
  "file_extension": ".py",
  "kernelspec": {
   "display_name": "Python 3 (ipykernel)",
   "language": "python",
   "name": "python3"
  },
  "language_info": {
   "codemirror_mode": {
    "name": "ipython",
    "version": 3
   },
   "file_extension": ".py",
   "mimetype": "text/x-python",
   "name": "python",
   "nbconvert_exporter": "python",
   "pygments_lexer": "ipython3",
   "version": "3.10.6"
  },
  "mimetype": "text/x-python",
  "name": "python",
  "npconvert_exporter": "python",
  "pygments_lexer": "ipython3",
  "version": 3
 },
 "nbformat": 4,
 "nbformat_minor": 1
}
