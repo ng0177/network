{
 "cells": [
  {
   "cell_type": "markdown",
   "metadata": {
    "id": "qASyOjUDx1Lq"
   },
   "source": [
    "### prepare"
   ]
  },
  {
   "cell_type": "code",
   "execution_count": null,
   "metadata": {
    "executionInfo": {
     "elapsed": 4537,
     "status": "ok",
     "timestamp": 1661420525587,
     "user": {
      "displayName": "Thomas Bielinger",
      "userId": "06702926197276526237"
     },
     "user_tz": -120
    },
    "id": "Rz1Q7i9xx1Lt"
   },
   "outputs": [],
   "source": [
    "# import python\n",
    "import numpy as np\n",
    "from sys import maxsize\n",
    "np.set_printoptions(threshold=maxsize)\n",
    "import matplotlib.pyplot as plt\n",
    "#import math\n",
    "#from google.colab import files\n",
    "\n",
    "# import tensorflow\n",
    "from tensorflow import keras\n",
    "from tensorflow.keras import layers\n",
    "# pip3 install -U scikit-learn\n",
    "# sudo pacman -S python-scikit-learn\n",
    "from sklearn.preprocessing import MinMaxScaler"
   ]
  },
  {
   "cell_type": "code",
   "execution_count": null,
   "metadata": {},
   "outputs": [],
   "source": [
    "from IPython.core.interactiveshell import InteractiveShell\n",
    "InteractiveShell.ast_node_interactivity = \"all\""
   ]
  },
  {
   "cell_type": "code",
   "execution_count": null,
   "metadata": {},
   "outputs": [],
   "source": [
    "%pwd\n",
    "%cd /mnt/815c1698-0606-4299-aed1-5b838adaea93/BLOCK/GITHUB/network/"
   ]
  },
  {
   "cell_type": "code",
   "execution_count": null,
   "metadata": {
    "executionInfo": {
     "elapsed": 4537,
     "status": "ok",
     "timestamp": 1661420525587,
     "user": {
      "displayName": "Thomas Bielinger",
      "userId": "06702926197276526237"
     },
     "user_tz": -120
    },
    "id": "Rz1Q7i9xx1Lt"
   },
   "outputs": [],
   "source": [
    "# map: p44\n",
    "ttechp443924 = np.loadtxt(open(\"data_wheel/p44-39-mum-24.csv\", \"rb\"), delimiter=\",\", skiprows=0)\n",
    "ttechp443928 = np.loadtxt(open(\"data_wheel/p44-39-mum-28.csv\", \"rb\"), delimiter=\",\", skiprows=0)\n",
    "ttechp443932 = np.loadtxt(open(\"data_wheel/p44-39-mum-32.csv\", \"rb\"), delimiter=\",\", skiprows=0)\n",
    "#\n",
    "ttechp444724 = np.loadtxt(open(\"data_wheel/p44-47-mum-24.csv\", \"rb\"), delimiter=\",\", skiprows=0)\n",
    "ttechp444728 = np.loadtxt(open(\"data_wheel/p44-47-mum-28.csv\", \"rb\"), delimiter=\",\", skiprows=0)\n",
    "ttechp444732 = np.loadtxt(open(\"data_wheel/p44-47-mum-32.csv\", \"rb\"), delimiter=\",\", skiprows=0)\n",
    "#\n",
    "ttechp445520 = np.loadtxt(open(\"data_wheel/p44-55-mum-20.csv\", \"rb\"), delimiter=\",\", skiprows=0) # bug\n",
    "ttechp445528 = np.loadtxt(open(\"data_wheel/p44-55-mum-28.csv\", \"rb\"), delimiter=\",\", skiprows=0)\n",
    "ttechp445532 = np.loadtxt(open(\"data_wheel/p44-55-mum-32.csv\", \"rb\"), delimiter=\",\", skiprows=0)\n",
    "# map: p100\n",
    "ttechp1003928 = np.loadtxt(open(\"data_wheel/p100-39-mum-28.csv\", \"rb\"), delimiter=\",\", skiprows=0)\n",
    "ttechp1003932 = np.loadtxt(open(\"data_wheel/p100-39-mum-32.csv\", \"rb\"), delimiter=\",\", skiprows=0)\n",
    "ttechp1003936 = np.loadtxt(open(\"data_wheel/p100-39-mum-36.csv\", \"rb\"), delimiter=\",\", skiprows=0)\n",
    "#\n",
    "ttechp1004728 = np.loadtxt(open(\"data_wheel/p100-47-mum-28.csv\", \"rb\"), delimiter=\",\", skiprows=0)\n",
    "ttechp1004732 = np.loadtxt(open(\"data_wheel/p100-47-mum-32.csv\", \"rb\"), delimiter=\",\", skiprows=0)\n",
    "ttechp1004736 = np.loadtxt(open(\"data_wheel/p100-47-mum-36.csv\", \"rb\"), delimiter=\",\", skiprows=0)\n",
    "#\n",
    "ttechp1005528 = np.loadtxt(open(\"data_wheel/p100-55-mum-28.csv\", \"rb\"), delimiter=\",\", skiprows=0)\n",
    "ttechp1005532 = np.loadtxt(open(\"data_wheel/p100-55-mum-32.csv\", \"rb\"), delimiter=\",\", skiprows=0)\n",
    "ttechp1005536 = np.loadtxt(open(\"data_wheel/p100-55-mum-36.csv\", \"rb\"), delimiter=\",\", skiprows=0)\n",
    "# map: p20\n",
    "ttechp203120 = np.loadtxt(open(\"data_wheel/p20-31-mum-20.csv\", \"rb\"), delimiter=\",\", skiprows=0)\n",
    "ttechp203124 = np.loadtxt(open(\"data_wheel/p20-31-mum-24.csv\", \"rb\"), delimiter=\",\", skiprows=0)\n",
    "ttechp203128 = np.loadtxt(open(\"data_wheel/p20-31-mum-28.csv\", \"rb\"), delimiter=\",\", skiprows=0)\n",
    "#\n",
    "ttechp203920 = np.loadtxt(open(\"data_wheel/p20-39-mum-20.csv\", \"rb\"), delimiter=\",\", skiprows=0)\n",
    "ttechp203924 = np.loadtxt(open(\"data_wheel/p20-39-mum-24.csv\", \"rb\"), delimiter=\",\", skiprows=0)\n",
    "ttechp203928 = np.loadtxt(open(\"data_wheel/p20-39-mum-28.csv\", \"rb\"), delimiter=\",\", skiprows=0)\n",
    "#\n",
    "ttechp204720 = np.loadtxt(open(\"data_wheel/p20-47-mum-20.csv\", \"rb\"), delimiter=\",\", skiprows=0)\n",
    "ttechp204724 = np.loadtxt(open(\"data_wheel/p20-47-mum-24.csv\", \"rb\"), delimiter=\",\", skiprows=0)\n",
    "ttechp204728 = np.loadtxt(open(\"data_wheel/p20-47-mum-28.csv\", \"rb\"), delimiter=\",\", skiprows=0)\n"
   ]
  },
  {
   "cell_type": "markdown",
   "metadata": {},
   "source": [
    "#### P44"
   ]
  },
  {
   "cell_type": "code",
   "execution_count": null,
   "metadata": {
    "executionInfo": {
     "elapsed": 4537,
     "status": "ok",
     "timestamp": 1661420525587,
     "user": {
      "displayName": "Thomas Bielinger",
      "userId": "06702926197276526237"
     },
     "user_tz": -120
    },
    "id": "Rz1Q7i9xx1Lt"
   },
   "outputs": [],
   "source": [
    "# add volute size\n",
    "ttechp443924 = np.insert(ttechp443924, 0, values=24, axis=1)\n",
    "ttechp443928 = np.insert(ttechp443928, 0, values=28, axis=1)\n",
    "ttechp443932 = np.insert(ttechp443932, 0, values=32, axis=1)\n",
    "#\n",
    "ttechp444724 = np.insert(ttechp444724, 0, values=24, axis=1)\n",
    "ttechp444728 = np.insert(ttechp444728, 0, values=28, axis=1)\n",
    "ttechp444732 = np.insert(ttechp444732, 0, values=32, axis=1)\n",
    "#\n",
    "ttechp445520 = np.insert(ttechp445520, 0, values=20, axis=1) # bug\n",
    "ttechp445528 = np.insert(ttechp445528, 0, values=28, axis=1)\n",
    "ttechp445532 = np.insert(ttechp445532, 0, values=32, axis=1)\n",
    "# add wheel size\n",
    "ttechp443924 = np.insert(ttechp443924, 0, values=39, axis=1)\n",
    "ttechp443928 = np.insert(ttechp443928, 0, values=39, axis=1)\n",
    "ttechp443932 = np.insert(ttechp443932, 0, values=39, axis=1)\n",
    "#\n",
    "ttechp444724 = np.insert(ttechp444724, 0, values=47, axis=1)\n",
    "ttechp444728 = np.insert(ttechp444728, 0, values=47, axis=1)\n",
    "ttechp444732 = np.insert(ttechp444732, 0, values=47, axis=1)\n",
    "#\n",
    "ttechp445520 = np.insert(ttechp445520, 0, values=55, axis=1) # bug\n",
    "ttechp445528 = np.insert(ttechp445528, 0, values=55, axis=1)\n",
    "ttechp445532 = np.insert(ttechp445532, 0, values=55, axis=1)\n",
    "# add wheel type number\n",
    "ttechp443924 = np.insert(ttechp443924, 0, values=44, axis=1)\n",
    "ttechp443928 = np.insert(ttechp443928, 0, values=44, axis=1)\n",
    "ttechp443932 = np.insert(ttechp443932, 0, values=44, axis=1)\n",
    "#\n",
    "ttechp444724 = np.insert(ttechp444724, 0, values=44, axis=1)\n",
    "ttechp444728 = np.insert(ttechp444728, 0, values=44, axis=1)\n",
    "ttechp444732 = np.insert(ttechp444732, 0, values=44, axis=1)\n",
    "#\n",
    "ttechp445520 = np.insert(ttechp445520, 0, values=44, axis=1) # bug\n",
    "ttechp445528 = np.insert(ttechp445528, 0, values=44, axis=1)\n",
    "ttechp445532 = np.insert(ttechp445532, 0, values=44, axis=1)"
   ]
  },
  {
   "cell_type": "markdown",
   "metadata": {},
   "source": [
    "#### P100"
   ]
  },
  {
   "cell_type": "code",
   "execution_count": null,
   "metadata": {
    "executionInfo": {
     "elapsed": 4537,
     "status": "ok",
     "timestamp": 1661420525587,
     "user": {
      "displayName": "Thomas Bielinger",
      "userId": "06702926197276526237"
     },
     "user_tz": -120
    },
    "id": "Rz1Q7i9xx1Lt"
   },
   "outputs": [],
   "source": [
    "# add volute size\n",
    "ttechp1003928 = np.insert(ttechp1003928, 0, values=28, axis=1)\n",
    "ttechp1003932 = np.insert(ttechp1003932, 0, values=32, axis=1)\n",
    "ttechp1003936 = np.insert(ttechp1003936, 0, values=36, axis=1)\n",
    "#\n",
    "ttechp1004728 = np.insert(ttechp1004728, 0, values=28, axis=1)\n",
    "ttechp1004732 = np.insert(ttechp1004732, 0, values=32, axis=1)\n",
    "ttechp1004736 = np.insert(ttechp1004736, 0, values=36, axis=1)\n",
    "#\n",
    "ttechp1005528 = np.insert(ttechp1005528, 0, values=28, axis=1)\n",
    "ttechp1005532 = np.insert(ttechp1005532, 0, values=32, axis=1)\n",
    "ttechp1005536 = np.insert(ttechp1005536, 0, values=36, axis=1)\n",
    "# add wheel size\n",
    "ttechp1003928 = np.insert(ttechp1003928, 0, values=39, axis=1)\n",
    "ttechp1003932 = np.insert(ttechp1003932, 0, values=39, axis=1)\n",
    "ttechp1003936 = np.insert(ttechp1003936, 0, values=39, axis=1)\n",
    "#\n",
    "ttechp1004728 = np.insert(ttechp1004728, 0, values=47, axis=1)\n",
    "ttechp1004732 = np.insert(ttechp1004732, 0, values=47, axis=1)\n",
    "ttechp1004736 = np.insert(ttechp1004736, 0, values=47, axis=1)\n",
    "#\n",
    "ttechp1005528 = np.insert(ttechp1005528, 0, values=55, axis=1)\n",
    "ttechp1005532 = np.insert(ttechp1005532, 0, values=55, axis=1)\n",
    "ttechp1005536 = np.insert(ttechp1005536, 0, values=55, axis=1)\n",
    "# add wheel type number\n",
    "ttechp1003928 = np.insert(ttechp1003928, 0, values=100, axis=1)\n",
    "ttechp1003932 = np.insert(ttechp1003932, 0, values=100, axis=1)\n",
    "ttechp1003936 = np.insert(ttechp1003936, 0, values=100, axis=1)\n",
    "#\n",
    "ttechp1004728 = np.insert(ttechp1004728, 0, values=100, axis=1)\n",
    "ttechp1004732 = np.insert(ttechp1004732, 0, values=100, axis=1)\n",
    "ttechp1004736 = np.insert(ttechp1004736, 0, values=100, axis=1)\n",
    "#\n",
    "ttechp1005528 = np.insert(ttechp1005528, 0, values=100, axis=1)\n",
    "ttechp1005532 = np.insert(ttechp1005532, 0, values=100, axis=1)\n",
    "ttechp1005536 = np.insert(ttechp1005536, 0, values=100, axis=1)"
   ]
  },
  {
   "cell_type": "markdown",
   "metadata": {},
   "source": [
    "#### P20"
   ]
  },
  {
   "cell_type": "code",
   "execution_count": null,
   "metadata": {
    "executionInfo": {
     "elapsed": 4537,
     "status": "ok",
     "timestamp": 1661420525587,
     "user": {
      "displayName": "Thomas Bielinger",
      "userId": "06702926197276526237"
     },
     "user_tz": -120
    },
    "id": "Rz1Q7i9xx1Lt"
   },
   "outputs": [],
   "source": [
    "# add volute size\n",
    "ttechp203120 = np.insert(ttechp203120, 0, values=20, axis=1)\n",
    "ttechp203124 = np.insert(ttechp203124, 0, values=24, axis=1)\n",
    "ttechp203128 = np.insert(ttechp203128, 0, values=28, axis=1)\n",
    "#\n",
    "ttechp203920 = np.insert(ttechp203920, 0, values=20, axis=1)\n",
    "ttechp203924 = np.insert(ttechp203924, 0, values=24, axis=1)\n",
    "ttechp203928 = np.insert(ttechp203928, 0, values=28, axis=1)\n",
    "#\n",
    "ttechp204720 = np.insert(ttechp204720, 0, values=20, axis=1)\n",
    "ttechp204724 = np.insert(ttechp204724, 0, values=24, axis=1)\n",
    "ttechp204728 = np.insert(ttechp204728, 0, values=28, axis=1)\n",
    "# add wheel size\n",
    "ttechp203120 = np.insert(ttechp203120, 0, values=55, axis=1)\n",
    "ttechp203124 = np.insert(ttechp203124, 0, values=55, axis=1)\n",
    "ttechp203128 = np.insert(ttechp203128, 0, values=55, axis=1)\n",
    "#\n",
    "ttechp203920 = np.insert(ttechp203920, 0, values=39, axis=1)\n",
    "ttechp203924 = np.insert(ttechp203924, 0, values=39, axis=1)\n",
    "ttechp203928 = np.insert(ttechp203928, 0, values=39, axis=1)\n",
    "#\n",
    "ttechp204720 = np.insert(ttechp204720, 0, values=47, axis=1)\n",
    "ttechp204724 = np.insert(ttechp204724, 0, values=47, axis=1)\n",
    "ttechp204728 = np.insert(ttechp204728, 0, values=47, axis=1)\n",
    "# add wheel type number\n",
    "ttechp203120 = np.insert(ttechp203120, 0, values=20, axis=1)\n",
    "ttechp203124 = np.insert(ttechp203124, 0, values=20, axis=1)\n",
    "ttechp203128 = np.insert(ttechp203128, 0, values=20, axis=1)\n",
    "#\n",
    "ttechp203920 = np.insert(ttechp203920, 0, values=20, axis=1)\n",
    "ttechp203924 = np.insert(ttechp203924, 0, values=20, axis=1)\n",
    "ttechp203928 = np.insert(ttechp203928, 0, values=20, axis=1)\n",
    "#\n",
    "ttechp204720 = np.insert(ttechp204720, 0, values=20, axis=1)\n",
    "ttechp204724 = np.insert(ttechp204724, 0, values=20, axis=1)\n",
    "ttechp204728 = np.insert(ttechp204728, 0, values=20, axis=1)"
   ]
  },
  {
   "cell_type": "markdown",
   "metadata": {},
   "source": [
    "### assemble"
   ]
  },
  {
   "cell_type": "code",
   "execution_count": null,
   "metadata": {
    "executionInfo": {
     "elapsed": 4537,
     "status": "ok",
     "timestamp": 1661420525587,
     "user": {
      "displayName": "Thomas Bielinger",
      "userId": "06702926197276526237"
     },
     "user_tz": -120
    },
    "id": "Rz1Q7i9xx1Lt"
   },
   "outputs": [],
   "source": [
    "# assemble p44\n",
    "ttechall = ttechp443924\n",
    "ttechall = np.append(ttechall,ttechp443928,axis=0);\n",
    "ttechall = np.append(ttechall,ttechp443932,axis=0);\n",
    "ttechall = np.append(ttechall,ttechp444724,axis=0);\n",
    "ttechall = np.append(ttechall,ttechp444728,axis=0);\n",
    "ttechall = np.append(ttechall,ttechp444732,axis=0);\n",
    "ttechall = np.append(ttechall,ttechp445520,axis=0); # bug\n",
    "ttechall = np.append(ttechall,ttechp445528,axis=0);\n",
    "ttechall = np.append(ttechall,ttechp445532,axis=0);\n",
    "# assemble p100\n",
    "ttechall = np.append(ttechall,ttechp1003928,axis=0);\n",
    "ttechall = np.append(ttechall,ttechp1003932,axis=0);\n",
    "ttechall = np.append(ttechall,ttechp1003936,axis=0);\n",
    "ttechall = np.append(ttechall,ttechp1004728,axis=0);\n",
    "ttechall = np.append(ttechall,ttechp1004732,axis=0);\n",
    "ttechall = np.append(ttechall,ttechp1004736,axis=0);\n",
    "ttechall = np.append(ttechall,ttechp1005528,axis=0);\n",
    "ttechall = np.append(ttechall,ttechp1005532,axis=0);\n",
    "ttechall = np.append(ttechall,ttechp1005536,axis=0);\n",
    "# assemble p20\n",
    "ttechall = np.append(ttechall,ttechp203120,axis=0);\n",
    "ttechall = np.append(ttechall,ttechp203124,axis=0);\n",
    "ttechall = np.append(ttechall,ttechp203128,axis=0);\n",
    "ttechall = np.append(ttechall,ttechp203920,axis=0);\n",
    "ttechall = np.append(ttechall,ttechp203924,axis=0);\n",
    "ttechall = np.append(ttechall,ttechp203928,axis=0);\n",
    "ttechall = np.append(ttechall,ttechp204720,axis=0);\n",
    "ttechall = np.append(ttechall,ttechp204724,axis=0);\n",
    "ttechall = np.append(ttechall,ttechp204728,axis=0);\n"
   ]
  },
  {
   "cell_type": "code",
   "execution_count": null,
   "metadata": {
    "executionInfo": {
     "elapsed": 4537,
     "status": "ok",
     "timestamp": 1661420525587,
     "user": {
      "displayName": "Thomas Bielinger",
      "userId": "06702926197276526237"
     },
     "user_tz": -120
    },
    "id": "Rz1Q7i9xx1Lt"
   },
   "outputs": [],
   "source": [
    "# split x, y\n",
    "x_data = ttechall[0:len(ttechall),[0,1,2,3,4]]\n",
    "y_data = ttechall[0:len(ttechall),[5,6]]"
   ]
  },
  {
   "cell_type": "code",
   "execution_count": null,
   "metadata": {},
   "outputs": [],
   "source": [
    "# shape\n",
    "print(\"x shape is \", x_data.shape)\n",
    "print(\"y shape is \", y_data.shape)"
   ]
  },
  {
   "cell_type": "markdown",
   "metadata": {
    "id": "RGNdmgOKAg_D"
   },
   "source": [
    "### test"
   ]
  },
  {
   "cell_type": "code",
   "execution_count": null,
   "metadata": {
    "executionInfo": {
     "elapsed": 4537,
     "status": "ok",
     "timestamp": 1661420525587,
     "user": {
      "displayName": "Thomas Bielinger",
      "userId": "06702926197276526237"
     },
     "user_tz": -120
    },
    "id": "Rz1Q7i9xx1Lt"
   },
   "outputs": [],
   "source": [
    "# test\n",
    "#x_dataT_24 = np.array([ [24,310,1.44389],[24,310,1.48225],[24,310,1.52611],[24,310,1.57655],[24,310,1.63571],\n",
    "#                        [24,310,1.70551],[24,310,1.78899],[24,310,1.88981],[24,310,2.01351],[24,310,2.16737],\n",
    "#                        [24,310,2.36391],[24,310,2.62075],[24,310,2.96815],[24,310,3.45468],[24,310,4.16895]])\n",
    "############################################\n",
    "N = 15\n",
    "a = np.tile(np.array([44,50,30,400]),(N,1)); #a\n",
    "\n",
    "x = [0,0,0,0,0]\n",
    "y = np.linspace(np.sqrt(1.5),np.sqrt(4.5), N)**2\n",
    "X,Yb = np.meshgrid(x,y); #Yb\n",
    "\n",
    "Yb[:,:-1] = a; Yb\n",
    "x_dataT = Yb\n",
    "############################################\n",
    "\n",
    "x_data = np.append(x_data,x_dataT,axis=0)"
   ]
  },
  {
   "cell_type": "markdown",
   "metadata": {
    "id": "RGNdmgOKAg_D"
   },
   "source": [
    "### normalize"
   ]
  },
  {
   "cell_type": "code",
   "execution_count": null,
   "metadata": {
    "colab": {
     "base_uri": "https://localhost:8080/"
    },
    "executionInfo": {
     "elapsed": 26,
     "status": "ok",
     "timestamp": 1661420525593,
     "user": {
      "displayName": "Thomas Bielinger",
      "userId": "06702926197276526237"
     },
     "user_tz": -120
    },
    "id": "WVKBnQcsDNWk",
    "outputId": "8c3e95f4-f305-4305-9aa3-e8b76e92f806"
   },
   "outputs": [],
   "source": [
    "# normalize\n",
    "x_datan = MinMaxScaler().fit_transform(x_data)\n",
    "y_datan = MinMaxScaler().fit_transform(y_data)\n",
    "\n",
    "# shape\n",
    "print(\"x shape is \", x_data.shape)\n",
    "print(\"y shape is \", y_data.shape)"
   ]
  },
  {
   "cell_type": "code",
   "execution_count": null,
   "metadata": {
    "executionInfo": {
     "elapsed": 17,
     "status": "ok",
     "timestamp": 1661420525595,
     "user": {
      "displayName": "Thomas Bielinger",
      "userId": "06702926197276526237"
     },
     "user_tz": -120
    },
    "id": "nnU-lPqDDNWl"
   },
   "outputs": [],
   "source": [
    "# test length\n",
    "lenT = len(x_dataT)\n",
    "# extract test\n",
    "x_dataTn = x_datan[-lenT:,[0,1,2,3,4]]\n",
    "# remove test\n",
    "x_datan = x_datan[:-lenT]"
   ]
  },
  {
   "cell_type": "code",
   "execution_count": null,
   "metadata": {
    "colab": {
     "base_uri": "https://localhost:8080/"
    },
    "executionInfo": {
     "elapsed": 8,
     "status": "ok",
     "timestamp": 1661420525944,
     "user": {
      "displayName": "Thomas Bielinger",
      "userId": "06702926197276526237"
     },
     "user_tz": -120
    },
    "id": "ws_-LECGDNWl",
    "outputId": "57872a61-4cce-4137-c411-4172710ce9a4"
   },
   "outputs": [],
   "source": [
    "# check shape\n",
    "print(\"x shape is \", x_datan.shape)\n",
    "print(\"y shape is \", y_datan.shape)"
   ]
  },
  {
   "cell_type": "markdown",
   "metadata": {
    "id": "RGNdmgOKAg_D"
   },
   "source": [
    "### show"
   ]
  },
  {
   "cell_type": "code",
   "execution_count": null,
   "metadata": {
    "colab": {
     "base_uri": "https://localhost:8080/",
     "height": 282
    },
    "executionInfo": {
     "elapsed": 1026,
     "status": "ok",
     "timestamp": 1661420526965,
     "user": {
      "displayName": "Thomas Bielinger",
      "userId": "06702926197276526237"
     },
     "user_tz": -120
    },
    "id": "zYrNbXAsAf9N",
    "outputId": "2c7a86b0-1040-4bad-9739-94afbc84ac52"
   },
   "outputs": [],
   "source": [
    "# plot\n",
    "plt.scatter(x_datan[:,[4]], y_datan[:,[0]], s=50)\n",
    "plt.scatter(x_datan[:,[4]], y_datan[:,[1]], s=50)\n",
    "plt.grid()\n",
    "#plt.show()\n",
    "plt.savefig('dataset.png',dpi=300)\n",
    "#files.download('dataset.png') "
   ]
  },
  {
   "cell_type": "markdown",
   "metadata": {
    "id": "5f_ikNz8x1Lz"
   },
   "source": [
    "### model"
   ]
  },
  {
   "cell_type": "code",
   "execution_count": null,
   "metadata": {
    "executionInfo": {
     "elapsed": 377,
     "status": "ok",
     "timestamp": 1661420528402,
     "user": {
      "displayName": "Thomas Bielinger",
      "userId": "06702926197276526237"
     },
     "user_tz": -120
    },
    "id": "sMvpBFj5x1L0",
    "scrolled": true
   },
   "outputs": [],
   "source": [
    "# 2^n,relu,adam,mse\n",
    "\n",
    "# input layer\n",
    "n_features = x_datan.shape[1]\n",
    "inputs  = keras.Input(shape=(n_features,))"
   ]
  },
  {
   "cell_type": "code",
   "execution_count": null,
   "metadata": {},
   "outputs": [],
   "source": [
    "\n",
    "# center layer\n",
    "dense   = keras.layers.Dense(256, activation=\"relu\")\n",
    "x       = dense(inputs)\n",
    "x       = keras.layers.Dense(128, activation=\"relu\")(x)\n",
    "x       = keras.layers.Dense(64, activation=\"relu\")(x)\n",
    "x       = keras.layers.Dense(32, activation=\"relu\")(x)\n",
    "x       = keras.layers.Dense(16, activation=\"relu\")(x)"
   ]
  },
  {
   "cell_type": "code",
   "execution_count": null,
   "metadata": {},
   "outputs": [],
   "source": [
    "\n",
    "# output layer\n",
    "n_qualities = y_datan.shape[1]\n",
    "outputs = keras.layers.Dense(n_qualities)(x)"
   ]
  },
  {
   "cell_type": "code",
   "execution_count": null,
   "metadata": {},
   "outputs": [],
   "source": [
    "\n",
    "# model\n",
    "model = keras.Model(inputs=inputs, outputs=outputs)"
   ]
  },
  {
   "cell_type": "code",
   "execution_count": null,
   "metadata": {},
   "outputs": [],
   "source": [
    "# compile\n",
    "model.compile(optimizer='adam', loss='mse')\n",
    "#model.summary()"
   ]
  },
  {
   "cell_type": "markdown",
   "metadata": {
    "id": "Sxr1qxVex1L4"
   },
   "source": [
    "### train"
   ]
  },
  {
   "cell_type": "code",
   "execution_count": null,
   "metadata": {
    "colab": {
     "base_uri": "https://localhost:8080/"
    },
    "executionInfo": {
     "elapsed": 22798,
     "status": "ok",
     "timestamp": 1661420551198,
     "user": {
      "displayName": "Thomas Bielinger",
      "userId": "06702926197276526237"
     },
     "user_tz": -120
    },
    "id": "M3XBJMj4x1L5",
    "outputId": "3259a3a0-d16d-4b80-b8a8-f1cac3990f29"
   },
   "outputs": [],
   "source": [
    "# 3000,64\n",
    "model.fit(x_datan, y_datan, batch_size=64, epochs=3000, verbose=0)"
   ]
  },
  {
   "cell_type": "markdown",
   "metadata": {
    "id": "gLEzVkjex1L9"
   },
   "source": [
    "### predict"
   ]
  },
  {
   "cell_type": "code",
   "execution_count": null,
   "metadata": {
    "executionInfo": {
     "elapsed": 375,
     "status": "ok",
     "timestamp": 1661420551545,
     "user": {
      "displayName": "Thomas Bielinger",
      "userId": "06702926197276526237"
     },
     "user_tz": -120
    },
    "id": "IcKpdLe9x1L-"
   },
   "outputs": [],
   "source": [
    "# predict test\n",
    "y_predictedTn = model.predict(x_dataTn)"
   ]
  },
  {
   "cell_type": "markdown",
   "metadata": {},
   "source": [
    "### eval\n"
   ]
  },
  {
   "cell_type": "code",
   "execution_count": null,
   "metadata": {
    "colab": {
     "base_uri": "https://localhost:8080/",
     "height": 265
    },
    "executionInfo": {
     "elapsed": 816,
     "status": "ok",
     "timestamp": 1661420552356,
     "user": {
      "displayName": "Thomas Bielinger",
      "userId": "06702926197276526237"
     },
     "user_tz": -120
    },
    "id": "G3W8sSI0DNWn",
    "outputId": "007a033a-dc10-498b-d61e-cc246f1b32b3",
    "scrolled": true
   },
   "outputs": [],
   "source": [
    "# plot flow\n",
    "plt.scatter(x_datan[:,[4]], y_datan[:,[0]], s=5)\n",
    "\n",
    "# test flow\n",
    "plt.scatter(x_dataTn[:,[4]], y_predictedTn[:,[0]], s=50)\n",
    "plt.plot   (x_dataTn[:,[4]], y_predictedTn[:,[0]], 'y', linewidth=2)\n",
    "\n",
    "plt.grid()\n",
    "#plt.show()\n",
    "plt.savefig('flow.png', dpi=300)"
   ]
  },
  {
   "cell_type": "code",
   "execution_count": null,
   "metadata": {},
   "outputs": [],
   "source": [
    "# plot efficiency\n",
    "plt.scatter(x_datan[:,[4]], y_datan[:,[1]], s=5)\n",
    "\n",
    "# test flow\n",
    "plt.scatter(x_dataTn[:,[4]], y_predictedTn[:,[1]], s=50)\n",
    "plt.plot   (x_dataTn[:,[4]], y_predictedTn[:,[1]], 'y', linewidth=2)\n",
    "\n",
    "plt.grid()\n",
    "#plt.show()\n",
    "plt.savefig('efficiency.png', dpi=300)"
   ]
  },
  {
   "cell_type": "markdown",
   "metadata": {
    "id": "OEEhzK4YHOdC"
   },
   "source": [
    "### video\n"
   ]
  },
  {
   "cell_type": "code",
   "execution_count": null,
   "metadata": {
    "executionInfo": {
     "elapsed": 7,
     "status": "ok",
     "timestamp": 1661420552357,
     "user": {
      "displayName": "Thomas Bielinger",
      "userId": "06702926197276526237"
     },
     "user_tz": -120
    },
    "id": "13RiCs72HMH6"
   },
   "outputs": [],
   "source": [
    "#for x in range(100):\n",
    "#  # One epoch\n",
    "#  model.fit( x_data, y_data, epochs=1, verbose=1)\n",
    "#\n",
    "#  # Compute the output \n",
    "#  y_predicted = model.predict(x_data)\n",
    "#\n",
    "#  # Display the result\n",
    "#  plt.scatter(x_data[::1], y_data[::1], s=2)\n",
    "#  plt.plot(x_data, y_predicted, 'r', linewidth=4)\n",
    "#  plt.grid()\n",
    "#  plt.ylim(top=1.2)  # adjust the top leaving bottom unchanged\n",
    "#  plt.ylim(bottom=-1.2)  \n",
    "#  #plt.show()\n",
    "#  plt.savefig('training-' + str(x) +'-epochs.png',dpi=300)\n",
    "#  #files.download('training-' + str(x) +'-epochs.png') \n",
    "#  plt.clf()\n",
    "\n"
   ]
  },
  {
   "cell_type": "code",
   "execution_count": null,
   "metadata": {
    "collapsed": true,
    "executionInfo": {
     "elapsed": 8,
     "status": "ok",
     "timestamp": 1661420552358,
     "user": {
      "displayName": "Thomas Bielinger",
      "userId": "06702926197276526237"
     },
     "user_tz": -120
    },
    "id": "9aoB8cZnDNWo",
    "jupyter": {
     "outputs_hidden": true
    }
   },
   "outputs": [],
   "source": []
  }
 ],
 "metadata": {
  "colab": {
   "collapsed_sections": [],
   "name": "map-05.ipynb",
   "provenance": []
  },
  "file_extension": ".py",
  "kernelspec": {
   "display_name": "Python 3.10.6 64-bit",
   "language": "python",
   "name": "python3"
  },
  "language_info": {
   "codemirror_mode": {
    "name": "ipython",
    "version": 3
   },
   "file_extension": ".py",
   "mimetype": "text/x-python",
   "name": "python",
   "nbconvert_exporter": "python",
   "pygments_lexer": "ipython3",
   "version": "3.10.6"
  },
  "mimetype": "text/x-python",
  "name": "python",
  "npconvert_exporter": "python",
  "pygments_lexer": "ipython3",
  "toc-autonumbering": false,
  "toc-showcode": true,
  "toc-showmarkdowntxt": false,
  "toc-showtags": false,
  "version": 3,
  "vscode": {
   "interpreter": {
    "hash": "e7370f93d1d0cde622a1f8e1c04877d8463912d04d973331ad4851f04de6915a"
   }
  }
 },
 "nbformat": 4,
 "nbformat_minor": 4
}
