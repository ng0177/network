{
 "cells": [
  {
   "cell_type": "markdown",
   "metadata": {
    "id": "qASyOjUDx1Lq"
   },
   "source": [
    "### prepare"
   ]
  },
  {
   "cell_type": "code",
   "execution_count": 1,
   "metadata": {
    "executionInfo": {
     "elapsed": 4537,
     "status": "ok",
     "timestamp": 1661420525587,
     "user": {
      "displayName": "Thomas Bielinger",
      "userId": "06702926197276526237"
     },
     "user_tz": -120
    },
    "id": "Rz1Q7i9xx1Lt"
   },
   "outputs": [
    {
     "name": "stderr",
     "output_type": "stream",
     "text": [
      "2022-09-06 13:42:40.608758: I tensorflow/core/util/util.cc:169] oneDNN custom operations are on. You may see slightly different numerical results due to floating-point round-off errors from different computation orders. To turn them off, set the environment variable `TF_ENABLE_ONEDNN_OPTS=0`.\n"
     ]
    }
   ],
   "source": [
    "# import python\n",
    "import numpy as np\n",
    "from sys import maxsize\n",
    "np.set_printoptions(threshold=maxsize)\n",
    "import matplotlib.pyplot as plt\n",
    "#import math\n",
    "#from google.colab import files\n",
    "\n",
    "# import tensorflow\n",
    "from tensorflow import keras\n",
    "from tensorflow.keras import layers\n",
    "# pip3 install -U scikit-learn\n",
    "# sudo pacman -S python-scikit-learn\n",
    "from sklearn.preprocessing import MinMaxScaler"
   ]
  },
  {
   "cell_type": "code",
   "execution_count": 2,
   "metadata": {},
   "outputs": [],
   "source": [
    "from IPython.core.interactiveshell import InteractiveShell\n",
    "InteractiveShell.ast_node_interactivity = \"all\""
   ]
  },
  {
   "cell_type": "code",
   "execution_count": 3,
   "metadata": {},
   "outputs": [
    {
     "data": {
      "text/plain": [
       "'/mnt/815c1698-0606-4299-aed1-5b838adaea93/BLOCK/GITHUB/network'"
      ]
     },
     "execution_count": 3,
     "metadata": {},
     "output_type": "execute_result"
    },
    {
     "name": "stdout",
     "output_type": "stream",
     "text": [
      "/mnt/815c1698-0606-4299-aed1-5b838adaea93/BLOCK/GITHUB/network\n"
     ]
    }
   ],
   "source": [
    "%pwd\n",
    "%cd /mnt/815c1698-0606-4299-aed1-5b838adaea93/BLOCK/GITHUB/network/"
   ]
  },
  {
   "cell_type": "code",
   "execution_count": 4,
   "metadata": {
    "executionInfo": {
     "elapsed": 4537,
     "status": "ok",
     "timestamp": 1661420525587,
     "user": {
      "displayName": "Thomas Bielinger",
      "userId": "06702926197276526237"
     },
     "user_tz": -120
    },
    "id": "Rz1Q7i9xx1Lt"
   },
   "outputs": [],
   "source": [
    "# map: p44\n",
    "ttechp443924 = np.loadtxt(open(\"data_wheel/p44-39-mum-24.csv\", \"rb\"), delimiter=\",\", skiprows=0)\n",
    "ttechp443928 = np.loadtxt(open(\"data_wheel/p44-39-mum-28.csv\", \"rb\"), delimiter=\",\", skiprows=0)\n",
    "ttechp443932 = np.loadtxt(open(\"data_wheel/p44-39-mum-32.csv\", \"rb\"), delimiter=\",\", skiprows=0)\n",
    "#\n",
    "ttechp444724 = np.loadtxt(open(\"data_wheel/p44-47-mum-24.csv\", \"rb\"), delimiter=\",\", skiprows=0)\n",
    "ttechp444728 = np.loadtxt(open(\"data_wheel/p44-47-mum-28.csv\", \"rb\"), delimiter=\",\", skiprows=0)\n",
    "ttechp444732 = np.loadtxt(open(\"data_wheel/p44-47-mum-32.csv\", \"rb\"), delimiter=\",\", skiprows=0)\n",
    "#\n",
    "ttechp445520 = np.loadtxt(open(\"data_wheel/p44-55-mum-20.csv\", \"rb\"), delimiter=\",\", skiprows=0) # bug\n",
    "ttechp445528 = np.loadtxt(open(\"data_wheel/p44-55-mum-28.csv\", \"rb\"), delimiter=\",\", skiprows=0)\n",
    "ttechp445532 = np.loadtxt(open(\"data_wheel/p44-55-mum-32.csv\", \"rb\"), delimiter=\",\", skiprows=0)\n",
    "# map: p100\n",
    "ttechp1003928 = np.loadtxt(open(\"data_wheel/p100-39-mum-28.csv\", \"rb\"), delimiter=\",\", skiprows=0)\n",
    "ttechp1003932 = np.loadtxt(open(\"data_wheel/p100-39-mum-32.csv\", \"rb\"), delimiter=\",\", skiprows=0)\n",
    "ttechp1003936 = np.loadtxt(open(\"data_wheel/p100-39-mum-36.csv\", \"rb\"), delimiter=\",\", skiprows=0)\n",
    "#\n",
    "ttechp1004728 = np.loadtxt(open(\"data_wheel/p100-47-mum-28.csv\", \"rb\"), delimiter=\",\", skiprows=0)\n",
    "ttechp1004732 = np.loadtxt(open(\"data_wheel/p100-47-mum-32.csv\", \"rb\"), delimiter=\",\", skiprows=0)\n",
    "ttechp1004736 = np.loadtxt(open(\"data_wheel/p100-47-mum-36.csv\", \"rb\"), delimiter=\",\", skiprows=0)\n",
    "#\n",
    "ttechp1005528 = np.loadtxt(open(\"data_wheel/p100-55-mum-28.csv\", \"rb\"), delimiter=\",\", skiprows=0)\n",
    "ttechp1005532 = np.loadtxt(open(\"data_wheel/p100-55-mum-32.csv\", \"rb\"), delimiter=\",\", skiprows=0)\n",
    "ttechp1005536 = np.loadtxt(open(\"data_wheel/p100-55-mum-36.csv\", \"rb\"), delimiter=\",\", skiprows=0)\n",
    "# map: p20\n",
    "ttechp203120 = np.loadtxt(open(\"data_wheel/p20-31-mum-20.csv\", \"rb\"), delimiter=\",\", skiprows=0)\n",
    "ttechp203124 = np.loadtxt(open(\"data_wheel/p20-31-mum-24.csv\", \"rb\"), delimiter=\",\", skiprows=0)\n",
    "ttechp203128 = np.loadtxt(open(\"data_wheel/p20-31-mum-28.csv\", \"rb\"), delimiter=\",\", skiprows=0)\n",
    "#\n",
    "ttechp203920 = np.loadtxt(open(\"data_wheel/p20-39-mum-20.csv\", \"rb\"), delimiter=\",\", skiprows=0)\n",
    "ttechp203924 = np.loadtxt(open(\"data_wheel/p20-39-mum-24.csv\", \"rb\"), delimiter=\",\", skiprows=0)\n",
    "ttechp203928 = np.loadtxt(open(\"data_wheel/p20-39-mum-28.csv\", \"rb\"), delimiter=\",\", skiprows=0)\n",
    "#\n",
    "ttechp204720 = np.loadtxt(open(\"data_wheel/p20-47-mum-20.csv\", \"rb\"), delimiter=\",\", skiprows=0)\n",
    "ttechp204724 = np.loadtxt(open(\"data_wheel/p20-47-mum-24.csv\", \"rb\"), delimiter=\",\", skiprows=0)\n",
    "ttechp204728 = np.loadtxt(open(\"data_wheel/p20-47-mum-28.csv\", \"rb\"), delimiter=\",\", skiprows=0)\n"
   ]
  },
  {
   "cell_type": "markdown",
   "metadata": {},
   "source": [
    "#### P44"
   ]
  },
  {
   "cell_type": "code",
   "execution_count": 5,
   "metadata": {
    "executionInfo": {
     "elapsed": 4537,
     "status": "ok",
     "timestamp": 1661420525587,
     "user": {
      "displayName": "Thomas Bielinger",
      "userId": "06702926197276526237"
     },
     "user_tz": -120
    },
    "id": "Rz1Q7i9xx1Lt"
   },
   "outputs": [],
   "source": [
    "# add volute size\n",
    "ttechp443924 = np.insert(ttechp443924, 0, values=24, axis=1)\n",
    "ttechp443928 = np.insert(ttechp443928, 0, values=28, axis=1)\n",
    "ttechp443932 = np.insert(ttechp443932, 0, values=32, axis=1)\n",
    "#\n",
    "ttechp444724 = np.insert(ttechp444724, 0, values=24, axis=1)\n",
    "ttechp444728 = np.insert(ttechp444728, 0, values=28, axis=1)\n",
    "ttechp444732 = np.insert(ttechp444732, 0, values=32, axis=1)\n",
    "#\n",
    "ttechp445520 = np.insert(ttechp445520, 0, values=20, axis=1) # bug\n",
    "ttechp445528 = np.insert(ttechp445528, 0, values=28, axis=1)\n",
    "ttechp445532 = np.insert(ttechp445532, 0, values=32, axis=1)\n",
    "# add wheel size\n",
    "ttechp443924 = np.insert(ttechp443924, 0, values=39, axis=1)\n",
    "ttechp443928 = np.insert(ttechp443928, 0, values=39, axis=1)\n",
    "ttechp443932 = np.insert(ttechp443932, 0, values=39, axis=1)\n",
    "#\n",
    "ttechp444724 = np.insert(ttechp444724, 0, values=47, axis=1)\n",
    "ttechp444728 = np.insert(ttechp444728, 0, values=47, axis=1)\n",
    "ttechp444732 = np.insert(ttechp444732, 0, values=47, axis=1)\n",
    "#\n",
    "ttechp445520 = np.insert(ttechp445520, 0, values=55, axis=1) # bug\n",
    "ttechp445528 = np.insert(ttechp445528, 0, values=55, axis=1)\n",
    "ttechp445532 = np.insert(ttechp445532, 0, values=55, axis=1)\n",
    "# add wheel type number\n",
    "ttechp443924 = np.insert(ttechp443924, 0, values=1, axis=1)\n",
    "ttechp443928 = np.insert(ttechp443928, 0, values=1, axis=1)\n",
    "ttechp443932 = np.insert(ttechp443932, 0, values=1, axis=1)\n",
    "#\n",
    "ttechp444724 = np.insert(ttechp444724, 0, values=1, axis=1)\n",
    "ttechp444728 = np.insert(ttechp444728, 0, values=1, axis=1)\n",
    "ttechp444732 = np.insert(ttechp444732, 0, values=1, axis=1)\n",
    "#\n",
    "ttechp445520 = np.insert(ttechp445520, 0, values=1, axis=1) # bug\n",
    "ttechp445528 = np.insert(ttechp445528, 0, values=1, axis=1)\n",
    "ttechp445532 = np.insert(ttechp445532, 0, values=1, axis=1)"
   ]
  },
  {
   "cell_type": "markdown",
   "metadata": {},
   "source": [
    "#### P100"
   ]
  },
  {
   "cell_type": "code",
   "execution_count": 6,
   "metadata": {
    "executionInfo": {
     "elapsed": 4537,
     "status": "ok",
     "timestamp": 1661420525587,
     "user": {
      "displayName": "Thomas Bielinger",
      "userId": "06702926197276526237"
     },
     "user_tz": -120
    },
    "id": "Rz1Q7i9xx1Lt"
   },
   "outputs": [],
   "source": [
    "# add volute size\n",
    "ttechp1003928 = np.insert(ttechp1003928, 0, values=28, axis=1)\n",
    "ttechp1003932 = np.insert(ttechp1003932, 0, values=32, axis=1)\n",
    "ttechp1003936 = np.insert(ttechp1003936, 0, values=36, axis=1)\n",
    "#\n",
    "ttechp1004728 = np.insert(ttechp1004728, 0, values=28, axis=1)\n",
    "ttechp1004732 = np.insert(ttechp1004732, 0, values=32, axis=1)\n",
    "ttechp1004736 = np.insert(ttechp1004736, 0, values=36, axis=1)\n",
    "#\n",
    "ttechp1005528 = np.insert(ttechp1005528, 0, values=28, axis=1)\n",
    "ttechp1005532 = np.insert(ttechp1005532, 0, values=32, axis=1)\n",
    "ttechp1005536 = np.insert(ttechp1005536, 0, values=36, axis=1)\n",
    "# add wheel size\n",
    "ttechp1003928 = np.insert(ttechp1003928, 0, values=39, axis=1)\n",
    "ttechp1003932 = np.insert(ttechp1003932, 0, values=39, axis=1)\n",
    "ttechp1003936 = np.insert(ttechp1003936, 0, values=39, axis=1)\n",
    "#\n",
    "ttechp1004728 = np.insert(ttechp1004728, 0, values=47, axis=1)\n",
    "ttechp1004732 = np.insert(ttechp1004732, 0, values=47, axis=1)\n",
    "ttechp1004736 = np.insert(ttechp1004736, 0, values=47, axis=1)\n",
    "#\n",
    "ttechp1005528 = np.insert(ttechp1005528, 0, values=55, axis=1)\n",
    "ttechp1005532 = np.insert(ttechp1005532, 0, values=55, axis=1)\n",
    "ttechp1005536 = np.insert(ttechp1005536, 0, values=55, axis=1)\n",
    "# add wheel type number\n",
    "ttechp1003928 = np.insert(ttechp1003928, 0, values=2, axis=1)\n",
    "ttechp1003932 = np.insert(ttechp1003932, 0, values=2, axis=1)\n",
    "ttechp1003936 = np.insert(ttechp1003936, 0, values=2, axis=1)\n",
    "#\n",
    "ttechp1004728 = np.insert(ttechp1004728, 0, values=2, axis=1)\n",
    "ttechp1004732 = np.insert(ttechp1004732, 0, values=2, axis=1)\n",
    "ttechp1004736 = np.insert(ttechp1004736, 0, values=2, axis=1)\n",
    "#\n",
    "ttechp1005528 = np.insert(ttechp1005528, 0, values=2, axis=1)\n",
    "ttechp1005532 = np.insert(ttechp1005532, 0, values=2, axis=1)\n",
    "ttechp1005536 = np.insert(ttechp1005536, 0, values=2, axis=1)"
   ]
  },
  {
   "cell_type": "markdown",
   "metadata": {},
   "source": [
    "#### P20"
   ]
  },
  {
   "cell_type": "code",
   "execution_count": 7,
   "metadata": {
    "executionInfo": {
     "elapsed": 4537,
     "status": "ok",
     "timestamp": 1661420525587,
     "user": {
      "displayName": "Thomas Bielinger",
      "userId": "06702926197276526237"
     },
     "user_tz": -120
    },
    "id": "Rz1Q7i9xx1Lt"
   },
   "outputs": [],
   "source": [
    "# add volute size\n",
    "ttechp203120 = np.insert(ttechp203120, 0, values=20, axis=1)\n",
    "ttechp203124 = np.insert(ttechp203124, 0, values=24, axis=1)\n",
    "ttechp203128 = np.insert(ttechp203128, 0, values=28, axis=1)\n",
    "#\n",
    "ttechp203920 = np.insert(ttechp203920, 0, values=20, axis=1)\n",
    "ttechp203924 = np.insert(ttechp203924, 0, values=24, axis=1)\n",
    "ttechp203928 = np.insert(ttechp203928, 0, values=28, axis=1)\n",
    "#\n",
    "ttechp204720 = np.insert(ttechp204720, 0, values=20, axis=1)\n",
    "ttechp204724 = np.insert(ttechp204724, 0, values=24, axis=1)\n",
    "ttechp204728 = np.insert(ttechp204728, 0, values=28, axis=1)\n",
    "# add wheel size\n",
    "ttechp203120 = np.insert(ttechp203120, 0, values=55, axis=1)\n",
    "ttechp203124 = np.insert(ttechp203124, 0, values=55, axis=1)\n",
    "ttechp203128 = np.insert(ttechp203128, 0, values=55, axis=1)\n",
    "#\n",
    "ttechp203920 = np.insert(ttechp203920, 0, values=39, axis=1)\n",
    "ttechp203924 = np.insert(ttechp203924, 0, values=39, axis=1)\n",
    "ttechp203928 = np.insert(ttechp203928, 0, values=39, axis=1)\n",
    "#\n",
    "ttechp204720 = np.insert(ttechp204720, 0, values=47, axis=1)\n",
    "ttechp204724 = np.insert(ttechp204724, 0, values=47, axis=1)\n",
    "ttechp204728 = np.insert(ttechp204728, 0, values=47, axis=1)\n",
    "# add wheel type number\n",
    "ttechp203120 = np.insert(ttechp203120, 0, values=3, axis=1)\n",
    "ttechp203124 = np.insert(ttechp203124, 0, values=3, axis=1)\n",
    "ttechp203128 = np.insert(ttechp203128, 0, values=3, axis=1)\n",
    "#\n",
    "ttechp203920 = np.insert(ttechp203920, 0, values=3, axis=1)\n",
    "ttechp203924 = np.insert(ttechp203924, 0, values=3, axis=1)\n",
    "ttechp203928 = np.insert(ttechp203928, 0, values=3, axis=1)\n",
    "#\n",
    "ttechp204720 = np.insert(ttechp204720, 0, values=3, axis=1)\n",
    "ttechp204724 = np.insert(ttechp204724, 0, values=3, axis=1)\n",
    "ttechp204728 = np.insert(ttechp204728, 0, values=3, axis=1)"
   ]
  },
  {
   "cell_type": "markdown",
   "metadata": {},
   "source": [
    "### assemble"
   ]
  },
  {
   "cell_type": "code",
   "execution_count": 8,
   "metadata": {
    "executionInfo": {
     "elapsed": 4537,
     "status": "ok",
     "timestamp": 1661420525587,
     "user": {
      "displayName": "Thomas Bielinger",
      "userId": "06702926197276526237"
     },
     "user_tz": -120
    },
    "id": "Rz1Q7i9xx1Lt"
   },
   "outputs": [],
   "source": [
    "# assemble p44\n",
    "ttechall = ttechp443924\n",
    "ttechall = np.append(ttechall,ttechp443928,axis=0);\n",
    "ttechall = np.append(ttechall,ttechp443932,axis=0);\n",
    "ttechall = np.append(ttechall,ttechp444724,axis=0);\n",
    "ttechall = np.append(ttechall,ttechp444728,axis=0);\n",
    "ttechall = np.append(ttechall,ttechp444732,axis=0);\n",
    "ttechall = np.append(ttechall,ttechp445520,axis=0); # bug\n",
    "ttechall = np.append(ttechall,ttechp445528,axis=0);\n",
    "ttechall = np.append(ttechall,ttechp445532,axis=0);\n",
    "# assemble p100\n",
    "ttechall = np.append(ttechall,ttechp1003928,axis=0);\n",
    "ttechall = np.append(ttechall,ttechp1003932,axis=0);\n",
    "ttechall = np.append(ttechall,ttechp1003936,axis=0);\n",
    "ttechall = np.append(ttechall,ttechp1004728,axis=0);\n",
    "ttechall = np.append(ttechall,ttechp1004732,axis=0);\n",
    "ttechall = np.append(ttechall,ttechp1004736,axis=0);\n",
    "ttechall = np.append(ttechall,ttechp1005528,axis=0);\n",
    "ttechall = np.append(ttechall,ttechp1005532,axis=0);\n",
    "ttechall = np.append(ttechall,ttechp1005536,axis=0);\n",
    "# assemble p20\n",
    "ttechall = np.append(ttechall,ttechp203120,axis=0);\n",
    "ttechall = np.append(ttechall,ttechp203124,axis=0);\n",
    "ttechall = np.append(ttechall,ttechp203128,axis=0);\n",
    "ttechall = np.append(ttechall,ttechp203920,axis=0);\n",
    "ttechall = np.append(ttechall,ttechp203924,axis=0);\n",
    "ttechall = np.append(ttechall,ttechp203928,axis=0);\n",
    "ttechall = np.append(ttechall,ttechp204720,axis=0);\n",
    "ttechall = np.append(ttechall,ttechp204724,axis=0);\n",
    "ttechall = np.append(ttechall,ttechp204728,axis=0);\n"
   ]
  },
  {
   "cell_type": "code",
   "execution_count": 9,
   "metadata": {
    "executionInfo": {
     "elapsed": 4537,
     "status": "ok",
     "timestamp": 1661420525587,
     "user": {
      "displayName": "Thomas Bielinger",
      "userId": "06702926197276526237"
     },
     "user_tz": -120
    },
    "id": "Rz1Q7i9xx1Lt"
   },
   "outputs": [],
   "source": [
    "# split x, y\n",
    "x_data = ttechall[0:len(ttechall),[0,1,2,3]]\n",
    "y_data = ttechall[0:len(ttechall),[4,5]]"
   ]
  },
  {
   "cell_type": "code",
   "execution_count": 10,
   "metadata": {},
   "outputs": [
    {
     "name": "stdout",
     "output_type": "stream",
     "text": [
      "x shape is  (4026, 4)\n",
      "y shape is  (4026, 2)\n"
     ]
    }
   ],
   "source": [
    "# shape\n",
    "print(\"x shape is \", x_data.shape)\n",
    "print(\"y shape is \", y_data.shape)"
   ]
  },
  {
   "cell_type": "markdown",
   "metadata": {
    "id": "RGNdmgOKAg_D"
   },
   "source": [
    "### test"
   ]
  },
  {
   "cell_type": "code",
   "execution_count": 11,
   "metadata": {
    "executionInfo": {
     "elapsed": 4537,
     "status": "ok",
     "timestamp": 1661420525587,
     "user": {
      "displayName": "Thomas Bielinger",
      "userId": "06702926197276526237"
     },
     "user_tz": -120
    },
    "id": "Rz1Q7i9xx1Lt"
   },
   "outputs": [
    {
     "data": {
      "text/plain": [
       "array([[ 50.        ,  30.        , 400.        ,   1.5       ],\n",
       "       [ 50.        ,  30.        , 400.        ,   1.66096929],\n",
       "       [ 50.        ,  30.        , 400.        ,   1.83014111],\n",
       "       [ 50.        ,  30.        , 400.        ,   2.00751546],\n",
       "       [ 50.        ,  30.        , 400.        ,   2.19309233],\n",
       "       [ 50.        ,  30.        , 400.        ,   2.38687173],\n",
       "       [ 50.        ,  30.        , 400.        ,   2.58885365],\n",
       "       [ 50.        ,  30.        , 400.        ,   2.79903811],\n",
       "       [ 50.        ,  30.        , 400.        ,   3.01742508],\n",
       "       [ 50.        ,  30.        , 400.        ,   3.24401459],\n",
       "       [ 50.        ,  30.        , 400.        ,   3.47880662],\n",
       "       [ 50.        ,  30.        , 400.        ,   3.72180117],\n",
       "       [ 50.        ,  30.        , 400.        ,   3.97299826],\n",
       "       [ 50.        ,  30.        , 400.        ,   4.23239786],\n",
       "       [ 50.        ,  30.        , 400.        ,   4.5       ]])"
      ]
     },
     "execution_count": 11,
     "metadata": {},
     "output_type": "execute_result"
    }
   ],
   "source": [
    "# test\n",
    "#x_dataT_24 = np.array([ [24,310,1.44389],[24,310,1.48225],[24,310,1.52611],[24,310,1.57655],[24,310,1.63571],\n",
    "#                        [24,310,1.70551],[24,310,1.78899],[24,310,1.88981],[24,310,2.01351],[24,310,2.16737],\n",
    "#                        [24,310,2.36391],[24,310,2.62075],[24,310,2.96815],[24,310,3.45468],[24,310,4.16895]])\n",
    "############################################\n",
    "N = 15\n",
    "a = np.tile(np.array([50,30,400]),(N,1)); #a\n",
    "\n",
    "x = [0,0,0,0]\n",
    "y = np.linspace(np.sqrt(1.5),np.sqrt(4.5), N)**2\n",
    "X,Yb = np.meshgrid(x,y); #Yb\n",
    "\n",
    "Yb[:,:-1] = a; Yb\n",
    "x_dataT = Yb\n",
    "############################################\n",
    "\n",
    "x_data = np.append(x_data,x_dataT,axis=0)"
   ]
  },
  {
   "cell_type": "markdown",
   "metadata": {
    "id": "RGNdmgOKAg_D"
   },
   "source": [
    "### normalize"
   ]
  },
  {
   "cell_type": "code",
   "execution_count": 12,
   "metadata": {
    "colab": {
     "base_uri": "https://localhost:8080/"
    },
    "executionInfo": {
     "elapsed": 26,
     "status": "ok",
     "timestamp": 1661420525593,
     "user": {
      "displayName": "Thomas Bielinger",
      "userId": "06702926197276526237"
     },
     "user_tz": -120
    },
    "id": "WVKBnQcsDNWk",
    "outputId": "8c3e95f4-f305-4305-9aa3-e8b76e92f806"
   },
   "outputs": [
    {
     "name": "stdout",
     "output_type": "stream",
     "text": [
      "x shape is  (4041, 4)\n",
      "y shape is  (4026, 2)\n"
     ]
    }
   ],
   "source": [
    "# normalize\n",
    "x_datan = MinMaxScaler().fit_transform(x_data)\n",
    "y_datan = MinMaxScaler().fit_transform(y_data)\n",
    "\n",
    "# shape\n",
    "print(\"x shape is \", x_data.shape)\n",
    "print(\"y shape is \", y_data.shape)"
   ]
  },
  {
   "cell_type": "code",
   "execution_count": 13,
   "metadata": {
    "executionInfo": {
     "elapsed": 17,
     "status": "ok",
     "timestamp": 1661420525595,
     "user": {
      "displayName": "Thomas Bielinger",
      "userId": "06702926197276526237"
     },
     "user_tz": -120
    },
    "id": "nnU-lPqDDNWl"
   },
   "outputs": [],
   "source": [
    "# test length\n",
    "lenT = len(x_dataT)\n",
    "# extract test\n",
    "x_dataTn = x_datan[-lenT:,[0,1,2,3]]\n",
    "# remove test\n",
    "x_datan = x_datan[:-lenT]"
   ]
  },
  {
   "cell_type": "code",
   "execution_count": 14,
   "metadata": {
    "colab": {
     "base_uri": "https://localhost:8080/"
    },
    "executionInfo": {
     "elapsed": 8,
     "status": "ok",
     "timestamp": 1661420525944,
     "user": {
      "displayName": "Thomas Bielinger",
      "userId": "06702926197276526237"
     },
     "user_tz": -120
    },
    "id": "ws_-LECGDNWl",
    "outputId": "57872a61-4cce-4137-c411-4172710ce9a4"
   },
   "outputs": [
    {
     "name": "stdout",
     "output_type": "stream",
     "text": [
      "x shape is  (4026, 4)\n",
      "y shape is  (4026, 2)\n"
     ]
    }
   ],
   "source": [
    "# check shape\n",
    "print(\"x shape is \", x_datan.shape)\n",
    "print(\"y shape is \", y_datan.shape)"
   ]
  },
  {
   "cell_type": "markdown",
   "metadata": {
    "id": "RGNdmgOKAg_D"
   },
   "source": [
    "### show"
   ]
  },
  {
   "cell_type": "code",
   "execution_count": 15,
   "metadata": {
    "colab": {
     "base_uri": "https://localhost:8080/",
     "height": 282
    },
    "executionInfo": {
     "elapsed": 1026,
     "status": "ok",
     "timestamp": 1661420526965,
     "user": {
      "displayName": "Thomas Bielinger",
      "userId": "06702926197276526237"
     },
     "user_tz": -120
    },
    "id": "zYrNbXAsAf9N",
    "outputId": "2c7a86b0-1040-4bad-9739-94afbc84ac52"
   },
   "outputs": [
    {
     "data": {
      "text/plain": [
       "<matplotlib.collections.PathCollection at 0x7f417dcede10>"
      ]
     },
     "execution_count": 15,
     "metadata": {},
     "output_type": "execute_result"
    },
    {
     "data": {
      "text/plain": [
       "<matplotlib.collections.PathCollection at 0x7f4207589c00>"
      ]
     },
     "execution_count": 15,
     "metadata": {},
     "output_type": "execute_result"
    },
    {
     "data": {
      "image/png": "[encoded data removed]",
      "text/plain": [
       "<Figure size 432x288 with 1 Axes>"
      ]
     },
     "metadata": {
      "needs_background": "light"
     },
     "output_type": "display_data"
    }
   ],
   "source": [
    "# plot\n",
    "plt.scatter(x_datan[:,[3]], y_datan[:,[0]], s=50)\n",
    "plt.scatter(x_datan[:,[3]], y_datan[:,[1]], s=50)\n",
    "plt.grid()\n",
    "#plt.show()\n",
    "plt.savefig('dataset.png',dpi=300)\n",
    "#files.download('dataset.png') "
   ]
  },
  {
   "cell_type": "markdown",
   "metadata": {
    "id": "5f_ikNz8x1Lz"
   },
   "source": [
    "### model"
   ]
  },
  {
   "cell_type": "code",
   "execution_count": 16,
   "metadata": {
    "executionInfo": {
     "elapsed": 377,
     "status": "ok",
     "timestamp": 1661420528402,
     "user": {
      "displayName": "Thomas Bielinger",
      "userId": "06702926197276526237"
     },
     "user_tz": -120
    },
    "id": "sMvpBFj5x1L0",
    "scrolled": true
   },
   "outputs": [],
   "source": [
    "# 2^n,relu,adam,mse\n",
    "\n",
    "# input layer\n",
    "n_features = x_datan.shape[1]\n",
    "inputs  = keras.Input(shape=(n_features,))"
   ]
  },
  {
   "cell_type": "code",
   "execution_count": 17,
   "metadata": {},
   "outputs": [
    {
     "name": "stderr",
     "output_type": "stream",
     "text": [
      "2022-09-06 13:42:42.466986: I tensorflow/stream_executor/cuda/cuda_gpu_executor.cc:975] successful NUMA node read from SysFS had negative value (-1), but there must be at least one NUMA node, so returning NUMA node zero\n",
      "2022-09-06 13:42:42.495070: I tensorflow/stream_executor/cuda/cuda_gpu_executor.cc:975] successful NUMA node read from SysFS had negative value (-1), but there must be at least one NUMA node, so returning NUMA node zero\n",
      "2022-09-06 13:42:42.495187: I tensorflow/stream_executor/cuda/cuda_gpu_executor.cc:975] successful NUMA node read from SysFS had negative value (-1), but there must be at least one NUMA node, so returning NUMA node zero\n",
      "2022-09-06 13:42:42.495608: I tensorflow/core/platform/cpu_feature_guard.cc:193] This TensorFlow binary is optimized with oneAPI Deep Neural Network Library (oneDNN) to use the following CPU instructions in performance-critical operations:  AVX2 AVX512F AVX512_VNNI FMA\n",
      "To enable them in other operations, rebuild TensorFlow with the appropriate compiler flags.\n",
      "2022-09-06 13:42:42.496004: I tensorflow/stream_executor/cuda/cuda_gpu_executor.cc:975] successful NUMA node read from SysFS had negative value (-1), but there must be at least one NUMA node, so returning NUMA node zero\n",
      "2022-09-06 13:42:42.496114: I tensorflow/stream_executor/cuda/cuda_gpu_executor.cc:975] successful NUMA node read from SysFS had negative value (-1), but there must be at least one NUMA node, so returning NUMA node zero\n",
      "2022-09-06 13:42:42.496188: I tensorflow/stream_executor/cuda/cuda_gpu_executor.cc:975] successful NUMA node read from SysFS had negative value (-1), but there must be at least one NUMA node, so returning NUMA node zero\n",
      "2022-09-06 13:42:42.762105: I tensorflow/stream_executor/cuda/cuda_gpu_executor.cc:975] successful NUMA node read from SysFS had negative value (-1), but there must be at least one NUMA node, so returning NUMA node zero\n",
      "2022-09-06 13:42:42.762251: I tensorflow/stream_executor/cuda/cuda_gpu_executor.cc:975] successful NUMA node read from SysFS had negative value (-1), but there must be at least one NUMA node, so returning NUMA node zero\n",
      "2022-09-06 13:42:42.762336: I tensorflow/stream_executor/cuda/cuda_gpu_executor.cc:975] successful NUMA node read from SysFS had negative value (-1), but there must be at least one NUMA node, so returning NUMA node zero\n",
      "2022-09-06 13:42:42.762414: I tensorflow/core/common_runtime/gpu/gpu_device.cc:1532] Created device /job:localhost/replica:0/task:0/device:GPU:0 with 27 MB memory:  -> device: 0, name: NVIDIA GeForce GTX 1060 6GB, pci bus id: 0000:01:00.0, compute capability: 6.1\n"
     ]
    }
   ],
   "source": [
    "\n",
    "# center layer\n",
    "dense   = keras.layers.Dense(256, activation=\"relu\")\n",
    "x       = dense(inputs)\n",
    "x       = keras.layers.Dense(128, activation=\"relu\")(x)\n",
    "x       = keras.layers.Dense(64, activation=\"relu\")(x)\n",
    "x       = keras.layers.Dense(32, activation=\"relu\")(x)\n",
    "x       = keras.layers.Dense(16, activation=\"relu\")(x)"
   ]
  },
  {
   "cell_type": "code",
   "execution_count": 18,
   "metadata": {},
   "outputs": [],
   "source": [
    "\n",
    "# output layer\n",
    "n_qualities = y_datan.shape[1]\n",
    "outputs = keras.layers.Dense(n_qualities)(x)"
   ]
  },
  {
   "cell_type": "code",
   "execution_count": 19,
   "metadata": {},
   "outputs": [],
   "source": [
    "\n",
    "# model\n",
    "model = keras.Model(inputs=inputs, outputs=outputs)"
   ]
  },
  {
   "cell_type": "code",
   "execution_count": 20,
   "metadata": {},
   "outputs": [],
   "source": [
    "# compile\n",
    "model.compile(optimizer='adam', loss='mse')\n",
    "#model.summary()"
   ]
  },
  {
   "cell_type": "markdown",
   "metadata": {
    "id": "Sxr1qxVex1L4"
   },
   "source": [
    "### train"
   ]
  },
  {
   "cell_type": "code",
   "execution_count": 21,
   "metadata": {
    "colab": {
     "base_uri": "https://localhost:8080/"
    },
    "executionInfo": {
     "elapsed": 22798,
     "status": "ok",
     "timestamp": 1661420551198,
     "user": {
      "displayName": "Thomas Bielinger",
      "userId": "06702926197276526237"
     },
     "user_tz": -120
    },
    "id": "M3XBJMj4x1L5",
    "outputId": "3259a3a0-d16d-4b80-b8a8-f1cac3990f29"
   },
   "outputs": [
    {
     "data": {
      "text/plain": [
       "<keras.callbacks.History at 0x7f41745297e0>"
      ]
     },
     "execution_count": 21,
     "metadata": {},
     "output_type": "execute_result"
    }
   ],
   "source": [
    "# 3000,64\n",
    "model.fit(x_datan, y_datan, batch_size=64, epochs=3000, verbose=0)"
   ]
  },
  {
   "cell_type": "markdown",
   "metadata": {
    "id": "gLEzVkjex1L9"
   },
   "source": [
    "### predict"
   ]
  },
  {
   "cell_type": "code",
   "execution_count": 22,
   "metadata": {
    "executionInfo": {
     "elapsed": 375,
     "status": "ok",
     "timestamp": 1661420551545,
     "user": {
      "displayName": "Thomas Bielinger",
      "userId": "06702926197276526237"
     },
     "user_tz": -120
    },
    "id": "IcKpdLe9x1L-"
   },
   "outputs": [
    {
     "name": "stdout",
     "output_type": "stream",
     "text": [
      "1/1 [==============================] - 0s 51ms/step\n"
     ]
    }
   ],
   "source": [
    "# predict test\n",
    "y_predictedTn = model.predict(x_dataTn)"
   ]
  },
  {
   "cell_type": "markdown",
   "metadata": {},
   "source": [
    "### eval\n"
   ]
  },
  {
   "cell_type": "code",
   "execution_count": 23,
   "metadata": {
    "colab": {
     "base_uri": "https://localhost:8080/",
     "height": 265
    },
    "executionInfo": {
     "elapsed": 816,
     "status": "ok",
     "timestamp": 1661420552356,
     "user": {
      "displayName": "Thomas Bielinger",
      "userId": "06702926197276526237"
     },
     "user_tz": -120
    },
    "id": "G3W8sSI0DNWn",
    "outputId": "007a033a-dc10-498b-d61e-cc246f1b32b3",
    "scrolled": true
   },
   "outputs": [
    {
     "data": {
      "text/plain": [
       "<matplotlib.collections.PathCollection at 0x7f41752e8eb0>"
      ]
     },
     "execution_count": 23,
     "metadata": {},
     "output_type": "execute_result"
    },
    {
     "data": {
      "text/plain": [
       "<matplotlib.collections.PathCollection at 0x7f41743aafe0>"
      ]
     },
     "execution_count": 23,
     "metadata": {},
     "output_type": "execute_result"
    },
    {
     "data": {
      "text/plain": [
       "[<matplotlib.lines.Line2D at 0x7f41743cb070>]"
      ]
     },
     "execution_count": 23,
     "metadata": {},
     "output_type": "execute_result"
    },
    {
     "data": {
      "image/png": "[encoded data removed]",
      "text/plain": [
       "<Figure size 432x288 with 1 Axes>"
      ]
     },
     "metadata": {
      "needs_background": "light"
     },
     "output_type": "display_data"
    }
   ],
   "source": [
    "# plot flow\n",
    "plt.scatter(x_datan[:,[3]], y_datan[:,[0]], s=5)\n",
    "\n",
    "# test flow\n",
    "plt.scatter(x_dataTn[:,[3]], y_predictedTn[:,[0]], s=50)\n",
    "plt.plot   (x_dataTn[:,[3]], y_predictedTn[:,[0]], 'y', linewidth=2)\n",
    "\n",
    "plt.grid()\n",
    "#plt.show()\n",
    "plt.savefig('flow.png', dpi=300)"
   ]
  },
  {
   "cell_type": "code",
   "execution_count": 24,
   "metadata": {},
   "outputs": [
    {
     "data": {
      "text/plain": [
       "<matplotlib.collections.PathCollection at 0x7f417423a590>"
      ]
     },
     "execution_count": 24,
     "metadata": {},
     "output_type": "execute_result"
    },
    {
     "data": {
      "text/plain": [
       "<matplotlib.collections.PathCollection at 0x7f41743a9c00>"
      ]
     },
     "execution_count": 24,
     "metadata": {},
     "output_type": "execute_result"
    },
    {
     "data": {
      "text/plain": [
       "[<matplotlib.lines.Line2D at 0x7f417423afe0>]"
      ]
     },
     "execution_count": 24,
     "metadata": {},
     "output_type": "execute_result"
    },
    {
     "data": {
      "image/png": "[encoded data removed]",
      "text/plain": [
       "<Figure size 432x288 with 1 Axes>"
      ]
     },
     "metadata": {
      "needs_background": "light"
     },
     "output_type": "display_data"
    }
   ],
   "source": [
    "# plot efficiency\n",
    "plt.scatter(x_datan[:,[3]], y_datan[:,[1]], s=5)\n",
    "\n",
    "# test flow\n",
    "plt.scatter(x_dataTn[:,[3]], y_predictedTn[:,[1]], s=50)\n",
    "plt.plot   (x_dataTn[:,[3]], y_predictedTn[:,[1]], 'y', linewidth=2)\n",
    "\n",
    "plt.grid()\n",
    "#plt.show()\n",
    "plt.savefig('efficiency.png', dpi=300)"
   ]
  },
  {
   "cell_type": "markdown",
   "metadata": {
    "id": "OEEhzK4YHOdC"
   },
   "source": [
    "### video\n"
   ]
  },
  {
   "cell_type": "code",
   "execution_count": 25,
   "metadata": {
    "executionInfo": {
     "elapsed": 7,
     "status": "ok",
     "timestamp": 1661420552357,
     "user": {
      "displayName": "Thomas Bielinger",
      "userId": "06702926197276526237"
     },
     "user_tz": -120
    },
    "id": "13RiCs72HMH6"
   },
   "outputs": [],
   "source": [
    "#for x in range(100):\n",
    "#  # One epoch\n",
    "#  model.fit( x_data, y_data, epochs=1, verbose=1)\n",
    "#\n",
    "#  # Compute the output \n",
    "#  y_predicted = model.predict(x_data)\n",
    "#\n",
    "#  # Display the result\n",
    "#  plt.scatter(x_data[::1], y_data[::1], s=2)\n",
    "#  plt.plot(x_data, y_predicted, 'r', linewidth=4)\n",
    "#  plt.grid()\n",
    "#  plt.ylim(top=1.2)  # adjust the top leaving bottom unchanged\n",
    "#  plt.ylim(bottom=-1.2)  \n",
    "#  #plt.show()\n",
    "#  plt.savefig('training-' + str(x) +'-epochs.png',dpi=300)\n",
    "#  #files.download('training-' + str(x) +'-epochs.png') \n",
    "#  plt.clf()\n",
    "\n"
   ]
  },
  {
   "cell_type": "code",
   "execution_count": null,
   "metadata": {
    "collapsed": true,
    "executionInfo": {
     "elapsed": 8,
     "status": "ok",
     "timestamp": 1661420552358,
     "user": {
      "displayName": "Thomas Bielinger",
      "userId": "06702926197276526237"
     },
     "user_tz": -120
    },
    "id": "9aoB8cZnDNWo",
    "jupyter": {
     "outputs_hidden": true
    }
   },
   "outputs": [],
   "source": []
  }
 ],
 "metadata": {
  "colab": {
   "collapsed_sections": [],
   "name": "map-05.ipynb",
   "provenance": []
  },
  "file_extension": ".py",
  "kernelspec": {
   "display_name": "Python 3.10.4 64-bit",
   "language": "python",
   "name": "python3"
  },
  "language_info": {
   "codemirror_mode": {
    "name": "ipython",
    "version": 3
   },
   "file_extension": ".py",
   "mimetype": "text/x-python",
   "name": "python",
   "nbconvert_exporter": "python",
   "pygments_lexer": "ipython3",
   "version": "3.10.4"
  },
  "mimetype": "text/x-python",
  "name": "python",
  "npconvert_exporter": "python",
  "pygments_lexer": "ipython3",
  "toc-autonumbering": false,
  "toc-showcode": true,
  "toc-showmarkdowntxt": false,
  "toc-showtags": false,
  "version": 3,
  "vscode": {
   "interpreter": {
    "hash": "916dbcbb3f70747c44a77c7bcd40155683ae19c65e1c03b4aa3499c5328201f1"
   }
  }
 },
 "nbformat": 4,
 "nbformat_minor": 4
}
