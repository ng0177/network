{
 "cells": [
  {
   "cell_type": "code",
   "execution_count": 1,
   "id": "851132ad",
   "metadata": {},
   "outputs": [],
   "source": [
    "# import\n",
    "from tensorflow.keras.layers import Dense\n",
    "from tensorflow.keras.models import Sequential\n",
    "import numpy as np\n",
    "#import matplotlib.pyplot as plt"
   ]
  },
  {
   "cell_type": "code",
   "execution_count": 6,
   "id": "70c85ba4",
   "metadata": {},
   "outputs": [],
   "source": [
    "# data\n",
    "myinput=[];myotput=[]\n",
    "myinput = np.array([[ 230,1.27305],[ 230,1.30392],[ 230,1.34063],[ 230,1.38482],[ 230,1.43878],[ 230,1.50577],[ 230,1.59061],[ 230,1.70066],[ 230,1.84776],[ 230,2.05185],[ 230,2.34924],[ 230,2.81181],[ 230,3.60117],[ 230,5.14998],[ 310,1.56859],[ 310,1.64246],[ 310,1.73300],[ 310,1.84593],[ 310,1.98978],[ 310,2.17775],[ 310,2.43124],[ 310,2.78692],[ 310,3.31249],[ 310,4.14437],[ 310,5.59556],[ 370,1.62875],[ 370,1.70066],[ 370,1.78670],[ 370,1.89112],[ 370,2.01987],[ 370,2.18164],[ 370,2.38951],[ 370,2.66399],[ 370,3.03889],[ 370,3.57328],[ 370,4.37845],[ 370,5.68477],[ 420,1.89758],[ 420,2.01082],[ 420,2.14910],[ 420,2.32089],[ 420,2.53862],[ 420,2.82132],[ 420,3.19928],[ 420,3.72335],[ 420,4.48437],[ 420,5.65837],[ 460,2.18561],[ 460,2.34920],[ 460,2.55297],[ 460,2.81192],[ 460,3.14922],[ 460,3.60162],[ 460,4.23158],[ 460,5.15036],[ 460,6.57447],[ 490,1.98744],[ 490,2.09974],[ 490,2.23427],[ 490,2.39757],[ 490,2.59905],[ 490,2.85253],[ 490,3.17847],[ 490,3.60885],[ 490,4.19613],[ 490,5.03101],[ 490,6.28144]])\n",
    "myotput = np.array([[ 1.34714],[ 1.41808],[ 1.47987],[ 1.55098],[ 1.62026],[ 1.69219],[ 1.76749],[ 1.83998],[ 1.91347],[ 1.98128],[ 2.04018],[ 2.08743],[ 2.12260],[ 2.14005],[ 1.70196],[ 1.76007],[ 1.82271],[ 1.88606],[ 1.94728],[ 1.99856],[ 2.04304],[ 2.07270],[ 2.09661],[ 2.10873],[ 2.11359],[ 1.66262],[ 1.74188],[ 1.80367],[ 1.85706],[ 1.91208],[ 1.96354],[ 2.00749],[ 2.03871],[ 2.06440],[ 2.07534],[ 2.07976],[ 2.08288],[ 1.80382],[ 1.85943],[ 1.90675],[ 1.95196],[ 1.99088],[ 2.01801],[ 2.03485],[ 2.04353],[ 2.04648],[ 2.04907],[ 1.87387],[ 1.91543],[ 1.95202],[ 1.97916],[ 1.99535],[ 2.00660],[ 2.01019],[ 2.01245],[ 2.01500],[ 1.73492],[ 1.79872],[ 1.85162],[ 1.89298],[ 1.92448],[ 1.95086],[ 1.96645],[ 1.97586],[ 1.97966],[ 1.98179],[ 1.98397]])"
   ]
  },
  {
   "cell_type": "code",
   "execution_count": 3,
   "id": "a643033b",
   "metadata": {},
   "outputs": [
    {
     "name": "stderr",
     "output_type": "stream",
     "text": [
      "2022-08-10 13:06:02.147503: I tensorflow/stream_executor/cuda/cuda_gpu_executor.cc:975] successful NUMA node read from SysFS had negative value (-1), but there must be at least one NUMA node, so returning NUMA node zero\n",
      "2022-08-10 13:06:02.241536: I tensorflow/stream_executor/cuda/cuda_gpu_executor.cc:975] successful NUMA node read from SysFS had negative value (-1), but there must be at least one NUMA node, so returning NUMA node zero\n",
      "2022-08-10 13:06:02.241967: I tensorflow/stream_executor/cuda/cuda_gpu_executor.cc:975] successful NUMA node read from SysFS had negative value (-1), but there must be at least one NUMA node, so returning NUMA node zero\n",
      "2022-08-10 13:06:02.243371: I tensorflow/core/platform/cpu_feature_guard.cc:193] This TensorFlow binary is optimized with oneAPI Deep Neural Network Library (oneDNN) to use the following CPU instructions in performance-critical operations:  AVX512F AVX512_VNNI FMA\n",
      "To enable them in other operations, rebuild TensorFlow with the appropriate compiler flags.\n",
      "2022-08-10 13:06:02.246666: I tensorflow/stream_executor/cuda/cuda_gpu_executor.cc:975] successful NUMA node read from SysFS had negative value (-1), but there must be at least one NUMA node, so returning NUMA node zero\n",
      "2022-08-10 13:06:02.247118: I tensorflow/stream_executor/cuda/cuda_gpu_executor.cc:975] successful NUMA node read from SysFS had negative value (-1), but there must be at least one NUMA node, so returning NUMA node zero\n",
      "2022-08-10 13:06:02.247452: I tensorflow/stream_executor/cuda/cuda_gpu_executor.cc:975] successful NUMA node read from SysFS had negative value (-1), but there must be at least one NUMA node, so returning NUMA node zero\n",
      "2022-08-10 13:06:02.508003: I tensorflow/stream_executor/cuda/cuda_gpu_executor.cc:975] successful NUMA node read from SysFS had negative value (-1), but there must be at least one NUMA node, so returning NUMA node zero\n",
      "2022-08-10 13:06:02.508147: I tensorflow/stream_executor/cuda/cuda_gpu_executor.cc:975] successful NUMA node read from SysFS had negative value (-1), but there must be at least one NUMA node, so returning NUMA node zero\n",
      "2022-08-10 13:06:02.508245: I tensorflow/stream_executor/cuda/cuda_gpu_executor.cc:975] successful NUMA node read from SysFS had negative value (-1), but there must be at least one NUMA node, so returning NUMA node zero\n",
      "2022-08-10 13:06:02.508378: I tensorflow/core/common_runtime/gpu/gpu_process_state.cc:222] Using CUDA malloc Async allocator for GPU: 0\n",
      "2022-08-10 13:06:02.508451: I tensorflow/core/common_runtime/gpu/gpu_device.cc:1532] Created device /job:localhost/replica:0/task:0/device:GPU:0 with 2946 MB memory:  -> device: 0, name: NVIDIA GeForce GTX 1060 6GB, pci bus id: 0000:01:00.0, compute capability: 6.1\n",
      "2022-08-10 13:06:02.508957: I tensorflow/core/common_runtime/process_util.cc:146] Creating new thread pool with default inter op setting: 2. Tune using inter_op_parallelism_threads for best performance.\n"
     ]
    }
   ],
   "source": [
    "# model\n",
    "model = Sequential()\n",
    "model.add(Dense(32, input_dim=2, activation='tanh'))\n",
    "model.add(Dense(1, activation='tanh'))\n",
    "model.compile(loss='mean_squared_error',\n",
    "              optimizer='adam',\n",
    "              metrics=['accuracy'])"
   ]
  },
  {
   "cell_type": "code",
   "execution_count": 4,
   "id": "66b33087",
   "metadata": {},
   "outputs": [
    {
     "data": {
      "text/plain": [
       "<keras.callbacks.History at 0x7f4537f78a60>"
      ]
     },
     "execution_count": 4,
     "metadata": {},
     "output_type": "execute_result"
    }
   ],
   "source": [
    "# train\n",
    "model.fit(x=myinput, y=myotput, epochs=10000, verbose=0)"
   ]
  },
  {
   "cell_type": "code",
   "execution_count": 5,
   "id": "e92b66f0",
   "metadata": {},
   "outputs": [
    {
     "name": "stdout",
     "output_type": "stream",
     "text": [
      "3/3 [==============================] - 0s 1ms/step\n",
      "[[1.]\n",
      " [1.]\n",
      " [1.]\n",
      " [1.]\n",
      " [1.]\n",
      " [1.]\n",
      " [1.]\n",
      " [1.]\n",
      " [1.]\n",
      " [1.]\n",
      " [1.]\n",
      " [1.]\n",
      " [1.]\n",
      " [1.]\n",
      " [1.]\n",
      " [1.]\n",
      " [1.]\n",
      " [1.]\n",
      " [1.]\n",
      " [1.]\n",
      " [1.]\n",
      " [1.]\n",
      " [1.]\n",
      " [1.]\n",
      " [1.]\n",
      " [1.]\n",
      " [1.]\n",
      " [1.]\n",
      " [1.]\n",
      " [1.]\n",
      " [1.]\n",
      " [1.]\n",
      " [1.]\n",
      " [1.]\n",
      " [1.]\n",
      " [1.]\n",
      " [1.]\n",
      " [1.]\n",
      " [1.]\n",
      " [1.]\n",
      " [1.]\n",
      " [1.]\n",
      " [1.]\n",
      " [1.]\n",
      " [1.]\n",
      " [1.]\n",
      " [1.]\n",
      " [1.]\n",
      " [1.]\n",
      " [1.]\n",
      " [1.]\n",
      " [1.]\n",
      " [1.]\n",
      " [1.]\n",
      " [1.]\n",
      " [1.]\n",
      " [1.]\n",
      " [1.]\n",
      " [1.]\n",
      " [1.]\n",
      " [1.]\n",
      " [1.]\n",
      " [1.]\n",
      " [1.]\n",
      " [1.]\n",
      " [1.]\n",
      " [1.]]\n"
     ]
    }
   ],
   "source": [
    "# check\n",
    "print(model.predict(myinput))"
   ]
  },
  {
   "cell_type": "code",
   "execution_count": null,
   "id": "75ff7f81",
   "metadata": {},
   "outputs": [],
   "source": []
  },
  {
   "cell_type": "code",
   "execution_count": null,
   "id": "0489c85a",
   "metadata": {},
   "outputs": [],
   "source": []
  }
 ],
 "metadata": {
  "kernelspec": {
   "display_name": "Python 3 (ipykernel)",
   "language": "python",
   "name": "python3"
  },
  "language_info": {
   "codemirror_mode": {
    "name": "ipython",
    "version": 3
   },
   "file_extension": ".py",
   "mimetype": "text/x-python",
   "name": "python",
   "nbconvert_exporter": "python",
   "pygments_lexer": "ipython3",
   "version": "3.10.6"
  }
 },
 "nbformat": 4,
 "nbformat_minor": 5
}
