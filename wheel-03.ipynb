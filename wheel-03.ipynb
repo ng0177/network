{
 "cells": [
  {
   "cell_type": "markdown",
   "metadata": {
    "id": "qASyOjUDx1Lq"
   },
   "source": [
    "### prepare"
   ]
  },
  {
   "cell_type": "code",
   "execution_count": 9,
   "metadata": {
    "executionInfo": {
     "elapsed": 4537,
     "status": "ok",
     "timestamp": 1661420525587,
     "user": {
      "displayName": "Thomas Bielinger",
      "userId": "06702926197276526237"
     },
     "user_tz": -120
    },
    "id": "Rz1Q7i9xx1Lt"
   },
   "outputs": [],
   "source": [
    "# import python\n",
    "import numpy as np\n",
    "from sys import maxsize\n",
    "np.set_printoptions(threshold=maxsize)\n",
    "import matplotlib.pyplot as plt\n",
    "#import math\n",
    "#from google.colab import files\n",
    "\n",
    "# import tensorflow\n",
    "from tensorflow import keras\n",
    "from tensorflow.keras import layers\n",
    "# pip3 install -U scikit-learn\n",
    "# sudo pacman -S python-scikit-learn\n",
    "from sklearn.preprocessing import MinMaxScaler"
   ]
  },
  {
   "cell_type": "code",
   "execution_count": 10,
   "metadata": {},
   "outputs": [],
   "source": [
    "from IPython.core.interactiveshell import InteractiveShell\n",
    "InteractiveShell.ast_node_interactivity = \"all\""
   ]
  },
  {
   "cell_type": "code",
   "execution_count": 11,
   "metadata": {},
   "outputs": [
    {
     "data": {
      "text/plain": [
       "'/mnt/815c1698-0606-4299-aed1-5b838adaea93/BLOCK/GITHUB/network'"
      ]
     },
     "execution_count": 11,
     "metadata": {},
     "output_type": "execute_result"
    },
    {
     "name": "stdout",
     "output_type": "stream",
     "text": [
      "/mnt/815c1698-0606-4299-aed1-5b838adaea93/BLOCK/GITHUB/network\n"
     ]
    }
   ],
   "source": [
    "%pwd\n",
    "%cd /mnt/815c1698-0606-4299-aed1-5b838adaea93/BLOCK/GITHUB/network/"
   ]
  },
  {
   "cell_type": "code",
   "execution_count": 12,
   "metadata": {
    "executionInfo": {
     "elapsed": 4537,
     "status": "ok",
     "timestamp": 1661420525587,
     "user": {
      "displayName": "Thomas Bielinger",
      "userId": "06702926197276526237"
     },
     "user_tz": -120
    },
    "id": "Rz1Q7i9xx1Lt"
   },
   "outputs": [],
   "source": [
    "# data: wheel\n",
    "ttech3924 = np.loadtxt(open(\"data_wheel/p44-39-mum-24.csv\", \"rb\"), delimiter=\",\", skiprows=0)\n",
    "ttech3928 = np.loadtxt(open(\"data_wheel/p44-39-mum-28.csv\", \"rb\"), delimiter=\",\", skiprows=0)\n",
    "ttech3932 = np.loadtxt(open(\"data_wheel/p44-39-mum-32.csv\", \"rb\"), delimiter=\",\", skiprows=0)\n",
    "#\n",
    "ttech4724 = np.loadtxt(open(\"data_wheel/p44-47-mum-24.csv\", \"rb\"), delimiter=\",\", skiprows=0)\n",
    "ttech4728 = np.loadtxt(open(\"data_wheel/p44-47-mum-28.csv\", \"rb\"), delimiter=\",\", skiprows=0)\n",
    "ttech4732 = np.loadtxt(open(\"data_wheel/p44-47-mum-32.csv\", \"rb\"), delimiter=\",\", skiprows=0)\n",
    "#\n",
    "ttech5524 = np.loadtxt(open(\"data_wheel/p44-55-mum-20.csv\", \"rb\"), delimiter=\",\", skiprows=0)\n",
    "ttech5528 = np.loadtxt(open(\"data_wheel/p44-55-mum-28.csv\", \"rb\"), delimiter=\",\", skiprows=0)\n",
    "ttech5532 = np.loadtxt(open(\"data_wheel/p44-55-mum-32.csv\", \"rb\"), delimiter=\",\", skiprows=0)"
   ]
  },
  {
   "cell_type": "code",
   "execution_count": 13,
   "metadata": {
    "executionInfo": {
     "elapsed": 4537,
     "status": "ok",
     "timestamp": 1661420525587,
     "user": {
      "displayName": "Thomas Bielinger",
      "userId": "06702926197276526237"
     },
     "user_tz": -120
    },
    "id": "Rz1Q7i9xx1Lt"
   },
   "outputs": [],
   "source": [
    "# add volute size\n",
    "ttech3924 = np.insert(ttech3924, 0, values=24, axis=1)\n",
    "ttech3928 = np.insert(ttech3928, 0, values=28, axis=1)\n",
    "ttech3932 = np.insert(ttech3932, 0, values=32, axis=1)\n",
    "#\n",
    "ttech4724 = np.insert(ttech4724, 0, values=24, axis=1)\n",
    "ttech4728 = np.insert(ttech4728, 0, values=28, axis=1)\n",
    "ttech4732 = np.insert(ttech4732, 0, values=32, axis=1)\n",
    "#\n",
    "ttech5524 = np.insert(ttech5524, 0, values=24, axis=1)\n",
    "ttech5528 = np.insert(ttech5528, 0, values=28, axis=1)\n",
    "ttech5532 = np.insert(ttech5532, 0, values=32, axis=1)"
   ]
  },
  {
   "cell_type": "code",
   "execution_count": 14,
   "metadata": {
    "executionInfo": {
     "elapsed": 4537,
     "status": "ok",
     "timestamp": 1661420525587,
     "user": {
      "displayName": "Thomas Bielinger",
      "userId": "06702926197276526237"
     },
     "user_tz": -120
    },
    "id": "Rz1Q7i9xx1Lt"
   },
   "outputs": [],
   "source": [
    "# add wheel size\n",
    "ttech3924 = np.insert(ttech3924, 0, values=39, axis=1)\n",
    "ttech3928 = np.insert(ttech3928, 0, values=39, axis=1)\n",
    "ttech3932 = np.insert(ttech3932, 0, values=39, axis=1)\n",
    "#\n",
    "ttech4724 = np.insert(ttech4724, 0, values=47, axis=1)\n",
    "ttech4728 = np.insert(ttech4728, 0, values=47, axis=1)\n",
    "ttech4732 = np.insert(ttech4732, 0, values=47, axis=1)\n",
    "#\n",
    "ttech5524 = np.insert(ttech5524, 0, values=55, axis=1)\n",
    "ttech5528 = np.insert(ttech5528, 0, values=55, axis=1)\n",
    "ttech5532 = np.insert(ttech5532, 0, values=55, axis=1)"
   ]
  },
  {
   "cell_type": "code",
   "execution_count": 15,
   "metadata": {
    "executionInfo": {
     "elapsed": 4537,
     "status": "ok",
     "timestamp": 1661420525587,
     "user": {
      "displayName": "Thomas Bielinger",
      "userId": "06702926197276526237"
     },
     "user_tz": -120
    },
    "id": "Rz1Q7i9xx1Lt"
   },
   "outputs": [],
   "source": [
    "# assemble\n",
    "ttechall = ttech3924\n",
    "ttechall = np.append(ttechall,ttech3928,axis=0);\n",
    "ttechall = np.append(ttechall,ttech3932,axis=0);\n",
    "ttechall = np.append(ttechall,ttech4724,axis=0);\n",
    "ttechall = np.append(ttechall,ttech4728,axis=0);\n",
    "ttechall = np.append(ttechall,ttech4732,axis=0);\n",
    "ttechall = np.append(ttechall,ttech5524,axis=0);\n",
    "ttechall = np.append(ttechall,ttech5528,axis=0);\n",
    "ttechall = np.append(ttechall,ttech5532,axis=0);"
   ]
  },
  {
   "cell_type": "code",
   "execution_count": 16,
   "metadata": {
    "executionInfo": {
     "elapsed": 4537,
     "status": "ok",
     "timestamp": 1661420525587,
     "user": {
      "displayName": "Thomas Bielinger",
      "userId": "06702926197276526237"
     },
     "user_tz": -120
    },
    "id": "Rz1Q7i9xx1Lt"
   },
   "outputs": [],
   "source": [
    "# split x, y\n",
    "x_data = ttechall[0:len(ttechall),[0,1,2,3]]\n",
    "y_data = ttechall[0:len(ttechall),[4,5]]"
   ]
  },
  {
   "cell_type": "code",
   "execution_count": 17,
   "metadata": {},
   "outputs": [
    {
     "name": "stdout",
     "output_type": "stream",
     "text": [
      "x shape is  (1328, 4)\n",
      "y shape is  (1328, 2)\n"
     ]
    }
   ],
   "source": [
    "# shape\n",
    "print(\"x shape is \", x_data.shape)\n",
    "print(\"y shape is \", y_data.shape)"
   ]
  },
  {
   "cell_type": "markdown",
   "metadata": {
    "id": "RGNdmgOKAg_D"
   },
   "source": [
    "### test"
   ]
  },
  {
   "cell_type": "code",
   "execution_count": 18,
   "metadata": {
    "executionInfo": {
     "elapsed": 4537,
     "status": "ok",
     "timestamp": 1661420525587,
     "user": {
      "displayName": "Thomas Bielinger",
      "userId": "06702926197276526237"
     },
     "user_tz": -120
    },
    "id": "Rz1Q7i9xx1Lt"
   },
   "outputs": [
    {
     "data": {
      "text/plain": [
       "array([[ 50.        ,  30.        , 400.        ,   1.5       ],\n",
       "       [ 50.        ,  30.        , 400.        ,   1.66096929],\n",
       "       [ 50.        ,  30.        , 400.        ,   1.83014111],\n",
       "       [ 50.        ,  30.        , 400.        ,   2.00751546],\n",
       "       [ 50.        ,  30.        , 400.        ,   2.19309233],\n",
       "       [ 50.        ,  30.        , 400.        ,   2.38687173],\n",
       "       [ 50.        ,  30.        , 400.        ,   2.58885365],\n",
       "       [ 50.        ,  30.        , 400.        ,   2.79903811],\n",
       "       [ 50.        ,  30.        , 400.        ,   3.01742508],\n",
       "       [ 50.        ,  30.        , 400.        ,   3.24401459],\n",
       "       [ 50.        ,  30.        , 400.        ,   3.47880662],\n",
       "       [ 50.        ,  30.        , 400.        ,   3.72180117],\n",
       "       [ 50.        ,  30.        , 400.        ,   3.97299826],\n",
       "       [ 50.        ,  30.        , 400.        ,   4.23239786],\n",
       "       [ 50.        ,  30.        , 400.        ,   4.5       ]])"
      ]
     },
     "execution_count": 18,
     "metadata": {},
     "output_type": "execute_result"
    }
   ],
   "source": [
    "# test\n",
    "#x_dataT_24 = np.array([ [24,310,1.44389],[24,310,1.48225],[24,310,1.52611],[24,310,1.57655],[24,310,1.63571],\n",
    "#                        [24,310,1.70551],[24,310,1.78899],[24,310,1.88981],[24,310,2.01351],[24,310,2.16737],\n",
    "#                        [24,310,2.36391],[24,310,2.62075],[24,310,2.96815],[24,310,3.45468],[24,310,4.16895]])\n",
    "############################################\n",
    "N = 15\n",
    "a = np.tile(np.array([50,30,400]),(N,1)); #a\n",
    "\n",
    "x = [0,0,0,0]\n",
    "y = np.linspace(np.sqrt(1.5),np.sqrt(4.5), N)**2\n",
    "X,Yb = np.meshgrid(x,y); #Yb\n",
    "\n",
    "Yb[:,:-1] = a; Yb\n",
    "x_dataT = Yb\n",
    "############################################\n",
    "\n",
    "x_data = np.append(x_data,x_dataT,axis=0)"
   ]
  },
  {
   "cell_type": "markdown",
   "metadata": {
    "id": "RGNdmgOKAg_D"
   },
   "source": [
    "### normalize"
   ]
  },
  {
   "cell_type": "code",
   "execution_count": 19,
   "metadata": {
    "colab": {
     "base_uri": "https://localhost:8080/"
    },
    "executionInfo": {
     "elapsed": 26,
     "status": "ok",
     "timestamp": 1661420525593,
     "user": {
      "displayName": "Thomas Bielinger",
      "userId": "06702926197276526237"
     },
     "user_tz": -120
    },
    "id": "WVKBnQcsDNWk",
    "outputId": "8c3e95f4-f305-4305-9aa3-e8b76e92f806"
   },
   "outputs": [
    {
     "name": "stdout",
     "output_type": "stream",
     "text": [
      "x shape is  (1343, 4)\n",
      "y shape is  (1328, 2)\n"
     ]
    }
   ],
   "source": [
    "# normalize\n",
    "x_datan = MinMaxScaler().fit_transform(x_data)\n",
    "y_datan = MinMaxScaler().fit_transform(y_data)\n",
    "\n",
    "# shape\n",
    "print(\"x shape is \", x_data.shape)\n",
    "print(\"y shape is \", y_data.shape)"
   ]
  },
  {
   "cell_type": "code",
   "execution_count": 20,
   "metadata": {
    "executionInfo": {
     "elapsed": 17,
     "status": "ok",
     "timestamp": 1661420525595,
     "user": {
      "displayName": "Thomas Bielinger",
      "userId": "06702926197276526237"
     },
     "user_tz": -120
    },
    "id": "nnU-lPqDDNWl"
   },
   "outputs": [],
   "source": [
    "# test length\n",
    "lenT = len(x_dataT)\n",
    "# extract test\n",
    "x_dataTn = x_datan[-lenT:,[0,1,2,3]]\n",
    "# remove test\n",
    "x_datan = x_datan[:-lenT]"
   ]
  },
  {
   "cell_type": "code",
   "execution_count": 21,
   "metadata": {
    "colab": {
     "base_uri": "https://localhost:8080/"
    },
    "executionInfo": {
     "elapsed": 8,
     "status": "ok",
     "timestamp": 1661420525944,
     "user": {
      "displayName": "Thomas Bielinger",
      "userId": "06702926197276526237"
     },
     "user_tz": -120
    },
    "id": "ws_-LECGDNWl",
    "outputId": "57872a61-4cce-4137-c411-4172710ce9a4"
   },
   "outputs": [
    {
     "name": "stdout",
     "output_type": "stream",
     "text": [
      "x shape is  (1328, 4)\n",
      "y shape is  (1328, 2)\n"
     ]
    }
   ],
   "source": [
    "# check shape\n",
    "print(\"x shape is \", x_datan.shape)\n",
    "print(\"y shape is \", y_datan.shape)"
   ]
  },
  {
   "cell_type": "markdown",
   "metadata": {
    "id": "RGNdmgOKAg_D"
   },
   "source": [
    "### show"
   ]
  },
  {
   "cell_type": "code",
   "execution_count": 22,
   "metadata": {
    "colab": {
     "base_uri": "https://localhost:8080/",
     "height": 282
    },
    "executionInfo": {
     "elapsed": 1026,
     "status": "ok",
     "timestamp": 1661420526965,
     "user": {
      "displayName": "Thomas Bielinger",
      "userId": "06702926197276526237"
     },
     "user_tz": -120
    },
    "id": "zYrNbXAsAf9N",
    "outputId": "2c7a86b0-1040-4bad-9739-94afbc84ac52"
   },
   "outputs": [
    {
     "data": {
      "text/plain": [
       "<matplotlib.collections.PathCollection at 0x7f7f6606a4a0>"
      ]
     },
     "execution_count": 22,
     "metadata": {},
     "output_type": "execute_result"
    },
    {
     "data": {
      "text/plain": [
       "<matplotlib.collections.PathCollection at 0x7f7f66101060>"
      ]
     },
     "execution_count": 22,
     "metadata": {},
     "output_type": "execute_result"
    },
    {
     "data": {
      "image/png": "[encoded data removed]",
      "text/plain": [
       "<Figure size 432x288 with 1 Axes>"
      ]
     },
     "metadata": {
      "needs_background": "light"
     },
     "output_type": "display_data"
    }
   ],
   "source": [
    "# plot\n",
    "plt.scatter(x_datan[:,[3]], y_datan[:,[0]], s=50)\n",
    "plt.scatter(x_datan[:,[3]], y_datan[:,[1]], s=50)\n",
    "plt.grid()\n",
    "#plt.show()\n",
    "plt.savefig('dataset.png',dpi=300)\n",
    "#files.download('dataset.png') "
   ]
  },
  {
   "cell_type": "markdown",
   "metadata": {
    "id": "5f_ikNz8x1Lz"
   },
   "source": [
    "### model"
   ]
  },
  {
   "cell_type": "code",
   "execution_count": 23,
   "metadata": {
    "executionInfo": {
     "elapsed": 377,
     "status": "ok",
     "timestamp": 1661420528402,
     "user": {
      "displayName": "Thomas Bielinger",
      "userId": "06702926197276526237"
     },
     "user_tz": -120
    },
    "id": "sMvpBFj5x1L0",
    "scrolled": true
   },
   "outputs": [],
   "source": [
    "# 2^n,relu,adam,mse\n",
    "\n",
    "# input layer\n",
    "n_features = x_datan.shape[1]\n",
    "inputs  = keras.Input(shape=(n_features,))"
   ]
  },
  {
   "cell_type": "code",
   "execution_count": 24,
   "metadata": {},
   "outputs": [
    {
     "name": "stderr",
     "output_type": "stream",
     "text": [
      "2022-09-06 11:31:28.145817: I tensorflow/stream_executor/cuda/cuda_gpu_executor.cc:975] successful NUMA node read from SysFS had negative value (-1), but there must be at least one NUMA node, so returning NUMA node zero\n",
      "2022-09-06 11:31:28.218559: I tensorflow/stream_executor/cuda/cuda_gpu_executor.cc:975] successful NUMA node read from SysFS had negative value (-1), but there must be at least one NUMA node, so returning NUMA node zero\n",
      "2022-09-06 11:31:28.218699: I tensorflow/stream_executor/cuda/cuda_gpu_executor.cc:975] successful NUMA node read from SysFS had negative value (-1), but there must be at least one NUMA node, so returning NUMA node zero\n",
      "2022-09-06 11:31:28.219256: I tensorflow/core/platform/cpu_feature_guard.cc:193] This TensorFlow binary is optimized with oneAPI Deep Neural Network Library (oneDNN) to use the following CPU instructions in performance-critical operations:  AVX2 AVX512F AVX512_VNNI FMA\n",
      "To enable them in other operations, rebuild TensorFlow with the appropriate compiler flags.\n",
      "2022-09-06 11:31:28.219939: I tensorflow/stream_executor/cuda/cuda_gpu_executor.cc:975] successful NUMA node read from SysFS had negative value (-1), but there must be at least one NUMA node, so returning NUMA node zero\n",
      "2022-09-06 11:31:28.220064: I tensorflow/stream_executor/cuda/cuda_gpu_executor.cc:975] successful NUMA node read from SysFS had negative value (-1), but there must be at least one NUMA node, so returning NUMA node zero\n",
      "2022-09-06 11:31:28.220142: I tensorflow/stream_executor/cuda/cuda_gpu_executor.cc:975] successful NUMA node read from SysFS had negative value (-1), but there must be at least one NUMA node, so returning NUMA node zero\n",
      "2022-09-06 11:31:28.893921: I tensorflow/stream_executor/cuda/cuda_gpu_executor.cc:975] successful NUMA node read from SysFS had negative value (-1), but there must be at least one NUMA node, so returning NUMA node zero\n",
      "2022-09-06 11:31:28.894044: I tensorflow/stream_executor/cuda/cuda_gpu_executor.cc:975] successful NUMA node read from SysFS had negative value (-1), but there must be at least one NUMA node, so returning NUMA node zero\n",
      "2022-09-06 11:31:28.894126: I tensorflow/stream_executor/cuda/cuda_gpu_executor.cc:975] successful NUMA node read from SysFS had negative value (-1), but there must be at least one NUMA node, so returning NUMA node zero\n",
      "2022-09-06 11:31:28.894204: I tensorflow/core/common_runtime/gpu/gpu_device.cc:1532] Created device /job:localhost/replica:0/task:0/device:GPU:0 with 4456 MB memory:  -> device: 0, name: NVIDIA GeForce GTX 1060 6GB, pci bus id: 0000:01:00.0, compute capability: 6.1\n"
     ]
    }
   ],
   "source": [
    "\n",
    "# center layer\n",
    "dense   = keras.layers.Dense(256, activation=\"relu\")\n",
    "x       = dense(inputs)\n",
    "x       = keras.layers.Dense(128, activation=\"relu\")(x)\n",
    "x       = keras.layers.Dense(64, activation=\"relu\")(x)\n",
    "x       = keras.layers.Dense(32, activation=\"relu\")(x)\n",
    "x       = keras.layers.Dense(16, activation=\"relu\")(x)"
   ]
  },
  {
   "cell_type": "code",
   "execution_count": 25,
   "metadata": {},
   "outputs": [],
   "source": [
    "\n",
    "# output layer\n",
    "n_qualities = y_datan.shape[1]\n",
    "outputs = keras.layers.Dense(n_qualities)(x)"
   ]
  },
  {
   "cell_type": "code",
   "execution_count": 26,
   "metadata": {},
   "outputs": [],
   "source": [
    "\n",
    "# model\n",
    "model = keras.Model(inputs=inputs, outputs=outputs)"
   ]
  },
  {
   "cell_type": "code",
   "execution_count": 27,
   "metadata": {},
   "outputs": [],
   "source": [
    "# compile\n",
    "model.compile(optimizer='adam', loss='mse')\n",
    "#model.summary()"
   ]
  },
  {
   "cell_type": "markdown",
   "metadata": {
    "id": "Sxr1qxVex1L4"
   },
   "source": [
    "### train"
   ]
  },
  {
   "cell_type": "code",
   "execution_count": 28,
   "metadata": {
    "colab": {
     "base_uri": "https://localhost:8080/"
    },
    "executionInfo": {
     "elapsed": 22798,
     "status": "ok",
     "timestamp": 1661420551198,
     "user": {
      "displayName": "Thomas Bielinger",
      "userId": "06702926197276526237"
     },
     "user_tz": -120
    },
    "id": "M3XBJMj4x1L5",
    "outputId": "3259a3a0-d16d-4b80-b8a8-f1cac3990f29"
   },
   "outputs": [
    {
     "data": {
      "text/plain": [
       "<keras.callbacks.History at 0x7f7f5d61e980>"
      ]
     },
     "execution_count": 28,
     "metadata": {},
     "output_type": "execute_result"
    }
   ],
   "source": [
    "# 3000,64\n",
    "model.fit(x_datan, y_datan, batch_size=64, epochs=3000, verbose=0)"
   ]
  },
  {
   "cell_type": "markdown",
   "metadata": {
    "id": "gLEzVkjex1L9"
   },
   "source": [
    "### predict"
   ]
  },
  {
   "cell_type": "code",
   "execution_count": 29,
   "metadata": {
    "executionInfo": {
     "elapsed": 375,
     "status": "ok",
     "timestamp": 1661420551545,
     "user": {
      "displayName": "Thomas Bielinger",
      "userId": "06702926197276526237"
     },
     "user_tz": -120
    },
    "id": "IcKpdLe9x1L-"
   },
   "outputs": [
    {
     "name": "stdout",
     "output_type": "stream",
     "text": [
      "1/1 [==============================] - 0s 50ms/step\n"
     ]
    }
   ],
   "source": [
    "# predict test\n",
    "y_predictedTn = model.predict(x_dataTn)"
   ]
  },
  {
   "cell_type": "markdown",
   "metadata": {},
   "source": [
    "### eval\n"
   ]
  },
  {
   "cell_type": "code",
   "execution_count": 30,
   "metadata": {
    "colab": {
     "base_uri": "https://localhost:8080/",
     "height": 265
    },
    "executionInfo": {
     "elapsed": 816,
     "status": "ok",
     "timestamp": 1661420552356,
     "user": {
      "displayName": "Thomas Bielinger",
      "userId": "06702926197276526237"
     },
     "user_tz": -120
    },
    "id": "G3W8sSI0DNWn",
    "outputId": "007a033a-dc10-498b-d61e-cc246f1b32b3",
    "scrolled": true
   },
   "outputs": [
    {
     "data": {
      "text/plain": [
       "<matplotlib.collections.PathCollection at 0x7f7f57ff5f30>"
      ]
     },
     "execution_count": 30,
     "metadata": {},
     "output_type": "execute_result"
    },
    {
     "data": {
      "text/plain": [
       "<matplotlib.collections.PathCollection at 0x7f7f57fd5870>"
      ]
     },
     "execution_count": 30,
     "metadata": {},
     "output_type": "execute_result"
    },
    {
     "data": {
      "text/plain": [
       "[<matplotlib.lines.Line2D at 0x7f7f57ff7130>]"
      ]
     },
     "execution_count": 30,
     "metadata": {},
     "output_type": "execute_result"
    },
    {
     "data": {
      "image/png": "[encoded data removed]",
      "text/plain": [
       "<Figure size 432x288 with 1 Axes>"
      ]
     },
     "metadata": {
      "needs_background": "light"
     },
     "output_type": "display_data"
    }
   ],
   "source": [
    "# plot flow\n",
    "plt.scatter(x_datan[:,[3]], y_datan[:,[0]], s=5)\n",
    "\n",
    "# test flow\n",
    "plt.scatter(x_dataTn[:,[3]], y_predictedTn[:,[0]], s=50)\n",
    "plt.plot   (x_dataTn[:,[3]], y_predictedTn[:,[0]], 'y', linewidth=2)\n",
    "\n",
    "plt.grid()\n",
    "#plt.show()\n",
    "plt.savefig('flow.png', dpi=300)"
   ]
  },
  {
   "cell_type": "code",
   "execution_count": 31,
   "metadata": {},
   "outputs": [
    {
     "data": {
      "text/plain": [
       "<matplotlib.collections.PathCollection at 0x7f7f5035e7d0>"
      ]
     },
     "execution_count": 31,
     "metadata": {},
     "output_type": "execute_result"
    },
    {
     "data": {
      "text/plain": [
       "<matplotlib.collections.PathCollection at 0x7f7f50310400>"
      ]
     },
     "execution_count": 31,
     "metadata": {},
     "output_type": "execute_result"
    },
    {
     "data": {
      "text/plain": [
       "[<matplotlib.lines.Line2D at 0x7f7f5035f2e0>]"
      ]
     },
     "execution_count": 31,
     "metadata": {},
     "output_type": "execute_result"
    },
    {
     "data": {
      "image/png": "[encoded data removed]",
      "text/plain": [
       "<Figure size 432x288 with 1 Axes>"
      ]
     },
     "metadata": {
      "needs_background": "light"
     },
     "output_type": "display_data"
    }
   ],
   "source": [
    "# plot efficiency\n",
    "plt.scatter(x_datan[:,[3]], y_datan[:,[1]], s=5)\n",
    "\n",
    "# test flow\n",
    "plt.scatter(x_dataTn[:,[3]], y_predictedTn[:,[1]], s=50)\n",
    "plt.plot   (x_dataTn[:,[3]], y_predictedTn[:,[1]], 'y', linewidth=2)\n",
    "\n",
    "plt.grid()\n",
    "#plt.show()\n",
    "plt.savefig('efficiency.png', dpi=300)"
   ]
  },
  {
   "cell_type": "markdown",
   "metadata": {
    "id": "OEEhzK4YHOdC"
   },
   "source": [
    "### video\n"
   ]
  },
  {
   "cell_type": "code",
   "execution_count": null,
   "metadata": {
    "executionInfo": {
     "elapsed": 7,
     "status": "ok",
     "timestamp": 1661420552357,
     "user": {
      "displayName": "Thomas Bielinger",
      "userId": "06702926197276526237"
     },
     "user_tz": -120
    },
    "id": "13RiCs72HMH6"
   },
   "outputs": [],
   "source": [
    "#for x in range(100):\n",
    "#  # One epoch\n",
    "#  model.fit( x_data, y_data, epochs=1, verbose=1)\n",
    "#\n",
    "#  # Compute the output \n",
    "#  y_predicted = model.predict(x_data)\n",
    "#\n",
    "#  # Display the result\n",
    "#  plt.scatter(x_data[::1], y_data[::1], s=2)\n",
    "#  plt.plot(x_data, y_predicted, 'r', linewidth=4)\n",
    "#  plt.grid()\n",
    "#  plt.ylim(top=1.2)  # adjust the top leaving bottom unchanged\n",
    "#  plt.ylim(bottom=-1.2)  \n",
    "#  #plt.show()\n",
    "#  plt.savefig('training-' + str(x) +'-epochs.png',dpi=300)\n",
    "#  #files.download('training-' + str(x) +'-epochs.png') \n",
    "#  plt.clf()\n",
    "\n"
   ]
  },
  {
   "cell_type": "code",
   "execution_count": null,
   "metadata": {
    "collapsed": true,
    "executionInfo": {
     "elapsed": 8,
     "status": "ok",
     "timestamp": 1661420552358,
     "user": {
      "displayName": "Thomas Bielinger",
      "userId": "06702926197276526237"
     },
     "user_tz": -120
    },
    "id": "9aoB8cZnDNWo",
    "jupyter": {
     "outputs_hidden": true
    }
   },
   "outputs": [],
   "source": []
  }
 ],
 "metadata": {
  "colab": {
   "collapsed_sections": [],
   "name": "map-05.ipynb",
   "provenance": []
  },
  "file_extension": ".py",
  "kernelspec": {
   "display_name": "Python 3.10.4 64-bit",
   "language": "python",
   "name": "python3"
  },
  "language_info": {
   "codemirror_mode": {
    "name": "ipython",
    "version": 3
   },
   "file_extension": ".py",
   "mimetype": "text/x-python",
   "name": "python",
   "nbconvert_exporter": "python",
   "pygments_lexer": "ipython3",
   "version": "3.10.4"
  },
  "mimetype": "text/x-python",
  "name": "python",
  "npconvert_exporter": "python",
  "pygments_lexer": "ipython3",
  "toc-autonumbering": false,
  "toc-showcode": true,
  "toc-showmarkdowntxt": false,
  "toc-showtags": false,
  "version": 3,
  "vscode": {
   "interpreter": {
    "hash": "916dbcbb3f70747c44a77c7bcd40155683ae19c65e1c03b4aa3499c5328201f1"
   }
  }
 },
 "nbformat": 4,
 "nbformat_minor": 4
}
