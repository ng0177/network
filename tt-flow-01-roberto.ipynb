{
 "cells": [
  {
   "cell_type": "markdown",
   "metadata": {
    "id": "qASyOjUDx1Lq"
   },
   "source": [
    "### prepare"
   ]
  },
  {
   "cell_type": "code",
   "execution_count": 1,
   "metadata": {
    "colab": {
     "base_uri": "https://localhost:8080/"
    },
    "id": "Rz1Q7i9xx1Lt",
    "outputId": "9f151272-62c9-4459-9444-89d8f99ca111"
   },
   "outputs": [
    {
     "name": "stdout",
     "output_type": "stream",
     "text": [
      "x shape is  (14, 1)\n",
      "y shape is  (14, 1)\n"
     ]
    }
   ],
   "source": [
    "# import\n",
    "# pip3 install -U scikit-learn\n",
    "# sudo pacman -S python-scikit-learn\n",
    "from sklearn.preprocessing import MinMaxScaler\n",
    "import numpy as np\n",
    "import matplotlib.pyplot as plt\n",
    "from tensorflow import keras\n",
    "#from google.colab import files\n",
    "import tensorflow as tf\n",
    "import math\n",
    "\n",
    "# data\n",
    "x_data = np.array([[ 1.27305],[ 1.30392],[ 1.34063],[ 1.38482],[ 1.43878],[ 1.50577],[ 1.59061],[ 1.70066],[ 1.84776],[ 2.05185],[ 2.34924],[ 2.81181],[ 3.60117],[ 5.14998]])\n",
    "y_data = np.array([[ 1.34714],[ 1.41808],[ 1.47987],[ 1.55098],[ 1.62026],[ 1.69219],[ 1.76749],[ 1.83998],[ 1.91347],[ 1.98128],[ 2.04018],[ 2.08743],[ 2.12260],[ 2.14005]])\n",
    "x_data = MinMaxScaler().fit_transform(x_data)\n",
    "y_data = MinMaxScaler().fit_transform(y_data)\n",
    "\n",
    "# shape\n",
    "print(\"x shape is \", x_data.shape)\n",
    "print(\"y shape is \", y_data.shape)"
   ]
  },
  {
   "cell_type": "markdown",
   "metadata": {
    "id": "RGNdmgOKAg_D"
   },
   "source": [
    "### show"
   ]
  },
  {
   "cell_type": "code",
   "execution_count": 2,
   "metadata": {
    "colab": {
     "base_uri": "https://localhost:8080/",
     "height": 283
    },
    "id": "zYrNbXAsAf9N",
    "outputId": "e367e7da-7b10-46bd-b58b-1c6ec6616fab"
   },
   "outputs": [
    {
     "data": {
      "image/png": "[encoded data removed]",
      "text/plain": [
       "<Figure size 432x288 with 1 Axes>"
      ]
     },
     "metadata": {
      "needs_background": "light"
     },
     "output_type": "display_data"
    },
    {
     "data": {
      "text/plain": [
       "<Figure size 432x288 with 0 Axes>"
      ]
     },
     "metadata": {},
     "output_type": "display_data"
    }
   ],
   "source": [
    "# plot\n",
    "plt.scatter(x_data[::1], y_data[::1], s=50)\n",
    "plt.grid()\n",
    "plt.show()\n",
    "plt.savefig('dataset.png',dpi=300)\n",
    "#files.download('dataset.png') "
   ]
  },
  {
   "cell_type": "markdown",
   "metadata": {
    "id": "5f_ikNz8x1Lz"
   },
   "source": [
    "### model"
   ]
  },
  {
   "cell_type": "code",
   "execution_count": 3,
   "metadata": {
    "colab": {
     "base_uri": "https://localhost:8080/",
     "height": 244
    },
    "id": "sMvpBFj5x1L0",
    "outputId": "90bd03ca-c48b-4f5a-d322-bcb6bd76a03d",
    "scrolled": true
   },
   "outputs": [
    {
     "name": "stdout",
     "output_type": "stream",
     "text": [
      "Model: \"model\"\n",
      "_________________________________________________________________\n",
      " Layer (type)                Output Shape              Param #   \n",
      "=================================================================\n",
      " input_1 (InputLayer)        [(None, 1)]               0         \n",
      "                                                                 \n",
      " dense (Dense)               (None, 64)                128       \n",
      "                                                                 \n",
      " dense_1 (Dense)             (None, 64)                4160      \n",
      "                                                                 \n",
      " dense_2 (Dense)             (None, 16)                1040      \n",
      "                                                                 \n",
      " dense_3 (Dense)             (None, 2)                 34        \n",
      "                                                                 \n",
      "=================================================================\n",
      "Total params: 5,362\n",
      "Trainable params: 5,362\n",
      "Non-trainable params: 0\n",
      "_________________________________________________________________\n"
     ]
    },
    {
     "name": "stderr",
     "output_type": "stream",
     "text": [
      "2022-08-20 15:06:02.766761: I tensorflow/core/platform/cpu_feature_guard.cc:193] This TensorFlow binary is optimized with oneAPI Deep Neural Network Library (oneDNN) to use the following CPU instructions in performance-critical operations:  FMA\n",
      "To enable them in other operations, rebuild TensorFlow with the appropriate compiler flags.\n",
      "2022-08-20 15:06:02.767935: I tensorflow/core/common_runtime/process_util.cc:146] Creating new thread pool with default inter op setting: 2. Tune using inter_op_parallelism_threads for best performance.\n"
     ]
    }
   ],
   "source": [
    "# roberto\n",
    "n_features = x_data.shape[1]\n",
    "inputs  = keras.Input(shape=(n_features,))\n",
    "dense   = keras.layers.Dense(64, activation=\"relu\")\n",
    "x       = dense(inputs)\n",
    "x       = keras.layers.Dense(64, activation=\"relu\")(x)\n",
    "x       = keras.layers.Dense(16, activation=\"relu\")(x)\n",
    "outputs = keras.layers.Dense(2)(x)\n",
    "\n",
    "model = keras.Model(inputs=inputs, outputs=outputs)\n",
    "model.compile(optimizer='adam', loss='mse')\n",
    "model.summary()"
   ]
  },
  {
   "cell_type": "markdown",
   "metadata": {
    "id": "Sxr1qxVex1L4"
   },
   "source": [
    "### train"
   ]
  },
  {
   "cell_type": "code",
   "execution_count": 4,
   "metadata": {
    "id": "M3XBJMj4x1L5"
   },
   "outputs": [
    {
     "name": "stdout",
     "output_type": "stream",
     "text": [
      "Epoch 1/5\n",
      "1/1 [==============================] - 1s 549ms/step - loss: 0.4636\n",
      "Epoch 2/5\n",
      "1/1 [==============================] - 0s 24ms/step - loss: 0.4483\n",
      "Epoch 3/5\n",
      "1/1 [==============================] - 0s 23ms/step - loss: 0.4361\n",
      "Epoch 4/5\n",
      "1/1 [==============================] - 0s 14ms/step - loss: 0.4266\n",
      "Epoch 5/5\n",
      "1/1 [==============================] - 0s 8ms/step - loss: 0.4186\n"
     ]
    },
    {
     "data": {
      "text/plain": [
       "<keras.callbacks.History at 0x7f6590db68c0>"
      ]
     },
     "execution_count": 4,
     "metadata": {},
     "output_type": "execute_result"
    }
   ],
   "source": [
    "# 5,64\n",
    "model.fit(x_data, y_data, batch_size=64, epochs=5)"
   ]
  },
  {
   "cell_type": "markdown",
   "metadata": {
    "id": "gLEzVkjex1L9"
   },
   "source": [
    "### predict"
   ]
  },
  {
   "cell_type": "code",
   "execution_count": 5,
   "metadata": {
    "id": "IcKpdLe9x1L-"
   },
   "outputs": [
    {
     "name": "stdout",
     "output_type": "stream",
     "text": [
      "1/1 [==============================] - 0s 99ms/step\n"
     ]
    },
    {
     "data": {
      "image/png": "[encoded data removed]",
      "text/plain": [
       "<Figure size 432x288 with 1 Axes>"
      ]
     },
     "metadata": {
      "needs_background": "light"
     },
     "output_type": "display_data"
    }
   ],
   "source": [
    "# from input\n",
    "y_predicted = model.predict(x_data)\n",
    "\n",
    "# plot\n",
    "plt.scatter(x_data[::1], y_data[::1], s=50)\n",
    "plt.plot(x_data, y_predicted, 'r', linewidth=3)\n",
    "plt.grid()\n",
    "#plt.show()\n",
    "plt.savefig('training.png', dpi=300)\n",
    "#files.download(\"training.png\") "
   ]
  },
  {
   "cell_type": "markdown",
   "metadata": {
    "id": "OEEhzK4YHOdC"
   },
   "source": [
    "### video\n"
   ]
  },
  {
   "cell_type": "code",
   "execution_count": 6,
   "metadata": {
    "id": "13RiCs72HMH6"
   },
   "outputs": [],
   "source": [
    "#for x in range(100):\n",
    "#  # One epoch\n",
    "#  model.fit( x_data, y_data, epochs=1, verbose=1)\n",
    "#\n",
    "#  # Compute the output \n",
    "#  y_predicted = model.predict(x_data)\n",
    "#\n",
    "#  # Display the result\n",
    "#  plt.scatter(x_data[::1], y_data[::1], s=2)\n",
    "#  plt.plot(x_data, y_predicted, 'r', linewidth=4)\n",
    "#  plt.grid()\n",
    "#  plt.ylim(top=1.2)  # adjust the top leaving bottom unchanged\n",
    "#  plt.ylim(bottom=-1.2)  \n",
    "#  #plt.show()\n",
    "#  plt.savefig('training-' + str(x) +'-epochs.png',dpi=300)\n",
    "#  #files.download('training-' + str(x) +'-epochs.png') \n",
    "#  plt.clf()\n",
    "\n"
   ]
  },
  {
   "cell_type": "code",
   "execution_count": null,
   "metadata": {},
   "outputs": [],
   "source": []
  }
 ],
 "metadata": {
  "colab": {
   "collapsed_sections": [],
   "include_colab_link": true,
   "name": "nonlinear-regression.ipynb",
   "provenance": []
  },
  "file_extension": ".py",
  "kernelspec": {
   "display_name": "Python 3 (ipykernel)",
   "language": "python",
   "name": "python3"
  },
  "language_info": {
   "codemirror_mode": {
    "name": "ipython",
    "version": 3
   },
   "file_extension": ".py",
   "mimetype": "text/x-python",
   "name": "python",
   "nbconvert_exporter": "python",
   "pygments_lexer": "ipython3",
   "version": "3.10.6"
  },
  "mimetype": "text/x-python",
  "name": "python",
  "npconvert_exporter": "python",
  "pygments_lexer": "ipython3",
  "version": 3
 },
 "nbformat": 4,
 "nbformat_minor": 1
}
