{
 "cells": [
  {
   "cell_type": "markdown",
   "metadata": {
    "id": "qASyOjUDx1Lq"
   },
   "source": [
    "### prepare"
   ]
  },
  {
   "cell_type": "code",
   "execution_count": 1,
   "metadata": {
    "colab": {
     "base_uri": "https://localhost:8080/"
    },
    "id": "Rz1Q7i9xx1Lt",
    "outputId": "9f151272-62c9-4459-9444-89d8f99ca111"
   },
   "outputs": [],
   "source": [
    "# import\n",
    "# pip3 install -U scikit-learn\n",
    "# sudo pacman -S python-scikit-learn\n",
    "from sklearn.preprocessing import MinMaxScaler\n",
    "import numpy as np\n",
    "import matplotlib.pyplot as plt\n",
    "from tensorflow import keras\n",
    "#from google.colab import files\n",
    "import tensorflow as tf\n",
    "import math\n",
    "\n",
    "# data\n",
    "x_data1 = np.array([ [ 1,0 ],[ 1,1 ],[ 1,2 ],[ 1,3 ],[ 1,4 ],[ 1,5 ] ])\n",
    "y_data1 = np.array([ [ 0,10 ],[ 1,11 ],[ 2,12 ],[ 3,13 ],[ 4,14 ],[ 5,15 ] ])\n",
    "\n",
    "x_data2 = np.array([ [ 2,0 ],[ 2,1 ],[ 2,2 ],[ 2,3 ],[ 2,4 ],[ 2,5 ] ])\n",
    "y_data2 = np.array([ [ 1,11 ],[ 2,12 ],[ 3,13 ],[ 4,14 ],[ 5,15 ],[ 6,16 ] ])\n",
    "\n",
    "# construct\n",
    "x_data = x_data1; y_data = y_data1\n",
    "x_data = np.append(x_data,x_data2,axis=0); y_data = np.append(y_data,y_data2,axis=0)\n",
    "\n",
    "# test\n",
    "x_dataT = np.array([ [ 1.5,0 ],[ 1.5,1 ],[ 1.5,2 ],[ 1.5,3 ],[ 1.5,4 ],[ 1.5,5 ] ])\n",
    "x_data = np.append(x_data,x_dataT,axis=0)"
   ]
  },
  {
   "cell_type": "code",
   "execution_count": 2,
   "metadata": {},
   "outputs": [],
   "source": [
    "#x_data[:,[1]] # x_data[:,[1]], x_data[:]"
   ]
  },
  {
   "cell_type": "code",
   "execution_count": 3,
   "metadata": {},
   "outputs": [],
   "source": [
    "#y_data[:,[1]] # y_data[:,[1]], y_data[:]"
   ]
  },
  {
   "cell_type": "code",
   "execution_count": 4,
   "metadata": {
    "colab": {
     "base_uri": "https://localhost:8080/"
    },
    "id": "Rz1Q7i9xx1Lt",
    "outputId": "9f151272-62c9-4459-9444-89d8f99ca111"
   },
   "outputs": [
    {
     "name": "stdout",
     "output_type": "stream",
     "text": [
      "x shape is  (18, 2)\n",
      "y shape is  (12, 2)\n"
     ]
    }
   ],
   "source": [
    "# non-dimensionalize\n",
    "x_data = MinMaxScaler().fit_transform(x_data)\n",
    "y_data = MinMaxScaler().fit_transform(y_data)\n",
    "\n",
    "# shape\n",
    "print(\"x shape is \", x_data.shape)\n",
    "print(\"y shape is \", y_data.shape)"
   ]
  },
  {
   "cell_type": "code",
   "execution_count": 5,
   "metadata": {},
   "outputs": [
    {
     "data": {
      "text/plain": [
       "array([[0. , 0. ],\n",
       "       [0. , 0.2],\n",
       "       [0. , 0.4],\n",
       "       [0. , 0.6],\n",
       "       [0. , 0.8],\n",
       "       [0. , 1. ],\n",
       "       [1. , 0. ],\n",
       "       [1. , 0.2],\n",
       "       [1. , 0.4],\n",
       "       [1. , 0.6],\n",
       "       [1. , 0.8],\n",
       "       [1. , 1. ],\n",
       "       [0.5, 0. ],\n",
       "       [0.5, 0.2],\n",
       "       [0.5, 0.4],\n",
       "       [0.5, 0.6],\n",
       "       [0.5, 0.8],\n",
       "       [0.5, 1. ]])"
      ]
     },
     "execution_count": 5,
     "metadata": {},
     "output_type": "execute_result"
    }
   ],
   "source": [
    "x_data[:] # x_data[:,[1]], x_data[:]"
   ]
  },
  {
   "cell_type": "code",
   "execution_count": 6,
   "metadata": {},
   "outputs": [],
   "source": [
    "#y_data[:] # y_data[:,[1]], y_data[:]"
   ]
  },
  {
   "cell_type": "code",
   "execution_count": 7,
   "metadata": {},
   "outputs": [],
   "source": [
    "# retrieve\n",
    "l1=len(x_data1);l2=len(x_data2)\n",
    "lT=len(x_dataT) # test\n",
    "x_data1n = x_data[0:l1]\n",
    "x_data2n = x_data[l1:l1+l2]\n",
    "x_dataTn = x_data[l1+l2:l1+l2+lT] # test"
   ]
  },
  {
   "cell_type": "code",
   "execution_count": 8,
   "metadata": {},
   "outputs": [],
   "source": [
    "#x_data1n[:]"
   ]
  },
  {
   "cell_type": "code",
   "execution_count": 9,
   "metadata": {},
   "outputs": [],
   "source": [
    "#x_data2n[:]"
   ]
  },
  {
   "cell_type": "code",
   "execution_count": 10,
   "metadata": {},
   "outputs": [],
   "source": [
    "#x_data6n[:]"
   ]
  },
  {
   "cell_type": "code",
   "execution_count": 11,
   "metadata": {},
   "outputs": [
    {
     "name": "stdout",
     "output_type": "stream",
     "text": [
      "x shape is  (12, 2)\n",
      "y shape is  (12, 2)\n"
     ]
    }
   ],
   "source": [
    "# remove test from non-dimensionalize\n",
    "\n",
    "x_data = x_data[:l1+l2]\n",
    "\n",
    "# shape\n",
    "print(\"x shape is \", x_data.shape)\n",
    "print(\"y shape is \", y_data.shape)"
   ]
  },
  {
   "cell_type": "markdown",
   "metadata": {
    "id": "RGNdmgOKAg_D"
   },
   "source": [
    "### show"
   ]
  },
  {
   "cell_type": "code",
   "execution_count": 12,
   "metadata": {
    "colab": {
     "base_uri": "https://localhost:8080/",
     "height": 283
    },
    "id": "zYrNbXAsAf9N",
    "outputId": "e367e7da-7b10-46bd-b58b-1c6ec6616fab"
   },
   "outputs": [
    {
     "data": {
      "image/png": "[encoded data removed]",
      "text/plain": [
       "<Figure size 640x480 with 1 Axes>"
      ]
     },
     "metadata": {},
     "output_type": "display_data"
    },
    {
     "data": {
      "text/plain": [
       "<Figure size 640x480 with 0 Axes>"
      ]
     },
     "metadata": {},
     "output_type": "display_data"
    }
   ],
   "source": [
    "# plot\n",
    "plt.scatter(x_data[::,[1]], y_data[::,[0]], s=50)\n",
    "plt.scatter(x_data[::,[1]], y_data[::,[1]], s=50)\n",
    "plt.grid()\n",
    "plt.show()\n",
    "plt.savefig('dataset.png',dpi=300)\n",
    "#files.download('dataset.png') "
   ]
  },
  {
   "cell_type": "markdown",
   "metadata": {
    "id": "5f_ikNz8x1Lz"
   },
   "source": [
    "### model"
   ]
  },
  {
   "cell_type": "code",
   "execution_count": 13,
   "metadata": {
    "colab": {
     "base_uri": "https://localhost:8080/",
     "height": 244
    },
    "id": "sMvpBFj5x1L0",
    "outputId": "90bd03ca-c48b-4f5a-d322-bcb6bd76a03d",
    "scrolled": true
   },
   "outputs": [
    {
     "name": "stderr",
     "output_type": "stream",
     "text": [
      "2022-08-23 16:03:30.141735: I tensorflow/core/platform/cpu_feature_guard.cc:193] This TensorFlow binary is optimized with oneAPI Deep Neural Network Library (oneDNN) to use the following CPU instructions in performance-critical operations:  FMA\n",
      "To enable them in other operations, rebuild TensorFlow with the appropriate compiler flags.\n",
      "2022-08-23 16:03:30.143404: I tensorflow/core/common_runtime/process_util.cc:146] Creating new thread pool with default inter op setting: 2. Tune using inter_op_parallelism_threads for best performance.\n"
     ]
    }
   ],
   "source": [
    "# 2^n,relu,adam,mse\n",
    "\n",
    "# input layer\n",
    "n_features = x_data.shape[1]\n",
    "inputs  = keras.Input(shape=(n_features,))\n",
    "\n",
    "dense   = keras.layers.Dense(512, activation=\"relu\")\n",
    "\n",
    "x       = dense(inputs)\n",
    "x       = keras.layers.Dense(256, activation=\"relu\")(x)\n",
    "x       = keras.layers.Dense(128, activation=\"relu\")(x)\n",
    "x       = keras.layers.Dense(64, activation=\"relu\")(x)\n",
    "x       = keras.layers.Dense(16, activation=\"relu\")(x)\n",
    "\n",
    "# output layer\n",
    "n_qualities = y_data.shape[1]\n",
    "outputs = keras.layers.Dense(n_qualities)(x)\n",
    "\n",
    "#model = keras.Sequential()\n",
    "#model.add(keras.layers.Dense(units=128,input_shape=(1,), activation='relu'))\n",
    "#model.add(keras.layers.Dense(64, activation='relu'))\n",
    "#model.add(keras.layers.Dense(32, activation='relu'))\n",
    "#model.add(keras.layers.Dense(16, activation='relu'))\n",
    "#model.add(keras.layers.Dense(1,))\n",
    "\n",
    "# model\n",
    "model = keras.Model(inputs=inputs, outputs=outputs)\n",
    "model.compile(optimizer='adam', loss='mse')\n",
    "#model.summary()"
   ]
  },
  {
   "cell_type": "markdown",
   "metadata": {
    "id": "Sxr1qxVex1L4"
   },
   "source": [
    "### train"
   ]
  },
  {
   "cell_type": "code",
   "execution_count": 14,
   "metadata": {
    "id": "M3XBJMj4x1L5"
   },
   "outputs": [
    {
     "data": {
      "text/plain": [
       "<keras.callbacks.History at 0x7f0d062feb90>"
      ]
     },
     "execution_count": 14,
     "metadata": {},
     "output_type": "execute_result"
    }
   ],
   "source": [
    "# 300,64\n",
    "model.fit(x_data, y_data, batch_size=64, epochs=300, verbose=0)"
   ]
  },
  {
   "cell_type": "markdown",
   "metadata": {
    "id": "gLEzVkjex1L9"
   },
   "source": [
    "### predict"
   ]
  },
  {
   "cell_type": "code",
   "execution_count": 15,
   "metadata": {
    "id": "IcKpdLe9x1L-"
   },
   "outputs": [
    {
     "name": "stdout",
     "output_type": "stream",
     "text": [
      "1/1 [==============================] - 0s 197ms/step\n",
      "1/1 [==============================] - 0s 45ms/step\n",
      "1/1 [==============================] - 0s 51ms/step\n"
     ]
    }
   ],
   "source": [
    "# from input\n",
    "#y_predicted = model.predict(x_data)\n",
    "y_predicted1n = model.predict(x_data1n)\n",
    "y_predicted2n = model.predict(x_data2n)\n",
    "y_predictedTn = model.predict(x_dataTn) # test"
   ]
  },
  {
   "cell_type": "code",
   "execution_count": 16,
   "metadata": {},
   "outputs": [],
   "source": [
    "#x_data1n[:,[1]]"
   ]
  },
  {
   "cell_type": "code",
   "execution_count": 17,
   "metadata": {},
   "outputs": [],
   "source": [
    "#y_predicted1n[:,[1]]"
   ]
  },
  {
   "cell_type": "code",
   "execution_count": 18,
   "metadata": {
    "id": "IcKpdLe9x1L-",
    "scrolled": true
   },
   "outputs": [
    {
     "data": {
      "image/png": "[encoded data removed]",
      "text/plain": [
       "<Figure size 640x480 with 2 Axes>"
      ]
     },
     "metadata": {},
     "output_type": "display_data"
    }
   ],
   "source": [
    "fig, (ax1, ax2) = plt.subplots(2,1)\n",
    "\n",
    "# plot 1, 0: data set 1\n",
    "#plt.scatter(x_data[:,[1]], y_data[:,[0]], s=50)\n",
    "ax1.scatter(x_data1n[:,[1]], y_predicted1n[:,[0]], s=50)\n",
    "ax1.plot( x_data1n[:,[1]], y_predicted1n[:,[0]], 'b', linewidth=2)\n",
    "ax1.scatter(x_data2n[:,[1]], y_predicted2n[:,[0]], s=50)\n",
    "ax1.plot( x_data2n[:,[1]], y_predicted2n[:,[0]], 'b', linewidth=2)\n",
    "ax1.plot( x_dataTn[:,[1]], y_predictedTn[:,[0]], 'y', linewidth=2)\n",
    "ax1.grid()\n",
    "\n",
    "# plot 2, 1: data set 2\n",
    "#plt.scatter(x_data[:,[1]], y_data[:,[1]], s=50)\n",
    "ax2.scatter(x_data1n[:,[1]], y_predicted1n[:,[1]], s=50)\n",
    "ax2.plot( x_data1n[:,[1]], y_predicted1n[:,[1]], 'r', linewidth=2)\n",
    "ax2.scatter(x_data2n[:,[1]], y_predicted2n[:,[1]], s=50)\n",
    "ax2.plot( x_data2n[:,[1]], y_predicted2n[:,[1]], 'r', linewidth=2)\n",
    "ax2.plot( x_dataTn[:,[1]], y_predictedTn[:,[1]], 'y', linewidth=2)\n",
    "ax2.grid()\n",
    "\n",
    "#plt.show()\n",
    "plt.savefig('training.png', dpi=100)\n",
    "#files.download(\"training.png\") "
   ]
  },
  {
   "cell_type": "markdown",
   "metadata": {
    "id": "OEEhzK4YHOdC"
   },
   "source": [
    "### video\n"
   ]
  },
  {
   "cell_type": "code",
   "execution_count": 19,
   "metadata": {
    "id": "13RiCs72HMH6"
   },
   "outputs": [],
   "source": [
    "#for x in range(100):\n",
    "#  # One epoch\n",
    "#  model.fit( x_data, y_data, epochs=1, verbose=1)\n",
    "#\n",
    "#  # Compute the output \n",
    "#  y_predicted = model.predict(x_data)\n",
    "#\n",
    "#  # Display the result\n",
    "#  plt.scatter(x_data[::1], y_data[::1], s=2)\n",
    "#  plt.plot(x_data, y_predicted, 'r', linewidth=4)\n",
    "#  plt.grid()\n",
    "#  plt.ylim(top=1.2)  # adjust the top leaving bottom unchanged\n",
    "#  plt.ylim(bottom=-1.2)  \n",
    "#  #plt.show()\n",
    "#  plt.savefig('training-' + str(x) +'-epochs.png',dpi=300)\n",
    "#  #files.download('training-' + str(x) +'-epochs.png') \n",
    "#  plt.clf()\n",
    "\n"
   ]
  },
  {
   "cell_type": "code",
   "execution_count": null,
   "metadata": {},
   "outputs": [],
   "source": []
  }
 ],
 "metadata": {
  "colab": {
   "collapsed_sections": [],
   "include_colab_link": true,
   "name": "nonlinear-regression.ipynb",
   "provenance": []
  },
  "file_extension": ".py",
  "kernelspec": {
   "display_name": "Python 3 (ipykernel)",
   "language": "python",
   "name": "python3"
  },
  "language_info": {
   "codemirror_mode": {
    "name": "ipython",
    "version": 3
   },
   "file_extension": ".py",
   "mimetype": "text/x-python",
   "name": "python",
   "nbconvert_exporter": "python",
   "pygments_lexer": "ipython3",
   "version": "3.10.6"
  },
  "mimetype": "text/x-python",
  "name": "python",
  "npconvert_exporter": "python",
  "pygments_lexer": "ipython3",
  "version": 3
 },
 "nbformat": 4,
 "nbformat_minor": 1
}
