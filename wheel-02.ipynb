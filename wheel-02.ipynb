{
 "cells": [
  {
   "cell_type": "markdown",
   "metadata": {
    "id": "qASyOjUDx1Lq"
   },
   "source": [
    "### prepare"
   ]
  },
  {
   "cell_type": "code",
   "execution_count": 1,
   "metadata": {
    "executionInfo": {
     "elapsed": 4537,
     "status": "ok",
     "timestamp": 1661420525587,
     "user": {
      "displayName": "Thomas Bielinger",
      "userId": "06702926197276526237"
     },
     "user_tz": -120
    },
    "id": "Rz1Q7i9xx1Lt"
   },
   "outputs": [],
   "source": [
    "# import\n",
    "# pip3 install -U scikit-learn\n",
    "# sudo pacman -S python-scikit-learn\n",
    "from sklearn.preprocessing import MinMaxScaler\n",
    "import numpy as np\n",
    "from sys import maxsize\n",
    "np.set_printoptions(threshold=maxsize)\n",
    "import matplotlib.pyplot as plt\n",
    "from tensorflow import keras\n",
    "#from google.colab import files\n",
    "import tensorflow as tf\n",
    "import math"
   ]
  },
  {
   "cell_type": "code",
   "execution_count": 2,
   "metadata": {},
   "outputs": [],
   "source": [
    "from IPython.core.interactiveshell import InteractiveShell\n",
    "InteractiveShell.ast_node_interactivity = \"all\""
   ]
  },
  {
   "cell_type": "code",
   "execution_count": 3,
   "metadata": {},
   "outputs": [
    {
     "data": {
      "text/plain": [
       "'/mnt/815c1698-0606-4299-aed1-5b838adaea93/BLOCK/GITHUB/network'"
      ]
     },
     "execution_count": 3,
     "metadata": {},
     "output_type": "execute_result"
    },
    {
     "name": "stdout",
     "output_type": "stream",
     "text": [
      "/mnt/815c1698-0606-4299-aed1-5b838adaea93/BLOCK/GITHUB/network\n"
     ]
    }
   ],
   "source": [
    "%pwd\n",
    "%cd /mnt/815c1698-0606-4299-aed1-5b838adaea93/BLOCK/GITHUB/network/"
   ]
  },
  {
   "cell_type": "code",
   "execution_count": 4,
   "metadata": {
    "executionInfo": {
     "elapsed": 4537,
     "status": "ok",
     "timestamp": 1661420525587,
     "user": {
      "displayName": "Thomas Bielinger",
      "userId": "06702926197276526237"
     },
     "user_tz": -120
    },
    "id": "Rz1Q7i9xx1Lt"
   },
   "outputs": [],
   "source": [
    "# data: wheel\n",
    "ttech3924 = np.loadtxt(open(\"data_wheel/39-muma-24.csv\", \"rb\"), delimiter=\",\", skiprows=0)\n",
    "ttech3928 = np.loadtxt(open(\"data_wheel/39-muma-28.csv\", \"rb\"), delimiter=\",\", skiprows=0)\n",
    "ttech3932 = np.loadtxt(open(\"data_wheel/39-muma-32.csv\", \"rb\"), delimiter=\",\", skiprows=0)\n",
    "#\n",
    "ttech4724 = np.loadtxt(open(\"data_wheel/47-muma-24.csv\", \"rb\"), delimiter=\",\", skiprows=0)\n",
    "ttech4728 = np.loadtxt(open(\"data_wheel/47-muma-28.csv\", \"rb\"), delimiter=\",\", skiprows=0)\n",
    "ttech4732 = np.loadtxt(open(\"data_wheel/47-muma-32.csv\", \"rb\"), delimiter=\",\", skiprows=0)\n",
    "#\n",
    "ttech5524 = np.loadtxt(open(\"data_wheel/55-muma-24.csv\", \"rb\"), delimiter=\",\", skiprows=0)\n",
    "ttech5528 = np.loadtxt(open(\"data_wheel/55-muma-28.csv\", \"rb\"), delimiter=\",\", skiprows=0)\n",
    "ttech5532 = np.loadtxt(open(\"data_wheel/55-muma-32.csv\", \"rb\"), delimiter=\",\", skiprows=0)"
   ]
  },
  {
   "cell_type": "code",
   "execution_count": 5,
   "metadata": {
    "executionInfo": {
     "elapsed": 4537,
     "status": "ok",
     "timestamp": 1661420525587,
     "user": {
      "displayName": "Thomas Bielinger",
      "userId": "06702926197276526237"
     },
     "user_tz": -120
    },
    "id": "Rz1Q7i9xx1Lt"
   },
   "outputs": [],
   "source": [
    "# add volute size\n",
    "ttech3924 = np.insert(ttech3924, 0, values=24, axis=1)\n",
    "ttech3928 = np.insert(ttech3928, 0, values=28, axis=1)\n",
    "ttech3932 = np.insert(ttech3932, 0, values=32, axis=1)\n",
    "#\n",
    "ttech4724 = np.insert(ttech4724, 0, values=24, axis=1)\n",
    "ttech4728 = np.insert(ttech4728, 0, values=28, axis=1)\n",
    "ttech4732 = np.insert(ttech4732, 0, values=32, axis=1)\n",
    "#\n",
    "ttech5524 = np.insert(ttech5524, 0, values=24, axis=1)\n",
    "ttech5528 = np.insert(ttech5528, 0, values=28, axis=1)\n",
    "ttech5532 = np.insert(ttech5532, 0, values=32, axis=1)"
   ]
  },
  {
   "cell_type": "code",
   "execution_count": 6,
   "metadata": {
    "executionInfo": {
     "elapsed": 4537,
     "status": "ok",
     "timestamp": 1661420525587,
     "user": {
      "displayName": "Thomas Bielinger",
      "userId": "06702926197276526237"
     },
     "user_tz": -120
    },
    "id": "Rz1Q7i9xx1Lt"
   },
   "outputs": [],
   "source": [
    "# add wheel size\n",
    "ttech3924 = np.insert(ttech3924, 0, values=39, axis=1)\n",
    "ttech3928 = np.insert(ttech3928, 0, values=39, axis=1)\n",
    "ttech3932 = np.insert(ttech3932, 0, values=39, axis=1)\n",
    "#\n",
    "ttech4724 = np.insert(ttech4724, 0, values=47, axis=1)\n",
    "ttech4728 = np.insert(ttech4728, 0, values=47, axis=1)\n",
    "ttech4732 = np.insert(ttech4732, 0, values=47, axis=1)\n",
    "#\n",
    "ttech5524 = np.insert(ttech5524, 0, values=55, axis=1)\n",
    "ttech5528 = np.insert(ttech5528, 0, values=55, axis=1)\n",
    "ttech5532 = np.insert(ttech5532, 0, values=55, axis=1)"
   ]
  },
  {
   "cell_type": "code",
   "execution_count": 7,
   "metadata": {
    "executionInfo": {
     "elapsed": 4537,
     "status": "ok",
     "timestamp": 1661420525587,
     "user": {
      "displayName": "Thomas Bielinger",
      "userId": "06702926197276526237"
     },
     "user_tz": -120
    },
    "id": "Rz1Q7i9xx1Lt"
   },
   "outputs": [],
   "source": [
    "# assemble\n",
    "ttechall = ttech3924\n",
    "ttechall = np.append(ttechall,ttech3928,axis=0);\n",
    "ttechall = np.append(ttechall,ttech3932,axis=0);\n",
    "ttechall = np.append(ttechall,ttech4724,axis=0);\n",
    "ttechall = np.append(ttechall,ttech4728,axis=0);\n",
    "ttechall = np.append(ttechall,ttech4732,axis=0);\n",
    "ttechall = np.append(ttechall,ttech5524,axis=0);\n",
    "ttechall = np.append(ttechall,ttech5528,axis=0);\n",
    "ttechall = np.append(ttechall,ttech5532,axis=0);"
   ]
  },
  {
   "cell_type": "code",
   "execution_count": 8,
   "metadata": {
    "executionInfo": {
     "elapsed": 4537,
     "status": "ok",
     "timestamp": 1661420525587,
     "user": {
      "displayName": "Thomas Bielinger",
      "userId": "06702926197276526237"
     },
     "user_tz": -120
    },
    "id": "Rz1Q7i9xx1Lt"
   },
   "outputs": [],
   "source": [
    "# split x, y\n",
    "x_data = ttechall[0:len(ttechall),[0,1,2,3]]\n",
    "y_data = ttechall[0:len(ttechall),[4,5]]"
   ]
  },
  {
   "cell_type": "code",
   "execution_count": 9,
   "metadata": {},
   "outputs": [
    {
     "name": "stdout",
     "output_type": "stream",
     "text": [
      "x shape is  (1328, 4)\n",
      "y shape is  (1328, 2)\n"
     ]
    }
   ],
   "source": [
    "# shape\n",
    "print(\"x shape is \", x_data.shape)\n",
    "print(\"y shape is \", y_data.shape)"
   ]
  },
  {
   "cell_type": "markdown",
   "metadata": {
    "id": "RGNdmgOKAg_D"
   },
   "source": [
    "### test"
   ]
  },
  {
   "cell_type": "code",
   "execution_count": 10,
   "metadata": {
    "executionInfo": {
     "elapsed": 4537,
     "status": "ok",
     "timestamp": 1661420525587,
     "user": {
      "displayName": "Thomas Bielinger",
      "userId": "06702926197276526237"
     },
     "user_tz": -120
    },
    "id": "Rz1Q7i9xx1Lt"
   },
   "outputs": [
    {
     "data": {
      "text/plain": [
       "array([[ 50.        ,  30.        , 400.        ,   1.5       ],\n",
       "       [ 50.        ,  30.        , 400.        ,   1.66096929],\n",
       "       [ 50.        ,  30.        , 400.        ,   1.83014111],\n",
       "       [ 50.        ,  30.        , 400.        ,   2.00751546],\n",
       "       [ 50.        ,  30.        , 400.        ,   2.19309233],\n",
       "       [ 50.        ,  30.        , 400.        ,   2.38687173],\n",
       "       [ 50.        ,  30.        , 400.        ,   2.58885365],\n",
       "       [ 50.        ,  30.        , 400.        ,   2.79903811],\n",
       "       [ 50.        ,  30.        , 400.        ,   3.01742508],\n",
       "       [ 50.        ,  30.        , 400.        ,   3.24401459],\n",
       "       [ 50.        ,  30.        , 400.        ,   3.47880662],\n",
       "       [ 50.        ,  30.        , 400.        ,   3.72180117],\n",
       "       [ 50.        ,  30.        , 400.        ,   3.97299826],\n",
       "       [ 50.        ,  30.        , 400.        ,   4.23239786],\n",
       "       [ 50.        ,  30.        , 400.        ,   4.5       ]])"
      ]
     },
     "execution_count": 10,
     "metadata": {},
     "output_type": "execute_result"
    }
   ],
   "source": [
    "# test\n",
    "#x_dataT_24 = np.array([ [24,310,1.44389],[24,310,1.48225],[24,310,1.52611],[24,310,1.57655],[24,310,1.63571],\n",
    "#                        [24,310,1.70551],[24,310,1.78899],[24,310,1.88981],[24,310,2.01351],[24,310,2.16737],\n",
    "#                        [24,310,2.36391],[24,310,2.62075],[24,310,2.96815],[24,310,3.45468],[24,310,4.16895]])\n",
    "############################################\n",
    "N = 15\n",
    "a = np.tile(np.array([50,30,400]),(N,1)); #a\n",
    "\n",
    "x = [0,0,0,0]\n",
    "y = np.linspace(np.sqrt(1.5),np.sqrt(4.5), N)**2\n",
    "X,Yb = np.meshgrid(x,y); #Yb\n",
    "\n",
    "Yb[:,:-1] = a; Yb\n",
    "x_dataT = Yb\n",
    "############################################\n",
    "\n",
    "x_data = np.append(x_data,x_dataT,axis=0)"
   ]
  },
  {
   "cell_type": "markdown",
   "metadata": {
    "id": "RGNdmgOKAg_D"
   },
   "source": [
    "### normalize"
   ]
  },
  {
   "cell_type": "code",
   "execution_count": 11,
   "metadata": {
    "colab": {
     "base_uri": "https://localhost:8080/"
    },
    "executionInfo": {
     "elapsed": 26,
     "status": "ok",
     "timestamp": 1661420525593,
     "user": {
      "displayName": "Thomas Bielinger",
      "userId": "06702926197276526237"
     },
     "user_tz": -120
    },
    "id": "WVKBnQcsDNWk",
    "outputId": "8c3e95f4-f305-4305-9aa3-e8b76e92f806"
   },
   "outputs": [
    {
     "name": "stdout",
     "output_type": "stream",
     "text": [
      "x shape is  (1343, 4)\n",
      "y shape is  (1328, 2)\n"
     ]
    }
   ],
   "source": [
    "# normalize\n",
    "x_datan = MinMaxScaler().fit_transform(x_data)\n",
    "y_datan = MinMaxScaler().fit_transform(y_data)\n",
    "\n",
    "# shape\n",
    "print(\"x shape is \", x_data.shape)\n",
    "print(\"y shape is \", y_data.shape)"
   ]
  },
  {
   "cell_type": "code",
   "execution_count": 12,
   "metadata": {
    "executionInfo": {
     "elapsed": 17,
     "status": "ok",
     "timestamp": 1661420525595,
     "user": {
      "displayName": "Thomas Bielinger",
      "userId": "06702926197276526237"
     },
     "user_tz": -120
    },
    "id": "nnU-lPqDDNWl"
   },
   "outputs": [],
   "source": [
    "# test length\n",
    "lenT = len(x_dataT)\n",
    "# extract test\n",
    "x_dataTn = x_datan[-lenT:,[0,1,2,3]]\n",
    "# remove test\n",
    "x_datan = x_datan[:-lenT]"
   ]
  },
  {
   "cell_type": "code",
   "execution_count": 13,
   "metadata": {
    "colab": {
     "base_uri": "https://localhost:8080/"
    },
    "executionInfo": {
     "elapsed": 8,
     "status": "ok",
     "timestamp": 1661420525944,
     "user": {
      "displayName": "Thomas Bielinger",
      "userId": "06702926197276526237"
     },
     "user_tz": -120
    },
    "id": "ws_-LECGDNWl",
    "outputId": "57872a61-4cce-4137-c411-4172710ce9a4"
   },
   "outputs": [
    {
     "name": "stdout",
     "output_type": "stream",
     "text": [
      "x shape is  (1328, 4)\n",
      "y shape is  (1328, 2)\n"
     ]
    }
   ],
   "source": [
    "# check shape\n",
    "print(\"x shape is \", x_datan.shape)\n",
    "print(\"y shape is \", y_datan.shape)"
   ]
  },
  {
   "cell_type": "markdown",
   "metadata": {
    "id": "RGNdmgOKAg_D"
   },
   "source": [
    "### show"
   ]
  },
  {
   "cell_type": "code",
   "execution_count": 14,
   "metadata": {
    "colab": {
     "base_uri": "https://localhost:8080/",
     "height": 282
    },
    "executionInfo": {
     "elapsed": 1026,
     "status": "ok",
     "timestamp": 1661420526965,
     "user": {
      "displayName": "Thomas Bielinger",
      "userId": "06702926197276526237"
     },
     "user_tz": -120
    },
    "id": "zYrNbXAsAf9N",
    "outputId": "2c7a86b0-1040-4bad-9739-94afbc84ac52"
   },
   "outputs": [
    {
     "data": {
      "text/plain": [
       "<matplotlib.collections.PathCollection at 0x7fb3221a6d10>"
      ]
     },
     "execution_count": 14,
     "metadata": {},
     "output_type": "execute_result"
    },
    {
     "data": {
      "text/plain": [
       "<matplotlib.collections.PathCollection at 0x7fb395529cc0>"
      ]
     },
     "execution_count": 14,
     "metadata": {},
     "output_type": "execute_result"
    },
    {
     "data": {
      "image/png": "[encoded data removed]",
      "text/plain": [
       "<Figure size 640x480 with 1 Axes>"
      ]
     },
     "metadata": {},
     "output_type": "display_data"
    }
   ],
   "source": [
    "# plot\n",
    "plt.scatter(x_datan[:,[3]], y_datan[:,[0]], s=50)\n",
    "plt.scatter(x_datan[:,[3]], y_datan[:,[1]], s=50)\n",
    "plt.grid()\n",
    "#plt.show()\n",
    "plt.savefig('dataset.png',dpi=300)\n",
    "#files.download('dataset.png') "
   ]
  },
  {
   "cell_type": "markdown",
   "metadata": {
    "id": "5f_ikNz8x1Lz"
   },
   "source": [
    "### model"
   ]
  },
  {
   "cell_type": "code",
   "execution_count": 15,
   "metadata": {
    "executionInfo": {
     "elapsed": 377,
     "status": "ok",
     "timestamp": 1661420528402,
     "user": {
      "displayName": "Thomas Bielinger",
      "userId": "06702926197276526237"
     },
     "user_tz": -120
    },
    "id": "sMvpBFj5x1L0",
    "scrolled": true
   },
   "outputs": [
    {
     "ename": "ModuleNotFoundError",
     "evalue": "No module named 'tensorflow.python.trackable'",
     "output_type": "error",
     "traceback": [
      "\u001b[0;31m---------------------------------------------------------------------------\u001b[0m",
      "\u001b[0;31mModuleNotFoundError\u001b[0m                       Traceback (most recent call last)",
      "\u001b[1;32m/mnt/815c1698-0606-4299-aed1-5b838adaea93/BLOCK/GITHUB/network/wheel-02.ipynb Cell 20\u001b[0m in \u001b[0;36m<cell line: 5>\u001b[0;34m()\u001b[0m\n\u001b[1;32m      <a href='vscode-notebook-cell:/mnt/815c1698-0606-4299-aed1-5b838adaea93/BLOCK/GITHUB/network/wheel-02.ipynb#X25sZmlsZQ%3D%3D?line=0'>1</a>\u001b[0m \u001b[39m# 2^n,relu,adam,mse\u001b[39;00m\n\u001b[1;32m      <a href='vscode-notebook-cell:/mnt/815c1698-0606-4299-aed1-5b838adaea93/BLOCK/GITHUB/network/wheel-02.ipynb#X25sZmlsZQ%3D%3D?line=1'>2</a>\u001b[0m \n\u001b[1;32m      <a href='vscode-notebook-cell:/mnt/815c1698-0606-4299-aed1-5b838adaea93/BLOCK/GITHUB/network/wheel-02.ipynb#X25sZmlsZQ%3D%3D?line=2'>3</a>\u001b[0m \u001b[39m# input layer\u001b[39;00m\n\u001b[1;32m      <a href='vscode-notebook-cell:/mnt/815c1698-0606-4299-aed1-5b838adaea93/BLOCK/GITHUB/network/wheel-02.ipynb#X25sZmlsZQ%3D%3D?line=3'>4</a>\u001b[0m n_features \u001b[39m=\u001b[39m x_datan\u001b[39m.\u001b[39mshape[\u001b[39m1\u001b[39m]\n\u001b[0;32m----> <a href='vscode-notebook-cell:/mnt/815c1698-0606-4299-aed1-5b838adaea93/BLOCK/GITHUB/network/wheel-02.ipynb#X25sZmlsZQ%3D%3D?line=4'>5</a>\u001b[0m inputs  \u001b[39m=\u001b[39m keras\u001b[39m.\u001b[39;49mInput(shape\u001b[39m=\u001b[39m(n_features,))\n\u001b[1;32m      <a href='vscode-notebook-cell:/mnt/815c1698-0606-4299-aed1-5b838adaea93/BLOCK/GITHUB/network/wheel-02.ipynb#X25sZmlsZQ%3D%3D?line=6'>7</a>\u001b[0m dense   \u001b[39m=\u001b[39m keras\u001b[39m.\u001b[39mlayers\u001b[39m.\u001b[39mDense(\u001b[39m256\u001b[39m, activation\u001b[39m=\u001b[39m\u001b[39m\"\u001b[39m\u001b[39mrelu\u001b[39m\u001b[39m\"\u001b[39m)\n\u001b[1;32m      <a href='vscode-notebook-cell:/mnt/815c1698-0606-4299-aed1-5b838adaea93/BLOCK/GITHUB/network/wheel-02.ipynb#X25sZmlsZQ%3D%3D?line=7'>8</a>\u001b[0m x       \u001b[39m=\u001b[39m dense(inputs)\n",
      "File \u001b[0;32m/usr/lib/python3.10/site-packages/tensorflow/python/util/lazy_loader.py:58\u001b[0m, in \u001b[0;36mLazyLoader.__getattr__\u001b[0;34m(self, item)\u001b[0m\n\u001b[1;32m     57\u001b[0m \u001b[39mdef\u001b[39;00m \u001b[39m__getattr__\u001b[39m(\u001b[39mself\u001b[39m, item):\n\u001b[0;32m---> 58\u001b[0m   module \u001b[39m=\u001b[39m \u001b[39mself\u001b[39;49m\u001b[39m.\u001b[39;49m_load()\n\u001b[1;32m     59\u001b[0m   \u001b[39mreturn\u001b[39;00m \u001b[39mgetattr\u001b[39m(module, item)\n",
      "File \u001b[0;32m/usr/lib/python3.10/site-packages/tensorflow/python/util/lazy_loader.py:41\u001b[0m, in \u001b[0;36mLazyLoader._load\u001b[0;34m(self)\u001b[0m\n\u001b[1;32m     39\u001b[0m \u001b[39m\"\"\"Load the module and insert it into the parent's globals.\"\"\"\u001b[39;00m\n\u001b[1;32m     40\u001b[0m \u001b[39m# Import the target module and insert it into the parent's namespace\u001b[39;00m\n\u001b[0;32m---> 41\u001b[0m module \u001b[39m=\u001b[39m importlib\u001b[39m.\u001b[39;49mimport_module(\u001b[39mself\u001b[39;49m\u001b[39m.\u001b[39;49m\u001b[39m__name__\u001b[39;49m)\n\u001b[1;32m     42\u001b[0m \u001b[39mself\u001b[39m\u001b[39m.\u001b[39m_parent_module_globals[\u001b[39mself\u001b[39m\u001b[39m.\u001b[39m_local_name] \u001b[39m=\u001b[39m module\n\u001b[1;32m     44\u001b[0m \u001b[39m# Emit a warning if one was specified\u001b[39;00m\n",
      "File \u001b[0;32m/usr/lib/python3.10/importlib/__init__.py:126\u001b[0m, in \u001b[0;36mimport_module\u001b[0;34m(name, package)\u001b[0m\n\u001b[1;32m    124\u001b[0m             \u001b[39mbreak\u001b[39;00m\n\u001b[1;32m    125\u001b[0m         level \u001b[39m+\u001b[39m\u001b[39m=\u001b[39m \u001b[39m1\u001b[39m\n\u001b[0;32m--> 126\u001b[0m \u001b[39mreturn\u001b[39;00m _bootstrap\u001b[39m.\u001b[39;49m_gcd_import(name[level:], package, level)\n",
      "File \u001b[0;32m<frozen importlib._bootstrap>:1050\u001b[0m, in \u001b[0;36m_gcd_import\u001b[0;34m(name, package, level)\u001b[0m\n",
      "File \u001b[0;32m<frozen importlib._bootstrap>:1027\u001b[0m, in \u001b[0;36m_find_and_load\u001b[0;34m(name, import_)\u001b[0m\n",
      "File \u001b[0;32m<frozen importlib._bootstrap>:992\u001b[0m, in \u001b[0;36m_find_and_load_unlocked\u001b[0;34m(name, import_)\u001b[0m\n",
      "File \u001b[0;32m<frozen importlib._bootstrap>:241\u001b[0m, in \u001b[0;36m_call_with_frames_removed\u001b[0;34m(f, *args, **kwds)\u001b[0m\n",
      "File \u001b[0;32m<frozen importlib._bootstrap>:1050\u001b[0m, in \u001b[0;36m_gcd_import\u001b[0;34m(name, package, level)\u001b[0m\n",
      "File \u001b[0;32m<frozen importlib._bootstrap>:1027\u001b[0m, in \u001b[0;36m_find_and_load\u001b[0;34m(name, import_)\u001b[0m\n",
      "File \u001b[0;32m<frozen importlib._bootstrap>:992\u001b[0m, in \u001b[0;36m_find_and_load_unlocked\u001b[0;34m(name, import_)\u001b[0m\n",
      "File \u001b[0;32m<frozen importlib._bootstrap>:241\u001b[0m, in \u001b[0;36m_call_with_frames_removed\u001b[0;34m(f, *args, **kwds)\u001b[0m\n",
      "File \u001b[0;32m<frozen importlib._bootstrap>:1050\u001b[0m, in \u001b[0;36m_gcd_import\u001b[0;34m(name, package, level)\u001b[0m\n",
      "File \u001b[0;32m<frozen importlib._bootstrap>:1027\u001b[0m, in \u001b[0;36m_find_and_load\u001b[0;34m(name, import_)\u001b[0m\n",
      "File \u001b[0;32m<frozen importlib._bootstrap>:992\u001b[0m, in \u001b[0;36m_find_and_load_unlocked\u001b[0;34m(name, import_)\u001b[0m\n",
      "File \u001b[0;32m<frozen importlib._bootstrap>:241\u001b[0m, in \u001b[0;36m_call_with_frames_removed\u001b[0;34m(f, *args, **kwds)\u001b[0m\n",
      "File \u001b[0;32m<frozen importlib._bootstrap>:1050\u001b[0m, in \u001b[0;36m_gcd_import\u001b[0;34m(name, package, level)\u001b[0m\n",
      "File \u001b[0;32m<frozen importlib._bootstrap>:1027\u001b[0m, in \u001b[0;36m_find_and_load\u001b[0;34m(name, import_)\u001b[0m\n",
      "File \u001b[0;32m<frozen importlib._bootstrap>:1006\u001b[0m, in \u001b[0;36m_find_and_load_unlocked\u001b[0;34m(name, import_)\u001b[0m\n",
      "File \u001b[0;32m<frozen importlib._bootstrap>:688\u001b[0m, in \u001b[0;36m_load_unlocked\u001b[0;34m(spec)\u001b[0m\n",
      "File \u001b[0;32m<frozen importlib._bootstrap_external>:883\u001b[0m, in \u001b[0;36mexec_module\u001b[0;34m(self, module)\u001b[0m\n",
      "File \u001b[0;32m<frozen importlib._bootstrap>:241\u001b[0m, in \u001b[0;36m_call_with_frames_removed\u001b[0;34m(f, *args, **kwds)\u001b[0m\n",
      "File \u001b[0;32m/usr/lib/python3.10/site-packages/keras/__init__.py:21\u001b[0m, in \u001b[0;36m<module>\u001b[0;34m\u001b[0m\n\u001b[1;32m     15\u001b[0m \u001b[39m\"\"\"Implementation of the Keras API, the high-level API of TensorFlow.\u001b[39;00m\n\u001b[1;32m     16\u001b[0m \n\u001b[1;32m     17\u001b[0m \u001b[39mDetailed documentation and user guides are available at\u001b[39;00m\n\u001b[1;32m     18\u001b[0m \u001b[39m[keras.io](https://keras.io).\u001b[39;00m\n\u001b[1;32m     19\u001b[0m \u001b[39m\"\"\"\u001b[39;00m\n\u001b[1;32m     20\u001b[0m \u001b[39mfrom\u001b[39;00m \u001b[39mkeras\u001b[39;00m \u001b[39mimport\u001b[39;00m distribute\n\u001b[0;32m---> 21\u001b[0m \u001b[39mfrom\u001b[39;00m \u001b[39mkeras\u001b[39;00m \u001b[39mimport\u001b[39;00m models\n\u001b[1;32m     22\u001b[0m \u001b[39mfrom\u001b[39;00m \u001b[39mkeras\u001b[39;00m\u001b[39m.\u001b[39;00m\u001b[39mengine\u001b[39;00m\u001b[39m.\u001b[39;00m\u001b[39minput_layer\u001b[39;00m \u001b[39mimport\u001b[39;00m Input\n\u001b[1;32m     23\u001b[0m \u001b[39mfrom\u001b[39;00m \u001b[39mkeras\u001b[39;00m\u001b[39m.\u001b[39;00m\u001b[39mengine\u001b[39;00m\u001b[39m.\u001b[39;00m\u001b[39msequential\u001b[39;00m \u001b[39mimport\u001b[39;00m Sequential\n",
      "File \u001b[0;32m/usr/lib/python3.10/site-packages/keras/models/__init__.py:18\u001b[0m, in \u001b[0;36m<module>\u001b[0;34m\u001b[0m\n\u001b[1;32m      1\u001b[0m \u001b[39m# Copyright 2022 The TensorFlow Authors. All Rights Reserved.\u001b[39;00m\n\u001b[1;32m      2\u001b[0m \u001b[39m#\u001b[39;00m\n\u001b[1;32m      3\u001b[0m \u001b[39m# Licensed under the Apache License, Version 2.0 (the \"License\");\u001b[39;00m\n\u001b[0;32m   (...)\u001b[0m\n\u001b[1;32m     13\u001b[0m \u001b[39m# limitations under the License.\u001b[39;00m\n\u001b[1;32m     14\u001b[0m \u001b[39m# ==============================================================================\u001b[39;00m\n\u001b[1;32m     15\u001b[0m \u001b[39m\"\"\"Keras models API.\"\"\"\u001b[39;00m\n\u001b[0;32m---> 18\u001b[0m \u001b[39mfrom\u001b[39;00m \u001b[39mkeras\u001b[39;00m\u001b[39m.\u001b[39;00m\u001b[39mengine\u001b[39;00m\u001b[39m.\u001b[39;00m\u001b[39mfunctional\u001b[39;00m \u001b[39mimport\u001b[39;00m Functional\n\u001b[1;32m     19\u001b[0m \u001b[39mfrom\u001b[39;00m \u001b[39mkeras\u001b[39;00m\u001b[39m.\u001b[39;00m\u001b[39mengine\u001b[39;00m\u001b[39m.\u001b[39;00m\u001b[39msequential\u001b[39;00m \u001b[39mimport\u001b[39;00m Sequential\n\u001b[1;32m     20\u001b[0m \u001b[39mfrom\u001b[39;00m \u001b[39mkeras\u001b[39;00m\u001b[39m.\u001b[39;00m\u001b[39mengine\u001b[39;00m\u001b[39m.\u001b[39;00m\u001b[39mtraining\u001b[39;00m \u001b[39mimport\u001b[39;00m Model\n",
      "File \u001b[0;32m/usr/lib/python3.10/site-packages/keras/engine/functional.py:27\u001b[0m, in \u001b[0;36m<module>\u001b[0;34m\u001b[0m\n\u001b[1;32m     24\u001b[0m \u001b[39mimport\u001b[39;00m \u001b[39mtensorflow\u001b[39;00m\u001b[39m.\u001b[39;00m\u001b[39mcompat\u001b[39;00m\u001b[39m.\u001b[39;00m\u001b[39mv2\u001b[39;00m \u001b[39mas\u001b[39;00m \u001b[39mtf\u001b[39;00m\n\u001b[1;32m     26\u001b[0m \u001b[39mfrom\u001b[39;00m \u001b[39mkeras\u001b[39;00m \u001b[39mimport\u001b[39;00m backend\n\u001b[0;32m---> 27\u001b[0m \u001b[39mfrom\u001b[39;00m \u001b[39mkeras\u001b[39;00m\u001b[39m.\u001b[39;00m\u001b[39mdtensor\u001b[39;00m \u001b[39mimport\u001b[39;00m layout_map \u001b[39mas\u001b[39;00m layout_map_lib\n\u001b[1;32m     28\u001b[0m \u001b[39mfrom\u001b[39;00m \u001b[39mkeras\u001b[39;00m\u001b[39m.\u001b[39;00m\u001b[39mengine\u001b[39;00m \u001b[39mimport\u001b[39;00m base_layer\n\u001b[1;32m     29\u001b[0m \u001b[39mfrom\u001b[39;00m \u001b[39mkeras\u001b[39;00m\u001b[39m.\u001b[39;00m\u001b[39mengine\u001b[39;00m \u001b[39mimport\u001b[39;00m base_layer_utils\n",
      "File \u001b[0;32m/usr/lib/python3.10/site-packages/keras/dtensor/layout_map.py:25\u001b[0m, in \u001b[0;36m<module>\u001b[0;34m\u001b[0m\n\u001b[1;32m     22\u001b[0m \u001b[39mimport\u001b[39;00m \u001b[39mtensorflow\u001b[39;00m\u001b[39m.\u001b[39;00m\u001b[39mcompat\u001b[39;00m\u001b[39m.\u001b[39;00m\u001b[39mv2\u001b[39;00m \u001b[39mas\u001b[39;00m \u001b[39mtf\u001b[39;00m\n\u001b[1;32m     24\u001b[0m \u001b[39mfrom\u001b[39;00m \u001b[39mkeras\u001b[39;00m\u001b[39m.\u001b[39;00m\u001b[39mdtensor\u001b[39;00m \u001b[39mimport\u001b[39;00m dtensor_api \u001b[39mas\u001b[39;00m dtensor\n\u001b[0;32m---> 25\u001b[0m \u001b[39mfrom\u001b[39;00m \u001b[39mkeras\u001b[39;00m\u001b[39m.\u001b[39;00m\u001b[39mdtensor\u001b[39;00m \u001b[39mimport\u001b[39;00m lazy_variable\n\u001b[1;32m     26\u001b[0m \u001b[39mfrom\u001b[39;00m \u001b[39mkeras\u001b[39;00m\u001b[39m.\u001b[39;00m\u001b[39mdtensor\u001b[39;00m \u001b[39mimport\u001b[39;00m utils\n\u001b[1;32m     27\u001b[0m \u001b[39mfrom\u001b[39;00m \u001b[39mkeras\u001b[39;00m\u001b[39m.\u001b[39;00m\u001b[39mengine\u001b[39;00m \u001b[39mimport\u001b[39;00m base_layer\n",
      "File \u001b[0;32m/usr/lib/python3.10/site-packages/keras/dtensor/lazy_variable.py:26\u001b[0m, in \u001b[0;36m<module>\u001b[0;34m\u001b[0m\n\u001b[1;32m     24\u001b[0m \u001b[39mfrom\u001b[39;00m \u001b[39mtensorflow\u001b[39;00m\u001b[39m.\u001b[39;00m\u001b[39mpython\u001b[39;00m\u001b[39m.\u001b[39;00m\u001b[39mops\u001b[39;00m \u001b[39mimport\u001b[39;00m resource_variable_ops\n\u001b[1;32m     25\u001b[0m \u001b[39mfrom\u001b[39;00m \u001b[39mtensorflow\u001b[39;00m\u001b[39m.\u001b[39;00m\u001b[39mpython\u001b[39;00m\u001b[39m.\u001b[39;00m\u001b[39mops\u001b[39;00m \u001b[39mimport\u001b[39;00m variable_scope\n\u001b[0;32m---> 26\u001b[0m \u001b[39mfrom\u001b[39;00m \u001b[39mtensorflow\u001b[39;00m\u001b[39m.\u001b[39;00m\u001b[39mpython\u001b[39;00m\u001b[39m.\u001b[39;00m\u001b[39mtrackable\u001b[39;00m \u001b[39mimport\u001b[39;00m base \u001b[39mas\u001b[39;00m trackable\n\u001b[1;32m     27\u001b[0m \u001b[39mfrom\u001b[39;00m \u001b[39mtensorflow\u001b[39;00m\u001b[39m.\u001b[39;00m\u001b[39mpython\u001b[39;00m\u001b[39m.\u001b[39;00m\u001b[39mutil\u001b[39;00m \u001b[39mimport\u001b[39;00m compat\n\u001b[1;32m     28\u001b[0m \u001b[39mfrom\u001b[39;00m \u001b[39mtensorflow\u001b[39;00m\u001b[39m.\u001b[39;00m\u001b[39mpython\u001b[39;00m\u001b[39m.\u001b[39;00m\u001b[39mutil\u001b[39;00m \u001b[39mimport\u001b[39;00m tf_contextlib\n",
      "\u001b[0;31mModuleNotFoundError\u001b[0m: No module named 'tensorflow.python.trackable'"
     ]
    }
   ],
   "source": [
    "# 2^n,relu,adam,mse\n",
    "\n",
    "# input layer\n",
    "n_features = x_datan.shape[1]\n",
    "inputs  = keras.Input(shape=(n_features,))\n",
    "\n",
    "dense   = keras.layers.Dense(256, activation=\"relu\")\n",
    "x       = dense(inputs)\n",
    "x       = keras.layers.Dense(128, activation=\"relu\")(x)\n",
    "x       = keras.layers.Dense(64, activation=\"relu\")(x)\n",
    "x       = keras.layers.Dense(32, activation=\"relu\")(x)\n",
    "x       = keras.layers.Dense(16, activation=\"relu\")(x)\n",
    "\n",
    "# output layer\n",
    "n_qualities = y_datan.shape[1]\n",
    "outputs = keras.layers.Dense(n_qualities)(x)\n",
    "\n",
    "# model\n",
    "model = keras.Model(inputs=inputs, outputs=outputs)\n",
    "model.compile(optimizer='adam', loss='mse')\n",
    "#model.summary()"
   ]
  },
  {
   "cell_type": "markdown",
   "metadata": {
    "id": "Sxr1qxVex1L4"
   },
   "source": [
    "### train"
   ]
  },
  {
   "cell_type": "code",
   "execution_count": null,
   "metadata": {
    "colab": {
     "base_uri": "https://localhost:8080/"
    },
    "executionInfo": {
     "elapsed": 22798,
     "status": "ok",
     "timestamp": 1661420551198,
     "user": {
      "displayName": "Thomas Bielinger",
      "userId": "06702926197276526237"
     },
     "user_tz": -120
    },
    "id": "M3XBJMj4x1L5",
    "outputId": "3259a3a0-d16d-4b80-b8a8-f1cac3990f29"
   },
   "outputs": [],
   "source": [
    "# 3000,64\n",
    "model.fit(x_datan, y_datan, batch_size=64, epochs=3000, verbose=0)"
   ]
  },
  {
   "cell_type": "markdown",
   "metadata": {
    "id": "gLEzVkjex1L9"
   },
   "source": [
    "### predict"
   ]
  },
  {
   "cell_type": "code",
   "execution_count": null,
   "metadata": {
    "executionInfo": {
     "elapsed": 375,
     "status": "ok",
     "timestamp": 1661420551545,
     "user": {
      "displayName": "Thomas Bielinger",
      "userId": "06702926197276526237"
     },
     "user_tz": -120
    },
    "id": "IcKpdLe9x1L-"
   },
   "outputs": [],
   "source": [
    "# predict test\n",
    "y_predictedTn = model.predict(x_dataTn)"
   ]
  },
  {
   "cell_type": "markdown",
   "metadata": {},
   "source": [
    "### eval\n"
   ]
  },
  {
   "cell_type": "code",
   "execution_count": null,
   "metadata": {
    "colab": {
     "base_uri": "https://localhost:8080/",
     "height": 265
    },
    "executionInfo": {
     "elapsed": 816,
     "status": "ok",
     "timestamp": 1661420552356,
     "user": {
      "displayName": "Thomas Bielinger",
      "userId": "06702926197276526237"
     },
     "user_tz": -120
    },
    "id": "G3W8sSI0DNWn",
    "outputId": "007a033a-dc10-498b-d61e-cc246f1b32b3",
    "scrolled": true
   },
   "outputs": [],
   "source": [
    "# plot flow\n",
    "plt.scatter(x_datan[:,[3]], y_datan[:,[0]], s=5)\n",
    "\n",
    "# test flow\n",
    "plt.scatter(x_dataTn[:,[3]], y_predictedTn[:,[0]], s=50)\n",
    "plt.plot   (x_dataTn[:,[3]], y_predictedTn[:,[0]], 'y', linewidth=2)\n",
    "\n",
    "plt.grid()\n",
    "#plt.show()\n",
    "plt.savefig('flow.png', dpi=300)"
   ]
  },
  {
   "cell_type": "code",
   "execution_count": null,
   "metadata": {},
   "outputs": [],
   "source": [
    "# plot efficiency\n",
    "plt.scatter(x_datan[:,[3]], y_datan[:,[1]], s=5)\n",
    "\n",
    "# test flow\n",
    "plt.scatter(x_dataTn[:,[3]], y_predictedTn[:,[1]], s=50)\n",
    "plt.plot   (x_dataTn[:,[3]], y_predictedTn[:,[1]], 'y', linewidth=2)\n",
    "\n",
    "plt.grid()\n",
    "#plt.show()\n",
    "plt.savefig('efficiency.png', dpi=300)"
   ]
  },
  {
   "cell_type": "markdown",
   "metadata": {
    "id": "OEEhzK4YHOdC"
   },
   "source": [
    "### video\n"
   ]
  },
  {
   "cell_type": "code",
   "execution_count": null,
   "metadata": {
    "executionInfo": {
     "elapsed": 7,
     "status": "ok",
     "timestamp": 1661420552357,
     "user": {
      "displayName": "Thomas Bielinger",
      "userId": "06702926197276526237"
     },
     "user_tz": -120
    },
    "id": "13RiCs72HMH6"
   },
   "outputs": [],
   "source": [
    "#for x in range(100):\n",
    "#  # One epoch\n",
    "#  model.fit( x_data, y_data, epochs=1, verbose=1)\n",
    "#\n",
    "#  # Compute the output \n",
    "#  y_predicted = model.predict(x_data)\n",
    "#\n",
    "#  # Display the result\n",
    "#  plt.scatter(x_data[::1], y_data[::1], s=2)\n",
    "#  plt.plot(x_data, y_predicted, 'r', linewidth=4)\n",
    "#  plt.grid()\n",
    "#  plt.ylim(top=1.2)  # adjust the top leaving bottom unchanged\n",
    "#  plt.ylim(bottom=-1.2)  \n",
    "#  #plt.show()\n",
    "#  plt.savefig('training-' + str(x) +'-epochs.png',dpi=300)\n",
    "#  #files.download('training-' + str(x) +'-epochs.png') \n",
    "#  plt.clf()\n",
    "\n"
   ]
  },
  {
   "cell_type": "code",
   "execution_count": null,
   "metadata": {
    "collapsed": true,
    "executionInfo": {
     "elapsed": 8,
     "status": "ok",
     "timestamp": 1661420552358,
     "user": {
      "displayName": "Thomas Bielinger",
      "userId": "06702926197276526237"
     },
     "user_tz": -120
    },
    "id": "9aoB8cZnDNWo",
    "jupyter": {
     "outputs_hidden": true
    }
   },
   "outputs": [],
   "source": []
  }
 ],
 "metadata": {
  "colab": {
   "collapsed_sections": [],
   "name": "map-05.ipynb",
   "provenance": []
  },
  "file_extension": ".py",
  "kernelspec": {
   "display_name": "Python 3 (ipykernel)",
   "language": "python",
   "name": "python3"
  },
  "language_info": {
   "codemirror_mode": {
    "name": "ipython",
    "version": 3
   },
   "file_extension": ".py",
   "mimetype": "text/x-python",
   "name": "python",
   "nbconvert_exporter": "python",
   "pygments_lexer": "ipython3",
   "version": "3.10.6"
  },
  "mimetype": "text/x-python",
  "name": "python",
  "npconvert_exporter": "python",
  "pygments_lexer": "ipython3",
  "toc-autonumbering": false,
  "toc-showcode": true,
  "toc-showmarkdowntxt": false,
  "toc-showtags": false,
  "version": 3,
  "vscode": {
   "interpreter": {
    "hash": "e7370f93d1d0cde622a1f8e1c04877d8463912d04d973331ad4851f04de6915a"
   }
  }
 },
 "nbformat": 4,
 "nbformat_minor": 4
}
