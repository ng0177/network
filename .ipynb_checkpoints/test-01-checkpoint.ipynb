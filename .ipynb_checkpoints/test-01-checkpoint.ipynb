{
 "cells": [
  {
   "cell_type": "markdown",
   "metadata": {
    "id": "qASyOjUDx1Lq"
   },
   "source": [
    "### prepare"
   ]
  },
  {
   "cell_type": "code",
   "execution_count": 1,
   "metadata": {
    "colab": {
     "base_uri": "https://localhost:8080/"
    },
    "id": "Rz1Q7i9xx1Lt",
    "outputId": "9f151272-62c9-4459-9444-89d8f99ca111"
   },
   "outputs": [
    {
     "ename": "ValueError",
     "evalue": "all the input array dimensions for the concatenation axis must match exactly, but along dimension 1, the array at index 0 has size 1 and the array at index 1 has size 2",
     "output_type": "error",
     "traceback": [
      "\u001b[0;31m---------------------------------------------------------------------------\u001b[0m",
      "\u001b[0;31mValueError\u001b[0m                                Traceback (most recent call last)",
      "Input \u001b[0;32mIn [1]\u001b[0m, in \u001b[0;36m<cell line: 23>\u001b[0;34m()\u001b[0m\n\u001b[1;32m     20\u001b[0m y_data2 \u001b[38;5;241m=\u001b[39m np\u001b[38;5;241m.\u001b[39marray([[\u001b[38;5;241m1.70196\u001b[39m],[\u001b[38;5;241m1.76007\u001b[39m],[\u001b[38;5;241m1.82271\u001b[39m],[\u001b[38;5;241m1.88606\u001b[39m],[\u001b[38;5;241m1.94728\u001b[39m],[\u001b[38;5;241m1.99856\u001b[39m],[\u001b[38;5;241m2.04304\u001b[39m],[\u001b[38;5;241m2.07270\u001b[39m],[\u001b[38;5;241m2.09661\u001b[39m],[\u001b[38;5;241m2.10873\u001b[39m],[\u001b[38;5;241m2.11359\u001b[39m]])\n\u001b[1;32m     22\u001b[0m x_data \u001b[38;5;241m=\u001b[39m np\u001b[38;5;241m.\u001b[39mappend(x_data,x_data2,axis\u001b[38;5;241m=\u001b[39m\u001b[38;5;241m0\u001b[39m)\n\u001b[0;32m---> 23\u001b[0m y_data \u001b[38;5;241m=\u001b[39m \u001b[43mnp\u001b[49m\u001b[38;5;241;43m.\u001b[39;49m\u001b[43mappend\u001b[49m\u001b[43m(\u001b[49m\u001b[43my_data\u001b[49m\u001b[43m,\u001b[49m\u001b[43mx_data2\u001b[49m\u001b[43m,\u001b[49m\u001b[43maxis\u001b[49m\u001b[38;5;241;43m=\u001b[39;49m\u001b[38;5;241;43m0\u001b[39;49m\u001b[43m)\u001b[49m\n\u001b[1;32m     25\u001b[0m \u001b[38;5;66;03m# non-dimensionalize\u001b[39;00m\n\u001b[1;32m     26\u001b[0m x_data \u001b[38;5;241m=\u001b[39m MinMaxScaler()\u001b[38;5;241m.\u001b[39mfit_transform(x_data)\n",
      "File \u001b[0;32m<__array_function__ internals>:180\u001b[0m, in \u001b[0;36mappend\u001b[0;34m(*args, **kwargs)\u001b[0m\n",
      "File \u001b[0;32m/usr/lib/python3.10/site-packages/numpy/lib/function_base.py:5444\u001b[0m, in \u001b[0;36mappend\u001b[0;34m(arr, values, axis)\u001b[0m\n\u001b[1;32m   5442\u001b[0m     values \u001b[38;5;241m=\u001b[39m ravel(values)\n\u001b[1;32m   5443\u001b[0m     axis \u001b[38;5;241m=\u001b[39m arr\u001b[38;5;241m.\u001b[39mndim\u001b[38;5;241m-\u001b[39m\u001b[38;5;241m1\u001b[39m\n\u001b[0;32m-> 5444\u001b[0m \u001b[38;5;28;01mreturn\u001b[39;00m \u001b[43mconcatenate\u001b[49m\u001b[43m(\u001b[49m\u001b[43m(\u001b[49m\u001b[43marr\u001b[49m\u001b[43m,\u001b[49m\u001b[43m \u001b[49m\u001b[43mvalues\u001b[49m\u001b[43m)\u001b[49m\u001b[43m,\u001b[49m\u001b[43m \u001b[49m\u001b[43maxis\u001b[49m\u001b[38;5;241;43m=\u001b[39;49m\u001b[43maxis\u001b[49m\u001b[43m)\u001b[49m\n",
      "File \u001b[0;32m<__array_function__ internals>:180\u001b[0m, in \u001b[0;36mconcatenate\u001b[0;34m(*args, **kwargs)\u001b[0m\n",
      "\u001b[0;31mValueError\u001b[0m: all the input array dimensions for the concatenation axis must match exactly, but along dimension 1, the array at index 0 has size 1 and the array at index 1 has size 2"
     ]
    }
   ],
   "source": [
    "# import\n",
    "# pip3 install -U scikit-learn\n",
    "# sudo pacman -S python-scikit-learn\n",
    "from sklearn.preprocessing import MinMaxScaler\n",
    "import numpy as np\n",
    "import matplotlib.pyplot as plt\n",
    "from tensorflow import keras\n",
    "#from google.colab import files\n",
    "import tensorflow as tf\n",
    "import math\n",
    "\n",
    "# data\n",
    "x_data = np.array([[230,1.27305],[230,1.30392],[230,1.34063],[230,1.38482],[230,1.43878],[230,1.50577],[230,1.59061],[230,1.70066],[230,1.84776],[230,2.05185],[230,2.34924],[230,2.81181],[230,3.60117],[230,5.14998]])\n",
    "y_data = np.array([[1.34714],[1.41808],[1.47987],[1.55098],[1.62026],[1.69219],[1.76749],[1.83998],[1.91347],[1.98128],[2.04018],[2.08743],[2.12260],[2.14005]])\n",
    "\n",
    "#x_data = np.append(x_data,[[310,1.56859],[310,1.64246],[310,1.73300],[310,1.84593],[310,1.98978],[310,2.17775],[310,2.43124],[310,2.78692],[310,3.31249],[310,4.14437],[310,5.59556]],axis=0)\n",
    "#y_data = np.append(y_data,[[1.70196],[1.76007],[1.82271],[1.88606],[1.94728],[1.99856],[2.04304],[2.07270],[2.09661],[2.10873],[2.11359]],axis=0)\n",
    "\n",
    "x_data2 = np.array([[310,1.56859],[310,1.64246],[310,1.73300],[310,1.84593],[310,1.98978],[310,2.17775],[310,2.43124],[310,2.78692],[310,3.31249],[310,4.14437],[310,5.59556]])\n",
    "y_data2 = np.array([[1.70196],[1.76007],[1.82271],[1.88606],[1.94728],[1.99856],[2.04304],[2.07270],[2.09661],[2.10873],[2.11359]])\n",
    "\n",
    "x_data = np.append(x_data,x_data2,axis=0)\n",
    "y_data = np.append(y_data,y_data2,axis=0)\n",
    "\n",
    "# non-dimensionalize\n",
    "x_data = MinMaxScaler().fit_transform(x_data)\n",
    "y_data = MinMaxScaler().fit_transform(y_data)\n",
    "\n",
    "# shape\n",
    "print(\"x shape is \", x_data.shape)\n",
    "print(\"y shape is \", y_data.shape)"
   ]
  },
  {
   "cell_type": "code",
   "execution_count": null,
   "metadata": {},
   "outputs": [],
   "source": [
    "x_data[:] # x_data[:,[1]]"
   ]
  },
  {
   "cell_type": "code",
   "execution_count": null,
   "metadata": {},
   "outputs": [],
   "source": [
    "y_data[:]"
   ]
  },
  {
   "cell_type": "markdown",
   "metadata": {
    "id": "RGNdmgOKAg_D"
   },
   "source": [
    "### show"
   ]
  },
  {
   "cell_type": "code",
   "execution_count": null,
   "metadata": {
    "colab": {
     "base_uri": "https://localhost:8080/",
     "height": 283
    },
    "id": "zYrNbXAsAf9N",
    "outputId": "e367e7da-7b10-46bd-b58b-1c6ec6616fab"
   },
   "outputs": [],
   "source": [
    "# plot\n",
    "plt.scatter(x_data[::1,[1]], y_data[::1], s=50)\n",
    "plt.grid()\n",
    "plt.show()\n",
    "plt.savefig('dataset.png',dpi=300)\n",
    "#files.download('dataset.png') "
   ]
  }
 ],
 "metadata": {
  "colab": {
   "collapsed_sections": [],
   "include_colab_link": true,
   "name": "nonlinear-regression.ipynb",
   "provenance": []
  },
  "file_extension": ".py",
  "kernelspec": {
   "display_name": "Python 3 (ipykernel)",
   "language": "python",
   "name": "python3"
  },
  "language_info": {
   "codemirror_mode": {
    "name": "ipython",
    "version": 3
   },
   "file_extension": ".py",
   "mimetype": "text/x-python",
   "name": "python",
   "nbconvert_exporter": "python",
   "pygments_lexer": "ipython3",
   "version": "3.10.6"
  },
  "mimetype": "text/x-python",
  "name": "python",
  "npconvert_exporter": "python",
  "pygments_lexer": "ipython3",
  "version": 3
 },
 "nbformat": 4,
 "nbformat_minor": 1
}
