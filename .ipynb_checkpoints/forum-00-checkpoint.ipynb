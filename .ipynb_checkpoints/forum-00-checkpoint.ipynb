{
 "cells": [
  {
   "cell_type": "markdown",
   "metadata": {
    "id": "qASyOjUDx1Lq"
   },
   "source": [
    "### prepare"
   ]
  },
  {
   "cell_type": "code",
   "execution_count": 1,
   "metadata": {
    "colab": {
     "base_uri": "https://localhost:8080/"
    },
    "id": "Rz1Q7i9xx1Lt",
    "outputId": "9f151272-62c9-4459-9444-89d8f99ca111"
   },
   "outputs": [],
   "source": [
    "# import\n",
    "# pip3 install -U scikit-learn\n",
    "# sudo pacman -S python-scikit-learn\n",
    "from sklearn.preprocessing import MinMaxScaler\n",
    "import numpy as np\n",
    "import matplotlib.pyplot as plt\n",
    "from tensorflow import keras\n",
    "#from google.colab import files\n",
    "import tensorflow as tf\n",
    "import math\n",
    "\n",
    "# data\n",
    "x_data1 = np.array([ [ 1,0 ],[ 1,1 ],[ 1,2 ],[ 1,3 ],[ 1,4 ],[ 1,5 ] ])\n",
    "y_data1 = np.array([ [ 0,10 ],[ 1,11 ],[ 2,12 ],[ 3,13 ],[ 4,14 ],[ 5,15 ] ])\n",
    "\n",
    "x_data2 = np.array([ [ 2,0 ],[ 2,1 ],[ 2,2 ],[ 2,3 ],[ 2,4 ],[ 2,5 ] ])\n",
    "y_data2 = np.array([ [ 1,11 ],[ 2,12 ],[ 3,13 ],[ 4,14 ],[ 5,15 ],[ 6,16 ] ])\n",
    "\n",
    "# construct\n",
    "x_data = x_data1; y_data = y_data1\n",
    "x_data = np.append(x_data,x_data2,axis=0); y_data = np.append(y_data,y_data2,axis=0)\n",
    "\n",
    "# test\n",
    "x_dataT = np.array([ [ 1.5,0 ],[ 1.5,1 ],[ 1.5,2 ],[ 1.5,3 ],[ 1.5,4 ],[ 1.5,5 ] ])\n",
    "x_data = np.append(x_data,x_dataT,axis=0)"
   ]
  },
  {
   "cell_type": "code",
   "execution_count": 2,
   "metadata": {},
   "outputs": [],
   "source": [
    "#x_data[:,[1]] # x_data[:,[1]], x_data[:]"
   ]
  },
  {
   "cell_type": "code",
   "execution_count": 3,
   "metadata": {},
   "outputs": [],
   "source": [
    "#y_data[:,[1]] # y_data[:,[1]], y_data[:]"
   ]
  },
  {
   "cell_type": "code",
   "execution_count": 4,
   "metadata": {
    "colab": {
     "base_uri": "https://localhost:8080/"
    },
    "id": "Rz1Q7i9xx1Lt",
    "outputId": "9f151272-62c9-4459-9444-89d8f99ca111"
   },
   "outputs": [
    {
     "name": "stdout",
     "output_type": "stream",
     "text": [
      "x shape is  (18, 2)\n",
      "y shape is  (12, 2)\n"
     ]
    }
   ],
   "source": [
    "# non-dimensionalize\n",
    "x_data = MinMaxScaler().fit_transform(x_data)\n",
    "y_data = MinMaxScaler().fit_transform(y_data)\n",
    "\n",
    "# shape\n",
    "print(\"x shape is \", x_data.shape)\n",
    "print(\"y shape is \", y_data.shape)"
   ]
  },
  {
   "cell_type": "code",
   "execution_count": 5,
   "metadata": {},
   "outputs": [
    {
     "data": {
      "text/plain": [
       "array([[0. , 0. ],\n",
       "       [0. , 0.2],\n",
       "       [0. , 0.4],\n",
       "       [0. , 0.6],\n",
       "       [0. , 0.8],\n",
       "       [0. , 1. ],\n",
       "       [1. , 0. ],\n",
       "       [1. , 0.2],\n",
       "       [1. , 0.4],\n",
       "       [1. , 0.6],\n",
       "       [1. , 0.8],\n",
       "       [1. , 1. ],\n",
       "       [0.5, 0. ],\n",
       "       [0.5, 0.2],\n",
       "       [0.5, 0.4],\n",
       "       [0.5, 0.6],\n",
       "       [0.5, 0.8],\n",
       "       [0.5, 1. ]])"
      ]
     },
     "execution_count": 5,
     "metadata": {},
     "output_type": "execute_result"
    }
   ],
   "source": [
    "x_data[:] # x_data[:,[1]], x_data[:]"
   ]
  },
  {
   "cell_type": "code",
   "execution_count": 6,
   "metadata": {},
   "outputs": [],
   "source": [
    "#y_data[:] # y_data[:,[1]], y_data[:]"
   ]
  },
  {
   "cell_type": "code",
   "execution_count": 7,
   "metadata": {},
   "outputs": [],
   "source": [
    "# retrieve\n",
    "l1=len(x_data1);l2=len(x_data2)\n",
    "lT=len(x_dataT) # test\n",
    "x_data1n = x_data[0:l1]\n",
    "x_data2n = x_data[l1:l1+l2]\n",
    "x_dataTn = x_data[l1+l2:l1+l2+lT] # test"
   ]
  },
  {
   "cell_type": "code",
   "execution_count": 8,
   "metadata": {},
   "outputs": [],
   "source": [
    "#x_data1n[:]"
   ]
  },
  {
   "cell_type": "code",
   "execution_count": 9,
   "metadata": {},
   "outputs": [],
   "source": [
    "#x_data2n[:]"
   ]
  },
  {
   "cell_type": "code",
   "execution_count": 10,
   "metadata": {},
   "outputs": [],
   "source": [
    "#x_data6n[:]"
   ]
  },
  {
   "cell_type": "code",
   "execution_count": 11,
   "metadata": {},
   "outputs": [
    {
     "name": "stdout",
     "output_type": "stream",
     "text": [
      "x shape is  (12, 2)\n",
      "y shape is  (12, 2)\n"
     ]
    }
   ],
   "source": [
    "# remove test from non-dimensionalize\n",
    "\n",
    "x_data = x_data[:l1+l2]\n",
    "\n",
    "# shape\n",
    "print(\"x shape is \", x_data.shape)\n",
    "print(\"y shape is \", y_data.shape)"
   ]
  },
  {
   "cell_type": "markdown",
   "metadata": {
    "id": "RGNdmgOKAg_D"
   },
   "source": [
    "### show"
   ]
  },
  {
   "cell_type": "code",
   "execution_count": 12,
   "metadata": {
    "colab": {
     "base_uri": "https://localhost:8080/",
     "height": 283
    },
    "id": "zYrNbXAsAf9N",
    "outputId": "e367e7da-7b10-46bd-b58b-1c6ec6616fab"
   },
   "outputs": [
    {
     "data": {
      "image/png": "[encoded data removed]",
      "text/plain": [
       "<Figure size 640x480 with 1 Axes>"
      ]
     },
     "metadata": {},
     "output_type": "display_data"
    },
    {
     "data": {
      "text/plain": [
       "<Figure size 640x480 with 0 Axes>"
      ]
     },
     "metadata": {},
     "output_type": "display_data"
    }
   ],
   "source": [
    "# plot\n",
    "plt.scatter(x_data[::,[1]], y_data[::,[0]], s=50)\n",
    "plt.scatter(x_data[::,[1]], y_data[::,[1]], s=50)\n",
    "plt.grid()\n",
    "plt.show()\n",
    "plt.savefig('dataset.png',dpi=300)\n",
    "#files.download('dataset.png') "
   ]
  },
  {
   "cell_type": "markdown",
   "metadata": {
    "id": "5f_ikNz8x1Lz"
   },
   "source": [
    "### model"
   ]
  },
  {
   "cell_type": "code",
   "execution_count": 13,
   "metadata": {
    "colab": {
     "base_uri": "https://localhost:8080/",
     "height": 244
    },
    "id": "sMvpBFj5x1L0",
    "outputId": "90bd03ca-c48b-4f5a-d322-bcb6bd76a03d",
    "scrolled": true
   },
   "outputs": [
    {
     "name": "stderr",
     "output_type": "stream",
     "text": [
      "2022-08-23 11:40:26.290132: I tensorflow/core/platform/cpu_feature_guard.cc:193] This TensorFlow binary is optimized with oneAPI Deep Neural Network Library (oneDNN) to use the following CPU instructions in performance-critical operations:  FMA\n",
      "To enable them in other operations, rebuild TensorFlow with the appropriate compiler flags.\n",
      "2022-08-23 11:40:26.292145: I tensorflow/core/common_runtime/process_util.cc:146] Creating new thread pool with default inter op setting: 2. Tune using inter_op_parallelism_threads for best performance.\n"
     ]
    }
   ],
   "source": [
    "# 2^n,relu,adam,mse\n",
    "\n",
    "# input layer\n",
    "n_features = x_data.shape[1]\n",
    "inputs  = keras.Input(shape=(n_features,))\n",
    "\n",
    "dense   = keras.layers.Dense(512, activation=\"relu\")\n",
    "\n",
    "x       = dense(inputs)\n",
    "x       = keras.layers.Dense(256, activation=\"relu\")(x)\n",
    "x       = keras.layers.Dense(128, activation=\"relu\")(x)\n",
    "x       = keras.layers.Dense(64, activation=\"relu\")(x)\n",
    "x       = keras.layers.Dense(16, activation=\"relu\")(x)\n",
    "\n",
    "# output layer\n",
    "n_qualities = y_data.shape[1]\n",
    "outputs = keras.layers.Dense(n_qualities)(x)\n",
    "\n",
    "#model = keras.Sequential()\n",
    "#model.add(keras.layers.Dense(units=128,input_shape=(1,), activation='relu'))\n",
    "#model.add(keras.layers.Dense(64, activation='relu'))\n",
    "#model.add(keras.layers.Dense(32, activation='relu'))\n",
    "#model.add(keras.layers.Dense(16, activation='relu'))\n",
    "#model.add(keras.layers.Dense(1,))\n",
    "\n",
    "# model\n",
    "model = keras.Model(inputs=inputs, outputs=outputs)\n",
    "model.compile(optimizer='adam', loss='mse')\n",
    "#model.summary()"
   ]
  },
  {
   "cell_type": "markdown",
   "metadata": {
    "id": "Sxr1qxVex1L4"
   },
   "source": [
    "### train"
   ]
  },
  {
   "cell_type": "code",
   "execution_count": 14,
   "metadata": {
    "id": "M3XBJMj4x1L5"
   },
   "outputs": [
    {
     "name": "stdout",
     "output_type": "stream",
     "text": [
      "Epoch 1/300\n",
      "1/1 [==============================] - 1s 653ms/step - loss: 0.3181\n",
      "Epoch 2/300\n",
      "1/1 [==============================] - 0s 30ms/step - loss: 0.2521\n",
      "Epoch 3/300\n",
      "1/1 [==============================] - 0s 12ms/step - loss: 0.1930\n",
      "Epoch 4/300\n",
      "1/1 [==============================] - 0s 15ms/step - loss: 0.1344\n",
      "Epoch 5/300\n",
      "1/1 [==============================] - 0s 25ms/step - loss: 0.0838\n",
      "Epoch 6/300\n",
      "1/1 [==============================] - 0s 19ms/step - loss: 0.0461\n",
      "Epoch 7/300\n",
      "1/1 [==============================] - 0s 42ms/step - loss: 0.0307\n",
      "Epoch 8/300\n",
      "1/1 [==============================] - 0s 23ms/step - loss: 0.0391\n",
      "Epoch 9/300\n",
      "1/1 [==============================] - 0s 33ms/step - loss: 0.0532\n",
      "Epoch 10/300\n",
      "1/1 [==============================] - 0s 51ms/step - loss: 0.0528\n",
      "Epoch 11/300\n",
      "1/1 [==============================] - 0s 47ms/step - loss: 0.0388\n",
      "Epoch 12/300\n",
      "1/1 [==============================] - 0s 21ms/step - loss: 0.0221\n",
      "Epoch 13/300\n",
      "1/1 [==============================] - 0s 42ms/step - loss: 0.0114\n",
      "Epoch 14/300\n",
      "1/1 [==============================] - 0s 21ms/step - loss: 0.0095\n",
      "Epoch 15/300\n",
      "1/1 [==============================] - 0s 25ms/step - loss: 0.0136\n",
      "Epoch 16/300\n",
      "1/1 [==============================] - 0s 24ms/step - loss: 0.0173\n",
      "Epoch 17/300\n",
      "1/1 [==============================] - 0s 21ms/step - loss: 0.0177\n",
      "Epoch 18/300\n",
      "1/1 [==============================] - 0s 30ms/step - loss: 0.0150\n",
      "Epoch 19/300\n",
      "1/1 [==============================] - 0s 10ms/step - loss: 0.0112\n",
      "Epoch 20/300\n",
      "1/1 [==============================] - 0s 56ms/step - loss: 0.0078\n",
      "Epoch 21/300\n",
      "1/1 [==============================] - 0s 37ms/step - loss: 0.0060\n",
      "Epoch 22/300\n",
      "1/1 [==============================] - 0s 50ms/step - loss: 0.0056\n",
      "Epoch 23/300\n",
      "1/1 [==============================] - 0s 22ms/step - loss: 0.0059\n",
      "Epoch 24/300\n",
      "1/1 [==============================] - 0s 28ms/step - loss: 0.0058\n",
      "Epoch 25/300\n",
      "1/1 [==============================] - 0s 35ms/step - loss: 0.0048\n",
      "Epoch 26/300\n",
      "1/1 [==============================] - 0s 34ms/step - loss: 0.0030\n",
      "Epoch 27/300\n",
      "1/1 [==============================] - 0s 35ms/step - loss: 0.0015\n",
      "Epoch 28/300\n",
      "1/1 [==============================] - 0s 39ms/step - loss: 8.8511e-04\n",
      "Epoch 29/300\n",
      "1/1 [==============================] - 0s 53ms/step - loss: 0.0012\n",
      "Epoch 30/300\n",
      "1/1 [==============================] - 0s 46ms/step - loss: 0.0018\n",
      "Epoch 31/300\n",
      "1/1 [==============================] - 0s 35ms/step - loss: 0.0019\n",
      "Epoch 32/300\n",
      "1/1 [==============================] - 0s 49ms/step - loss: 0.0013\n",
      "Epoch 33/300\n",
      "1/1 [==============================] - 0s 34ms/step - loss: 6.9730e-04\n",
      "Epoch 34/300\n",
      "1/1 [==============================] - 0s 29ms/step - loss: 5.4175e-04\n",
      "Epoch 35/300\n",
      "1/1 [==============================] - 0s 34ms/step - loss: 8.5417e-04\n",
      "Epoch 36/300\n",
      "1/1 [==============================] - 0s 20ms/step - loss: 0.0013\n",
      "Epoch 37/300\n",
      "1/1 [==============================] - 0s 38ms/step - loss: 0.0013\n",
      "Epoch 38/300\n",
      "1/1 [==============================] - 0s 31ms/step - loss: 0.0010\n",
      "Epoch 39/300\n",
      "1/1 [==============================] - 0s 33ms/step - loss: 6.1227e-04\n",
      "Epoch 40/300\n",
      "1/1 [==============================] - 0s 25ms/step - loss: 3.7121e-04\n",
      "Epoch 41/300\n",
      "1/1 [==============================] - 0s 28ms/step - loss: 4.1531e-04\n",
      "Epoch 42/300\n",
      "1/1 [==============================] - 0s 32ms/step - loss: 5.8162e-04\n",
      "Epoch 43/300\n",
      "1/1 [==============================] - 0s 29ms/step - loss: 6.4298e-04\n",
      "Epoch 44/300\n",
      "1/1 [==============================] - 0s 43ms/step - loss: 5.1102e-04\n",
      "Epoch 45/300\n",
      "1/1 [==============================] - 0s 35ms/step - loss: 2.8742e-04\n",
      "Epoch 46/300\n",
      "1/1 [==============================] - 0s 26ms/step - loss: 1.4477e-04\n",
      "Epoch 47/300\n",
      "1/1 [==============================] - 0s 39ms/step - loss: 1.6099e-04\n",
      "Epoch 48/300\n",
      "1/1 [==============================] - 0s 29ms/step - loss: 2.5536e-04\n",
      "Epoch 49/300\n",
      "1/1 [==============================] - 0s 46ms/step - loss: 2.8715e-04\n",
      "Epoch 50/300\n",
      "1/1 [==============================] - 0s 32ms/step - loss: 2.2624e-04\n",
      "Epoch 51/300\n",
      "1/1 [==============================] - 0s 32ms/step - loss: 1.4380e-04\n",
      "Epoch 52/300\n",
      "1/1 [==============================] - 0s 31ms/step - loss: 1.1729e-04\n",
      "Epoch 53/300\n",
      "1/1 [==============================] - 0s 21ms/step - loss: 1.5089e-04\n",
      "Epoch 54/300\n",
      "1/1 [==============================] - 0s 30ms/step - loss: 1.8756e-04\n",
      "Epoch 55/300\n",
      "1/1 [==============================] - 0s 39ms/step - loss: 1.7591e-04\n",
      "Epoch 56/300\n",
      "1/1 [==============================] - 0s 16ms/step - loss: 1.2171e-04\n",
      "Epoch 57/300\n",
      "1/1 [==============================] - 0s 28ms/step - loss: 7.3426e-05\n",
      "Epoch 58/300\n",
      "1/1 [==============================] - 0s 34ms/step - loss: 6.8612e-05\n",
      "Epoch 59/300\n",
      "1/1 [==============================] - 0s 33ms/step - loss: 9.7521e-05\n",
      "Epoch 60/300\n",
      "1/1 [==============================] - 0s 17ms/step - loss: 1.1133e-04\n",
      "Epoch 61/300\n",
      "1/1 [==============================] - 0s 23ms/step - loss: 8.4989e-05\n",
      "Epoch 62/300\n",
      "1/1 [==============================] - 0s 24ms/step - loss: 4.6244e-05\n",
      "Epoch 63/300\n",
      "1/1 [==============================] - 0s 33ms/step - loss: 3.4104e-05\n",
      "Epoch 64/300\n",
      "1/1 [==============================] - 0s 46ms/step - loss: 5.9654e-05\n",
      "Epoch 65/300\n",
      "1/1 [==============================] - 0s 29ms/step - loss: 6.6545e-05\n",
      "Epoch 66/300\n",
      "1/1 [==============================] - 0s 35ms/step - loss: 4.9821e-05\n",
      "Epoch 67/300\n",
      "1/1 [==============================] - 0s 24ms/step - loss: 3.2373e-05\n",
      "Epoch 68/300\n",
      "1/1 [==============================] - 0s 27ms/step - loss: 2.8227e-05\n",
      "Epoch 69/300\n",
      "1/1 [==============================] - 0s 29ms/step - loss: 3.3385e-05\n",
      "Epoch 70/300\n",
      "1/1 [==============================] - 0s 28ms/step - loss: 3.6968e-05\n",
      "Epoch 71/300\n",
      "1/1 [==============================] - 0s 22ms/step - loss: 3.2411e-05\n",
      "Epoch 72/300\n",
      "1/1 [==============================] - 0s 17ms/step - loss: 2.3603e-05\n",
      "Epoch 73/300\n",
      "1/1 [==============================] - 0s 31ms/step - loss: 1.8619e-05\n",
      "Epoch 74/300\n",
      "1/1 [==============================] - 0s 34ms/step - loss: 2.0354e-05\n",
      "Epoch 75/300\n",
      "1/1 [==============================] - 0s 25ms/step - loss: 2.4352e-05\n",
      "Epoch 76/300\n",
      "1/1 [==============================] - 0s 16ms/step - loss: 2.4463e-05\n",
      "Epoch 77/300\n",
      "1/1 [==============================] - 0s 55ms/step - loss: 1.9632e-05\n",
      "Epoch 78/300\n",
      "1/1 [==============================] - 0s 50ms/step - loss: 1.4384e-05\n",
      "Epoch 79/300\n",
      "1/1 [==============================] - 0s 24ms/step - loss: 1.2880e-05\n",
      "Epoch 80/300\n",
      "1/1 [==============================] - 0s 18ms/step - loss: 1.4482e-05\n",
      "Epoch 81/300\n",
      "1/1 [==============================] - 0s 21ms/step - loss: 1.5431e-05\n",
      "Epoch 82/300\n",
      "1/1 [==============================] - 0s 31ms/step - loss: 1.3565e-05\n",
      "Epoch 83/300\n",
      "1/1 [==============================] - 0s 30ms/step - loss: 1.0334e-05\n",
      "Epoch 84/300\n",
      "1/1 [==============================] - 0s 27ms/step - loss: 8.5006e-06\n",
      "Epoch 85/300\n",
      "1/1 [==============================] - 0s 22ms/step - loss: 8.8935e-06\n",
      "Epoch 86/300\n",
      "1/1 [==============================] - 0s 22ms/step - loss: 9.8051e-06\n",
      "Epoch 87/300\n",
      "1/1 [==============================] - 0s 25ms/step - loss: 9.3185e-06\n",
      "Epoch 88/300\n",
      "1/1 [==============================] - 0s 13ms/step - loss: 7.3528e-06\n",
      "Epoch 89/300\n",
      "1/1 [==============================] - 0s 10ms/step - loss: 5.5796e-06\n",
      "Epoch 90/300\n",
      "1/1 [==============================] - 0s 29ms/step - loss: 5.1812e-06\n",
      "Epoch 91/300\n",
      "1/1 [==============================] - 0s 11ms/step - loss: 5.6534e-06\n",
      "Epoch 92/300\n",
      "1/1 [==============================] - 0s 32ms/step - loss: 5.6931e-06\n",
      "Epoch 93/300\n",
      "1/1 [==============================] - 0s 28ms/step - loss: 4.8580e-06\n",
      "Epoch 94/300\n",
      "1/1 [==============================] - 0s 32ms/step - loss: 3.8335e-06\n",
      "Epoch 95/300\n",
      "1/1 [==============================] - 0s 21ms/step - loss: 3.4416e-06\n",
      "Epoch 96/300\n",
      "1/1 [==============================] - 0s 39ms/step - loss: 3.6794e-06\n",
      "Epoch 97/300\n",
      "1/1 [==============================] - 0s 21ms/step - loss: 3.8358e-06\n",
      "Epoch 98/300\n",
      "1/1 [==============================] - 0s 13ms/step - loss: 3.4461e-06\n",
      "Epoch 99/300\n",
      "1/1 [==============================] - 0s 31ms/step - loss: 2.7835e-06\n",
      "Epoch 100/300\n"
     ]
    },
    {
     "name": "stdout",
     "output_type": "stream",
     "text": [
      "1/1 [==============================] - 0s 17ms/step - loss: 2.4171e-06\n",
      "Epoch 101/300\n",
      "1/1 [==============================] - 0s 30ms/step - loss: 2.5009e-06\n",
      "Epoch 102/300\n",
      "1/1 [==============================] - 0s 22ms/step - loss: 2.6745e-06\n",
      "Epoch 103/300\n",
      "1/1 [==============================] - 0s 30ms/step - loss: 2.5952e-06\n",
      "Epoch 104/300\n",
      "1/1 [==============================] - 0s 29ms/step - loss: 2.3125e-06\n",
      "Epoch 105/300\n",
      "1/1 [==============================] - 0s 21ms/step - loss: 2.0958e-06\n",
      "Epoch 106/300\n",
      "1/1 [==============================] - 0s 26ms/step - loss: 2.0874e-06\n",
      "Epoch 107/300\n",
      "1/1 [==============================] - 0s 20ms/step - loss: 2.1608e-06\n",
      "Epoch 108/300\n",
      "1/1 [==============================] - 0s 40ms/step - loss: 2.1070e-06\n",
      "Epoch 109/300\n",
      "1/1 [==============================] - 0s 20ms/step - loss: 1.9044e-06\n",
      "Epoch 110/300\n",
      "1/1 [==============================] - 0s 43ms/step - loss: 1.7094e-06\n",
      "Epoch 111/300\n",
      "1/1 [==============================] - 0s 56ms/step - loss: 1.6505e-06\n",
      "Epoch 112/300\n",
      "1/1 [==============================] - 0s 41ms/step - loss: 1.6842e-06\n",
      "Epoch 113/300\n",
      "1/1 [==============================] - 0s 57ms/step - loss: 1.6660e-06\n",
      "Epoch 114/300\n",
      "1/1 [==============================] - 0s 11ms/step - loss: 1.5412e-06\n",
      "Epoch 115/300\n",
      "1/1 [==============================] - 0s 24ms/step - loss: 1.3930e-06\n",
      "Epoch 116/300\n",
      "1/1 [==============================] - 0s 42ms/step - loss: 1.3254e-06\n",
      "Epoch 117/300\n",
      "1/1 [==============================] - 0s 28ms/step - loss: 1.3343e-06\n",
      "Epoch 118/300\n",
      "1/1 [==============================] - 0s 22ms/step - loss: 1.3286e-06\n",
      "Epoch 119/300\n",
      "1/1 [==============================] - 0s 35ms/step - loss: 1.2583e-06\n",
      "Epoch 120/300\n",
      "1/1 [==============================] - 0s 39ms/step - loss: 1.1658e-06\n",
      "Epoch 121/300\n",
      "1/1 [==============================] - 0s 40ms/step - loss: 1.1197e-06\n",
      "Epoch 122/300\n",
      "1/1 [==============================] - 0s 14ms/step - loss: 1.1203e-06\n",
      "Epoch 123/300\n",
      "1/1 [==============================] - 0s 34ms/step - loss: 1.1086e-06\n",
      "Epoch 124/300\n",
      "1/1 [==============================] - 0s 29ms/step - loss: 1.0455e-06\n",
      "Epoch 125/300\n",
      "1/1 [==============================] - 0s 35ms/step - loss: 9.6877e-07\n",
      "Epoch 126/300\n",
      "1/1 [==============================] - 0s 14ms/step - loss: 9.3091e-07\n",
      "Epoch 127/300\n",
      "1/1 [==============================] - 0s 13ms/step - loss: 9.2545e-07\n",
      "Epoch 128/300\n",
      "1/1 [==============================] - 0s 22ms/step - loss: 9.0753e-07\n",
      "Epoch 129/300\n",
      "1/1 [==============================] - 0s 20ms/step - loss: 8.5789e-07\n",
      "Epoch 130/300\n",
      "1/1 [==============================] - 0s 37ms/step - loss: 8.0734e-07\n",
      "Epoch 131/300\n",
      "1/1 [==============================] - 0s 22ms/step - loss: 7.8506e-07\n",
      "Epoch 132/300\n",
      "1/1 [==============================] - 0s 26ms/step - loss: 7.7533e-07\n",
      "Epoch 133/300\n",
      "1/1 [==============================] - 0s 42ms/step - loss: 7.5102e-07\n",
      "Epoch 134/300\n",
      "1/1 [==============================] - 0s 22ms/step - loss: 7.0959e-07\n",
      "Epoch 135/300\n",
      "1/1 [==============================] - 0s 19ms/step - loss: 6.7368e-07\n",
      "Epoch 136/300\n",
      "1/1 [==============================] - 0s 26ms/step - loss: 6.5588e-07\n",
      "Epoch 137/300\n",
      "1/1 [==============================] - 0s 29ms/step - loss: 6.4272e-07\n",
      "Epoch 138/300\n",
      "1/1 [==============================] - 0s 53ms/step - loss: 6.1865e-07\n",
      "Epoch 139/300\n",
      "1/1 [==============================] - 0s 19ms/step - loss: 5.8935e-07\n",
      "Epoch 140/300\n",
      "1/1 [==============================] - 0s 36ms/step - loss: 5.6808e-07\n",
      "Epoch 141/300\n",
      "1/1 [==============================] - 0s 11ms/step - loss: 5.5625e-07\n",
      "Epoch 142/300\n",
      "1/1 [==============================] - 0s 16ms/step - loss: 5.4288e-07\n",
      "Epoch 143/300\n",
      "1/1 [==============================] - 0s 31ms/step - loss: 5.2201e-07\n",
      "Epoch 144/300\n",
      "1/1 [==============================] - 0s 10ms/step - loss: 5.0002e-07\n",
      "Epoch 145/300\n",
      "1/1 [==============================] - 0s 48ms/step - loss: 4.8468e-07\n",
      "Epoch 146/300\n",
      "1/1 [==============================] - 0s 23ms/step - loss: 4.7399e-07\n",
      "Epoch 147/300\n",
      "1/1 [==============================] - 0s 11ms/step - loss: 4.6102e-07\n",
      "Epoch 148/300\n",
      "1/1 [==============================] - 0s 33ms/step - loss: 4.4555e-07\n",
      "Epoch 149/300\n",
      "1/1 [==============================] - 0s 17ms/step - loss: 4.3137e-07\n",
      "Epoch 150/300\n",
      "1/1 [==============================] - 0s 12ms/step - loss: 4.2070e-07\n",
      "Epoch 151/300\n",
      "1/1 [==============================] - 0s 32ms/step - loss: 4.1120e-07\n",
      "Epoch 152/300\n",
      "1/1 [==============================] - 0s 22ms/step - loss: 3.9967e-07\n",
      "Epoch 153/300\n",
      "1/1 [==============================] - 0s 31ms/step - loss: 3.8647e-07\n",
      "Epoch 154/300\n",
      "1/1 [==============================] - 0s 32ms/step - loss: 3.7500e-07\n",
      "Epoch 155/300\n",
      "1/1 [==============================] - 0s 49ms/step - loss: 3.6681e-07\n",
      "Epoch 156/300\n",
      "1/1 [==============================] - 0s 32ms/step - loss: 3.5886e-07\n",
      "Epoch 157/300\n",
      "1/1 [==============================] - 0s 47ms/step - loss: 3.4877e-07\n",
      "Epoch 158/300\n",
      "1/1 [==============================] - 0s 18ms/step - loss: 3.3822e-07\n",
      "Epoch 159/300\n",
      "1/1 [==============================] - 0s 14ms/step - loss: 3.2950e-07\n",
      "Epoch 160/300\n",
      "1/1 [==============================] - 0s 14ms/step - loss: 3.2184e-07\n",
      "Epoch 161/300\n",
      "1/1 [==============================] - 0s 33ms/step - loss: 3.1332e-07\n",
      "Epoch 162/300\n",
      "1/1 [==============================] - 0s 23ms/step - loss: 3.0393e-07\n",
      "Epoch 163/300\n",
      "1/1 [==============================] - 0s 43ms/step - loss: 2.9614e-07\n",
      "Epoch 164/300\n",
      "1/1 [==============================] - 0s 15ms/step - loss: 2.8943e-07\n",
      "Epoch 165/300\n",
      "1/1 [==============================] - 0s 38ms/step - loss: 2.8256e-07\n",
      "Epoch 166/300\n",
      "1/1 [==============================] - 0s 18ms/step - loss: 2.7477e-07\n",
      "Epoch 167/300\n",
      "1/1 [==============================] - 0s 26ms/step - loss: 2.6692e-07\n",
      "Epoch 168/300\n",
      "1/1 [==============================] - 0s 31ms/step - loss: 2.6025e-07\n",
      "Epoch 169/300\n",
      "1/1 [==============================] - 0s 22ms/step - loss: 2.5448e-07\n",
      "Epoch 170/300\n",
      "1/1 [==============================] - 0s 30ms/step - loss: 2.4854e-07\n",
      "Epoch 171/300\n",
      "1/1 [==============================] - 0s 31ms/step - loss: 2.4262e-07\n",
      "Epoch 172/300\n",
      "1/1 [==============================] - 0s 33ms/step - loss: 2.3709e-07\n",
      "Epoch 173/300\n",
      "1/1 [==============================] - 0s 25ms/step - loss: 2.3194e-07\n",
      "Epoch 174/300\n",
      "1/1 [==============================] - 0s 29ms/step - loss: 2.2661e-07\n",
      "Epoch 175/300\n",
      "1/1 [==============================] - 0s 56ms/step - loss: 2.2099e-07\n",
      "Epoch 176/300\n",
      "1/1 [==============================] - 0s 11ms/step - loss: 2.1561e-07\n",
      "Epoch 177/300\n",
      "1/1 [==============================] - 0s 42ms/step - loss: 2.1088e-07\n",
      "Epoch 178/300\n",
      "1/1 [==============================] - 0s 27ms/step - loss: 2.0637e-07\n",
      "Epoch 179/300\n",
      "1/1 [==============================] - 0s 22ms/step - loss: 2.0155e-07\n",
      "Epoch 180/300\n",
      "1/1 [==============================] - 0s 29ms/step - loss: 1.9678e-07\n",
      "Epoch 181/300\n",
      "1/1 [==============================] - 0s 51ms/step - loss: 1.9212e-07\n",
      "Epoch 182/300\n",
      "1/1 [==============================] - 0s 60ms/step - loss: 1.8771e-07\n",
      "Epoch 183/300\n",
      "1/1 [==============================] - 0s 24ms/step - loss: 1.8351e-07\n",
      "Epoch 184/300\n",
      "1/1 [==============================] - 0s 31ms/step - loss: 1.7920e-07\n",
      "Epoch 185/300\n",
      "1/1 [==============================] - 0s 12ms/step - loss: 1.7508e-07\n",
      "Epoch 186/300\n",
      "1/1 [==============================] - 0s 20ms/step - loss: 1.7187e-07\n",
      "Epoch 187/300\n",
      "1/1 [==============================] - 0s 14ms/step - loss: 1.6816e-07\n",
      "Epoch 188/300\n",
      "1/1 [==============================] - 0s 12ms/step - loss: 1.6486e-07\n",
      "Epoch 189/300\n",
      "1/1 [==============================] - 0s 57ms/step - loss: 1.6157e-07\n",
      "Epoch 190/300\n",
      "1/1 [==============================] - 0s 21ms/step - loss: 1.5831e-07\n",
      "Epoch 191/300\n",
      "1/1 [==============================] - 0s 46ms/step - loss: 1.5530e-07\n",
      "Epoch 192/300\n",
      "1/1 [==============================] - 0s 12ms/step - loss: 1.5234e-07\n",
      "Epoch 193/300\n",
      "1/1 [==============================] - 0s 18ms/step - loss: 1.4958e-07\n",
      "Epoch 194/300\n",
      "1/1 [==============================] - 0s 34ms/step - loss: 1.4680e-07\n",
      "Epoch 195/300\n",
      "1/1 [==============================] - 0s 40ms/step - loss: 1.4404e-07\n",
      "Epoch 196/300\n"
     ]
    },
    {
     "name": "stdout",
     "output_type": "stream",
     "text": [
      "1/1 [==============================] - 0s 16ms/step - loss: 1.4134e-07\n",
      "Epoch 197/300\n",
      "1/1 [==============================] - 0s 43ms/step - loss: 1.3858e-07\n",
      "Epoch 198/300\n",
      "1/1 [==============================] - 0s 13ms/step - loss: 1.3590e-07\n",
      "Epoch 199/300\n",
      "1/1 [==============================] - 0s 29ms/step - loss: 1.3317e-07\n",
      "Epoch 200/300\n",
      "1/1 [==============================] - 0s 47ms/step - loss: 1.3050e-07\n",
      "Epoch 201/300\n",
      "1/1 [==============================] - 0s 24ms/step - loss: 1.2802e-07\n",
      "Epoch 202/300\n",
      "1/1 [==============================] - 0s 60ms/step - loss: 1.2575e-07\n",
      "Epoch 203/300\n",
      "1/1 [==============================] - 0s 23ms/step - loss: 1.2310e-07\n",
      "Epoch 204/300\n",
      "1/1 [==============================] - 0s 44ms/step - loss: 1.2080e-07\n",
      "Epoch 205/300\n",
      "1/1 [==============================] - 0s 15ms/step - loss: 1.1859e-07\n",
      "Epoch 206/300\n",
      "1/1 [==============================] - 0s 13ms/step - loss: 1.1639e-07\n",
      "Epoch 207/300\n",
      "1/1 [==============================] - 0s 26ms/step - loss: 1.1431e-07\n",
      "Epoch 208/300\n",
      "1/1 [==============================] - 0s 11ms/step - loss: 1.1218e-07\n",
      "Epoch 209/300\n",
      "1/1 [==============================] - 0s 32ms/step - loss: 1.1021e-07\n",
      "Epoch 210/300\n",
      "1/1 [==============================] - 0s 29ms/step - loss: 1.0824e-07\n",
      "Epoch 211/300\n",
      "1/1 [==============================] - 0s 25ms/step - loss: 1.0622e-07\n",
      "Epoch 212/300\n",
      "1/1 [==============================] - 0s 38ms/step - loss: 1.0425e-07\n",
      "Epoch 213/300\n",
      "1/1 [==============================] - 0s 21ms/step - loss: 1.0230e-07\n",
      "Epoch 214/300\n",
      "1/1 [==============================] - 0s 28ms/step - loss: 1.0031e-07\n",
      "Epoch 215/300\n",
      "1/1 [==============================] - 0s 15ms/step - loss: 9.8649e-08\n",
      "Epoch 216/300\n",
      "1/1 [==============================] - 0s 29ms/step - loss: 9.6604e-08\n",
      "Epoch 217/300\n",
      "1/1 [==============================] - 0s 24ms/step - loss: 9.4883e-08\n",
      "Epoch 218/300\n",
      "1/1 [==============================] - 0s 27ms/step - loss: 9.3146e-08\n",
      "Epoch 219/300\n",
      "1/1 [==============================] - 0s 33ms/step - loss: 9.1405e-08\n",
      "Epoch 220/300\n",
      "1/1 [==============================] - 0s 30ms/step - loss: 8.9766e-08\n",
      "Epoch 221/300\n",
      "1/1 [==============================] - 0s 23ms/step - loss: 8.8095e-08\n",
      "Epoch 222/300\n",
      "1/1 [==============================] - 0s 17ms/step - loss: 8.6605e-08\n",
      "Epoch 223/300\n",
      "1/1 [==============================] - 0s 26ms/step - loss: 8.5057e-08\n",
      "Epoch 224/300\n",
      "1/1 [==============================] - 0s 25ms/step - loss: 8.3505e-08\n",
      "Epoch 225/300\n",
      "1/1 [==============================] - 0s 28ms/step - loss: 8.1961e-08\n",
      "Epoch 226/300\n",
      "1/1 [==============================] - 0s 22ms/step - loss: 8.0390e-08\n",
      "Epoch 227/300\n",
      "1/1 [==============================] - 0s 43ms/step - loss: 7.8992e-08\n",
      "Epoch 228/300\n",
      "1/1 [==============================] - 0s 45ms/step - loss: 7.7610e-08\n",
      "Epoch 229/300\n",
      "1/1 [==============================] - 0s 28ms/step - loss: 7.6226e-08\n",
      "Epoch 230/300\n",
      "1/1 [==============================] - 0s 30ms/step - loss: 7.4822e-08\n",
      "Epoch 231/300\n",
      "1/1 [==============================] - 0s 30ms/step - loss: 7.3430e-08\n",
      "Epoch 232/300\n",
      "1/1 [==============================] - 0s 64ms/step - loss: 7.2295e-08\n",
      "Epoch 233/300\n",
      "1/1 [==============================] - 0s 38ms/step - loss: 7.0800e-08\n",
      "Epoch 234/300\n",
      "1/1 [==============================] - 0s 37ms/step - loss: 6.9588e-08\n",
      "Epoch 235/300\n",
      "1/1 [==============================] - 0s 23ms/step - loss: 6.8321e-08\n",
      "Epoch 236/300\n",
      "1/1 [==============================] - 0s 26ms/step - loss: 6.7072e-08\n",
      "Epoch 237/300\n",
      "1/1 [==============================] - 0s 45ms/step - loss: 6.6004e-08\n",
      "Epoch 238/300\n",
      "1/1 [==============================] - 0s 47ms/step - loss: 6.4742e-08\n",
      "Epoch 239/300\n",
      "1/1 [==============================] - 0s 29ms/step - loss: 6.3633e-08\n",
      "Epoch 240/300\n",
      "1/1 [==============================] - 0s 34ms/step - loss: 6.2517e-08\n",
      "Epoch 241/300\n",
      "1/1 [==============================] - 0s 46ms/step - loss: 6.1413e-08\n",
      "Epoch 242/300\n",
      "1/1 [==============================] - 0s 41ms/step - loss: 6.0265e-08\n",
      "Epoch 243/300\n",
      "1/1 [==============================] - 0s 52ms/step - loss: 5.9126e-08\n",
      "Epoch 244/300\n",
      "1/1 [==============================] - 0s 17ms/step - loss: 5.8486e-08\n",
      "Epoch 245/300\n",
      "1/1 [==============================] - 0s 30ms/step - loss: 5.7159e-08\n",
      "Epoch 246/300\n",
      "1/1 [==============================] - 0s 21ms/step - loss: 5.6250e-08\n",
      "Epoch 247/300\n",
      "1/1 [==============================] - 0s 33ms/step - loss: 5.5379e-08\n",
      "Epoch 248/300\n",
      "1/1 [==============================] - 0s 35ms/step - loss: 5.4503e-08\n",
      "Epoch 249/300\n",
      "1/1 [==============================] - 0s 44ms/step - loss: 5.3596e-08\n",
      "Epoch 250/300\n",
      "1/1 [==============================] - 0s 44ms/step - loss: 5.2670e-08\n",
      "Epoch 251/300\n",
      "1/1 [==============================] - 0s 45ms/step - loss: 5.1686e-08\n",
      "Epoch 252/300\n",
      "1/1 [==============================] - 0s 34ms/step - loss: 5.0730e-08\n",
      "Epoch 253/300\n",
      "1/1 [==============================] - 0s 17ms/step - loss: 4.9808e-08\n",
      "Epoch 254/300\n",
      "1/1 [==============================] - 0s 24ms/step - loss: 4.8853e-08\n",
      "Epoch 255/300\n",
      "1/1 [==============================] - 0s 23ms/step - loss: 4.7893e-08\n",
      "Epoch 256/300\n",
      "1/1 [==============================] - 0s 21ms/step - loss: 4.6981e-08\n",
      "Epoch 257/300\n",
      "1/1 [==============================] - 0s 55ms/step - loss: 4.6247e-08\n",
      "Epoch 258/300\n",
      "1/1 [==============================] - 0s 26ms/step - loss: 4.5286e-08\n",
      "Epoch 259/300\n",
      "1/1 [==============================] - 0s 55ms/step - loss: 4.4509e-08\n",
      "Epoch 260/300\n",
      "1/1 [==============================] - 0s 24ms/step - loss: 4.3730e-08\n",
      "Epoch 261/300\n",
      "1/1 [==============================] - 0s 36ms/step - loss: 4.3016e-08\n",
      "Epoch 262/300\n",
      "1/1 [==============================] - 0s 61ms/step - loss: 4.2284e-08\n",
      "Epoch 263/300\n",
      "1/1 [==============================] - 0s 22ms/step - loss: 4.1576e-08\n",
      "Epoch 264/300\n",
      "1/1 [==============================] - 0s 39ms/step - loss: 4.0885e-08\n",
      "Epoch 265/300\n",
      "1/1 [==============================] - 0s 33ms/step - loss: 4.0162e-08\n",
      "Epoch 266/300\n",
      "1/1 [==============================] - 0s 26ms/step - loss: 3.9463e-08\n",
      "Epoch 267/300\n",
      "1/1 [==============================] - 0s 29ms/step - loss: 3.8738e-08\n",
      "Epoch 268/300\n",
      "1/1 [==============================] - 0s 41ms/step - loss: 3.8029e-08\n",
      "Epoch 269/300\n",
      "1/1 [==============================] - 0s 37ms/step - loss: 3.7348e-08\n",
      "Epoch 270/300\n",
      "1/1 [==============================] - 0s 49ms/step - loss: 3.6860e-08\n",
      "Epoch 271/300\n",
      "1/1 [==============================] - 0s 26ms/step - loss: 3.6061e-08\n",
      "Epoch 272/300\n",
      "1/1 [==============================] - 0s 35ms/step - loss: 3.5459e-08\n",
      "Epoch 273/300\n",
      "1/1 [==============================] - 0s 22ms/step - loss: 3.4856e-08\n",
      "Epoch 274/300\n",
      "1/1 [==============================] - 0s 23ms/step - loss: 3.4221e-08\n",
      "Epoch 275/300\n",
      "1/1 [==============================] - 0s 19ms/step - loss: 3.3702e-08\n",
      "Epoch 276/300\n",
      "1/1 [==============================] - 0s 26ms/step - loss: 3.3091e-08\n",
      "Epoch 277/300\n",
      "1/1 [==============================] - 0s 21ms/step - loss: 3.2546e-08\n",
      "Epoch 278/300\n",
      "1/1 [==============================] - 0s 22ms/step - loss: 3.2002e-08\n",
      "Epoch 279/300\n",
      "1/1 [==============================] - 0s 33ms/step - loss: 3.1463e-08\n",
      "Epoch 280/300\n",
      "1/1 [==============================] - 0s 33ms/step - loss: 3.0914e-08\n",
      "Epoch 281/300\n",
      "1/1 [==============================] - 0s 45ms/step - loss: 3.0360e-08\n",
      "Epoch 282/300\n",
      "1/1 [==============================] - 0s 43ms/step - loss: 2.9824e-08\n",
      "Epoch 283/300\n",
      "1/1 [==============================] - 0s 20ms/step - loss: 2.9291e-08\n",
      "Epoch 284/300\n",
      "1/1 [==============================] - 0s 8ms/step - loss: 2.8812e-08\n",
      "Epoch 285/300\n",
      "1/1 [==============================] - 0s 21ms/step - loss: 2.8298e-08\n",
      "Epoch 286/300\n",
      "1/1 [==============================] - 0s 18ms/step - loss: 2.7839e-08\n",
      "Epoch 287/300\n",
      "1/1 [==============================] - 0s 30ms/step - loss: 2.7348e-08\n",
      "Epoch 288/300\n",
      "1/1 [==============================] - 0s 27ms/step - loss: 2.6882e-08\n",
      "Epoch 289/300\n",
      "1/1 [==============================] - 0s 26ms/step - loss: 2.6417e-08\n",
      "Epoch 290/300\n",
      "1/1 [==============================] - 0s 11ms/step - loss: 2.5956e-08\n",
      "Epoch 291/300\n",
      "1/1 [==============================] - 0s 29ms/step - loss: 2.5520e-08\n",
      "Epoch 292/300\n"
     ]
    },
    {
     "name": "stdout",
     "output_type": "stream",
     "text": [
      "1/1 [==============================] - 0s 43ms/step - loss: 2.5086e-08\n",
      "Epoch 293/300\n",
      "1/1 [==============================] - 0s 30ms/step - loss: 2.4684e-08\n",
      "Epoch 294/300\n",
      "1/1 [==============================] - 0s 16ms/step - loss: 2.4269e-08\n",
      "Epoch 295/300\n",
      "1/1 [==============================] - 0s 16ms/step - loss: 2.3864e-08\n",
      "Epoch 296/300\n",
      "1/1 [==============================] - 0s 17ms/step - loss: 2.3457e-08\n",
      "Epoch 297/300\n",
      "1/1 [==============================] - 0s 26ms/step - loss: 2.3028e-08\n",
      "Epoch 298/300\n",
      "1/1 [==============================] - 0s 14ms/step - loss: 2.2622e-08\n",
      "Epoch 299/300\n",
      "1/1 [==============================] - 0s 14ms/step - loss: 2.2234e-08\n",
      "Epoch 300/300\n",
      "1/1 [==============================] - 0s 14ms/step - loss: 2.1852e-08\n"
     ]
    },
    {
     "data": {
      "text/plain": [
       "<keras.callbacks.History at 0x7f23de112ce0>"
      ]
     },
     "execution_count": 14,
     "metadata": {},
     "output_type": "execute_result"
    }
   ],
   "source": [
    "# 300,64\n",
    "model.fit(x_data, y_data, batch_size=64, epochs=300, verbose=0)"
   ]
  },
  {
   "cell_type": "markdown",
   "metadata": {
    "id": "gLEzVkjex1L9"
   },
   "source": [
    "### predict"
   ]
  },
  {
   "cell_type": "code",
   "execution_count": 15,
   "metadata": {
    "id": "IcKpdLe9x1L-"
   },
   "outputs": [
    {
     "name": "stdout",
     "output_type": "stream",
     "text": [
      "1/1 [==============================] - 0s 163ms/step\n",
      "1/1 [==============================] - 0s 47ms/step\n",
      "1/1 [==============================] - 0s 49ms/step\n"
     ]
    }
   ],
   "source": [
    "# from input\n",
    "#y_predicted = model.predict(x_data)\n",
    "y_predicted1n = model.predict(x_data1n)\n",
    "y_predicted2n = model.predict(x_data2n)\n",
    "y_predictedTn = model.predict(x_dataTn) # test"
   ]
  },
  {
   "cell_type": "code",
   "execution_count": 16,
   "metadata": {},
   "outputs": [],
   "source": [
    "#x_data1n[:,[1]]"
   ]
  },
  {
   "cell_type": "code",
   "execution_count": 17,
   "metadata": {},
   "outputs": [],
   "source": [
    "#y_predicted1n[:,[1]]"
   ]
  },
  {
   "cell_type": "code",
   "execution_count": 26,
   "metadata": {
    "id": "IcKpdLe9x1L-",
    "scrolled": true
   },
   "outputs": [
    {
     "data": {
      "image/png": "[encoded data removed]",
      "text/plain": [
       "<Figure size 640x480 with 2 Axes>"
      ]
     },
     "metadata": {},
     "output_type": "display_data"
    }
   ],
   "source": [
    "fig, (ax1, ax2) = plt.subplots(2,1)\n",
    "\n",
    "# plot 1, 0: data set 1\n",
    "#plt.scatter(x_data[:,[1]], y_data[:,[0]], s=50)\n",
    "ax1.scatter(x_data1n[:,[1]], y_predicted1n[:,[0]], s=50)\n",
    "ax1.plot( x_data1n[:,[1]], y_predicted1n[:,[0]], 'b', linewidth=2)\n",
    "ax1.scatter(x_data2n[:,[1]], y_predicted2n[:,[0]], s=50)\n",
    "ax1.plot( x_data2n[:,[1]], y_predicted2n[:,[0]], 'b', linewidth=2)\n",
    "ax1.plot( x_dataTn[:,[1]], y_predictedTn[:,[0]], 'y', linewidth=2)\n",
    "ax1.grid()\n",
    "\n",
    "# plot 2, 1: data set 2\n",
    "#plt.scatter(x_data[:,[1]], y_data[:,[1]], s=50)\n",
    "ax2.scatter(x_data1n[:,[1]], y_predicted1n[:,[1]], s=50)\n",
    "ax2.plot( x_data1n[:,[1]], y_predicted1n[:,[1]], 'r', linewidth=2)\n",
    "ax2.scatter(x_data2n[:,[1]], y_predicted2n[:,[1]], s=50)\n",
    "ax2.plot( x_data2n[:,[1]], y_predicted2n[:,[1]], 'r', linewidth=2)\n",
    "ax2.plot( x_dataTn[:,[1]], y_predictedTn[:,[1]], 'y', linewidth=2)\n",
    "ax2.grid()\n",
    "\n",
    "#plt.show()\n",
    "plt.savefig('training.png', dpi=100)\n",
    "#files.download(\"training.png\") "
   ]
  },
  {
   "cell_type": "markdown",
   "metadata": {
    "id": "OEEhzK4YHOdC"
   },
   "source": [
    "### video\n"
   ]
  },
  {
   "cell_type": "code",
   "execution_count": 19,
   "metadata": {
    "id": "13RiCs72HMH6"
   },
   "outputs": [],
   "source": [
    "#for x in range(100):\n",
    "#  # One epoch\n",
    "#  model.fit( x_data, y_data, epochs=1, verbose=1)\n",
    "#\n",
    "#  # Compute the output \n",
    "#  y_predicted = model.predict(x_data)\n",
    "#\n",
    "#  # Display the result\n",
    "#  plt.scatter(x_data[::1], y_data[::1], s=2)\n",
    "#  plt.plot(x_data, y_predicted, 'r', linewidth=4)\n",
    "#  plt.grid()\n",
    "#  plt.ylim(top=1.2)  # adjust the top leaving bottom unchanged\n",
    "#  plt.ylim(bottom=-1.2)  \n",
    "#  #plt.show()\n",
    "#  plt.savefig('training-' + str(x) +'-epochs.png',dpi=300)\n",
    "#  #files.download('training-' + str(x) +'-epochs.png') \n",
    "#  plt.clf()\n",
    "\n"
   ]
  },
  {
   "cell_type": "code",
   "execution_count": null,
   "metadata": {},
   "outputs": [],
   "source": []
  }
 ],
 "metadata": {
  "colab": {
   "collapsed_sections": [],
   "include_colab_link": true,
   "name": "nonlinear-regression.ipynb",
   "provenance": []
  },
  "file_extension": ".py",
  "kernelspec": {
   "display_name": "Python 3 (ipykernel)",
   "language": "python",
   "name": "python3"
  },
  "language_info": {
   "codemirror_mode": {
    "name": "ipython",
    "version": 3
   },
   "file_extension": ".py",
   "mimetype": "text/x-python",
   "name": "python",
   "nbconvert_exporter": "python",
   "pygments_lexer": "ipython3",
   "version": "3.10.6"
  },
  "mimetype": "text/x-python",
  "name": "python",
  "npconvert_exporter": "python",
  "pygments_lexer": "ipython3",
  "version": 3
 },
 "nbformat": 4,
 "nbformat_minor": 1
}
