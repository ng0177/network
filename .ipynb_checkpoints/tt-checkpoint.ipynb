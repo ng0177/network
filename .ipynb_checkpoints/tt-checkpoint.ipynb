{
 "cells": [
  {
   "cell_type": "markdown",
   "metadata": {
    "id": "qASyOjUDx1Lq"
   },
   "source": [
    "### prepare"
   ]
  },
  {
   "cell_type": "code",
   "execution_count": 1,
   "metadata": {
    "colab": {
     "base_uri": "https://localhost:8080/"
    },
    "id": "Rz1Q7i9xx1Lt",
    "outputId": "9f151272-62c9-4459-9444-89d8f99ca111"
   },
   "outputs": [],
   "source": [
    "# import\n",
    "# pip3 install -U scikit-learn\n",
    "# sudo pacman -S python-scikit-learn\n",
    "from sklearn.preprocessing import MinMaxScaler\n",
    "import numpy as np\n",
    "import matplotlib.pyplot as plt\n",
    "from tensorflow import keras\n",
    "#from google.colab import files\n",
    "import tensorflow as tf\n",
    "import math\n",
    "\n",
    "# data\n",
    "x_data = np.array([[ 1.27305],[ 1.30392],[ 1.34063],[ 1.38482],[ 1.43878],[ 1.50577],[ 1.59061],[ 1.70066],[ 1.84776],[ 2.05185],[ 2.34924],[ 2.81181],[ 3.60117],[ 5.14998]])\n",
    "y_data = np.array([[ 1.34714],[ 1.41808],[ 1.47987],[ 1.55098],[ 1.62026],[ 1.69219],[ 1.76749],[ 1.83998],[ 1.91347],[ 1.98128],[ 2.04018],[ 2.08743],[ 2.12260],[ 2.14005]])\n",
    "x_data = MinMaxScaler().fit_transform(x_data)\n",
    "y_data = MinMaxScaler().fit_transform(y_data)"
   ]
  },
  {
   "cell_type": "markdown",
   "metadata": {
    "id": "RGNdmgOKAg_D"
   },
   "source": [
    "### show"
   ]
  },
  {
   "cell_type": "code",
   "execution_count": 2,
   "metadata": {
    "colab": {
     "base_uri": "https://localhost:8080/",
     "height": 283
    },
    "id": "zYrNbXAsAf9N",
    "outputId": "e367e7da-7b10-46bd-b58b-1c6ec6616fab"
   },
   "outputs": [
    {
     "data": {
      "image/png": "[encoded data removed]",
      "text/plain": [
       "<Figure size 432x288 with 1 Axes>"
      ]
     },
     "metadata": {
      "needs_background": "light"
     },
     "output_type": "display_data"
    },
    {
     "data": {
      "text/plain": [
       "<Figure size 432x288 with 0 Axes>"
      ]
     },
     "metadata": {},
     "output_type": "display_data"
    }
   ],
   "source": [
    "# plot\n",
    "plt.scatter(x_data[::1], y_data[::1], s=50)\n",
    "plt.grid()\n",
    "plt.show()\n",
    "plt.savefig('dataset.png',dpi=300)\n",
    "#files.download('dataset.png') "
   ]
  },
  {
   "cell_type": "markdown",
   "metadata": {
    "id": "5f_ikNz8x1Lz"
   },
   "source": [
    "### model"
   ]
  },
  {
   "cell_type": "code",
   "execution_count": 3,
   "metadata": {
    "colab": {
     "base_uri": "https://localhost:8080/",
     "height": 244
    },
    "id": "sMvpBFj5x1L0",
    "outputId": "90bd03ca-c48b-4f5a-d322-bcb6bd76a03d",
    "scrolled": true
   },
   "outputs": [
    {
     "name": "stdout",
     "output_type": "stream",
     "text": [
      "Model: \"sequential\"\n",
      "_________________________________________________________________\n",
      " Layer (type)                Output Shape              Param #   \n",
      "=================================================================\n",
      " dense (Dense)               (None, 200)               400       \n",
      "                                                                 \n",
      " activation (Activation)     (None, 200)               0         \n",
      "                                                                 \n",
      " dense_1 (Dense)             (None, 45)                9045      \n",
      "                                                                 \n",
      " activation_1 (Activation)   (None, 45)                0         \n",
      "                                                                 \n",
      " dense_2 (Dense)             (None, 1)                 46        \n",
      "                                                                 \n",
      "=================================================================\n",
      "Total params: 9,491\n",
      "Trainable params: 9,491\n",
      "Non-trainable params: 0\n",
      "_________________________________________________________________\n"
     ]
    },
    {
     "name": "stderr",
     "output_type": "stream",
     "text": [
      "2022-08-20 13:01:29.068697: I tensorflow/stream_executor/cuda/cuda_gpu_executor.cc:975] successful NUMA node read from SysFS had negative value (-1), but there must be at least one NUMA node, so returning NUMA node zero\n",
      "2022-08-20 13:01:29.142502: I tensorflow/stream_executor/cuda/cuda_gpu_executor.cc:975] successful NUMA node read from SysFS had negative value (-1), but there must be at least one NUMA node, so returning NUMA node zero\n",
      "2022-08-20 13:01:29.142959: I tensorflow/stream_executor/cuda/cuda_gpu_executor.cc:975] successful NUMA node read from SysFS had negative value (-1), but there must be at least one NUMA node, so returning NUMA node zero\n",
      "2022-08-20 13:01:29.144340: I tensorflow/core/platform/cpu_feature_guard.cc:193] This TensorFlow binary is optimized with oneAPI Deep Neural Network Library (oneDNN) to use the following CPU instructions in performance-critical operations:  AVX512F AVX512_VNNI FMA\n",
      "To enable them in other operations, rebuild TensorFlow with the appropriate compiler flags.\n",
      "2022-08-20 13:01:29.148494: I tensorflow/stream_executor/cuda/cuda_gpu_executor.cc:975] successful NUMA node read from SysFS had negative value (-1), but there must be at least one NUMA node, so returning NUMA node zero\n",
      "2022-08-20 13:01:29.148901: I tensorflow/stream_executor/cuda/cuda_gpu_executor.cc:975] successful NUMA node read from SysFS had negative value (-1), but there must be at least one NUMA node, so returning NUMA node zero\n",
      "2022-08-20 13:01:29.149249: I tensorflow/stream_executor/cuda/cuda_gpu_executor.cc:975] successful NUMA node read from SysFS had negative value (-1), but there must be at least one NUMA node, so returning NUMA node zero\n",
      "2022-08-20 13:01:29.418056: I tensorflow/stream_executor/cuda/cuda_gpu_executor.cc:975] successful NUMA node read from SysFS had negative value (-1), but there must be at least one NUMA node, so returning NUMA node zero\n",
      "2022-08-20 13:01:29.418186: I tensorflow/stream_executor/cuda/cuda_gpu_executor.cc:975] successful NUMA node read from SysFS had negative value (-1), but there must be at least one NUMA node, so returning NUMA node zero\n",
      "2022-08-20 13:01:29.418268: I tensorflow/stream_executor/cuda/cuda_gpu_executor.cc:975] successful NUMA node read from SysFS had negative value (-1), but there must be at least one NUMA node, so returning NUMA node zero\n",
      "2022-08-20 13:01:29.418326: I tensorflow/core/common_runtime/gpu/gpu_process_state.cc:222] Using CUDA malloc Async allocator for GPU: 0\n",
      "2022-08-20 13:01:29.418398: I tensorflow/core/common_runtime/gpu/gpu_device.cc:1532] Created device /job:localhost/replica:0/task:0/device:GPU:0 with 1668 MB memory:  -> device: 0, name: NVIDIA GeForce GTX 1060 6GB, pci bus id: 0000:01:00.0, compute capability: 6.1\n",
      "2022-08-20 13:01:29.418644: I tensorflow/core/common_runtime/process_util.cc:146] Creating new thread pool with default inter op setting: 2. Tune using inter_op_parallelism_threads for best performance.\n"
     ]
    }
   ],
   "source": [
    "# l'mahdi\n",
    "model = keras.Sequential()\n",
    "model.add(keras.layers.Dense(units=200, input_dim=1))\n",
    "model.add(keras.layers.Activation('relu'))\n",
    "model.add(keras.layers.Dense(units=45))\n",
    "model.add(keras.layers.Activation('relu'))\n",
    "model.add(keras.layers.Dense(units=1))\n",
    "model.compile(loss='mean_squared_error', optimizer='sgd')\n",
    "model.summary()"
   ]
  },
  {
   "cell_type": "markdown",
   "metadata": {
    "id": "Sxr1qxVex1L4"
   },
   "source": [
    "### train"
   ]
  },
  {
   "cell_type": "code",
   "execution_count": 4,
   "metadata": {
    "id": "M3XBJMj4x1L5"
   },
   "outputs": [
    {
     "name": "stdout",
     "output_type": "stream",
     "text": [
      "Epoch 1/40\n",
      "1/1 [==============================] - 1s 507ms/step - loss: 0.4294\n",
      "Epoch 2/40\n",
      "1/1 [==============================] - 0s 2ms/step - loss: 0.3990\n",
      "Epoch 3/40\n",
      "1/1 [==============================] - 0s 3ms/step - loss: 0.3745\n",
      "Epoch 4/40\n",
      "1/1 [==============================] - 0s 2ms/step - loss: 0.3532\n",
      "Epoch 5/40\n",
      "1/1 [==============================] - 0s 2ms/step - loss: 0.3342\n",
      "Epoch 6/40\n",
      "1/1 [==============================] - 0s 2ms/step - loss: 0.3170\n",
      "Epoch 7/40\n",
      "1/1 [==============================] - 0s 2ms/step - loss: 0.3011\n",
      "Epoch 8/40\n",
      "1/1 [==============================] - 0s 2ms/step - loss: 0.2867\n",
      "Epoch 9/40\n",
      "1/1 [==============================] - 0s 2ms/step - loss: 0.2732\n",
      "Epoch 10/40\n",
      "1/1 [==============================] - 0s 1ms/step - loss: 0.2606\n",
      "Epoch 11/40\n",
      "1/1 [==============================] - 0s 1ms/step - loss: 0.2487\n",
      "Epoch 12/40\n",
      "1/1 [==============================] - 0s 1ms/step - loss: 0.2376\n",
      "Epoch 13/40\n",
      "1/1 [==============================] - 0s 1ms/step - loss: 0.2272\n",
      "Epoch 14/40\n",
      "1/1 [==============================] - 0s 1ms/step - loss: 0.2171\n",
      "Epoch 15/40\n",
      "1/1 [==============================] - 0s 2ms/step - loss: 0.2073\n",
      "Epoch 16/40\n",
      "1/1 [==============================] - 0s 3ms/step - loss: 0.1978\n",
      "Epoch 17/40\n",
      "1/1 [==============================] - 0s 2ms/step - loss: 0.1890\n",
      "Epoch 18/40\n",
      "1/1 [==============================] - 0s 1ms/step - loss: 0.1808\n",
      "Epoch 19/40\n",
      "1/1 [==============================] - 0s 2ms/step - loss: 0.1730\n",
      "Epoch 20/40\n",
      "1/1 [==============================] - 0s 2ms/step - loss: 0.1660\n",
      "Epoch 21/40\n",
      "1/1 [==============================] - 0s 2ms/step - loss: 0.1595\n",
      "Epoch 22/40\n",
      "1/1 [==============================] - 0s 2ms/step - loss: 0.1534\n",
      "Epoch 23/40\n",
      "1/1 [==============================] - 0s 2ms/step - loss: 0.1479\n",
      "Epoch 24/40\n",
      "1/1 [==============================] - 0s 2ms/step - loss: 0.1427\n",
      "Epoch 25/40\n",
      "1/1 [==============================] - 0s 2ms/step - loss: 0.1379\n",
      "Epoch 26/40\n",
      "1/1 [==============================] - 0s 2ms/step - loss: 0.1335\n",
      "Epoch 27/40\n",
      "1/1 [==============================] - 0s 1ms/step - loss: 0.1295\n",
      "Epoch 28/40\n",
      "1/1 [==============================] - 0s 2ms/step - loss: 0.1257\n",
      "Epoch 29/40\n",
      "1/1 [==============================] - 0s 2ms/step - loss: 0.1222\n",
      "Epoch 30/40\n",
      "1/1 [==============================] - 0s 2ms/step - loss: 0.1190\n",
      "Epoch 31/40\n",
      "1/1 [==============================] - 0s 2ms/step - loss: 0.1160\n",
      "Epoch 32/40\n",
      "1/1 [==============================] - 0s 2ms/step - loss: 0.1132\n",
      "Epoch 33/40\n",
      "1/1 [==============================] - 0s 2ms/step - loss: 0.1107\n",
      "Epoch 34/40\n",
      "1/1 [==============================] - 0s 1ms/step - loss: 0.1083\n",
      "Epoch 35/40\n",
      "1/1 [==============================] - 0s 1ms/step - loss: 0.1061\n",
      "Epoch 36/40\n",
      "1/1 [==============================] - 0s 1ms/step - loss: 0.1041\n",
      "Epoch 37/40\n",
      "1/1 [==============================] - 0s 2ms/step - loss: 0.1023\n",
      "Epoch 38/40\n",
      "1/1 [==============================] - 0s 2ms/step - loss: 0.1005\n",
      "Epoch 39/40\n",
      "1/1 [==============================] - 0s 2ms/step - loss: 0.0989\n",
      "Epoch 40/40\n",
      "1/1 [==============================] - 0s 1ms/step - loss: 0.0974\n"
     ]
    },
    {
     "data": {
      "text/plain": [
       "<keras.callbacks.History at 0x7fb29e20bb80>"
      ]
     },
     "execution_count": 4,
     "metadata": {},
     "output_type": "execute_result"
    }
   ],
   "source": [
    "# 40\n",
    "model.fit( x_data, y_data, epochs=40, batch_size=50, verbose=1)"
   ]
  },
  {
   "cell_type": "markdown",
   "metadata": {
    "id": "gLEzVkjex1L9"
   },
   "source": [
    "### predict"
   ]
  },
  {
   "cell_type": "code",
   "execution_count": 5,
   "metadata": {
    "id": "IcKpdLe9x1L-"
   },
   "outputs": [
    {
     "name": "stdout",
     "output_type": "stream",
     "text": [
      "1/1 [==============================] - 0s 77ms/step\n"
     ]
    },
    {
     "data": {
      "image/png": "[encoded data removed]",
      "text/plain": [
       "<Figure size 432x288 with 1 Axes>"
      ]
     },
     "metadata": {
      "needs_background": "light"
     },
     "output_type": "display_data"
    }
   ],
   "source": [
    "# from input\n",
    "y_predicted = model.predict(x_data)\n",
    "\n",
    "# plot\n",
    "plt.scatter(x_data[::1], y_data[::1], s=50)\n",
    "plt.plot(x_data, y_predicted, 'r', linewidth=3)\n",
    "plt.grid()\n",
    "#plt.show()\n",
    "plt.savefig('training.png', dpi=300)\n",
    "#files.download(\"training.png\") "
   ]
  },
  {
   "cell_type": "markdown",
   "metadata": {
    "id": "OEEhzK4YHOdC"
   },
   "source": [
    "### video\n"
   ]
  },
  {
   "cell_type": "code",
   "execution_count": 6,
   "metadata": {
    "id": "13RiCs72HMH6"
   },
   "outputs": [],
   "source": [
    "#for x in range(100):\n",
    "#  # One epoch\n",
    "#  model.fit( x_data, y_data, epochs=1, verbose=1)\n",
    "#\n",
    "#  # Compute the output \n",
    "#  y_predicted = model.predict(x_data)\n",
    "#\n",
    "#  # Display the result\n",
    "#  plt.scatter(x_data[::1], y_data[::1], s=2)\n",
    "#  plt.plot(x_data, y_predicted, 'r', linewidth=4)\n",
    "#  plt.grid()\n",
    "#  plt.ylim(top=1.2)  # adjust the top leaving bottom unchanged\n",
    "#  plt.ylim(bottom=-1.2)  \n",
    "#  #plt.show()\n",
    "#  plt.savefig('training-' + str(x) +'-epochs.png',dpi=300)\n",
    "#  #files.download('training-' + str(x) +'-epochs.png') \n",
    "#  plt.clf()\n",
    "\n"
   ]
  },
  {
   "cell_type": "code",
   "execution_count": null,
   "metadata": {},
   "outputs": [],
   "source": []
  }
 ],
 "metadata": {
  "colab": {
   "collapsed_sections": [],
   "include_colab_link": true,
   "name": "nonlinear-regression.ipynb",
   "provenance": []
  },
  "file_extension": ".py",
  "kernelspec": {
   "display_name": "Python 3 (ipykernel)",
   "language": "python",
   "name": "python3"
  },
  "language_info": {
   "codemirror_mode": {
    "name": "ipython",
    "version": 3
   },
   "file_extension": ".py",
   "mimetype": "text/x-python",
   "name": "python",
   "nbconvert_exporter": "python",
   "pygments_lexer": "ipython3",
   "version": "3.10.6"
  },
  "mimetype": "text/x-python",
  "name": "python",
  "npconvert_exporter": "python",
  "pygments_lexer": "ipython3",
  "version": 3
 },
 "nbformat": 4,
 "nbformat_minor": 1
}
