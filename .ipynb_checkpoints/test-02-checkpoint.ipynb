{
 "cells": [
  {
   "cell_type": "markdown",
   "metadata": {
    "id": "qASyOjUDx1Lq"
   },
   "source": [
    "### prepare"
   ]
  },
  {
   "cell_type": "code",
   "execution_count": 1,
   "metadata": {
    "colab": {
     "base_uri": "https://localhost:8080/"
    },
    "id": "Rz1Q7i9xx1Lt",
    "outputId": "9f151272-62c9-4459-9444-89d8f99ca111"
   },
   "outputs": [],
   "source": [
    "# import\n",
    "# pip3 install -U scikit-learn\n",
    "# sudo pacman -S python-scikit-learn\n",
    "from sklearn.preprocessing import MinMaxScaler\n",
    "import numpy as np\n",
    "import matplotlib.pyplot as plt\n",
    "from tensorflow import keras\n",
    "#from google.colab import files\n",
    "import tensorflow as tf\n",
    "import math\n",
    "\n",
    "# data\n",
    "x_data1 = np.array([[230,1.27305],[230,1.30392],[230,1.34063],[230,1.38482],[230,1.43878],[230,1.50577],[230,1.59061],[230,1.70066],[230,1.84776],[230,2.05185],[230,2.34924],[230,2.81181],[230,3.60117],[230,5.14998]])\n",
    "y_data1 = np.array([[1.34714,0.72512],[1.41808,0.73310],[1.47987,0.72671],[1.55098,0.72343],[1.62026,0.71180],[1.69219,0.69758],[1.76749,0.68061],[1.83998,0.65528],[1.91347,0.62858],[1.98128,0.59563],[2.04018,0.55927],[2.08743,0.51316],[2.12260,0.45432],[2.14005,0.38027]])\n",
    "\n",
    "x_data2 = np.array([[310,1.56859],[310,1.64246],[310,1.73300],[310,1.84593],[310,1.98978],[310,2.17775],[310,2.43124],[310,2.78692],[310,3.31249],[310,4.14437],[310,5.59556]])\n",
    "y_data2 = np.array([[1.70196,0.75248],[1.76007,0.74370],[1.82271,0.73599],[1.88606,0.72664],[1.94728,0.71568],[1.99856,0.69464],[2.04304,0.67130],[2.07270,0.63371],[2.09661,0.58810],[2.10873,0.52842],[2.11359,0.45515]])\n",
    "\n",
    "x_data3 = np.array([[370,1.62875],[370,1.70066],[370,1.78670],[370,1.89112],[370,2.01987],[370,2.18164],[370,2.38951],[370,2.66399],[370,3.03889],[370,3.57328],[370,4.37845],[370,5.68477]])\n",
    "y_data3 = np.array([[1.66262,0.71861],[1.74188,0.74990],[1.80367,0.75678],[1.85706,0.75211],[1.91208,0.74910],[1.96354,0.74205],[2.00749,0.72979],[2.03871,0.70555],[2.06440,0.67896],[2.07534,0.63054],[2.07976,0.56894],[2.08288,0.50011]])\n",
    "\n",
    "x_data4 = np.array([[420,1.89758],[420,2.01082],[420,2.14910],[420,2.32089],[420,2.53862],[420,2.82132],[420,3.19928],[420,3.72335],[420,4.48437],[420,5.65837]])\n",
    "y_data4 = np.array([[1.80382,0.74273],[1.85943,0.75504],[1.90675,0.75439],[1.95196,0.75257],[1.99088,0.74717],[2.01801,0.73219],[2.03485,0.69862],[2.04353,0.65510],[2.04648,0.59648],[2.04907,0.53200]])\n",
    "\n",
    "x_data5 = np.array([[460,2.18561],[460,2.34920],[460,2.55297],[460,2.81192],[460,3.14922],[460,3.60162],[460,4.23158],[460,5.15036],[460,6.57447]])\n",
    "y_data5 = np.array([[1.87387,0.74287],[1.91543,0.74792],[1.95202,0.74917],[1.97916,0.74360],[1.99535,0.72002],[2.00660,0.68578],[2.01019,0.63524],[2.01245,0.57573],[2.01500,0.51651]])\n",
    "\n",
    "x_data6 = np.array([[490,1.98744],[490,2.09974],[490,2.23427],[490,2.39757],[490,2.59905],[490,2.85253],[490,3.17847],[490,3.60885],[490,4.19613],[490,5.03101],[490,6.28144]])\n",
    "y_data6 = np.array([[1.73492,0.51651],[1.79872,0.69772],[1.85162,0.72228],[1.89298,0.73507],[1.92448,0.73727],[1.95086,0.73893],[1.96645,0.72659],[1.97586,0.69350],[1.97966,0.64730],[1.98179,0.59164],[1.98397,0.53474]])\n",
    "\n",
    "# construct\n",
    "x_data = x_data1; y_data = y_data1\n",
    "x_data = np.append(x_data,x_data2,axis=0); y_data = np.append(y_data,y_data2,axis=0)\n",
    "x_data = np.append(x_data,x_data3,axis=0); y_data = np.append(y_data,y_data3,axis=0)\n",
    "x_data = np.append(x_data,x_data4,axis=0); y_data = np.append(y_data,y_data4,axis=0)\n",
    "x_data = np.append(x_data,x_data5,axis=0); y_data = np.append(y_data,y_data5,axis=0)\n",
    "x_data = np.append(x_data,x_data6,axis=0); y_data = np.append(y_data,y_data6,axis=0)\n",
    "\n",
    "# test\n",
    "x_dataT = np.array([[260,1.27305],[260,1.30392],[260,1.34063],[260,1.38482],[260,1.43878],[260,1.50577],[260,1.59061],[260,1.70066],[260,1.84776],[260,2.05185],[260,2.34924],[260,2.81181],[260,3.60117],[260,5.14998]])\n",
    "x_data = np.append(x_data,x_dataT,axis=0)"
   ]
  },
  {
   "cell_type": "code",
   "execution_count": 2,
   "metadata": {},
   "outputs": [],
   "source": [
    "#x_data[:,[1]] # x_data[:,[1]], x_data[:]"
   ]
  },
  {
   "cell_type": "code",
   "execution_count": 3,
   "metadata": {},
   "outputs": [],
   "source": [
    "#y_data[:,[1]] # y_data[:,[1]], y_data[:]"
   ]
  },
  {
   "cell_type": "code",
   "execution_count": 4,
   "metadata": {
    "colab": {
     "base_uri": "https://localhost:8080/"
    },
    "id": "Rz1Q7i9xx1Lt",
    "outputId": "9f151272-62c9-4459-9444-89d8f99ca111"
   },
   "outputs": [
    {
     "name": "stdout",
     "output_type": "stream",
     "text": [
      "x shape is  (81, 2)\n",
      "y shape is  (67, 2)\n"
     ]
    }
   ],
   "source": [
    "# non-dimensionalize\n",
    "x_data = MinMaxScaler().fit_transform(x_data)\n",
    "y_data = MinMaxScaler().fit_transform(y_data)\n",
    "\n",
    "# shape\n",
    "print(\"x shape is \", x_data.shape)\n",
    "print(\"y shape is \", y_data.shape)"
   ]
  },
  {
   "cell_type": "code",
   "execution_count": 5,
   "metadata": {},
   "outputs": [
    {
     "data": {
      "text/plain": [
       "array([[0.        , 0.        ],\n",
       "       [0.        , 0.00582297],\n",
       "       [0.        , 0.01274753],\n",
       "       [0.        , 0.02108303],\n",
       "       [0.        , 0.03126144],\n",
       "       [0.        , 0.04389767],\n",
       "       [0.        , 0.05990093],\n",
       "       [0.        , 0.08065952],\n",
       "       [0.        , 0.1084068 ],\n",
       "       [0.        , 0.14690404],\n",
       "       [0.        , 0.20300033],\n",
       "       [0.        , 0.29025431],\n",
       "       [0.        , 0.43915027],\n",
       "       [0.        , 0.73130029],\n",
       "       [0.30769231, 0.05574733],\n",
       "       [0.30769231, 0.06968133],\n",
       "       [0.30769231, 0.08675977],\n",
       "       [0.30769231, 0.10806161],\n",
       "       [0.30769231, 0.13519585],\n",
       "       [0.30769231, 0.17065239],\n",
       "       [0.30769231, 0.21846788],\n",
       "       [0.30769231, 0.28555934],\n",
       "       [0.30769231, 0.38469693],\n",
       "       [0.30769231, 0.54161338],\n",
       "       [0.30769231, 0.81534947],\n",
       "       [0.53846154, 0.06709523],\n",
       "       [0.53846154, 0.08065952],\n",
       "       [0.53846154, 0.09688914],\n",
       "       [0.53846154, 0.11658574],\n",
       "       [0.53846154, 0.14087169],\n",
       "       [0.53846154, 0.17138616],\n",
       "       [0.53846154, 0.21059641],\n",
       "       [0.53846154, 0.26237121],\n",
       "       [0.53846154, 0.33308812],\n",
       "       [0.53846154, 0.43388941],\n",
       "       [0.53846154, 0.58576759],\n",
       "       [0.53846154, 0.83217704],\n",
       "       [0.73076923, 0.11780429],\n",
       "       [0.73076923, 0.1391646 ],\n",
       "       [0.73076923, 0.16524818],\n",
       "       [0.73076923, 0.1976527 ],\n",
       "       [0.73076923, 0.23872283],\n",
       "       [0.73076923, 0.29204817],\n",
       "       [0.73076923, 0.36334227],\n",
       "       [0.73076923, 0.46219692],\n",
       "       [0.73076923, 0.60574714],\n",
       "       [0.73076923, 0.82719724],\n",
       "       [0.88461538, 0.17213501],\n",
       "       [0.88461538, 0.20299278],\n",
       "       [0.88461538, 0.24142965],\n",
       "       [0.88461538, 0.29027506],\n",
       "       [0.88461538, 0.35389952],\n",
       "       [0.88461538, 0.43923515],\n",
       "       [0.88461538, 0.55806369],\n",
       "       [0.88461538, 0.73137197],\n",
       "       [0.88461538, 1.        ],\n",
       "       [1.        , 0.13475446],\n",
       "       [1.        , 0.15593747],\n",
       "       [1.        , 0.18131369],\n",
       "       [1.        , 0.21211675],\n",
       "       [1.        , 0.25012167],\n",
       "       [1.        , 0.29793527],\n",
       "       [1.        , 0.35941691],\n",
       "       [1.        , 0.44059893],\n",
       "       [1.        , 0.5513768 ],\n",
       "       [1.        , 0.70885914],\n",
       "       [1.        , 0.94472613],\n",
       "       [0.11538462, 0.        ],\n",
       "       [0.11538462, 0.00582297],\n",
       "       [0.11538462, 0.01274753],\n",
       "       [0.11538462, 0.02108303],\n",
       "       [0.11538462, 0.03126144],\n",
       "       [0.11538462, 0.04389767],\n",
       "       [0.11538462, 0.05990093],\n",
       "       [0.11538462, 0.08065952],\n",
       "       [0.11538462, 0.1084068 ],\n",
       "       [0.11538462, 0.14690404],\n",
       "       [0.11538462, 0.20300033],\n",
       "       [0.11538462, 0.29025431],\n",
       "       [0.11538462, 0.43915027],\n",
       "       [0.11538462, 0.73130029]])"
      ]
     },
     "execution_count": 5,
     "metadata": {},
     "output_type": "execute_result"
    }
   ],
   "source": [
    "x_data[:] # x_data[:,[1]], x_data[:]"
   ]
  },
  {
   "cell_type": "code",
   "execution_count": 6,
   "metadata": {},
   "outputs": [],
   "source": [
    "#y_data[:] # y_data[:,[1]], y_data[:]"
   ]
  },
  {
   "cell_type": "code",
   "execution_count": 7,
   "metadata": {},
   "outputs": [],
   "source": [
    "# retrieve\n",
    "l1=len(x_data1);l2=len(x_data2);l3=len(x_data3);l4=len(x_data4);l5=len(x_data5);l6=len(x_data6)\n",
    "lT=len(x_dataT) # test\n",
    "x_data1n = x_data[0:l1]\n",
    "x_data2n = x_data[l1:l1+l2]\n",
    "x_data3n = x_data[l1+l2:l1+l2+l3]\n",
    "x_data4n = x_data[l1+l2+l3:l1+l2+l3+l4]\n",
    "x_data5n = x_data[l1+l2+l3+l4:l1+l2+l3+l4+l5]\n",
    "x_data6n = x_data[l1+l2+l3+l4+l5:l1+l2+l3+l4+l5+l6]\n",
    "x_dataTn = x_data[l1+l2+l3+l4+l5+l6:l1+l2+l3+l4+l5+l6+lT] # test"
   ]
  },
  {
   "cell_type": "code",
   "execution_count": 8,
   "metadata": {},
   "outputs": [],
   "source": [
    "#x_data1n[:]"
   ]
  },
  {
   "cell_type": "code",
   "execution_count": 9,
   "metadata": {},
   "outputs": [],
   "source": [
    "#x_data2n[:]"
   ]
  },
  {
   "cell_type": "code",
   "execution_count": 10,
   "metadata": {},
   "outputs": [],
   "source": [
    "#x_data6n[:]"
   ]
  },
  {
   "cell_type": "code",
   "execution_count": 11,
   "metadata": {},
   "outputs": [
    {
     "name": "stdout",
     "output_type": "stream",
     "text": [
      "x shape is  (67, 2)\n",
      "y shape is  (67, 2)\n"
     ]
    }
   ],
   "source": [
    "# remove test from non-dimensionalize\n",
    "\n",
    "x_data = x_data[:l1+l2+l3+l4+l5+l6]\n",
    "\n",
    "# shape\n",
    "print(\"x shape is \", x_data.shape)\n",
    "print(\"y shape is \", y_data.shape)"
   ]
  },
  {
   "cell_type": "markdown",
   "metadata": {
    "id": "RGNdmgOKAg_D"
   },
   "source": [
    "### show"
   ]
  },
  {
   "cell_type": "code",
   "execution_count": 12,
   "metadata": {
    "colab": {
     "base_uri": "https://localhost:8080/",
     "height": 283
    },
    "id": "zYrNbXAsAf9N",
    "outputId": "e367e7da-7b10-46bd-b58b-1c6ec6616fab"
   },
   "outputs": [
    {
     "data": {
      "image/png": "[encoded data removed]",
      "text/plain": [
       "<Figure size 432x288 with 1 Axes>"
      ]
     },
     "metadata": {
      "needs_background": "light"
     },
     "output_type": "display_data"
    },
    {
     "data": {
      "text/plain": [
       "<Figure size 432x288 with 0 Axes>"
      ]
     },
     "metadata": {},
     "output_type": "display_data"
    }
   ],
   "source": [
    "# plot\n",
    "plt.scatter(x_data[::,[1]], y_data[::,[0]], s=50)\n",
    "plt.scatter(x_data[::,[1]], y_data[::,[1]], s=50)\n",
    "plt.grid()\n",
    "plt.show()\n",
    "plt.savefig('dataset.png',dpi=300)\n",
    "#files.download('dataset.png') "
   ]
  },
  {
   "cell_type": "code",
   "execution_count": null,
   "metadata": {},
   "outputs": [],
   "source": []
  },
  {
   "cell_type": "markdown",
   "metadata": {
    "id": "5f_ikNz8x1Lz"
   },
   "source": [
    "### model"
   ]
  },
  {
   "cell_type": "code",
   "execution_count": 13,
   "metadata": {
    "colab": {
     "base_uri": "https://localhost:8080/",
     "height": 244
    },
    "id": "sMvpBFj5x1L0",
    "outputId": "90bd03ca-c48b-4f5a-d322-bcb6bd76a03d",
    "scrolled": true
   },
   "outputs": [
    {
     "name": "stderr",
     "output_type": "stream",
     "text": [
      "2022-08-21 18:16:52.518711: I tensorflow/stream_executor/cuda/cuda_gpu_executor.cc:975] successful NUMA node read from SysFS had negative value (-1), but there must be at least one NUMA node, so returning NUMA node zero\n",
      "2022-08-21 18:16:52.598708: I tensorflow/stream_executor/cuda/cuda_gpu_executor.cc:975] successful NUMA node read from SysFS had negative value (-1), but there must be at least one NUMA node, so returning NUMA node zero\n",
      "2022-08-21 18:16:52.598982: I tensorflow/stream_executor/cuda/cuda_gpu_executor.cc:975] successful NUMA node read from SysFS had negative value (-1), but there must be at least one NUMA node, so returning NUMA node zero\n",
      "2022-08-21 18:16:52.599574: I tensorflow/core/platform/cpu_feature_guard.cc:193] This TensorFlow binary is optimized with oneAPI Deep Neural Network Library (oneDNN) to use the following CPU instructions in performance-critical operations:  AVX512F AVX512_VNNI FMA\n",
      "To enable them in other operations, rebuild TensorFlow with the appropriate compiler flags.\n",
      "2022-08-21 18:16:52.600659: I tensorflow/stream_executor/cuda/cuda_gpu_executor.cc:975] successful NUMA node read from SysFS had negative value (-1), but there must be at least one NUMA node, so returning NUMA node zero\n",
      "2022-08-21 18:16:52.600908: I tensorflow/stream_executor/cuda/cuda_gpu_executor.cc:975] successful NUMA node read from SysFS had negative value (-1), but there must be at least one NUMA node, so returning NUMA node zero\n",
      "2022-08-21 18:16:52.601109: I tensorflow/stream_executor/cuda/cuda_gpu_executor.cc:975] successful NUMA node read from SysFS had negative value (-1), but there must be at least one NUMA node, so returning NUMA node zero\n",
      "2022-08-21 18:16:52.839938: I tensorflow/stream_executor/cuda/cuda_gpu_executor.cc:975] successful NUMA node read from SysFS had negative value (-1), but there must be at least one NUMA node, so returning NUMA node zero\n",
      "2022-08-21 18:16:52.840065: I tensorflow/stream_executor/cuda/cuda_gpu_executor.cc:975] successful NUMA node read from SysFS had negative value (-1), but there must be at least one NUMA node, so returning NUMA node zero\n",
      "2022-08-21 18:16:52.840146: I tensorflow/stream_executor/cuda/cuda_gpu_executor.cc:975] successful NUMA node read from SysFS had negative value (-1), but there must be at least one NUMA node, so returning NUMA node zero\n",
      "2022-08-21 18:16:52.840205: I tensorflow/core/common_runtime/gpu/gpu_process_state.cc:222] Using CUDA malloc Async allocator for GPU: 0\n",
      "2022-08-21 18:16:52.840276: I tensorflow/core/common_runtime/gpu/gpu_device.cc:1532] Created device /job:localhost/replica:0/task:0/device:GPU:0 with 4308 MB memory:  -> device: 0, name: NVIDIA GeForce GTX 1060 6GB, pci bus id: 0000:01:00.0, compute capability: 6.1\n",
      "2022-08-21 18:16:52.840460: I tensorflow/core/common_runtime/process_util.cc:146] Creating new thread pool with default inter op setting: 2. Tune using inter_op_parallelism_threads for best performance.\n"
     ]
    }
   ],
   "source": [
    "# 2^n,relu,adam,mse\n",
    "n_features = x_data.shape[1]\n",
    "n_qualities = y_data.shape[1]\n",
    "inputs  = keras.Input(shape=(n_features,))\n",
    "dense   = keras.layers.Dense(512, activation=\"relu\")\n",
    "x       = dense(inputs)\n",
    "x       = keras.layers.Dense(256, activation=\"relu\")(x)\n",
    "x       = keras.layers.Dense(128, activation=\"relu\")(x)\n",
    "x       = keras.layers.Dense(64, activation=\"relu\")(x)\n",
    "x       = keras.layers.Dense(16, activation=\"relu\")(x)\n",
    "outputs = keras.layers.Dense(n_qualities)(x)\n",
    "\n",
    "model = keras.Model(inputs=inputs, outputs=outputs)\n",
    "model.compile(optimizer='adam', loss='mse')\n",
    "#model.summary()"
   ]
  },
  {
   "cell_type": "markdown",
   "metadata": {
    "id": "Sxr1qxVex1L4"
   },
   "source": [
    "### train"
   ]
  },
  {
   "cell_type": "code",
   "execution_count": 14,
   "metadata": {
    "id": "M3XBJMj4x1L5"
   },
   "outputs": [
    {
     "data": {
      "text/plain": [
       "<keras.callbacks.History at 0x7f8901d2a440>"
      ]
     },
     "execution_count": 14,
     "metadata": {},
     "output_type": "execute_result"
    }
   ],
   "source": [
    "# 300,64\n",
    "model.fit(x_data, y_data, batch_size=64, epochs=300, verbose=0)"
   ]
  },
  {
   "cell_type": "markdown",
   "metadata": {
    "id": "gLEzVkjex1L9"
   },
   "source": [
    "### predict"
   ]
  },
  {
   "cell_type": "code",
   "execution_count": 15,
   "metadata": {
    "id": "IcKpdLe9x1L-"
   },
   "outputs": [
    {
     "name": "stdout",
     "output_type": "stream",
     "text": [
      "1/1 [==============================] - 0s 102ms/step\n",
      "1/1 [==============================] - 0s 9ms/step\n",
      "1/1 [==============================] - 0s 10ms/step\n",
      "1/1 [==============================] - 0s 40ms/step\n",
      "1/1 [==============================] - 0s 38ms/step\n",
      "1/1 [==============================] - 0s 42ms/step\n",
      "1/1 [==============================] - 0s 36ms/step\n"
     ]
    }
   ],
   "source": [
    "# from input\n",
    "#y_predicted = model.predict(x_data)\n",
    "y_predicted1n = model.predict(x_data1n)\n",
    "y_predicted2n = model.predict(x_data2n)\n",
    "y_predicted3n = model.predict(x_data3n)\n",
    "y_predicted4n = model.predict(x_data4n)\n",
    "y_predicted5n = model.predict(x_data5n)\n",
    "y_predicted6n = model.predict(x_data6n)\n",
    "y_predictedTn = model.predict(x_dataTn) # test"
   ]
  },
  {
   "cell_type": "code",
   "execution_count": 16,
   "metadata": {},
   "outputs": [
    {
     "data": {
      "text/plain": [
       "array([[0.        ],\n",
       "       [0.00582297],\n",
       "       [0.01274753],\n",
       "       [0.02108303],\n",
       "       [0.03126144],\n",
       "       [0.04389767],\n",
       "       [0.05990093],\n",
       "       [0.08065952],\n",
       "       [0.1084068 ],\n",
       "       [0.14690404],\n",
       "       [0.20300033],\n",
       "       [0.29025431],\n",
       "       [0.43915027],\n",
       "       [0.73130029]])"
      ]
     },
     "execution_count": 16,
     "metadata": {},
     "output_type": "execute_result"
    }
   ],
   "source": [
    "x_data1n[:,[1]]"
   ]
  },
  {
   "cell_type": "code",
   "execution_count": 17,
   "metadata": {},
   "outputs": [
    {
     "data": {
      "text/plain": [
       "array([[0.9313515 ],\n",
       "       [0.9217827 ],\n",
       "       [0.91008633],\n",
       "       [0.89591295],\n",
       "       [0.876704  ],\n",
       "       [0.85077137],\n",
       "       [0.80039793],\n",
       "       [0.7341252 ],\n",
       "       [0.6554814 ],\n",
       "       [0.57513666],\n",
       "       [0.48844805],\n",
       "       [0.357426  ],\n",
       "       [0.19806384],\n",
       "       [0.01584697]], dtype=float32)"
      ]
     },
     "execution_count": 17,
     "metadata": {},
     "output_type": "execute_result"
    }
   ],
   "source": [
    "y_predicted1n[:,[1]]"
   ]
  },
  {
   "cell_type": "code",
   "execution_count": null,
   "metadata": {},
   "outputs": [],
   "source": []
  },
  {
   "cell_type": "code",
   "execution_count": 18,
   "metadata": {
    "id": "IcKpdLe9x1L-",
    "scrolled": true
   },
   "outputs": [
    {
     "data": {
      "image/png": "[encoded data removed]",
      "text/plain": [
       "<Figure size 432x288 with 1 Axes>"
      ]
     },
     "metadata": {
      "needs_background": "light"
     },
     "output_type": "display_data"
    }
   ],
   "source": [
    "# plot\n",
    "# 0: flow, \n",
    "plt.scatter(x_data[:,[1]], y_data[:,[0]], s=50)\n",
    "plt.plot( x_data1n[:,[1]], y_predicted1n[:,[0]], 'b', linewidth=2)\n",
    "plt.plot( x_data6n[:,[1]], y_predicted6n[:,[0]], 'b', linewidth=2)\n",
    "\n",
    "# 1: efficiency\n",
    "plt.scatter(x_data[:,[1]], y_data[:,[1]], s=50)\n",
    "plt.plot( x_data1n[:,[1]], y_predicted1n[:,[1]], 'r', linewidth=2)\n",
    "plt.plot( x_data6n[:,[1]], y_predicted6n[:,[1]], 'r', linewidth=2)\n",
    "\n",
    "plt.plot( x_dataTn[:,[1]], y_predictedTn[:,[1]], 'y', linewidth=2)\n",
    "\n",
    "plt.grid()\n",
    "#plt.show()\n",
    "plt.savefig('training.png', dpi=300)\n",
    "#files.download(\"training.png\") "
   ]
  },
  {
   "cell_type": "markdown",
   "metadata": {
    "id": "OEEhzK4YHOdC"
   },
   "source": [
    "### video\n"
   ]
  },
  {
   "cell_type": "code",
   "execution_count": 19,
   "metadata": {
    "id": "13RiCs72HMH6"
   },
   "outputs": [],
   "source": [
    "#for x in range(100):\n",
    "#  # One epoch\n",
    "#  model.fit( x_data, y_data, epochs=1, verbose=1)\n",
    "#\n",
    "#  # Compute the output \n",
    "#  y_predicted = model.predict(x_data)\n",
    "#\n",
    "#  # Display the result\n",
    "#  plt.scatter(x_data[::1], y_data[::1], s=2)\n",
    "#  plt.plot(x_data, y_predicted, 'r', linewidth=4)\n",
    "#  plt.grid()\n",
    "#  plt.ylim(top=1.2)  # adjust the top leaving bottom unchanged\n",
    "#  plt.ylim(bottom=-1.2)  \n",
    "#  #plt.show()\n",
    "#  plt.savefig('training-' + str(x) +'-epochs.png',dpi=300)\n",
    "#  #files.download('training-' + str(x) +'-epochs.png') \n",
    "#  plt.clf()\n",
    "\n"
   ]
  },
  {
   "cell_type": "code",
   "execution_count": null,
   "metadata": {},
   "outputs": [],
   "source": []
  }
 ],
 "metadata": {
  "colab": {
   "collapsed_sections": [],
   "include_colab_link": true,
   "name": "nonlinear-regression.ipynb",
   "provenance": []
  },
  "file_extension": ".py",
  "kernelspec": {
   "display_name": "Python 3 (ipykernel)",
   "language": "python",
   "name": "python3"
  },
  "language_info": {
   "codemirror_mode": {
    "name": "ipython",
    "version": 3
   },
   "file_extension": ".py",
   "mimetype": "text/x-python",
   "name": "python",
   "nbconvert_exporter": "python",
   "pygments_lexer": "ipython3",
   "version": "3.10.6"
  },
  "mimetype": "text/x-python",
  "name": "python",
  "npconvert_exporter": "python",
  "pygments_lexer": "ipython3",
  "version": 3
 },
 "nbformat": 4,
 "nbformat_minor": 1
}
