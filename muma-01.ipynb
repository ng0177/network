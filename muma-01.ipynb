{
 "cells": [
  {
   "cell_type": "markdown",
   "metadata": {
    "id": "qASyOjUDx1Lq"
   },
   "source": [
    "### prepare"
   ]
  },
  {
   "cell_type": "code",
   "execution_count": 1,
   "metadata": {
    "executionInfo": {
     "elapsed": 4537,
     "status": "ok",
     "timestamp": 1661420525587,
     "user": {
      "displayName": "Thomas Bielinger",
      "userId": "06702926197276526237"
     },
     "user_tz": -120
    },
    "id": "Rz1Q7i9xx1Lt"
   },
   "outputs": [],
   "source": [
    "# import\n",
    "# pip3 install -U scikit-learn\n",
    "# sudo pacman -S python-scikit-learn\n",
    "from sklearn.preprocessing import MinMaxScaler\n",
    "import numpy as np\n",
    "import matplotlib.pyplot as plt\n",
    "from tensorflow import keras\n",
    "#from google.colab import files\n",
    "import tensorflow as tf\n",
    "import math"
   ]
  },
  {
   "cell_type": "code",
   "execution_count": 2,
   "metadata": {
    "executionInfo": {
     "elapsed": 4537,
     "status": "ok",
     "timestamp": 1661420525587,
     "user": {
      "displayName": "Thomas Bielinger",
      "userId": "06702926197276526237"
     },
     "user_tz": -120
    },
    "id": "Rz1Q7i9xx1Lt"
   },
   "outputs": [],
   "source": [
    "# data: map 2D\n",
    "ttech24 = np.loadtxt(open(\"data_muma/muma-24.csv\", \"rb\"), delimiter=\",\", skiprows=0)\n",
    "ttech28 = np.loadtxt(open(\"data_muma/muma-28.csv\", \"rb\"), delimiter=\",\", skiprows=0)\n",
    "ttech32 = np.loadtxt(open(\"data_muma/muma-32.csv\", \"rb\"), delimiter=\",\", skiprows=0)\n",
    "s1=15; s2=30; s3=45; s4=60; s5=75; s6=90; s7=105; s8=120; s9=135; s10=150"
   ]
  },
  {
   "cell_type": "code",
   "execution_count": 3,
   "metadata": {},
   "outputs": [],
   "source": [
    "x_data1=ttech24 [0:s1,[0,1]];\n",
    "x_data2=ttech24[s1:s2,[0,1]];\n",
    "x_data3=ttech24[s2:s3,[0,1]];\n",
    "x_data4=ttech24[s3:s4,[0,1]];\n",
    "x_data5=ttech24[s4:s5,[0,1]];\n",
    "x_data6=ttech24[s5:s6,[0,1]];\n",
    "x_data7=ttech24[s6:s7,[0,1]];\n",
    "x_data8=ttech24[s7:s8,[0,1]];\n",
    "x_data9=ttech24[s8:s9,[0,1]];\n",
    "x_data10=ttech24[s9:s10,[0,1]];"
   ]
  },
  {
   "cell_type": "code",
   "execution_count": 4,
   "metadata": {},
   "outputs": [],
   "source": [
    "y_data1=ttech24 [0:s1,[2,3]]\n",
    "y_data2=ttech24[s1:s2,[2,3]]\n",
    "y_data3=ttech24[s2:s3,[2,3]]\n",
    "y_data4=ttech24[s3:s4,[2,3]]\n",
    "y_data5=ttech24[s4:s5,[2,3]]\n",
    "y_data6=ttech24[s5:s6,[2,3]]\n",
    "y_data7=ttech24[s6:s7,[2,3]]\n",
    "y_data8=ttech24[s7:s8,[2,3]]\n",
    "y_data9=ttech24[s8:s9,[2,3]]\n",
    "y_data10=ttech24[s9:s10,[2,3]]\n"
   ]
  },
  {
   "cell_type": "code",
   "execution_count": 5,
   "metadata": {
    "executionInfo": {
     "elapsed": 4537,
     "status": "ok",
     "timestamp": 1661420525587,
     "user": {
      "displayName": "Thomas Bielinger",
      "userId": "06702926197276526237"
     },
     "user_tz": -120
    },
    "id": "Rz1Q7i9xx1Lt"
   },
   "outputs": [],
   "source": [
    "# construct\n",
    "x_data = x_data1; y_data = y_data1\n",
    "x_data = np.append(x_data,x_data2,axis=0); y_data = np.append(y_data,y_data2,axis=0)\n",
    "x_data = np.append(x_data,x_data3,axis=0); y_data = np.append(y_data,y_data3,axis=0)\n",
    "x_data = np.append(x_data,x_data4,axis=0); y_data = np.append(y_data,y_data4,axis=0)\n",
    "x_data = np.append(x_data,x_data5,axis=0); y_data = np.append(y_data,y_data5,axis=0)\n",
    "x_data = np.append(x_data,x_data6,axis=0); y_data = np.append(y_data,y_data6,axis=0)\n",
    "x_data = np.append(x_data,x_data7,axis=0); y_data = np.append(y_data,y_data7,axis=0)\n",
    "x_data = np.append(x_data,x_data8,axis=0); y_data = np.append(y_data,y_data8,axis=0)\n",
    "x_data = np.append(x_data,x_data9,axis=0); y_data = np.append(y_data,y_data9,axis=0)\n",
    "x_data = np.append(x_data,x_data10,axis=0); y_data = np.append(y_data,y_data10,axis=0)\n",
    "\n",
    "# test\n",
    "x_dataT = np.array([[260,1.27305],[260,1.30392],[260,1.34063],[260,1.38482],[260,1.43878],\n",
    "                    [260,1.50577],[260,1.59061],[260,1.70066],[260,1.84776],[260,2.05185],\n",
    "                    [260,2.34924],[260,2.81181],[260,3.60117],[260,5.14998]])\n",
    "x_data = np.append(x_data,x_dataT,axis=0)"
   ]
  },
  {
   "cell_type": "code",
   "execution_count": 6,
   "metadata": {
    "executionInfo": {
     "elapsed": 26,
     "status": "ok",
     "timestamp": 1661420525589,
     "user": {
      "displayName": "Thomas Bielinger",
      "userId": "06702926197276526237"
     },
     "user_tz": -120
    },
    "id": "Bf8q-oFwDNWk"
   },
   "outputs": [],
   "source": [
    "#x_data[:,[1]] # x_data[:,[1]], x_data[:]"
   ]
  },
  {
   "cell_type": "code",
   "execution_count": 7,
   "metadata": {
    "executionInfo": {
     "elapsed": 25,
     "status": "ok",
     "timestamp": 1661420525591,
     "user": {
      "displayName": "Thomas Bielinger",
      "userId": "06702926197276526237"
     },
     "user_tz": -120
    },
    "id": "L4kNY4unDNWk"
   },
   "outputs": [],
   "source": [
    "#y_data[:,[1]] # y_data[:,[1]], y_data[:]"
   ]
  },
  {
   "cell_type": "markdown",
   "metadata": {
    "id": "qASyOjUDx1Lq"
   },
   "source": [
    "### normalize"
   ]
  },
  {
   "cell_type": "code",
   "execution_count": 24,
   "metadata": {
    "colab": {
     "base_uri": "https://localhost:8080/"
    },
    "executionInfo": {
     "elapsed": 26,
     "status": "ok",
     "timestamp": 1661420525593,
     "user": {
      "displayName": "Thomas Bielinger",
      "userId": "06702926197276526237"
     },
     "user_tz": -120
    },
    "id": "WVKBnQcsDNWk",
    "outputId": "8c3e95f4-f305-4305-9aa3-e8b76e92f806"
   },
   "outputs": [
    {
     "name": "stdout",
     "output_type": "stream",
     "text": [
      "x shape is  (164, 2)\n",
      "y shape is  (150, 2)\n"
     ]
    }
   ],
   "source": [
    "# normalize\n",
    "x_datan = MinMaxScaler().fit_transform(x_data)\n",
    "y_datan = MinMaxScaler().fit_transform(y_data)\n",
    "\n",
    "# shape\n",
    "print(\"x shape is \", x_data.shape)\n",
    "print(\"y shape is \", y_data.shape)"
   ]
  },
  {
   "cell_type": "code",
   "execution_count": 26,
   "metadata": {
    "executionInfo": {
     "elapsed": 18,
     "status": "ok",
     "timestamp": 1661420525593,
     "user": {
      "displayName": "Thomas Bielinger",
      "userId": "06702926197276526237"
     },
     "user_tz": -120
    },
    "id": "EE1UVqnhDNWl"
   },
   "outputs": [
    {
     "data": {
      "text/plain": [
       "array([[0.00000000e+00, 0.00000000e+00],\n",
       "       [0.00000000e+00, 3.77585936e-04],\n",
       "       [0.00000000e+00, 8.34910517e-04],\n",
       "       [0.00000000e+00, 1.38839052e-03],\n",
       "       [0.00000000e+00, 2.07320477e-03],\n",
       "       [0.00000000e+00, 2.93156783e-03],\n",
       "       [0.00000000e+00, 4.03149207e-03],\n",
       "       [0.00000000e+00, 5.46913294e-03],\n",
       "       [0.00000000e+00, 7.39224143e-03],\n",
       "       [0.00000000e+00, 1.00775576e-02],\n",
       "       [0.00000000e+00, 1.39706796e-02],\n",
       "       [0.00000000e+00, 1.99487327e-02],\n",
       "       [0.00000000e+00, 2.98363247e-02],\n",
       "       [0.00000000e+00, 4.81902845e-02],\n",
       "       [0.00000000e+00, 8.94386165e-02],\n",
       "       [6.12240941e-02, 4.54275750e-03],\n",
       "       [6.12240941e-02, 5.43629938e-03],\n",
       "       [6.12240941e-02, 6.50339007e-03],\n",
       "       [6.12240941e-02, 7.78858940e-03],\n",
       "       [6.12240941e-02, 9.35521925e-03],\n",
       "       [6.12240941e-02, 1.12947445e-02],\n",
       "       [6.12240941e-02, 1.37361542e-02],\n",
       "       [6.12240941e-02, 1.68717592e-02],\n",
       "       [6.12240941e-02, 2.09994067e-02],\n",
       "       [6.12240941e-02, 2.65904928e-02],\n",
       "       [6.12240941e-02, 3.44752376e-02],\n",
       "       [6.12240941e-02, 4.61405323e-02],\n",
       "       [6.12240941e-02, 6.45859571e-02],\n",
       "       [6.12240941e-02, 9.66619996e-02],\n",
       "       [6.12240941e-02, 1.62050034e-01],\n",
       "       [2.24489638e-01, 2.45125975e-02],\n",
       "       [2.24489638e-01, 2.74183676e-02],\n",
       "       [2.24489638e-01, 3.08682366e-02],\n",
       "       [2.24489638e-01, 3.49747768e-02],\n",
       "       [2.24489638e-01, 3.99115370e-02],\n",
       "       [2.24489638e-01, 4.59247689e-02],\n",
       "       [2.24489638e-01, 5.33474987e-02],\n",
       "       [2.24489638e-01, 6.26769201e-02],\n",
       "       [2.24489638e-01, 7.46682052e-02],\n",
       "       [2.24489638e-01, 9.04986714e-02],\n",
       "       [2.24489638e-01, 1.12119570e-01],\n",
       "       [2.24489638e-01, 1.42905723e-01],\n",
       "       [2.24489638e-01, 1.89463711e-01],\n",
       "       [2.24489638e-01, 2.65825189e-01],\n",
       "       [2.24489638e-01, 4.07337832e-01],\n",
       "       [3.87754977e-01, 6.20179037e-02],\n",
       "       [3.87754977e-01, 6.79396707e-02],\n",
       "       [3.87754977e-01, 7.47409080e-02],\n",
       "       [3.87754977e-01, 8.27288440e-02],\n",
       "       [3.87754977e-01, 9.21403494e-02],\n",
       "       [3.87754977e-01, 1.03313141e-01],\n",
       "       [3.87754977e-01, 1.16725650e-01],\n",
       "       [3.87754977e-01, 1.33039238e-01],\n",
       "       [3.87754977e-01, 1.53220151e-01],\n",
       "       [3.87754977e-01, 1.78645053e-01],\n",
       "       [3.87754977e-01, 2.11537244e-01],\n",
       "       [3.87754977e-01, 2.55180080e-01],\n",
       "       [3.87754977e-01, 3.15514091e-01],\n",
       "       [3.87754977e-01, 4.02938135e-01],\n",
       "       [3.87754977e-01, 5.37262572e-01],\n",
       "       [5.51020317e-01, 1.01096875e-01],\n",
       "       [5.51020317e-01, 1.10093271e-01],\n",
       "       [5.51020317e-01, 1.20379556e-01],\n",
       "       [5.51020317e-01, 1.32209018e-01],\n",
       "       [5.51020317e-01, 1.46083543e-01],\n",
       "       [5.51020317e-01, 1.62453417e-01],\n",
       "       [5.51020317e-01, 1.82031600e-01],\n",
       "       [5.51020317e-01, 2.05676453e-01],\n",
       "       [5.51020317e-01, 2.34687249e-01],\n",
       "       [5.51020317e-01, 2.70771331e-01],\n",
       "       [5.51020317e-01, 3.16864958e-01],\n",
       "       [5.51020317e-01, 3.77100468e-01],\n",
       "       [5.51020317e-01, 4.58574601e-01],\n",
       "       [5.51020317e-01, 5.72678257e-01],\n",
       "       [5.51020317e-01, 7.40192733e-01],\n",
       "       [6.73469321e-01, 1.31573455e-01],\n",
       "       [6.73469321e-01, 1.42781425e-01],\n",
       "       [6.73469321e-01, 1.55738954e-01],\n",
       "       [6.73469321e-01, 1.70504675e-01],\n",
       "       [6.73469321e-01, 1.87620341e-01],\n",
       "       [6.73469321e-01, 2.07686336e-01],\n",
       "       [6.73469321e-01, 2.31650144e-01],\n",
       "       [6.73469321e-01, 2.60522570e-01],\n",
       "       [6.73469321e-01, 2.95715455e-01],\n",
       "       [6.73469321e-01, 3.39360637e-01],\n",
       "       [6.73469321e-01, 3.94464731e-01],\n",
       "       [6.73469321e-01, 4.65978569e-01],\n",
       "       [6.73469321e-01, 5.61085665e-01],\n",
       "       [6.73469321e-01, 6.92131437e-01],\n",
       "       [6.73469321e-01, 8.86447479e-01],\n",
       "       [7.75508117e-01, 1.71623362e-01],\n",
       "       [7.75508117e-01, 1.85324337e-01],\n",
       "       [7.75508117e-01, 2.00678717e-01],\n",
       "       [7.75508117e-01, 2.18005455e-01],\n",
       "       [7.75508117e-01, 2.37897902e-01],\n",
       "       [7.75508117e-01, 2.60728952e-01],\n",
       "       [7.75508117e-01, 2.87833055e-01],\n",
       "       [7.75508117e-01, 3.20092028e-01],\n",
       "       [7.75508117e-01, 3.58655044e-01],\n",
       "       [7.75508117e-01, 4.05503843e-01],\n",
       "       [7.75508117e-01, 4.62943810e-01],\n",
       "       [7.75508117e-01, 5.35196403e-01],\n",
       "       [7.75508117e-01, 6.27606457e-01],\n",
       "       [7.75508117e-01, 7.49088282e-01],\n",
       "       [7.75508117e-01, 9.22777813e-01],\n",
       "       [8.57144869e-01, 2.05315284e-01],\n",
       "       [8.57144869e-01, 2.20772855e-01],\n",
       "       [8.57144869e-01, 2.37904937e-01],\n",
       "       [8.57144869e-01, 2.57161820e-01],\n",
       "       [8.57144869e-01, 2.79284604e-01],\n",
       "       [8.57144869e-01, 3.04369443e-01],\n",
       "       [8.57144869e-01, 3.33781277e-01],\n",
       "       [8.57144869e-01, 3.68549671e-01],\n",
       "       [8.57144869e-01, 4.09802694e-01],\n",
       "       [8.57144869e-01, 4.59069450e-01],\n",
       "       [8.57144869e-01, 5.18746790e-01],\n",
       "       [8.57144869e-01, 5.92059438e-01],\n",
       "       [8.57144869e-01, 6.84410860e-01],\n",
       "       [8.57144869e-01, 8.01788491e-01],\n",
       "       [8.57144869e-01, 9.50754351e-01],\n",
       "       [9.18369371e-01, 2.28139299e-01],\n",
       "       [9.18369371e-01, 2.44556079e-01],\n",
       "       [9.18369371e-01, 2.62971015e-01],\n",
       "       [9.18369371e-01, 2.83555312e-01],\n",
       "       [9.18369371e-01, 3.06963294e-01],\n",
       "       [9.18369371e-01, 3.33319262e-01],\n",
       "       [9.18369371e-01, 3.63852127e-01],\n",
       "       [9.18369371e-01, 4.00062853e-01],\n",
       "       [9.18369371e-01, 4.42891886e-01],\n",
       "       [9.18369371e-01, 4.93687748e-01],\n",
       "       [9.18369371e-01, 5.54483774e-01],\n",
       "       [9.18369371e-01, 6.28713417e-01],\n",
       "       [9.18369371e-01, 7.20553574e-01],\n",
       "       [9.18369371e-01, 8.35700868e-01],\n",
       "       [9.18369371e-01, 9.71723269e-01],\n",
       "       [1.00000000e+00, 2.67274557e-01],\n",
       "       [1.00000000e+00, 2.85260311e-01],\n",
       "       [1.00000000e+00, 3.04976864e-01],\n",
       "       [1.00000000e+00, 3.27531174e-01],\n",
       "       [1.00000000e+00, 3.52648847e-01],\n",
       "       [1.00000000e+00, 3.81087401e-01],\n",
       "       [1.00000000e+00, 4.12760059e-01],\n",
       "       [1.00000000e+00, 4.49986280e-01],\n",
       "       [1.00000000e+00, 4.94520313e-01],\n",
       "       [1.00000000e+00, 5.46540398e-01],\n",
       "       [1.00000000e+00, 6.06944767e-01],\n",
       "       [1.00000000e+00, 6.79957223e-01],\n",
       "       [1.00000000e+00, 7.67840935e-01],\n",
       "       [1.00000000e+00, 8.76095527e-01],\n",
       "       [1.00000000e+00, 1.00000000e+00],\n",
       "       [4.48979479e-01, 6.10305516e-02],\n",
       "       [4.48979479e-01, 6.82703515e-02],\n",
       "       [4.48979479e-01, 7.68797799e-02],\n",
       "       [4.48979479e-01, 8.72434585e-02],\n",
       "       [4.48979479e-01, 9.98984505e-02],\n",
       "       [4.48979479e-01, 1.15609309e-01],\n",
       "       [4.48979479e-01, 1.35506446e-01],\n",
       "       [4.48979479e-01, 1.61315969e-01],\n",
       "       [4.48979479e-01, 1.95814659e-01],\n",
       "       [4.48979479e-01, 2.43678953e-01],\n",
       "       [4.48979479e-01, 3.13424470e-01],\n",
       "       [4.48979479e-01, 4.21908896e-01],\n",
       "       [4.48979479e-01, 6.07033887e-01],\n",
       "       [4.48979479e-01, 9.70269212e-01]])"
      ]
     },
     "execution_count": 26,
     "metadata": {},
     "output_type": "execute_result"
    }
   ],
   "source": [
    "# view x\n",
    "x_datan[:,[0,1]]"
   ]
  },
  {
   "cell_type": "code",
   "execution_count": 27,
   "metadata": {
    "executionInfo": {
     "elapsed": 18,
     "status": "ok",
     "timestamp": 1661420525594,
     "user": {
      "displayName": "Thomas Bielinger",
      "userId": "06702926197276526237"
     },
     "user_tz": -120
    },
    "id": "t5XYBmozDNWl"
   },
   "outputs": [
    {
     "data": {
      "text/plain": [
       "array([[0.        , 0.68044774],\n",
       "       [0.01181436, 0.65988087],\n",
       "       [0.02492576, 0.63391161],\n",
       "       [0.03967504, 0.60236379],\n",
       "       [0.05650009, 0.56518344],\n",
       "       [0.07592006, 0.52427824],\n",
       "       [0.09846155, 0.4794244 ],\n",
       "       [0.12543072, 0.43175192],\n",
       "       [0.15815614, 0.38125921],\n",
       "       [0.19814964, 0.32602116],\n",
       "       [0.24773743, 0.26646627],\n",
       "       [0.31139697, 0.20334682],\n",
       "       [0.39615167, 0.13827527],\n",
       "       [0.51211664, 0.07071042],\n",
       "       [0.67242236, 0.        ],\n",
       "       [0.10371772, 0.76000609],\n",
       "       [0.12088278, 0.745359  ],\n",
       "       [0.14000088, 0.72458423],\n",
       "       [0.16108195, 0.69743894],\n",
       "       [0.18465178, 0.66496268],\n",
       "       [0.21147334, 0.62781249],\n",
       "       [0.2421653 , 0.58555352],\n",
       "       [0.27750885, 0.53831272],\n",
       "       [0.31858377, 0.48727247],\n",
       "       [0.36824952, 0.43394843],\n",
       "       [0.42769532, 0.37608853],\n",
       "       [0.49908237, 0.31380547],\n",
       "       [0.58661111, 0.24834191],\n",
       "       [0.692699  , 0.18002796],\n",
       "       [0.81904445, 0.10961115],\n",
       "       [0.33043793, 0.82238121],\n",
       "       [0.36098144, 0.83809005],\n",
       "       [0.39028844, 0.83386844],\n",
       "       [0.42116616, 0.82185748],\n",
       "       [0.45440078, 0.80243171],\n",
       "       [0.49060847, 0.77697031],\n",
       "       [0.53020224, 0.74560183],\n",
       "       [0.5732559 , 0.70751685],\n",
       "       [0.62060289, 0.66465479],\n",
       "       [0.67325996, 0.61776632],\n",
       "       [0.72959502, 0.56654991],\n",
       "       [0.7920504 , 0.51299415],\n",
       "       [0.85678637, 0.45506284],\n",
       "       [0.91912564, 0.39117683],\n",
       "       [0.97081656, 0.31445775],\n",
       "       [0.54188972, 0.85676037],\n",
       "       [0.57342674, 0.87247556],\n",
       "       [0.60676833, 0.88725597],\n",
       "       [0.63717583, 0.88426434],\n",
       "       [0.66917975, 0.87729709],\n",
       "       [0.70202874, 0.8633245 ],\n",
       "       [0.73608023, 0.84408284],\n",
       "       [0.77165765, 0.82053545],\n",
       "       [0.80817219, 0.79260932],\n",
       "       [0.8448443 , 0.7601156 ],\n",
       "       [0.88149982, 0.72281305],\n",
       "       [0.9164138 , 0.68076199],\n",
       "       [0.94806028, 0.63610494],\n",
       "       [0.97334596, 0.58304753],\n",
       "       [0.99282646, 0.52435759],\n",
       "       [0.64514717, 0.84941381],\n",
       "       [0.6754991 , 0.86929666],\n",
       "       [0.70804124, 0.89087608],\n",
       "       [0.7423664 , 0.91558997],\n",
       "       [0.77492513, 0.9294102 ],\n",
       "       [0.80676236, 0.93387146],\n",
       "       [0.83850008, 0.93226217],\n",
       "       [0.86917627, 0.92427919],\n",
       "       [0.89837629, 0.90880524],\n",
       "       [0.92581818, 0.88824789],\n",
       "       [0.94989306, 0.85934571],\n",
       "       [0.9687267 , 0.81851828],\n",
       "       [0.98289132, 0.77271061],\n",
       "       [0.99348991, 0.72062448],\n",
       "       [1.        , 0.6521439 ],\n",
       "       [0.68891734, 0.82402066],\n",
       "       [0.71756173, 0.84935192],\n",
       "       [0.74711835, 0.87513708],\n",
       "       [0.77862386, 0.90108254],\n",
       "       [0.81269193, 0.93137499],\n",
       "       [0.84500187, 0.95442246],\n",
       "       [0.87366284, 0.96299582],\n",
       "       [0.90104667, 0.96622551],\n",
       "       [0.92662261, 0.9638338 ],\n",
       "       [0.94926278, 0.95485573],\n",
       "       [0.96749932, 0.93751061],\n",
       "       [0.97829694, 0.89830675],\n",
       "       [0.98505583, 0.85041843],\n",
       "       [0.98931019, 0.79147774],\n",
       "       [0.99039658, 0.69932914],\n",
       "       [0.74145416, 0.81664077],\n",
       "       [0.76524708, 0.84619999],\n",
       "       [0.79094741, 0.8745705 ],\n",
       "       [0.81786683, 0.90230935],\n",
       "       [0.84673513, 0.93187809],\n",
       "       [0.87666494, 0.9689156 ],\n",
       "       [0.89996028, 0.98263425],\n",
       "       [0.92041107, 0.98799856],\n",
       "       [0.93863932, 0.98830804],\n",
       "       [0.95373277, 0.98260886],\n",
       "       [0.9647626 , 0.97067408],\n",
       "       [0.9708912 , 0.94545391],\n",
       "       [0.9734206 , 0.89573252],\n",
       "       [0.97464798, 0.83330344],\n",
       "       [0.97523679, 0.74286889],\n",
       "       [0.76578613, 0.79642623],\n",
       "       [0.78739796, 0.82428729],\n",
       "       [0.81371199, 0.86063759],\n",
       "       [0.83636045, 0.89090782],\n",
       "       [0.86099098, 0.92507749],\n",
       "       [0.88834993, 0.96896956],\n",
       "       [0.90971297, 0.99130443],\n",
       "       [0.92595087, 0.99853037],\n",
       "       [0.93923642, 0.99971909],\n",
       "       [0.94938718, 0.99511023],\n",
       "       [0.95592215, 0.98387217],\n",
       "       [0.95918134, 0.96050729],\n",
       "       [0.96041701, 0.91172704],\n",
       "       [0.9609146 , 0.8407976 ],\n",
       "       [0.96145365, 0.76579732],\n",
       "       [0.7762935 , 0.75912051],\n",
       "       [0.79707602, 0.79718644],\n",
       "       [0.81824831, 0.83136722],\n",
       "       [0.83875716, 0.85963139],\n",
       "       [0.86068413, 0.89931772],\n",
       "       [0.88623519, 0.94520157],\n",
       "       [0.90792995, 0.98802237],\n",
       "       [0.92174626, 0.99835421],\n",
       "       [0.93358052, 1.        ],\n",
       "       [0.94104432, 0.99720993],\n",
       "       [0.94567187, 0.98790016],\n",
       "       [0.94772027, 0.96322595],\n",
       "       [0.94851641, 0.9127015 ],\n",
       "       [0.94893935, 0.84184189],\n",
       "       [0.94933742, 0.77671955],\n",
       "       [0.79518519, 0.73677136],\n",
       "       [0.80778242, 0.76444514],\n",
       "       [0.82750342, 0.79705154],\n",
       "       [0.84834399, 0.82581405],\n",
       "       [0.86140563, 0.86022495],\n",
       "       [0.88290965, 0.90503277],\n",
       "       [0.90249797, 0.95997245],\n",
       "       [0.91382635, 0.98300246],\n",
       "       [0.92318097, 0.98723042],\n",
       "       [0.92814854, 0.98474506],\n",
       "       [0.92886175, 0.97578286],\n",
       "       [0.92822318, 0.94655375],\n",
       "       [0.92810707, 0.89839563],\n",
       "       [0.92850514, 0.83457945],\n",
       "       [0.93037938, 0.77917158]])"
      ]
     },
     "execution_count": 27,
     "metadata": {},
     "output_type": "execute_result"
    }
   ],
   "source": [
    "# view y\n",
    "y_datan[:,[0,1]]"
   ]
  },
  {
   "cell_type": "code",
   "execution_count": 11,
   "metadata": {
    "executionInfo": {
     "elapsed": 17,
     "status": "ok",
     "timestamp": 1661420525595,
     "user": {
      "displayName": "Thomas Bielinger",
      "userId": "06702926197276526237"
     },
     "user_tz": -120
    },
    "id": "nnU-lPqDDNWl"
   },
   "outputs": [],
   "source": [
    "# retrieve\n",
    "lT=len(x_dataT); s11=s10+lT # test\n",
    "#\n",
    "x_data1n=x_datan [0:s1,[0,1]];\n",
    "x_data2n=x_datan[s1:s2,[0,1]];\n",
    "x_data3n=x_datan[s2:s3,[0,1]];\n",
    "x_data4n=x_datan[s3:s4,[0,1]];\n",
    "x_data5n=x_datan[s4:s5,[0,1]];\n",
    "x_data6n=x_datan[s5:s6,[0,1]];\n",
    "x_data7n=x_datan[s6:s7,[0,1]];\n",
    "x_data8n=x_datan[s7:s8,[0,1]];\n",
    "x_data9n=x_datan[s8:s9,[0,1]];\n",
    "x_data10n=x_datan[s9:s10,[0,1]];\n",
    "x_dataTn=x_datan[s10:s11,[0,1]]; # test\n",
    "#\n",
    "y_data1n=y_datan [0:s1,[0,1]];\n",
    "y_data2n=y_datan[s1:s2,[0,1]];\n",
    "y_data3n=y_datan[s2:s3,[0,1]];\n",
    "y_data4n=y_datan[s3:s4,[0,1]];\n",
    "y_data5n=y_datan[s4:s5,[0,1]];\n",
    "y_data6n=y_datan[s5:s6,[0,1]];\n",
    "y_data7n=y_datan[s6:s7,[0,1]];\n",
    "y_data8n=y_datan[s7:s8,[0,1]];\n",
    "y_data9n=y_datan[s8:s9,[0,1]];\n",
    "y_data10n=y_datan[s9:s10,[0,1]];\n",
    "y_dataTn=y_datan[s10:s11,[0,1]]; # test"
   ]
  },
  {
   "cell_type": "code",
   "execution_count": 12,
   "metadata": {
    "executionInfo": {
     "elapsed": 364,
     "status": "ok",
     "timestamp": 1661420525943,
     "user": {
      "displayName": "Thomas Bielinger",
      "userId": "06702926197276526237"
     },
     "user_tz": -120
    },
    "id": "aDdpgAgsDNWl"
   },
   "outputs": [],
   "source": [
    "#x_data1n[:]"
   ]
  },
  {
   "cell_type": "code",
   "execution_count": 13,
   "metadata": {
    "colab": {
     "base_uri": "https://localhost:8080/"
    },
    "executionInfo": {
     "elapsed": 8,
     "status": "ok",
     "timestamp": 1661420525944,
     "user": {
      "displayName": "Thomas Bielinger",
      "userId": "06702926197276526237"
     },
     "user_tz": -120
    },
    "id": "ws_-LECGDNWl",
    "outputId": "57872a61-4cce-4137-c411-4172710ce9a4"
   },
   "outputs": [
    {
     "name": "stdout",
     "output_type": "stream",
     "text": [
      "x shape is  (150, 2)\n",
      "y shape is  (150, 2)\n"
     ]
    }
   ],
   "source": [
    "# remove test from non-dimensionalize\n",
    "\n",
    "x_datan = x_datan[:s10]\n",
    "\n",
    "# shape\n",
    "print(\"x shape is \", x_datan.shape)\n",
    "print(\"y shape is \", y_datan.shape)"
   ]
  },
  {
   "cell_type": "markdown",
   "metadata": {
    "id": "RGNdmgOKAg_D"
   },
   "source": [
    "### show"
   ]
  },
  {
   "cell_type": "code",
   "execution_count": 14,
   "metadata": {
    "colab": {
     "base_uri": "https://localhost:8080/",
     "height": 282
    },
    "executionInfo": {
     "elapsed": 1026,
     "status": "ok",
     "timestamp": 1661420526965,
     "user": {
      "displayName": "Thomas Bielinger",
      "userId": "06702926197276526237"
     },
     "user_tz": -120
    },
    "id": "zYrNbXAsAf9N",
    "outputId": "2c7a86b0-1040-4bad-9739-94afbc84ac52"
   },
   "outputs": [
    {
     "data": {
      "image/png": "[encoded data removed]",
      "text/plain": [
       "<Figure size 640x480 with 1 Axes>"
      ]
     },
     "metadata": {},
     "output_type": "display_data"
    },
    {
     "data": {
      "text/plain": [
       "<Figure size 640x480 with 0 Axes>"
      ]
     },
     "metadata": {},
     "output_type": "display_data"
    }
   ],
   "source": [
    "# plot\n",
    "plt.scatter(x_datan[::,[1]], y_datan[::,[0]], s=50)\n",
    "plt.scatter(x_datan[::,[1]], y_datan[::,[1]], s=50)\n",
    "plt.grid()\n",
    "plt.show()\n",
    "plt.savefig('dataset.png',dpi=300)\n",
    "#files.download('dataset.png') "
   ]
  },
  {
   "cell_type": "code",
   "execution_count": null,
   "metadata": {
    "executionInfo": {
     "elapsed": 4,
     "status": "ok",
     "timestamp": 1661420526966,
     "user": {
      "displayName": "Thomas Bielinger",
      "userId": "06702926197276526237"
     },
     "user_tz": -120
    },
    "id": "cOuBorSUOqpv"
   },
   "outputs": [],
   "source": []
  },
  {
   "cell_type": "code",
   "execution_count": 15,
   "metadata": {
    "colab": {
     "base_uri": "https://localhost:8080/",
     "height": 282
    },
    "executionInfo": {
     "elapsed": 1069,
     "status": "ok",
     "timestamp": 1661420528031,
     "user": {
      "displayName": "Thomas Bielinger",
      "userId": "06702926197276526237"
     },
     "user_tz": -120
    },
    "id": "6EjwIPZ7Orvu",
    "outputId": "5ff8bcb3-d58f-44ec-944e-9733ac114cb1"
   },
   "outputs": [
    {
     "data": {
      "image/png": "[encoded data removed]",
      "text/plain": [
       "<Figure size 640x480 with 1 Axes>"
      ]
     },
     "metadata": {},
     "output_type": "display_data"
    },
    {
     "data": {
      "text/plain": [
       "<Figure size 640x480 with 0 Axes>"
      ]
     },
     "metadata": {},
     "output_type": "display_data"
    }
   ],
   "source": [
    "# plot\n",
    "# 0: flow, \n",
    "plt.plot( x_data1n[:,[1]], y_data1n[:,[0]], 'b', linewidth=2)\n",
    "plt.plot( x_data2n[:,[1]], y_data2n[:,[0]], 'b', linewidth=2)\n",
    "plt.plot( x_data3n[:,[1]], y_data3n[:,[0]], 'b', linewidth=2)\n",
    "plt.plot( x_data4n[:,[1]], y_data4n[:,[0]], 'b', linewidth=2)\n",
    "plt.plot( x_data5n[:,[1]], y_data5n[:,[0]], 'b', linewidth=2)\n",
    "plt.plot( x_data6n[:,[1]], y_data6n[:,[0]], 'b', linewidth=2)\n",
    "plt.plot( x_data7n[:,[1]], y_data7n[:,[0]], 'b', linewidth=2)\n",
    "plt.plot( x_data8n[:,[1]], y_data8n[:,[0]], 'b', linewidth=2)\n",
    "plt.plot( x_data9n[:,[1]], y_data9n[:,[0]], 'b', linewidth=2)\n",
    "plt.plot( x_data10n[:,[1]], y_data10n[:,[0]], 'b', linewidth=2)\n",
    "\n",
    "# 1: efficiency\n",
    "plt.plot( x_data1n[:,[1]], y_data1n[:,[1]], 'r', linewidth=2)\n",
    "plt.plot( x_data2n[:,[1]], y_data2n[:,[1]], 'r', linewidth=2)\n",
    "plt.plot( x_data3n[:,[1]], y_data3n[:,[1]], 'r', linewidth=2)\n",
    "plt.plot( x_data4n[:,[1]], y_data4n[:,[1]], 'r', linewidth=2)\n",
    "plt.plot( x_data5n[:,[1]], y_data5n[:,[1]], 'r', linewidth=2)\n",
    "plt.plot( x_data6n[:,[1]], y_data6n[:,[1]], 'r', linewidth=2)\n",
    "plt.plot( x_data7n[:,[1]], y_data7n[:,[1]], 'r', linewidth=2)\n",
    "plt.plot( x_data8n[:,[1]], y_data8n[:,[1]], 'r', linewidth=2)\n",
    "plt.plot( x_data9n[:,[1]], y_data9n[:,[1]], 'r', linewidth=2)\n",
    "plt.plot( x_data10n[:,[1]], y_data10n[:,[1]], 'r', linewidth=2)\n",
    "\n",
    "plt.grid()\n",
    "plt.show()\n",
    "plt.savefig('dataset.png',dpi=300)\n",
    "#files.download('dataset.png') "
   ]
  },
  {
   "cell_type": "markdown",
   "metadata": {
    "id": "5f_ikNz8x1Lz"
   },
   "source": [
    "### model"
   ]
  },
  {
   "cell_type": "code",
   "execution_count": 16,
   "metadata": {
    "executionInfo": {
     "elapsed": 377,
     "status": "ok",
     "timestamp": 1661420528402,
     "user": {
      "displayName": "Thomas Bielinger",
      "userId": "06702926197276526237"
     },
     "user_tz": -120
    },
    "id": "sMvpBFj5x1L0",
    "scrolled": true
   },
   "outputs": [
    {
     "name": "stderr",
     "output_type": "stream",
     "text": [
      "2022-08-28 16:26:46.557707: I tensorflow/core/platform/cpu_feature_guard.cc:193] This TensorFlow binary is optimized with oneAPI Deep Neural Network Library (oneDNN) to use the following CPU instructions in performance-critical operations:  FMA\n",
      "To enable them in other operations, rebuild TensorFlow with the appropriate compiler flags.\n",
      "2022-08-28 16:26:46.559242: I tensorflow/core/common_runtime/process_util.cc:146] Creating new thread pool with default inter op setting: 2. Tune using inter_op_parallelism_threads for best performance.\n"
     ]
    }
   ],
   "source": [
    "# 2^n,relu,adam,mse\n",
    "\n",
    "# input layer\n",
    "n_features = x_datan.shape[1]\n",
    "inputs  = keras.Input(shape=(n_features,))\n",
    "\n",
    "dense   = keras.layers.Dense(256, activation=\"relu\")\n",
    "x       = dense(inputs)\n",
    "x       = keras.layers.Dense(128, activation=\"relu\")(x)\n",
    "x       = keras.layers.Dense(64, activation=\"relu\")(x)\n",
    "x       = keras.layers.Dense(32, activation=\"relu\")(x)\n",
    "x       = keras.layers.Dense(16, activation=\"relu\")(x)\n",
    "\n",
    "# output layer\n",
    "n_qualities = y_datan.shape[1]\n",
    "outputs = keras.layers.Dense(n_qualities)(x)\n",
    "\n",
    "# model\n",
    "model = keras.Model(inputs=inputs, outputs=outputs)\n",
    "model.compile(optimizer='adam', loss='mse')\n",
    "#model.summary()"
   ]
  },
  {
   "cell_type": "markdown",
   "metadata": {
    "id": "Sxr1qxVex1L4"
   },
   "source": [
    "### train"
   ]
  },
  {
   "cell_type": "code",
   "execution_count": 17,
   "metadata": {
    "colab": {
     "base_uri": "https://localhost:8080/"
    },
    "executionInfo": {
     "elapsed": 22798,
     "status": "ok",
     "timestamp": 1661420551198,
     "user": {
      "displayName": "Thomas Bielinger",
      "userId": "06702926197276526237"
     },
     "user_tz": -120
    },
    "id": "M3XBJMj4x1L5",
    "outputId": "3259a3a0-d16d-4b80-b8a8-f1cac3990f29"
   },
   "outputs": [
    {
     "data": {
      "text/plain": [
       "<keras.callbacks.History at 0x7f9d175eb130>"
      ]
     },
     "execution_count": 17,
     "metadata": {},
     "output_type": "execute_result"
    }
   ],
   "source": [
    "# 3000,64\n",
    "model.fit(x_datan, y_datan, batch_size=64, epochs=3000, verbose=0)"
   ]
  },
  {
   "cell_type": "markdown",
   "metadata": {
    "id": "gLEzVkjex1L9"
   },
   "source": [
    "### predict"
   ]
  },
  {
   "cell_type": "code",
   "execution_count": 18,
   "metadata": {
    "executionInfo": {
     "elapsed": 375,
     "status": "ok",
     "timestamp": 1661420551545,
     "user": {
      "displayName": "Thomas Bielinger",
      "userId": "06702926197276526237"
     },
     "user_tz": -120
    },
    "id": "IcKpdLe9x1L-"
   },
   "outputs": [
    {
     "name": "stdout",
     "output_type": "stream",
     "text": [
      "1/1 [==============================] - 0s 233ms/step\n",
      "1/1 [==============================] - 0s 78ms/step\n",
      "1/1 [==============================] - 0s 63ms/step\n",
      "1/1 [==============================] - 0s 89ms/step\n",
      "1/1 [==============================] - 0s 81ms/step\n",
      "1/1 [==============================] - 0s 49ms/step\n",
      "1/1 [==============================] - 0s 65ms/step\n",
      "1/1 [==============================] - 0s 125ms/step\n",
      "1/1 [==============================] - 0s 66ms/step\n",
      "1/1 [==============================] - 0s 79ms/step\n",
      "1/1 [==============================] - 0s 87ms/step\n"
     ]
    }
   ],
   "source": [
    "# from input\n",
    "#y_predicted = model.predict(x_datan)\n",
    "y_predicted1n = model.predict(x_data1n)\n",
    "y_predicted2n = model.predict(x_data2n)\n",
    "y_predicted3n = model.predict(x_data3n)\n",
    "y_predicted4n = model.predict(x_data4n)\n",
    "y_predicted5n = model.predict(x_data5n)\n",
    "y_predicted6n = model.predict(x_data6n)\n",
    "y_predicted7n = model.predict(x_data7n)\n",
    "y_predicted8n = model.predict(x_data8n)\n",
    "y_predicted9n = model.predict(x_data9n)\n",
    "y_predicted10n = model.predict(x_data10n)\n",
    "y_predictedTn = model.predict(x_dataTn) # test"
   ]
  },
  {
   "cell_type": "code",
   "execution_count": 19,
   "metadata": {
    "executionInfo": {
     "elapsed": 9,
     "status": "ok",
     "timestamp": 1661420551546,
     "user": {
      "displayName": "Thomas Bielinger",
      "userId": "06702926197276526237"
     },
     "user_tz": -120
    },
    "id": "ts2fbrsuDNWn"
   },
   "outputs": [
    {
     "data": {
      "text/plain": [
       "array([[0.        ],\n",
       "       [0.00037759],\n",
       "       [0.00083491],\n",
       "       [0.00138839],\n",
       "       [0.0020732 ],\n",
       "       [0.00293157],\n",
       "       [0.00403149],\n",
       "       [0.00546913],\n",
       "       [0.00739224],\n",
       "       [0.01007756],\n",
       "       [0.01397068],\n",
       "       [0.01994873],\n",
       "       [0.02983632],\n",
       "       [0.04819028],\n",
       "       [0.08943862]])"
      ]
     },
     "execution_count": 19,
     "metadata": {},
     "output_type": "execute_result"
    }
   ],
   "source": [
    "x_data1n[:,[1]]"
   ]
  },
  {
   "cell_type": "code",
   "execution_count": 20,
   "metadata": {
    "executionInfo": {
     "elapsed": 8,
     "status": "ok",
     "timestamp": 1661420551547,
     "user": {
      "displayName": "Thomas Bielinger",
      "userId": "06702926197276526237"
     },
     "user_tz": -120
    },
    "id": "gLjHXb6WDNWn"
   },
   "outputs": [
    {
     "data": {
      "text/plain": [
       "array([[0.        ],\n",
       "       [0.01181436],\n",
       "       [0.02492576],\n",
       "       [0.03967504],\n",
       "       [0.05650009],\n",
       "       [0.07592006],\n",
       "       [0.09846155],\n",
       "       [0.12543072],\n",
       "       [0.15815614],\n",
       "       [0.19814964],\n",
       "       [0.24773743],\n",
       "       [0.31139697],\n",
       "       [0.39615167],\n",
       "       [0.51211664],\n",
       "       [0.67242236]])"
      ]
     },
     "execution_count": 20,
     "metadata": {},
     "output_type": "execute_result"
    }
   ],
   "source": [
    "y_data1n[:,[0]]"
   ]
  },
  {
   "cell_type": "code",
   "execution_count": 21,
   "metadata": {
    "colab": {
     "base_uri": "https://localhost:8080/",
     "height": 265
    },
    "executionInfo": {
     "elapsed": 816,
     "status": "ok",
     "timestamp": 1661420552356,
     "user": {
      "displayName": "Thomas Bielinger",
      "userId": "06702926197276526237"
     },
     "user_tz": -120
    },
    "id": "G3W8sSI0DNWn",
    "outputId": "007a033a-dc10-498b-d61e-cc246f1b32b3",
    "scrolled": true
   },
   "outputs": [
    {
     "data": {
      "image/png": "[encoded data removed]",
      "text/plain": [
       "<Figure size 640x480 with 1 Axes>"
      ]
     },
     "metadata": {},
     "output_type": "display_data"
    }
   ],
   "source": [
    "# plot\n",
    "\n",
    "# 0: flow, \n",
    "plt.scatter(x_data1n[:,[1]], y_data1n[:,[0]], s=50)\n",
    "plt.plot( x_data1n[:,[1]], y_predicted1n[:,[0]], 'b', linewidth=2)\n",
    "\n",
    "#plt.scatter(x_data10n[:,[1]], y_data10n[:,[0]], s=50)\n",
    "#plt.plot( x_data10n[:,[1]], y_predicted10n[:,[0]], 'b', linewidth=2)\n",
    "\n",
    "# 1: efficiency\n",
    "#plt.scatter(x_data1n[:,[1]], y_data1n[:,[1]], s=50)\n",
    "#plt.plot( x_data1n[:,[1]], y_predicted1n[:,[1]], 'r', linewidth=2)\n",
    "\n",
    "#plt.scatter(x_data10n[:,[1]], y_data10n[:,[1]], s=50)\n",
    "#plt.plot( x_data10n[:,[1]], y_predicted10n[:,[1]], 'r', linewidth=2)\n",
    "\n",
    "#plt.scatter(x_data4n[:,[1]], y_data4n[:,[1]], s=50)\n",
    "#plt.plot( x_data4n[:,[1]], y_predicted4n[:,[1]], 'r', linewidth=2)\n",
    "#plt.scatter(x_dataTn[:,[1]], y_predictedTn[:,[1]], s=50)\n",
    "#plt.plot( x_dataTn[:,[1]], y_predictedTn[:,[1]], 'y', linewidth=2)\n",
    "#plt.scatter(x_data5n[:,[1]], y_data5n[:,[1]], s=50)\n",
    "#plt.plot( x_data5n[:,[1]], y_predicted5n[:,[1]], 'r', linewidth=2)\n",
    "\n",
    "plt.grid()\n",
    "#plt.show()\n",
    "plt.savefig('training.png', dpi=300)\n",
    "#files.download(\"training.png\") "
   ]
  },
  {
   "cell_type": "markdown",
   "metadata": {
    "id": "OEEhzK4YHOdC"
   },
   "source": [
    "### video\n"
   ]
  },
  {
   "cell_type": "code",
   "execution_count": 22,
   "metadata": {
    "executionInfo": {
     "elapsed": 7,
     "status": "ok",
     "timestamp": 1661420552357,
     "user": {
      "displayName": "Thomas Bielinger",
      "userId": "06702926197276526237"
     },
     "user_tz": -120
    },
    "id": "13RiCs72HMH6"
   },
   "outputs": [],
   "source": [
    "#for x in range(100):\n",
    "#  # One epoch\n",
    "#  model.fit( x_data, y_data, epochs=1, verbose=1)\n",
    "#\n",
    "#  # Compute the output \n",
    "#  y_predicted = model.predict(x_data)\n",
    "#\n",
    "#  # Display the result\n",
    "#  plt.scatter(x_data[::1], y_data[::1], s=2)\n",
    "#  plt.plot(x_data, y_predicted, 'r', linewidth=4)\n",
    "#  plt.grid()\n",
    "#  plt.ylim(top=1.2)  # adjust the top leaving bottom unchanged\n",
    "#  plt.ylim(bottom=-1.2)  \n",
    "#  #plt.show()\n",
    "#  plt.savefig('training-' + str(x) +'-epochs.png',dpi=300)\n",
    "#  #files.download('training-' + str(x) +'-epochs.png') \n",
    "#  plt.clf()\n",
    "\n"
   ]
  },
  {
   "cell_type": "code",
   "execution_count": null,
   "metadata": {
    "executionInfo": {
     "elapsed": 8,
     "status": "ok",
     "timestamp": 1661420552358,
     "user": {
      "displayName": "Thomas Bielinger",
      "userId": "06702926197276526237"
     },
     "user_tz": -120
    },
    "id": "9aoB8cZnDNWo"
   },
   "outputs": [],
   "source": []
  }
 ],
 "metadata": {
  "colab": {
   "collapsed_sections": [],
   "name": "map-05.ipynb",
   "provenance": []
  },
  "file_extension": ".py",
  "kernelspec": {
   "display_name": "Python 3 (ipykernel)",
   "language": "python",
   "name": "python3"
  },
  "language_info": {
   "codemirror_mode": {
    "name": "ipython",
    "version": 3
   },
   "file_extension": ".py",
   "mimetype": "text/x-python",
   "name": "python",
   "nbconvert_exporter": "python",
   "pygments_lexer": "ipython3",
   "version": "3.10.6"
  },
  "mimetype": "text/x-python",
  "name": "python",
  "npconvert_exporter": "python",
  "pygments_lexer": "ipython3",
  "version": 3
 },
 "nbformat": 4,
 "nbformat_minor": 1
}
