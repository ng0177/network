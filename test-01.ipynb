{
 "cells": [
  {
   "cell_type": "markdown",
   "metadata": {
    "id": "qASyOjUDx1Lq"
   },
   "source": [
    "### prepare"
   ]
  },
  {
   "cell_type": "code",
   "execution_count": 11,
   "metadata": {
    "colab": {
     "base_uri": "https://localhost:8080/"
    },
    "id": "Rz1Q7i9xx1Lt",
    "outputId": "9f151272-62c9-4459-9444-89d8f99ca111"
   },
   "outputs": [
    {
     "name": "stdout",
     "output_type": "stream",
     "text": [
      "x shape is  (25, 2)\n",
      "y shape is  (25, 1)\n"
     ]
    }
   ],
   "source": [
    "# import\n",
    "# pip3 install -U scikit-learn\n",
    "# sudo pacman -S python-scikit-learn\n",
    "from sklearn.preprocessing import MinMaxScaler\n",
    "import numpy as np\n",
    "import matplotlib.pyplot as plt\n",
    "from tensorflow import keras\n",
    "#from google.colab import files\n",
    "import tensorflow as tf\n",
    "import math\n",
    "\n",
    "# data\n",
    "x_data = np.array([[230,1.27305],[230,1.30392],[230,1.34063],[230,1.38482],[230,1.43878],[230,1.50577],[230,1.59061],[230,1.70066],[230,1.84776],[230,2.05185],[230,2.34924],[230,2.81181],[230,3.60117],[230,5.14998]])\n",
    "y_data = np.array([[1.34714],[1.41808],[1.47987],[1.55098],[1.62026],[1.69219],[1.76749],[1.83998],[1.91347],[1.98128],[2.04018],[2.08743],[2.12260],[2.14005]])\n",
    "\n",
    "#x_data = np.append(x_data,[[310,1.56859],[310,1.64246],[310,1.73300],[310,1.84593],[310,1.98978],[310,2.17775],[310,2.43124],[310,2.78692],[310,3.31249],[310,4.14437],[310,5.59556]],axis=0)\n",
    "#y_data = np.append(y_data,[[1.70196],[1.76007],[1.82271],[1.88606],[1.94728],[1.99856],[2.04304],[2.07270],[2.09661],[2.10873],[2.11359]],axis=0)\n",
    "\n",
    "x_data2 = np.array([[310,1.56859],[310,1.64246],[310,1.73300],[310,1.84593],[310,1.98978],[310,2.17775],[310,2.43124],[310,2.78692],[310,3.31249],[310,4.14437],[310,5.59556]])\n",
    "y_data2 = np.array([[1.70196],[1.76007],[1.82271],[1.88606],[1.94728],[1.99856],[2.04304],[2.07270],[2.09661],[2.10873],[2.11359]])\n",
    "\n",
    "x_data = np.append(x_data,x_data2,axis=0)\n",
    "y_data = np.append(y_data,y_data2,axis=0)\n",
    "\n",
    "# non-dimensionalize\n",
    "x_data = MinMaxScaler().fit_transform(x_data)\n",
    "y_data = MinMaxScaler().fit_transform(y_data)\n",
    "\n",
    "x_data2 = x_data[:len(x_data2):]\n",
    "\n",
    "# shape\n",
    "print(\"x shape is \", x_data.shape)\n",
    "print(\"y shape is \", y_data.shape)"
   ]
  },
  {
   "cell_type": "code",
   "execution_count": 12,
   "metadata": {},
   "outputs": [
    {
     "data": {
      "text/plain": [
       "array([[0.        , 0.        ],\n",
       "       [0.        , 0.00714168],\n",
       "       [0.        , 0.01563443],\n",
       "       [0.        , 0.02585766],\n",
       "       [0.        , 0.03834115],\n",
       "       [0.        , 0.05383909],\n",
       "       [0.        , 0.07346657],\n",
       "       [0.        , 0.09892632],\n",
       "       [0.        , 0.13295747],\n",
       "       [0.        , 0.18017309],\n",
       "       [0.        , 0.2489734 ]])"
      ]
     },
     "execution_count": 12,
     "metadata": {},
     "output_type": "execute_result"
    }
   ],
   "source": [
    "x_data[:len(x_data2):]"
   ]
  },
  {
   "cell_type": "code",
   "execution_count": 2,
   "metadata": {},
   "outputs": [
    {
     "data": {
      "text/plain": [
       "array([[0.        , 0.        ],\n",
       "       [0.        , 0.00714168],\n",
       "       [0.        , 0.01563443],\n",
       "       [0.        , 0.02585766],\n",
       "       [0.        , 0.03834115],\n",
       "       [0.        , 0.05383909],\n",
       "       [0.        , 0.07346657],\n",
       "       [0.        , 0.09892632],\n",
       "       [0.        , 0.13295747],\n",
       "       [0.        , 0.18017309],\n",
       "       [0.        , 0.2489734 ],\n",
       "       [0.        , 0.35598761],\n",
       "       [0.        , 0.53860373],\n",
       "       [0.        , 0.89691637],\n",
       "       [1.        , 0.06837231],\n",
       "       [1.        , 0.08546192],\n",
       "       [1.        , 0.10640808],\n",
       "       [1.        , 0.13253411],\n",
       "       [1.        , 0.16581338],\n",
       "       [1.        , 0.20929969],\n",
       "       [1.        , 0.26794386],\n",
       "       [1.        , 0.35022938],\n",
       "       [1.        , 0.47181846],\n",
       "       [1.        , 0.66427145],\n",
       "       [1.        , 1.        ]])"
      ]
     },
     "execution_count": 2,
     "metadata": {},
     "output_type": "execute_result"
    }
   ],
   "source": [
    "x_data[:] # x_data[:,[1]]"
   ]
  },
  {
   "cell_type": "code",
   "execution_count": 3,
   "metadata": {},
   "outputs": [
    {
     "data": {
      "text/plain": [
       "array([[0.        ],\n",
       "       [0.08946791],\n",
       "       [0.16739605],\n",
       "       [0.25707836],\n",
       "       [0.34445271],\n",
       "       [0.43516919],\n",
       "       [0.53013583],\n",
       "       [0.62155856],\n",
       "       [0.71424247],\n",
       "       [0.7997629 ],\n",
       "       [0.87404623],\n",
       "       [0.93363686],\n",
       "       [0.97799246],\n",
       "       [1.        ],\n",
       "       [0.44749089],\n",
       "       [0.52077789],\n",
       "       [0.59977803],\n",
       "       [0.67967361],\n",
       "       [0.75688287],\n",
       "       [0.82155604],\n",
       "       [0.8776532 ],\n",
       "       [0.91505972],\n",
       "       [0.94521446],\n",
       "       [0.96049993],\n",
       "       [0.96662925]])"
      ]
     },
     "execution_count": 3,
     "metadata": {},
     "output_type": "execute_result"
    }
   ],
   "source": [
    "y_data[:]"
   ]
  },
  {
   "cell_type": "markdown",
   "metadata": {
    "id": "RGNdmgOKAg_D"
   },
   "source": [
    "### show"
   ]
  },
  {
   "cell_type": "code",
   "execution_count": 4,
   "metadata": {
    "colab": {
     "base_uri": "https://localhost:8080/",
     "height": 283
    },
    "id": "zYrNbXAsAf9N",
    "outputId": "e367e7da-7b10-46bd-b58b-1c6ec6616fab"
   },
   "outputs": [
    {
     "data": {
      "image/png": "[encoded data removed]",
      "text/plain": [
       "<Figure size 432x288 with 1 Axes>"
      ]
     },
     "metadata": {
      "needs_background": "light"
     },
     "output_type": "display_data"
    },
    {
     "data": {
      "text/plain": [
       "<Figure size 432x288 with 0 Axes>"
      ]
     },
     "metadata": {},
     "output_type": "display_data"
    }
   ],
   "source": [
    "# plot\n",
    "plt.scatter(x_data[::1,[1]], y_data[::1], s=50)\n",
    "plt.grid()\n",
    "plt.show()\n",
    "plt.savefig('dataset.png',dpi=300)\n",
    "#files.download('dataset.png') "
   ]
  }
 ],
 "metadata": {
  "colab": {
   "collapsed_sections": [],
   "include_colab_link": true,
   "name": "nonlinear-regression.ipynb",
   "provenance": []
  },
  "file_extension": ".py",
  "kernelspec": {
   "display_name": "Python 3 (ipykernel)",
   "language": "python",
   "name": "python3"
  },
  "language_info": {
   "codemirror_mode": {
    "name": "ipython",
    "version": 3
   },
   "file_extension": ".py",
   "mimetype": "text/x-python",
   "name": "python",
   "nbconvert_exporter": "python",
   "pygments_lexer": "ipython3",
   "version": "3.10.6"
  },
  "mimetype": "text/x-python",
  "name": "python",
  "npconvert_exporter": "python",
  "pygments_lexer": "ipython3",
  "version": 3
 },
 "nbformat": 4,
 "nbformat_minor": 1
}
