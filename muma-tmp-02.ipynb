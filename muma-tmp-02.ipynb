{
 "cells": [
  {
   "cell_type": "markdown",
   "metadata": {
    "id": "qASyOjUDx1Lq"
   },
   "source": [
    "### prepare"
   ]
  },
  {
   "cell_type": "code",
   "execution_count": null,
   "metadata": {
    "executionInfo": {
     "elapsed": 4537,
     "status": "ok",
     "timestamp": 1661420525587,
     "user": {
      "displayName": "Thomas Bielinger",
      "userId": "06702926197276526237"
     },
     "user_tz": -120
    },
    "id": "Rz1Q7i9xx1Lt"
   },
   "outputs": [],
   "source": [
    "# import\n",
    "# pip3 install -U scikit-learn\n",
    "# sudo pacman -S python-scikit-learn\n",
    "from sklearn.preprocessing import MinMaxScaler\n",
    "import numpy as np\n",
    "from sys import maxsize\n",
    "np.set_printoptions(threshold=maxsize)\n",
    "import matplotlib.pyplot as plt\n",
    "from tensorflow import keras\n",
    "#from google.colab import files\n",
    "import tensorflow as tf\n",
    "import math\n",
    "from IPython.core.interactiveshell import InteractiveShell\n",
    "InteractiveShell.ast_node_interactivity = \"all\""
   ]
  },
  {
   "cell_type": "code",
   "execution_count": null,
   "metadata": {
    "executionInfo": {
     "elapsed": 4537,
     "status": "ok",
     "timestamp": 1661420525587,
     "user": {
      "displayName": "Thomas Bielinger",
      "userId": "06702926197276526237"
     },
     "user_tz": -120
    },
    "id": "Rz1Q7i9xx1Lt"
   },
   "outputs": [],
   "source": [
    "# data: muma\n",
    "ttech3924 = np.loadtxt(open(\"data_muma/39-muma-24.csv\", \"rb\"), delimiter=\",\", skiprows=0)\n",
    "ttech3928 = np.loadtxt(open(\"data_muma/39-muma-28.csv\", \"rb\"), delimiter=\",\", skiprows=0)\n",
    "ttech3932 = np.loadtxt(open(\"data_muma/39-muma-32.csv\", \"rb\"), delimiter=\",\", skiprows=0)\n",
    "ttech4724 = np.loadtxt(open(\"data_muma/47-muma-24.csv\", \"rb\"), delimiter=\",\", skiprows=0)\n",
    "ttech4728 = np.loadtxt(open(\"data_muma/47-muma-28.csv\", \"rb\"), delimiter=\",\", skiprows=0)\n",
    "ttech4732 = np.loadtxt(open(\"data_muma/47-muma-32.csv\", \"rb\"), delimiter=\",\", skiprows=0)\n",
    "ttech5524 = np.loadtxt(open(\"data_muma/55-muma-24.csv\", \"rb\"), delimiter=\",\", skiprows=0)\n",
    "ttech5528 = np.loadtxt(open(\"data_muma/55-muma-28.csv\", \"rb\"), delimiter=\",\", skiprows=0)\n",
    "ttech5532 = np.loadtxt(open(\"data_muma/55-muma-32.csv\", \"rb\"), delimiter=\",\", skiprows=0)\n",
    "ttech24[:]"
   ]
  },
  {
   "cell_type": "code",
   "execution_count": null,
   "metadata": {
    "executionInfo": {
     "elapsed": 4537,
     "status": "ok",
     "timestamp": 1661420525587,
     "user": {
      "displayName": "Thomas Bielinger",
      "userId": "06702926197276526237"
     },
     "user_tz": -120
    },
    "id": "Rz1Q7i9xx1Lt"
   },
   "outputs": [],
   "source": [
    "# add volute\n",
    "ttech3924 = np.insert(ttech3924, 0, values=24, axis=1)\n",
    "ttech3928 = np.insert(ttech3928, 0, values=28, axis=1)\n",
    "ttech3932 = np.insert(ttech3932, 0, values=32, axis=1)\n",
    "ttech24[:]\n",
    "ttech4724 = np.insert(ttech4724, 0, values=24, axis=1)\n",
    "ttech4728 = np.insert(ttech4728, 0, values=28, axis=1)\n",
    "ttech4732 = np.insert(ttech4732, 0, values=32, axis=1)\n",
    "ttech24[:]\n",
    "ttech5524 = np.insert(ttech5524, 0, values=24, axis=1)\n",
    "ttech5528 = np.insert(ttech5528, 0, values=28, axis=1)\n",
    "ttech5532 = np.insert(ttech5532, 0, values=32, axis=1)\n",
    "ttech24[:]"
   ]
  },
  {
   "cell_type": "code",
   "execution_count": null,
   "metadata": {
    "executionInfo": {
     "elapsed": 4537,
     "status": "ok",
     "timestamp": 1661420525587,
     "user": {
      "displayName": "Thomas Bielinger",
      "userId": "06702926197276526237"
     },
     "user_tz": -120
    },
    "id": "Rz1Q7i9xx1Lt"
   },
   "outputs": [],
   "source": [
    "# row split\n",
    "s1=15; s2=30; s3=45; s4=60; s5=75; s6=90; s7=105; s8=120; s9=135; s10=150"
   ]
  },
  {
   "cell_type": "code",
   "execution_count": null,
   "metadata": {},
   "outputs": [],
   "source": [
    "# extract speedlines x\n",
    "x_data1_4724=ttech4724 [0:s1,[0,1,2]];\n",
    "x_data2_4724=ttech4724[s1:s2,[0,1,2]];\n",
    "x_data2_4724=ttech4724[s1:s2,[0,1,2]];\n",
    "x_data3_4724=ttech4724[s2:s3,[0,1,2]];\n",
    "x_data4_4724=ttech4724[s3:s4,[0,1,2]];\n",
    "x_data5_4724=ttech4724[s4:s5,[0,1,2]];\n",
    "x_data6_4724=ttech4724[s5:s6,[0,1,2]];\n",
    "x_data7_4724=ttech4724[s6:s7,[0,1,2]];\n",
    "x_data8_4724=ttech4724[s7:s8,[0,1,2]];\n",
    "x_data9_4724=ttech4724[s8:s9,[0,1,2]];\n",
    "x_data10_4724=ttech4724[s9:s10,[0,1,2]];\n",
    "#\n",
    "x_data1_4728=ttech4728 [0:s1,[0,1,2]];\n",
    "x_data2_4728=ttech4728[s1:s2,[0,1,2]];\n",
    "x_data3_4728=ttech4728[s2:s3,[0,1,2]];\n",
    "x_data4_4728=ttech4728[s3:s4,[0,1,2]];\n",
    "x_data5_4728=ttech4728[s4:s5,[0,1,2]];\n",
    "x_data6_4728=ttech4728[s5:s6,[0,1,2]];\n",
    "x_data7_4728=ttech4728[s6:s7,[0,1,2]];\n",
    "x_data8_4728=ttech4728[s7:s8,[0,1,2]];\n",
    "x_data9_4728=ttech4728[s8:s9,[0,1,2]];\n",
    "x_data10_4728=ttech4728[s9:s10,[0,1,2]];\n",
    "#\n",
    "x_data1_4732=ttech4732 [0:s1,[0,1,2]];\n",
    "x_data2_4732=ttech4732[s1:s2,[0,1,2]];\n",
    "x_data3_4732=ttech4732[s2:s3,[0,1,2]];\n",
    "x_data4_4732=ttech4732[s3:s4,[0,1,2]];\n",
    "x_data5_4732=ttech4732[s4:s5,[0,1,2]];\n",
    "x_data6_4732=ttech4732[s5:s6,[0,1,2]];\n",
    "x_data7_4732=ttech4732[s6:s7,[0,1,2]];\n",
    "x_data8_4732=ttech4732[s7:s8,[0,1,2]];\n",
    "x_data9_4732=ttech4732[s8:s9,[0,1,2]];\n",
    "x_data10_4732=ttech4732[s9:s10,[0,1,2]];\n",
    "#\n",
    "x_data1_4724[1:]"
   ]
  },
  {
   "cell_type": "code",
   "execution_count": null,
   "metadata": {},
   "outputs": [],
   "source": [
    "# extract speedlines y\n",
    "y_data1_4724=ttech4724 [0:s1,[0,1,2]];\n",
    "y_data2_4724=ttech4724[s1:s2,[0,1,2]];\n",
    "y_data2_4724=ttech4724[s1:s2,[0,1,2]];\n",
    "y_data3_4724=ttech4724[s2:s3,[0,1,2]];\n",
    "y_data4_4724=ttech4724[s3:s4,[0,1,2]];\n",
    "y_data5_4724=ttech4724[s4:s5,[0,1,2]];\n",
    "y_data6_4724=ttech4724[s5:s6,[0,1,2]];\n",
    "y_data7_4724=ttech4724[s6:s7,[0,1,2]];\n",
    "y_data8_4724=ttech4724[s7:s8,[0,1,2]];\n",
    "y_data9_4724=ttech4724[s8:s9,[0,1,2]];\n",
    "y_data10_4724=ttech4724[s9:s10,[0,1,2]];\n",
    "#\n",
    "y_data1_4728=ttech4728 [0:s1,[0,1,2]];\n",
    "y_data2_4728=ttech4728[s1:s2,[0,1,2]];\n",
    "y_data3_4728=ttech4728[s2:s3,[0,1,2]];\n",
    "y_data4_4728=ttech4728[s3:s4,[0,1,2]];\n",
    "y_data5_4728=ttech4728[s4:s5,[0,1,2]];\n",
    "y_data6_4728=ttech4728[s5:s6,[0,1,2]];\n",
    "y_data7_4728=ttech4728[s6:s7,[0,1,2]];\n",
    "y_data8_4728=ttech4728[s7:s8,[0,1,2]];\n",
    "y_data9_4728=ttech4728[s8:s9,[0,1,2]];\n",
    "y_data10_4728=ttech4728[s9:s10,[0,1,2]];\n",
    "#\n",
    "y_data1_4732=ttech4732 [0:s1,[0,1,2]];\n",
    "y_data2_4732=ttech4732[s1:s2,[0,1,2]];\n",
    "y_data3_4732=ttech4732[s2:s3,[0,1,2]];\n",
    "y_data4_4732=ttech4732[s3:s4,[0,1,2]];\n",
    "y_data5_4732=ttech4732[s4:s5,[0,1,2]];\n",
    "y_data6_4732=ttech4732[s5:s6,[0,1,2]];\n",
    "y_data7_4732=ttech4732[s6:s7,[0,1,2]];\n",
    "y_data8_4732=ttech4732[s7:s8,[0,1,2]];\n",
    "y_data9_4732=ttech4732[s8:s9,[0,1,2]];\n",
    "y_data10_4732=ttech4732[s9:s10,[0,1,2]];\n",
    "#\n",
    "y_data1_4724[1:]"
   ]
  },
  {
   "cell_type": "code",
   "execution_count": null,
   "metadata": {
    "executionInfo": {
     "elapsed": 4537,
     "status": "ok",
     "timestamp": 1661420525587,
     "user": {
      "displayName": "Thomas Bielinger",
      "userId": "06702926197276526237"
     },
     "user_tz": -120
    },
    "id": "Rz1Q7i9xx1Lt"
   },
   "outputs": [],
   "source": [
    "# construct x and y\n",
    "## 24 volute\n",
    "x_data = x_data1_3324; y_data = y_data1_4724\n",
    "x_data = np.append(x_data,x_data2_3924,axis=0); y_data = np.append(y_data,y_data2_3924,axis=0)\n",
    "x_data = np.append(x_data,x_data3_3924,axis=0); y_data = np.append(y_data,y_data3_3924,axis=0)\n",
    "x_data = np.append(x_data,x_data4_3924,axis=0); y_data = np.append(y_data,y_data4_3924,axis=0)\n",
    "x_data = np.append(x_data,x_data5_3924,axis=0); y_data = np.append(y_data,y_data5_3924,axis=0)\n",
    "x_data = np.append(x_data,x_data6_3924,axis=0); y_data = np.append(y_data,y_data6_3924,axis=0)\n",
    "x_data = np.append(x_data,x_data7_3924,axis=0); y_data = np.append(y_data,y_data7_3924,axis=0)\n",
    "x_data = np.append(x_data,x_data8_3924,axis=0); y_data = np.append(y_data,y_data8_3924,axis=0)\n",
    "x_data = np.append(x_data,x_data9_3924,axis=0); y_data = np.append(y_data,y_data9_3924,axis=0)\n",
    "x_data = np.append(x_data,x_data10_3924,axis=0); y_data = np.append(y_data,y_data10_3924,axis=0)\n",
    "#\n",
    "x_data = np.append(x_data,x_data2_4724,axis=0); y_data = np.append(y_data,y_data2_4724,axis=0)\n",
    "x_data = np.append(x_data,x_data3_4724,axis=0); y_data = np.append(y_data,y_data3_4724,axis=0)\n",
    "x_data = np.append(x_data,x_data4_4724,axis=0); y_data = np.append(y_data,y_data4_4724,axis=0)\n",
    "x_data = np.append(x_data,x_data5_4724,axis=0); y_data = np.append(y_data,y_data5_4724,axis=0)\n",
    "x_data = np.append(x_data,x_data6_4724,axis=0); y_data = np.append(y_data,y_data6_4724,axis=0)\n",
    "x_data = np.append(x_data,x_data7_4724,axis=0); y_data = np.append(y_data,y_data7_4724,axis=0)\n",
    "x_data = np.append(x_data,x_data8_4724,axis=0); y_data = np.append(y_data,y_data8_4724,axis=0)\n",
    "x_data = np.append(x_data,x_data9_4724,axis=0); y_data = np.append(y_data,y_data9_4724,axis=0)\n",
    "x_data = np.append(x_data,x_data10_4724,axis=0); y_data = np.append(y_data,y_data10_4724,axis=0)\n",
    "#\n",
    "x_data = np.append(x_data,x_data2_5524,axis=0); y_data = np.append(y_data,y_data2_5524,axis=0)\n",
    "x_data = np.append(x_data,x_data3_5524,axis=0); y_data = np.append(y_data,y_data3_5524,axis=0)\n",
    "x_data = np.append(x_data,x_data4_5524,axis=0); y_data = np.append(y_data,y_data4_5524,axis=0)\n",
    "x_data = np.append(x_data,x_data5_5524,axis=0); y_data = np.append(y_data,y_data5_5524,axis=0)\n",
    "x_data = np.append(x_data,x_data6_5524,axis=0); y_data = np.append(y_data,y_data6_5524,axis=0)\n",
    "x_data = np.append(x_data,x_data7_5524,axis=0); y_data = np.append(y_data,y_data7_5524,axis=0)\n",
    "x_data = np.append(x_data,x_data8_5524,axis=0); y_data = np.append(y_data,y_data8_5524,axis=0)\n",
    "x_data = np.append(x_data,x_data9_5524,axis=0); y_data = np.append(y_data,y_data9_5524,axis=0)\n",
    "x_data = np.append(x_data,x_data10_5524,axis=0); y_data = np.append(y_data,y_data10_5524,axis=0)\n",
    "## 28 volute\n",
    "x_data = np.append(x_data,x_data1_3928,axis=0); y_data = np.append(y_data,y_data1_3928,axis=0)\n",
    "x_data = np.append(x_data,x_data2_3928,axis=0); y_data = np.append(y_data,y_data2_3928,axis=0)\n",
    "x_data = np.append(x_data,x_data3_3928,axis=0); y_data = np.append(y_data,y_data3_3928,axis=0)\n",
    "x_data = np.append(x_data,x_data4_3928,axis=0); y_data = np.append(y_data,y_data4_3928,axis=0)\n",
    "x_data = np.append(x_data,x_data5_3928,axis=0); y_data = np.append(y_data,y_data5_3928,axis=0)\n",
    "x_data = np.append(x_data,x_data6_3928,axis=0); y_data = np.append(y_data,y_data6_3928,axis=0)\n",
    "x_data = np.append(x_data,x_data7_3928,axis=0); y_data = np.append(y_data,y_data7_3928,axis=0)\n",
    "x_data = np.append(x_data,x_data8_3928,axis=0); y_data = np.append(y_data,y_data8_3928,axis=0)\n",
    "x_data = np.append(x_data,x_data9_3928,axis=0); y_data = np.append(y_data,y_data9_3928,axis=0)\n",
    "x_data = np.append(x_data,x_data10_3928,axis=0); y_data = np.append(y_data,y_data10_3928,axis=0)\n",
    "#\n",
    "x_data = np.append(x_data,x_data1_4728,axis=0); y_data = np.append(y_data,y_data1_4728,axis=0)\n",
    "x_data = np.append(x_data,x_data2_4728,axis=0); y_data = np.append(y_data,y_data2_4728,axis=0)\n",
    "x_data = np.append(x_data,x_data3_4728,axis=0); y_data = np.append(y_data,y_data3_4728,axis=0)\n",
    "x_data = np.append(x_data,x_data4_4728,axis=0); y_data = np.append(y_data,y_data4_4728,axis=0)\n",
    "x_data = np.append(x_data,x_data5_4728,axis=0); y_data = np.append(y_data,y_data5_4728,axis=0)\n",
    "x_data = np.append(x_data,x_data6_4728,axis=0); y_data = np.append(y_data,y_data6_4728,axis=0)\n",
    "x_data = np.append(x_data,x_data7_4728,axis=0); y_data = np.append(y_data,y_data7_4728,axis=0)\n",
    "x_data = np.append(x_data,x_data8_4728,axis=0); y_data = np.append(y_data,y_data8_4728,axis=0)\n",
    "x_data = np.append(x_data,x_data9_4728,axis=0); y_data = np.append(y_data,y_data9_4728,axis=0)\n",
    "x_data = np.append(x_data,x_data10_4728,axis=0); y_data = np.append(y_data,y_data10_4728,axis=0)\n",
    "#\n",
    "x_data = np.append(x_data,x_data1_5528,axis=0); y_data = np.append(y_data,y_data1_5528,axis=0)\n",
    "x_data = np.append(x_data,x_data2_5528,axis=0); y_data = np.append(y_data,y_data2_5528,axis=0)\n",
    "x_data = np.append(x_data,x_data3_5528,axis=0); y_data = np.append(y_data,y_data3_5528,axis=0)\n",
    "x_data = np.append(x_data,x_data4_5528,axis=0); y_data = np.append(y_data,y_data4_5528,axis=0)\n",
    "x_data = np.append(x_data,x_data5_5528,axis=0); y_data = np.append(y_data,y_data5_5528,axis=0)\n",
    "x_data = np.append(x_data,x_data6_5528,axis=0); y_data = np.append(y_data,y_data6_5528,axis=0)\n",
    "x_data = np.append(x_data,x_data7_5528,axis=0); y_data = np.append(y_data,y_data7_5528,axis=0)\n",
    "x_data = np.append(x_data,x_data8_5528,axis=0); y_data = np.append(y_data,y_data8_5528,axis=0)\n",
    "x_data = np.append(x_data,x_data9_5528,axis=0); y_data = np.append(y_data,y_data9_5528,axis=0)\n",
    "x_data = np.append(x_data,x_data10_5528,axis=0); y_data = np.append(y_data,y_data10_5528,axis=0)\n",
    "## 32 volute\n",
    "x_data = np.append(x_data,x_data1_3932,axis=0); y_data = np.append(y_data,y_data1_3932,axis=0)\n",
    "x_data = np.append(x_data,x_data2_3932,axis=0); y_data = np.append(y_data,y_data2_3932,axis=0)\n",
    "x_data = np.append(x_data,x_data3_3932,axis=0); y_data = np.append(y_data,y_data3_3932,axis=0)\n",
    "x_data = np.append(x_data,x_data4_3932,axis=0); y_data = np.append(y_data,y_data4_3932,axis=0)\n",
    "x_data = np.append(x_data,x_data5_3932,axis=0); y_data = np.append(y_data,y_data5_3932,axis=0)\n",
    "x_data = np.append(x_data,x_data6_3932,axis=0); y_data = np.append(y_data,y_data6_3932,axis=0)\n",
    "x_data = np.append(x_data,x_data7_3932,axis=0); y_data = np.append(y_data,y_data7_3932,axis=0)\n",
    "x_data = np.append(x_data,x_data8_3932,axis=0); y_data = np.append(y_data,y_data8_3932,axis=0)\n",
    "x_data = np.append(x_data,x_data9_3932,axis=0); y_data = np.append(y_data,y_data9_3932,axis=0)\n",
    "x_data = np.append(x_data,x_data10_3932,axis=0); y_data = np.append(y_data,y_data10_3932,axis=0)\n",
    "#\n",
    "x_data = np.append(x_data,x_data1_4732,axis=0); y_data = np.append(y_data,y_data1_4732,axis=0)\n",
    "x_data = np.append(x_data,x_data2_4732,axis=0); y_data = np.append(y_data,y_data2_4732,axis=0)\n",
    "x_data = np.append(x_data,x_data3_4732,axis=0); y_data = np.append(y_data,y_data3_4732,axis=0)\n",
    "x_data = np.append(x_data,x_data4_4732,axis=0); y_data = np.append(y_data,y_data4_4732,axis=0)\n",
    "x_data = np.append(x_data,x_data5_4732,axis=0); y_data = np.append(y_data,y_data5_4732,axis=0)\n",
    "x_data = np.append(x_data,x_data6_4732,axis=0); y_data = np.append(y_data,y_data6_4732,axis=0)\n",
    "x_data = np.append(x_data,x_data7_4732,axis=0); y_data = np.append(y_data,y_data7_4732,axis=0)\n",
    "x_data = np.append(x_data,x_data8_4732,axis=0); y_data = np.append(y_data,y_data8_4732,axis=0)\n",
    "x_data = np.append(x_data,x_data9_4732,axis=0); y_data = np.append(y_data,y_data9_4732,axis=0)\n",
    "x_data = np.append(x_data,x_data10_4732,axis=0); y_data = np.append(y_data,y_data10_4732,axis=0)\n",
    "#\n",
    "x_data = np.append(x_data,x_data1_5532,axis=0); y_data = np.append(y_data,y_data1_5532,axis=0)\n",
    "x_data = np.append(x_data,x_data2_5532,axis=0); y_data = np.append(y_data,y_data2_5532,axis=0)\n",
    "x_data = np.append(x_data,x_data3_5532,axis=0); y_data = np.append(y_data,y_data3_5532,axis=0)\n",
    "x_data = np.append(x_data,x_data4_5532,axis=0); y_data = np.append(y_data,y_data4_5532,axis=0)\n",
    "x_data = np.append(x_data,x_data5_5532,axis=0); y_data = np.append(y_data,y_data5_5532,axis=0)\n",
    "x_data = np.append(x_data,x_data6_5532,axis=0); y_data = np.append(y_data,y_data6_5532,axis=0)\n",
    "x_data = np.append(x_data,x_data7_5532,axis=0); y_data = np.append(y_data,y_data7_5532,axis=0)\n",
    "x_data = np.append(x_data,x_data8_5532,axis=0); y_data = np.append(y_data,y_data8_5532,axis=0)\n",
    "x_data = np.append(x_data,x_data9_5532,axis=0); y_data = np.append(y_data,y_data9_5532,axis=0)\n",
    "x_data = np.append(x_data,x_data10_5532,axis=0); y_data = np.append(y_data,y_data10_5532,axis=0)"
   ]
  },
  {
   "cell_type": "code",
   "execution_count": null,
   "metadata": {
    "executionInfo": {
     "elapsed": 4537,
     "status": "ok",
     "timestamp": 1661420525587,
     "user": {
      "displayName": "Thomas Bielinger",
      "userId": "06702926197276526237"
     },
     "user_tz": -120
    },
    "id": "Rz1Q7i9xx1Lt"
   },
   "outputs": [],
   "source": [
    "# check x\n",
    "x_data[1:]"
   ]
  },
  {
   "cell_type": "code",
   "execution_count": null,
   "metadata": {
    "tags": []
   },
   "outputs": [],
   "source": [
    "# check y\n",
    "y_data[1:]"
   ]
  },
  {
   "cell_type": "code",
   "execution_count": null,
   "metadata": {},
   "outputs": [],
   "source": [
    "# shape\n",
    "print(\"x shape is \", x_data.shape)\n",
    "print(\"y shape is \", y_data.shape)"
   ]
  },
  {
   "cell_type": "markdown",
   "metadata": {
    "id": "RGNdmgOKAg_D"
   },
   "source": [
    "### test"
   ]
  },
  {
   "cell_type": "code",
   "execution_count": null,
   "metadata": {},
   "outputs": [],
   "source": [
    "x = np.arange(1, 3, 0.5); print(\"1 x:\",x,\"\\n\")\n",
    "x = [ [30,400] ]; print(\"2 x:\",x,\"\\n\")\n",
    "x = np.array([ [30,400] ]); print(\"3 x:\",x,\"\\n\")\n",
    "x = np.tile(np.array([30,400]),(10,1)); print(\"4 x:\",x,\"\\n\")\n",
    "ttech24 = np.insert(ttech24, 0, values=24, axis=1)"
   ]
  },
  {
   "cell_type": "code",
   "execution_count": null,
   "metadata": {},
   "outputs": [],
   "source": [
    "N = 10\n",
    "a = np.tile(np.array([30,400]),(N,1)); a\n",
    "b = np.zeros((N,3)); b\n",
    "b[:,:-1] = a; b"
   ]
  },
  {
   "cell_type": "code",
   "execution_count": 118,
   "metadata": {},
   "outputs": [
    {
     "data": {
      "text/plain": [
       "array([[ 30, 400],\n",
       "       [ 30, 400],\n",
       "       [ 30, 400],\n",
       "       [ 30, 400],\n",
       "       [ 30, 400],\n",
       "       [ 30, 400],\n",
       "       [ 30, 400],\n",
       "       [ 30, 400],\n",
       "       [ 30, 400],\n",
       "       [ 30, 400]])"
      ]
     },
     "execution_count": 118,
     "metadata": {},
     "output_type": "execute_result"
    },
    {
     "data": {
      "text/plain": [
       "array([[1.        , 1.        , 1.        ],\n",
       "       [1.44444444, 1.44444444, 1.44444444],\n",
       "       [1.88888889, 1.88888889, 1.88888889],\n",
       "       [2.33333333, 2.33333333, 2.33333333],\n",
       "       [2.77777778, 2.77777778, 2.77777778],\n",
       "       [3.22222222, 3.22222222, 3.22222222],\n",
       "       [3.66666667, 3.66666667, 3.66666667],\n",
       "       [4.11111111, 4.11111111, 4.11111111],\n",
       "       [4.55555556, 4.55555556, 4.55555556],\n",
       "       [5.        , 5.        , 5.        ]])"
      ]
     },
     "execution_count": 118,
     "metadata": {},
     "output_type": "execute_result"
    },
    {
     "data": {
      "text/plain": [
       "array([[ 30.        , 400.        ,   1.        ],\n",
       "       [ 30.        , 400.        ,   1.44444444],\n",
       "       [ 30.        , 400.        ,   1.88888889],\n",
       "       [ 30.        , 400.        ,   2.33333333],\n",
       "       [ 30.        , 400.        ,   2.77777778],\n",
       "       [ 30.        , 400.        ,   3.22222222],\n",
       "       [ 30.        , 400.        ,   3.66666667],\n",
       "       [ 30.        , 400.        ,   4.11111111],\n",
       "       [ 30.        , 400.        ,   4.55555556],\n",
       "       [ 30.        , 400.        ,   5.        ]])"
      ]
     },
     "execution_count": 118,
     "metadata": {},
     "output_type": "execute_result"
    }
   ],
   "source": [
    "N = 10\n",
    "a = np.tile(np.array([30,400]),(N,1)); a\n",
    "\n",
    "x = [0,0,0]\n",
    "y = np.linspace(1, 5, N)\n",
    "X,Yb = np.meshgrid(x,y); Yb\n",
    "\n",
    "\n",
    "Yb[:,:-1] = a; Yb\n"
   ]
  },
  {
   "cell_type": "code",
   "execution_count": null,
   "metadata": {},
   "outputs": [],
   "source": [
    "xv, yv = np.mgrid[ 1:2:1, 1.5:5:0.1 ]\n",
    "print(xv,\"\\n\");print(yv)"
   ]
  },
  {
   "cell_type": "code",
   "execution_count": null,
   "metadata": {},
   "outputs": [],
   "source": [
    "xv, yv = np.meshgrid([30,400],np.linspace(1.5,5,10)); xv; yv"
   ]
  },
  {
   "cell_type": "code",
   "execution_count": null,
   "metadata": {},
   "outputs": [],
   "source": [
    "#np.meshgrid(np.linspace(0, 1, 3),2,3)"
   ]
  },
  {
   "cell_type": "code",
   "execution_count": null,
   "metadata": {
    "executionInfo": {
     "elapsed": 4537,
     "status": "ok",
     "timestamp": 1661420525587,
     "user": {
      "displayName": "Thomas Bielinger",
      "userId": "06702926197276526237"
     },
     "user_tz": -120
    },
    "id": "Rz1Q7i9xx1Lt"
   },
   "outputs": [],
   "source": [
    "# test\n",
    "#x_dataT_24 = np.array([ [30,400,1.45],[30,400,1.50],[30,400,1.55],[30,400,1.60],[30,400,1.65],\n",
    "#                        [30,400,1.70],[30,400,1.75],[30,400,1.80],[30,400,1.85],[30,400,1.90],\n",
    "#                        [30,400,2.50],[30,400,3.00],[30,400,3.50],[30,400,4.00],[30,400,5.00]])\n",
    "\n",
    "x_dataT_24 = np.mgrid[30:31:0.1, 400:401:0.1, 1.5:5:0.5]\n",
    "x_dataT_24"
   ]
  },
  {
   "cell_type": "code",
   "execution_count": null,
   "metadata": {},
   "outputs": [],
   "source": [
    "# attach test\n",
    "x_data = np.append(x_data,x_dataT_24,axis=0)"
   ]
  },
  {
   "cell_type": "code",
   "execution_count": null,
   "metadata": {
    "executionInfo": {
     "elapsed": 26,
     "status": "ok",
     "timestamp": 1661420525589,
     "user": {
      "displayName": "Thomas Bielinger",
      "userId": "06702926197276526237"
     },
     "user_tz": -120
    },
    "id": "Bf8q-oFwDNWk"
   },
   "outputs": [],
   "source": [
    "# check test\n",
    "x_data[:]"
   ]
  },
  {
   "cell_type": "markdown",
   "metadata": {
    "id": "RGNdmgOKAg_D"
   },
   "source": [
    "### normalize"
   ]
  },
  {
   "cell_type": "code",
   "execution_count": null,
   "metadata": {
    "colab": {
     "base_uri": "https://localhost:8080/"
    },
    "executionInfo": {
     "elapsed": 26,
     "status": "ok",
     "timestamp": 1661420525593,
     "user": {
      "displayName": "Thomas Bielinger",
      "userId": "06702926197276526237"
     },
     "user_tz": -120
    },
    "id": "WVKBnQcsDNWk",
    "outputId": "8c3e95f4-f305-4305-9aa3-e8b76e92f806"
   },
   "outputs": [],
   "source": [
    "# normalize\n",
    "x_datan = MinMaxScaler().fit_transform(x_data)\n",
    "y_datan = MinMaxScaler().fit_transform(y_data)\n",
    "\n",
    "# shape\n",
    "print(\"x shape is \", x_data.shape)\n",
    "print(\"y shape is \", y_data.shape)"
   ]
  },
  {
   "cell_type": "code",
   "execution_count": null,
   "metadata": {
    "executionInfo": {
     "elapsed": 18,
     "status": "ok",
     "timestamp": 1661420525593,
     "user": {
      "displayName": "Thomas Bielinger",
      "userId": "06702926197276526237"
     },
     "user_tz": -120
    },
    "id": "EE1UVqnhDNWl",
    "tags": []
   },
   "outputs": [],
   "source": [
    "# view x\n",
    "x_datan[:,[0,1,2]]"
   ]
  },
  {
   "cell_type": "code",
   "execution_count": null,
   "metadata": {
    "executionInfo": {
     "elapsed": 18,
     "status": "ok",
     "timestamp": 1661420525594,
     "user": {
      "displayName": "Thomas Bielinger",
      "userId": "06702926197276526237"
     },
     "user_tz": -120
    },
    "id": "t5XYBmozDNWl",
    "tags": []
   },
   "outputs": [],
   "source": [
    "# view y\n",
    "#y_datan[:,[0,1]]"
   ]
  },
  {
   "cell_type": "code",
   "execution_count": null,
   "metadata": {
    "executionInfo": {
     "elapsed": 17,
     "status": "ok",
     "timestamp": 1661420525595,
     "user": {
      "displayName": "Thomas Bielinger",
      "userId": "06702926197276526237"
     },
     "user_tz": -120
    },
    "id": "nnU-lPqDDNWl"
   },
   "outputs": [],
   "source": [
    "# extract from first set x\n",
    "x_data1n=x_datan [0:s1,[0,1,2]];\n",
    "x_data2n=x_datan[s1:s2,[0,1,2]];\n",
    "x_data3n=x_datan[s2:s3,[0,1,2]];\n",
    "x_data4n=x_datan[s3:s4,[0,1,2]];\n",
    "x_data5n=x_datan[s4:s5,[0,1,2]];\n",
    "x_data6n=x_datan[s5:s6,[0,1,2]];\n",
    "x_data7n=x_datan[s6:s7,[0,1,2]];\n",
    "x_data8n=x_datan[s7:s8,[0,1,2]];\n",
    "x_data9n=x_datan[s8:s9,[0,1,2]];\n",
    "x_data10n=x_datan[s9:s10,[0,1,2]];"
   ]
  },
  {
   "cell_type": "code",
   "execution_count": null,
   "metadata": {
    "executionInfo": {
     "elapsed": 17,
     "status": "ok",
     "timestamp": 1661420525595,
     "user": {
      "displayName": "Thomas Bielinger",
      "userId": "06702926197276526237"
     },
     "user_tz": -120
    },
    "id": "nnU-lPqDDNWl",
    "tags": []
   },
   "outputs": [],
   "source": [
    "# show first\n",
    "x_data1n"
   ]
  },
  {
   "cell_type": "code",
   "execution_count": null,
   "metadata": {},
   "outputs": [],
   "source": [
    "# show last\n",
    "x_data10n"
   ]
  },
  {
   "cell_type": "code",
   "execution_count": null,
   "metadata": {
    "executionInfo": {
     "elapsed": 17,
     "status": "ok",
     "timestamp": 1661420525595,
     "user": {
      "displayName": "Thomas Bielinger",
      "userId": "06702926197276526237"
     },
     "user_tz": -120
    },
    "id": "nnU-lPqDDNWl"
   },
   "outputs": [],
   "source": [
    "# test length\n",
    "lenT = len(x_dataT_24)\n",
    "lenT"
   ]
  },
  {
   "cell_type": "code",
   "execution_count": null,
   "metadata": {
    "executionInfo": {
     "elapsed": 17,
     "status": "ok",
     "timestamp": 1661420525595,
     "user": {
      "displayName": "Thomas Bielinger",
      "userId": "06702926197276526237"
     },
     "user_tz": -120
    },
    "id": "nnU-lPqDDNWl"
   },
   "outputs": [],
   "source": [
    "# extract test\n",
    "x_dataTn = x_datan[-lenT:,[0,1,2]]\n",
    "# remove test\n",
    "x_datan = x_datan[:-lenT]"
   ]
  },
  {
   "cell_type": "code",
   "execution_count": null,
   "metadata": {
    "executionInfo": {
     "elapsed": 17,
     "status": "ok",
     "timestamp": 1661420525595,
     "user": {
      "displayName": "Thomas Bielinger",
      "userId": "06702926197276526237"
     },
     "user_tz": -120
    },
    "id": "nnU-lPqDDNWl"
   },
   "outputs": [],
   "source": [
    "# extract from first set y\n",
    "y_data1n=y_datan [0:s1,[0,1]];\n",
    "y_data2n=y_datan[s1:s2,[0,1]];\n",
    "y_data3n=y_datan[s2:s3,[0,1]];\n",
    "y_data4n=y_datan[s3:s4,[0,1]];\n",
    "y_data5n=y_datan[s4:s5,[0,1]];\n",
    "y_data6n=y_datan[s5:s6,[0,1]];\n",
    "y_data7n=y_datan[s6:s7,[0,1]];\n",
    "y_data8n=y_datan[s7:s8,[0,1]];\n",
    "y_data9n=y_datan[s8:s9,[0,1]];\n",
    "y_data10n=y_datan[s9:s10,[0,1]];"
   ]
  },
  {
   "cell_type": "code",
   "execution_count": null,
   "metadata": {
    "colab": {
     "base_uri": "https://localhost:8080/"
    },
    "executionInfo": {
     "elapsed": 8,
     "status": "ok",
     "timestamp": 1661420525944,
     "user": {
      "displayName": "Thomas Bielinger",
      "userId": "06702926197276526237"
     },
     "user_tz": -120
    },
    "id": "ws_-LECGDNWl",
    "outputId": "57872a61-4cce-4137-c411-4172710ce9a4"
   },
   "outputs": [],
   "source": [
    "# shape\n",
    "print(\"x shape is \", x_datan.shape)\n",
    "print(\"y shape is \", y_datan.shape)"
   ]
  },
  {
   "cell_type": "markdown",
   "metadata": {
    "id": "RGNdmgOKAg_D"
   },
   "source": [
    "### show"
   ]
  },
  {
   "cell_type": "code",
   "execution_count": null,
   "metadata": {
    "tags": []
   },
   "outputs": [],
   "source": [
    "# plot values x\n",
    "x_datan[:,[2]]"
   ]
  },
  {
   "cell_type": "code",
   "execution_count": null,
   "metadata": {
    "colab": {
     "base_uri": "https://localhost:8080/",
     "height": 282
    },
    "executionInfo": {
     "elapsed": 1026,
     "status": "ok",
     "timestamp": 1661420526965,
     "user": {
      "displayName": "Thomas Bielinger",
      "userId": "06702926197276526237"
     },
     "user_tz": -120
    },
    "id": "zYrNbXAsAf9N",
    "outputId": "2c7a86b0-1040-4bad-9739-94afbc84ac52"
   },
   "outputs": [],
   "source": [
    "# plot\n",
    "plt.scatter(x_datan[:,[2]], y_datan[:,[0]], s=50)\n",
    "plt.scatter(x_datan[:,[2]], y_datan[:,[1]], s=50)\n",
    "plt.grid()\n",
    "plt.show()\n",
    "plt.savefig('dataset.png',dpi=300)\n",
    "#files.download('dataset.png') "
   ]
  },
  {
   "cell_type": "code",
   "execution_count": null,
   "metadata": {
    "colab": {
     "base_uri": "https://localhost:8080/",
     "height": 282
    },
    "executionInfo": {
     "elapsed": 1069,
     "status": "ok",
     "timestamp": 1661420528031,
     "user": {
      "displayName": "Thomas Bielinger",
      "userId": "06702926197276526237"
     },
     "user_tz": -120
    },
    "id": "6EjwIPZ7Orvu",
    "outputId": "5ff8bcb3-d58f-44ec-944e-9733ac114cb1"
   },
   "outputs": [],
   "source": [
    "# plot\n",
    "# 0: flow, \n",
    "plt.plot( x_data1n[:,[2]], y_data1n[:,[0]], 'b', linewidth=2)\n",
    "plt.plot( x_data2n[:,[2]], y_data2n[:,[0]], 'b', linewidth=2)\n",
    "plt.plot( x_data3n[:,[2]], y_data3n[:,[0]], 'b', linewidth=2)\n",
    "plt.plot( x_data4n[:,[2]], y_data4n[:,[0]], 'b', linewidth=2)\n",
    "plt.plot( x_data5n[:,[2]], y_data5n[:,[0]], 'b', linewidth=2)\n",
    "plt.plot( x_data6n[:,[2]], y_data6n[:,[0]], 'b', linewidth=2)\n",
    "plt.plot( x_data7n[:,[2]], y_data7n[:,[0]], 'b', linewidth=2)\n",
    "plt.plot( x_data8n[:,[2]], y_data8n[:,[0]], 'b', linewidth=2)\n",
    "plt.plot( x_data9n[:,[2]], y_data9n[:,[0]], 'b', linewidth=2)\n",
    "plt.plot( x_data10n[:,[2]], y_data10n[:,[0]], 'b', linewidth=2)\n",
    "\n",
    "# 1: efficiency\n",
    "plt.plot( x_data1n[:,[2]], y_data1n[:,[1]], 'r', linewidth=2)\n",
    "plt.plot( x_data2n[:,[2]], y_data2n[:,[1]], 'r', linewidth=2)\n",
    "plt.plot( x_data3n[:,[2]], y_data3n[:,[1]], 'r', linewidth=2)\n",
    "plt.plot( x_data4n[:,[2]], y_data4n[:,[1]], 'r', linewidth=2)\n",
    "plt.plot( x_data5n[:,[2]], y_data5n[:,[1]], 'r', linewidth=2)\n",
    "plt.plot( x_data6n[:,[2]], y_data6n[:,[1]], 'r', linewidth=2)\n",
    "plt.plot( x_data7n[:,[2]], y_data7n[:,[1]], 'r', linewidth=2)\n",
    "plt.plot( x_data8n[:,[2]], y_data8n[:,[1]], 'r', linewidth=2)\n",
    "plt.plot( x_data9n[:,[2]], y_data9n[:,[1]], 'r', linewidth=2)\n",
    "plt.plot( x_data10n[:,[2]], y_data10n[:,[1]], 'r', linewidth=2)\n",
    "\n",
    "plt.grid()\n",
    "plt.show()\n",
    "plt.savefig('dataset.png',dpi=300)\n",
    "#files.download('dataset.png') "
   ]
  },
  {
   "cell_type": "markdown",
   "metadata": {
    "id": "5f_ikNz8x1Lz"
   },
   "source": [
    "### model"
   ]
  },
  {
   "cell_type": "code",
   "execution_count": null,
   "metadata": {
    "executionInfo": {
     "elapsed": 377,
     "status": "ok",
     "timestamp": 1661420528402,
     "user": {
      "displayName": "Thomas Bielinger",
      "userId": "06702926197276526237"
     },
     "user_tz": -120
    },
    "id": "sMvpBFj5x1L0",
    "scrolled": true
   },
   "outputs": [],
   "source": [
    "# 2^n,relu,adam,mse\n",
    "\n",
    "# input layer\n",
    "n_features = x_datan.shape[1]\n",
    "inputs  = keras.Input(shape=(n_features,))\n",
    "\n",
    "dense   = keras.layers.Dense(256, activation=\"relu\")\n",
    "x       = dense(inputs)\n",
    "x       = keras.layers.Dense(128, activation=\"relu\")(x)\n",
    "x       = keras.layers.Dense(64, activation=\"relu\")(x)\n",
    "x       = keras.layers.Dense(32, activation=\"relu\")(x)\n",
    "x       = keras.layers.Dense(16, activation=\"relu\")(x)\n",
    "\n",
    "# output layer\n",
    "n_qualities = y_datan.shape[1]\n",
    "outputs = keras.layers.Dense(n_qualities)(x)\n",
    "\n",
    "# model\n",
    "model = keras.Model(inputs=inputs, outputs=outputs)\n",
    "model.compile(optimizer='adam', loss='mse')\n",
    "#model.summary()"
   ]
  },
  {
   "cell_type": "markdown",
   "metadata": {
    "id": "Sxr1qxVex1L4"
   },
   "source": [
    "### train"
   ]
  },
  {
   "cell_type": "code",
   "execution_count": null,
   "metadata": {
    "colab": {
     "base_uri": "https://localhost:8080/"
    },
    "executionInfo": {
     "elapsed": 22798,
     "status": "ok",
     "timestamp": 1661420551198,
     "user": {
      "displayName": "Thomas Bielinger",
      "userId": "06702926197276526237"
     },
     "user_tz": -120
    },
    "id": "M3XBJMj4x1L5",
    "outputId": "3259a3a0-d16d-4b80-b8a8-f1cac3990f29"
   },
   "outputs": [],
   "source": [
    "# 3000,64\n",
    "model.fit(x_datan, y_datan, batch_size=64, epochs=3000, verbose=0)"
   ]
  },
  {
   "cell_type": "markdown",
   "metadata": {
    "id": "gLEzVkjex1L9"
   },
   "source": [
    "### predict"
   ]
  },
  {
   "cell_type": "code",
   "execution_count": null,
   "metadata": {
    "executionInfo": {
     "elapsed": 375,
     "status": "ok",
     "timestamp": 1661420551545,
     "user": {
      "displayName": "Thomas Bielinger",
      "userId": "06702926197276526237"
     },
     "user_tz": -120
    },
    "id": "IcKpdLe9x1L-"
   },
   "outputs": [],
   "source": [
    "# from input\n",
    "#y_predicted = model.predict(x_datan)\n",
    "y_predicted1n = model.predict(x_data1n)\n",
    "y_predicted2n = model.predict(x_data2n)\n",
    "y_predicted3n = model.predict(x_data3n)\n",
    "y_predicted4n = model.predict(x_data4n)\n",
    "y_predicted5n = model.predict(x_data5n)\n",
    "y_predicted6n = model.predict(x_data6n)\n",
    "y_predicted7n = model.predict(x_data7n)\n",
    "y_predicted8n = model.predict(x_data8n)\n",
    "y_predicted9n = model.predict(x_data9n)\n",
    "y_predicted10n = model.predict(x_data10n)"
   ]
  },
  {
   "cell_type": "code",
   "execution_count": null,
   "metadata": {
    "executionInfo": {
     "elapsed": 375,
     "status": "ok",
     "timestamp": 1661420551545,
     "user": {
      "displayName": "Thomas Bielinger",
      "userId": "06702926197276526237"
     },
     "user_tz": -120
    },
    "id": "IcKpdLe9x1L-"
   },
   "outputs": [],
   "source": [
    "y_predictedTn = model.predict(x_dataTn) # test"
   ]
  },
  {
   "cell_type": "code",
   "execution_count": null,
   "metadata": {
    "executionInfo": {
     "elapsed": 9,
     "status": "ok",
     "timestamp": 1661420551546,
     "user": {
      "displayName": "Thomas Bielinger",
      "userId": "06702926197276526237"
     },
     "user_tz": -120
    },
    "id": "ts2fbrsuDNWn"
   },
   "outputs": [],
   "source": [
    "x_data1n[:,[2]]"
   ]
  },
  {
   "cell_type": "code",
   "execution_count": null,
   "metadata": {
    "executionInfo": {
     "elapsed": 8,
     "status": "ok",
     "timestamp": 1661420551547,
     "user": {
      "displayName": "Thomas Bielinger",
      "userId": "06702926197276526237"
     },
     "user_tz": -120
    },
    "id": "gLjHXb6WDNWn"
   },
   "outputs": [],
   "source": [
    "y_data1n[:,[0]]"
   ]
  },
  {
   "cell_type": "markdown",
   "metadata": {},
   "source": [
    "### eval\n"
   ]
  },
  {
   "cell_type": "code",
   "execution_count": null,
   "metadata": {
    "colab": {
     "base_uri": "https://localhost:8080/",
     "height": 265
    },
    "executionInfo": {
     "elapsed": 816,
     "status": "ok",
     "timestamp": 1661420552356,
     "user": {
      "displayName": "Thomas Bielinger",
      "userId": "06702926197276526237"
     },
     "user_tz": -120
    },
    "id": "G3W8sSI0DNWn",
    "outputId": "007a033a-dc10-498b-d61e-cc246f1b32b3",
    "scrolled": true
   },
   "outputs": [],
   "source": [
    "# plot flow\n",
    "\n",
    "# 0: flow, \n",
    "#plt.scatter(x_data1n[:,[2]], y_data1n[:,[0]], s=50)\n",
    "#plt.plot( x_data1n[:,[2]], y_predicted1n[:,[0]], 'b', linewidth=2)\n",
    "\n",
    "#plt.scatter(x_data10n[:,[2]], y_data10n[:,[0]], s=50)\n",
    "#plt.plot( x_data10n[:,[2]], y_predicted10n[:,[0]], 'b', linewidth=2)\n",
    "\n",
    "# test up flow\n",
    "plt.scatter(x_data6n[:,[2]], y_data6n[:,[0]], s=50)\n",
    "plt.plot( x_data6n[:,[2]], y_predicted6n[:,[0]], 'r', linewidth=2)\n",
    "# test flow\n",
    "plt.scatter(x_dataTn[:,[2]], y_predictedTn[:,[0]], s=50)\n",
    "plt.plot( x_dataTn[:,[2]], y_predictedTn[:,[0]], 'y', linewidth=2)\n",
    "# test down flow\n",
    "plt.scatter(x_data7n[:,[2]], y_data7n[:,[0]], s=50)\n",
    "plt.plot( x_data7n[:,[2]], y_predicted7n[:,[0]], 'r', linewidth=2)\n",
    "\n",
    "plt.grid()\n",
    "#plt.show()\n",
    "plt.savefig('training.png', dpi=300)\n",
    "#files.download(\"training.png\") "
   ]
  },
  {
   "cell_type": "code",
   "execution_count": null,
   "metadata": {},
   "outputs": [],
   "source": [
    "# plot flow\n",
    "\n",
    "# 1: efficiency\n",
    "#plt.scatter(x_data1n[:,[2]], y_data1n[:,[1]], s=50)\n",
    "#plt.plot( x_data1n[:,[2]], y_predicted1n[:,[1]], 'r', linewidth=2)\n",
    "\n",
    "#plt.scatter(x_data10n[:,[2]], y_data10n[:,[1]], s=50)\n",
    "#plt.plot( x_data10n[:,[2]], y_predicted10n[:,[1]], 'r', linewidth=2)\n",
    "\n",
    "# test up efficiency\n",
    "plt.scatter(x_data6n[:,[2]], y_data6n[:,[1]], s=50)\n",
    "plt.plot( x_data6n[:,[2]], y_predicted6n[:,[1]], 'r', linewidth=2)\n",
    "# test efficiency\n",
    "plt.scatter(x_dataTn[:,[2]], y_predictedTn[:,[1]], s=50)\n",
    "plt.plot( x_dataTn[:,[2]], y_predictedTn[:,[1]], 'y', linewidth=2)\n",
    "# test down efficiency\n",
    "plt.scatter(x_data7n[:,[2]], y_data7n[:,[1]], s=50)\n",
    "plt.plot( x_data7n[:,[2]], y_predicted7n[:,[1]], 'r', linewidth=2)\n",
    "\n",
    "\n",
    "plt.grid()\n",
    "#plt.show()\n",
    "plt.savefig('training.png', dpi=300)\n",
    "#files.download(\"training.png\") "
   ]
  },
  {
   "cell_type": "markdown",
   "metadata": {
    "id": "OEEhzK4YHOdC"
   },
   "source": [
    "### video\n"
   ]
  },
  {
   "cell_type": "code",
   "execution_count": null,
   "metadata": {
    "executionInfo": {
     "elapsed": 7,
     "status": "ok",
     "timestamp": 1661420552357,
     "user": {
      "displayName": "Thomas Bielinger",
      "userId": "06702926197276526237"
     },
     "user_tz": -120
    },
    "id": "13RiCs72HMH6"
   },
   "outputs": [],
   "source": [
    "#for x in range(100):\n",
    "#  # One epoch\n",
    "#  model.fit( x_data, y_data, epochs=1, verbose=1)\n",
    "#\n",
    "#  # Compute the output \n",
    "#  y_predicted = model.predict(x_data)\n",
    "#\n",
    "#  # Display the result\n",
    "#  plt.scatter(x_data[::1], y_data[::1], s=2)\n",
    "#  plt.plot(x_data, y_predicted, 'r', linewidth=4)\n",
    "#  plt.grid()\n",
    "#  plt.ylim(top=1.2)  # adjust the top leaving bottom unchanged\n",
    "#  plt.ylim(bottom=-1.2)  \n",
    "#  #plt.show()\n",
    "#  plt.savefig('training-' + str(x) +'-epochs.png',dpi=300)\n",
    "#  #files.download('training-' + str(x) +'-epochs.png') \n",
    "#  plt.clf()\n",
    "\n"
   ]
  },
  {
   "cell_type": "code",
   "execution_count": null,
   "metadata": {
    "collapsed": true,
    "executionInfo": {
     "elapsed": 8,
     "status": "ok",
     "timestamp": 1661420552358,
     "user": {
      "displayName": "Thomas Bielinger",
      "userId": "06702926197276526237"
     },
     "user_tz": -120
    },
    "id": "9aoB8cZnDNWo",
    "jupyter": {
     "outputs_hidden": true
    }
   },
   "outputs": [],
   "source": []
  }
 ],
 "metadata": {
  "colab": {
   "collapsed_sections": [],
   "name": "map-05.ipynb",
   "provenance": []
  },
  "file_extension": ".py",
  "kernelspec": {
   "display_name": "Python 3.10.6 64-bit",
   "language": "python",
   "name": "python3"
  },
  "language_info": {
   "codemirror_mode": {
    "name": "ipython",
    "version": 3
   },
   "file_extension": ".py",
   "mimetype": "text/x-python",
   "name": "python",
   "nbconvert_exporter": "python",
   "pygments_lexer": "ipython3",
   "version": "3.10.6"
  },
  "mimetype": "text/x-python",
  "name": "python",
  "npconvert_exporter": "python",
  "pygments_lexer": "ipython3",
  "toc-autonumbering": false,
  "toc-showcode": true,
  "toc-showmarkdowntxt": false,
  "toc-showtags": false,
  "version": 3,
  "vscode": {
   "interpreter": {
    "hash": "e7370f93d1d0cde622a1f8e1c04877d8463912d04d973331ad4851f04de6915a"
   }
  }
 },
 "nbformat": 4,
 "nbformat_minor": 4
}
